{
  "cells": [
    {
      "cell_type": "markdown",
      "metadata": {
        "id": "bptrBsIN0aIK"
      },
      "source": [
        "# 010. PyTorch basic\n",
        "\n",
        "- GPU check 부분이 있으므로 Google Colab에서 실행"
      ]
    },
    {
      "cell_type": "code",
      "execution_count": 1,
      "metadata": {
        "colab": {
          "base_uri": "https://localhost:8080/",
          "height": 36
        },
        "id": "FWfvDn9z0aIO",
        "outputId": "492cb6df-2fd0-4c61-c9c0-52b633cf4425"
      },
      "outputs": [
        {
          "output_type": "execute_result",
          "data": {
            "text/plain": [
              "'cuda:0'"
            ],
            "application/vnd.google.colaboratory.intrinsic+json": {
              "type": "string"
            }
          },
          "metadata": {},
          "execution_count": 1
        }
      ],
      "source": [
        "import torch\n",
        "import numpy as np\n",
        "import matplotlib.pyplot as plt\n",
        "\n",
        "device = \"cuda:0\" if torch.cuda.is_available() else \"cpu\"\n",
        "device"
      ]
    },
    {
      "cell_type": "code",
      "execution_count": 2,
      "metadata": {
        "colab": {
          "base_uri": "https://localhost:8080/",
          "height": 36
        },
        "id": "RBDb9nT4aMMr",
        "outputId": "4398895c-1430-4356-cce0-3d4973e990f4"
      },
      "outputs": [
        {
          "output_type": "execute_result",
          "data": {
            "text/plain": [
              "'2.3.0+cu121'"
            ],
            "application/vnd.google.colaboratory.intrinsic+json": {
              "type": "string"
            }
          },
          "metadata": {},
          "execution_count": 2
        }
      ],
      "source": [
        "torch.__version__"
      ]
    },
    {
      "cell_type": "markdown",
      "metadata": {
        "id": "FYOdFDxP0aIR"
      },
      "source": [
        "## Tensor Data Types\n",
        "\n",
        "<img src=\"https://miro.medium.com/max/875/1*-C10tKbZ2h0Zd7maau86oQ.png\" height=\"400\" />"
      ]
    },
    {
      "cell_type": "markdown",
      "metadata": {
        "id": "hDMoQIgGV10z"
      },
      "source": [
        "### torch.tensor 함수\n",
        "\n",
        "`tensor(data, dtype=None, device=None, requires_grad=False) -> Tensor`\n",
        "\n",
        "     data (array_like): list, tuple, numpy ndarray, scalar, and other types.\n",
        "     dtype :  `None`인 경우 `data`에서 데이터 유형을 유추합니다.  \n",
        "     device : `cpu`, `cuda`  \n",
        "     require_grad(bool, optional): autograd가 작업을 기록해야 하는 경우"
      ]
    },
    {
      "cell_type": "markdown",
      "metadata": {
        "id": "3_x6xXPPV100"
      },
      "source": [
        "Float torch tensor 생성"
      ]
    },
    {
      "cell_type": "code",
      "execution_count": 3,
      "metadata": {
        "colab": {
          "base_uri": "https://localhost:8080/"
        },
        "id": "SOUKmrQd0aIR",
        "outputId": "5b914684-fd10-444c-98a2-fc0f05e72eca"
      },
      "outputs": [
        {
          "output_type": "stream",
          "name": "stdout",
          "text": [
            "float64 \t torch.float64\n"
          ]
        }
      ],
      "source": [
        "# numpy array 생성\n",
        "a = np.ones((2, 3))\n",
        "# tensor  생성\n",
        "b = torch.tensor(a)\n",
        "# dtype\n",
        "print(a.dtype, '\\t', b.dtype)"
      ]
    },
    {
      "cell_type": "code",
      "execution_count": 4,
      "metadata": {
        "colab": {
          "base_uri": "https://localhost:8080/"
        },
        "id": "dKTlCKQk0aIS",
        "outputId": "f3ff0b58-e520-48d2-d1b8-2545760f2360"
      },
      "outputs": [
        {
          "output_type": "stream",
          "name": "stdout",
          "text": [
            "float32 \t torch.float32\n"
          ]
        }
      ],
      "source": [
        "# numpy 생성\n",
        "a = np.ones((2, 3), dtype=\"float32\")\n",
        "# tensor 생성\n",
        "b = torch.tensor(a)\n",
        "# dtype\n",
        "print(a.dtype, '\\t', b.dtype)"
      ]
    },
    {
      "cell_type": "markdown",
      "metadata": {
        "id": "77WegQUXV102"
      },
      "source": [
        "Integer tensor 생성"
      ]
    },
    {
      "cell_type": "code",
      "execution_count": 5,
      "metadata": {
        "colab": {
          "base_uri": "https://localhost:8080/"
        },
        "id": "YECq91Ru0aIS",
        "outputId": "b112fb5c-b917-49b5-c66e-b27a1736717e"
      },
      "outputs": [
        {
          "output_type": "execute_result",
          "data": {
            "text/plain": [
              "tensor([[1, 2, 3],\n",
              "        [4, 5, 6]], dtype=torch.int32)"
            ]
          },
          "metadata": {},
          "execution_count": 5
        }
      ],
      "source": [
        "x = torch.tensor([[1, 2, 3], [4, 5, 6]], dtype=torch.int32)\n",
        "x"
      ]
    },
    {
      "cell_type": "code",
      "execution_count": 6,
      "metadata": {
        "colab": {
          "base_uri": "https://localhost:8080/"
        },
        "id": "CcpX1maC0aIT",
        "outputId": "fee8a9d3-19fc-4b8c-d6d6-e8d94a2884b8"
      },
      "outputs": [
        {
          "output_type": "execute_result",
          "data": {
            "text/plain": [
              "tensor([[1, 2, 3],\n",
              "        [4, 5, 6]], device='cuda:0', dtype=torch.int32)"
            ]
          },
          "metadata": {},
          "execution_count": 6
        }
      ],
      "source": [
        "x = torch.tensor([[1, 2, 3], [4, 5, 6]], dtype=torch.int32, device=device)\n",
        "x"
      ]
    },
    {
      "cell_type": "markdown",
      "metadata": {
        "id": "NtdNbgjR0aIU"
      },
      "source": [
        "## 1D Tensor Operation\n",
        "\n",
        "### tensor 생성"
      ]
    },
    {
      "cell_type": "code",
      "execution_count": 7,
      "metadata": {
        "colab": {
          "base_uri": "https://localhost:8080/"
        },
        "id": "E9tPSvWC0aIV",
        "outputId": "6fa04b39-8503-4bd2-c590-d5178626c112"
      },
      "outputs": [
        {
          "output_type": "execute_result",
          "data": {
            "text/plain": [
              "(tensor(1), tensor(5))"
            ]
          },
          "metadata": {},
          "execution_count": 7
        }
      ],
      "source": [
        "a = torch.tensor([1, 2, 3, 4, 5])\n",
        "\n",
        "a[0], a[-1]"
      ]
    },
    {
      "cell_type": "code",
      "execution_count": 8,
      "metadata": {
        "colab": {
          "base_uri": "https://localhost:8080/"
        },
        "id": "xfMlsCA3tS4Q",
        "outputId": "06f45aa3-bc3b-40d1-c547-fa00e8ada7c8"
      },
      "outputs": [
        {
          "output_type": "execute_result",
          "data": {
            "text/plain": [
              "torch.Size([5])"
            ]
          },
          "metadata": {},
          "execution_count": 8
        }
      ],
      "source": [
        "a.size()"
      ]
    },
    {
      "cell_type": "code",
      "execution_count": 9,
      "metadata": {
        "colab": {
          "base_uri": "https://localhost:8080/"
        },
        "id": "hanzRpv8tS4R",
        "outputId": "c3e9c8c5-5b68-45dc-d6e5-cbd27eba91af"
      },
      "outputs": [
        {
          "output_type": "execute_result",
          "data": {
            "text/plain": [
              "1"
            ]
          },
          "metadata": {},
          "execution_count": 9
        }
      ],
      "source": [
        "a.ndimension()"
      ]
    },
    {
      "cell_type": "code",
      "execution_count": 10,
      "metadata": {
        "colab": {
          "base_uri": "https://localhost:8080/"
        },
        "id": "AGn52TuStS4R",
        "outputId": "22a1cc96-b8ee-4264-eb2e-1761bfefbd23"
      },
      "outputs": [
        {
          "output_type": "execute_result",
          "data": {
            "text/plain": [
              "tensor([[1],\n",
              "        [2],\n",
              "        [3],\n",
              "        [4],\n",
              "        [5]])"
            ]
          },
          "metadata": {},
          "execution_count": 10
        }
      ],
      "source": [
        "a.view(5, 1)"
      ]
    },
    {
      "cell_type": "code",
      "execution_count": 11,
      "metadata": {
        "colab": {
          "base_uri": "https://localhost:8080/"
        },
        "id": "V-fCsOir0aIW",
        "outputId": "95b9f4b5-80da-4997-baf9-830cb5da16dd",
        "scrolled": true
      },
      "outputs": [
        {
          "output_type": "execute_result",
          "data": {
            "text/plain": [
              "tensor([0., 1., 2., 3., 4.])"
            ]
          },
          "metadata": {},
          "execution_count": 11
        }
      ],
      "source": [
        "# cpu tensor\n",
        "a = torch.FloatTensor([0, 1, 2, 3, 4])\n",
        "a"
      ]
    },
    {
      "cell_type": "code",
      "execution_count": 13,
      "metadata": {
        "colab": {
          "base_uri": "https://localhost:8080/"
        },
        "id": "9jUDbtLdEsY_",
        "outputId": "89fc32e4-657c-41f4-bbfc-66c90c73f83c"
      },
      "outputs": [
        {
          "output_type": "execute_result",
          "data": {
            "text/plain": [
              "tensor([0., 1., 2., 3., 4.], device='cuda:0')"
            ]
          },
          "metadata": {},
          "execution_count": 13
        }
      ],
      "source": [
        "# gpu tensor\n",
        "a = torch.tensor([0, 1, 2, 3, 4], dtype=torch.float32, device='cuda')\n",
        "a"
      ]
    },
    {
      "cell_type": "markdown",
      "metadata": {
        "id": "jx-H1RPX0aIX"
      },
      "source": [
        "### Tensor Type 변환\n",
        "\n",
        "- cpu <--> gpu"
      ]
    },
    {
      "cell_type": "code",
      "execution_count": 14,
      "metadata": {
        "colab": {
          "base_uri": "https://localhost:8080/"
        },
        "id": "uNaqQAfV0aIY",
        "outputId": "af4d3a18-e56f-44d2-82ca-34542efd186d"
      },
      "outputs": [
        {
          "output_type": "execute_result",
          "data": {
            "text/plain": [
              "tensor([0., 1., 2., 3., 4.])"
            ]
          },
          "metadata": {},
          "execution_count": 14
        }
      ],
      "source": [
        "# cpu tensor\n",
        "a = a.type(torch.FloatTensor)\n",
        "a"
      ]
    },
    {
      "cell_type": "code",
      "execution_count": 15,
      "metadata": {
        "colab": {
          "base_uri": "https://localhost:8080/"
        },
        "id": "cqzQEqrv0aIY",
        "outputId": "12d9b1a2-de22-4d7a-e631-17c58e8d6689"
      },
      "outputs": [
        {
          "output_type": "execute_result",
          "data": {
            "text/plain": [
              "tensor([0., 1., 2., 3., 4.], device='cuda:0')"
            ]
          },
          "metadata": {},
          "execution_count": 15
        }
      ],
      "source": [
        "# gpu tensor\n",
        "b = a.to(device)\n",
        "b"
      ]
    },
    {
      "cell_type": "code",
      "execution_count": 16,
      "metadata": {
        "colab": {
          "base_uri": "https://localhost:8080/"
        },
        "id": "ngVGxSjx0aIZ",
        "outputId": "43656e3b-b47e-4406-d58a-efb298f768ab"
      },
      "outputs": [
        {
          "output_type": "execute_result",
          "data": {
            "text/plain": [
              "tensor([0., 1., 2., 3., 4.], device='cuda:0')"
            ]
          },
          "metadata": {},
          "execution_count": 16
        }
      ],
      "source": [
        "b = a.cuda()\n",
        "b"
      ]
    },
    {
      "cell_type": "code",
      "execution_count": 17,
      "metadata": {
        "colab": {
          "base_uri": "https://localhost:8080/"
        },
        "id": "9mUqqm4K0aIZ",
        "outputId": "cd3c3854-6f3a-481a-8c09-3fd93a1a6d56"
      },
      "outputs": [
        {
          "output_type": "execute_result",
          "data": {
            "text/plain": [
              "tensor([0., 1., 2., 3., 4.], device='cuda:0')"
            ]
          },
          "metadata": {},
          "execution_count": 17
        }
      ],
      "source": [
        "c = a.type(torch.cuda.FloatTensor)\n",
        "c"
      ]
    },
    {
      "cell_type": "code",
      "execution_count": 18,
      "metadata": {
        "colab": {
          "base_uri": "https://localhost:8080/"
        },
        "id": "SO5KKyhq0aIZ",
        "outputId": "a0ebc7e6-136c-4e58-dbbf-8a989fb468ff"
      },
      "outputs": [
        {
          "output_type": "execute_result",
          "data": {
            "text/plain": [
              "tensor([0., 1., 2., 3., 4.])"
            ]
          },
          "metadata": {},
          "execution_count": 18
        }
      ],
      "source": [
        "# cpu tensor\n",
        "d = b.to(\"cpu\")\n",
        "d"
      ]
    },
    {
      "cell_type": "code",
      "execution_count": 19,
      "metadata": {
        "colab": {
          "base_uri": "https://localhost:8080/"
        },
        "id": "jARC3_Tf0aIZ",
        "outputId": "29ba5e2e-6b96-4ea7-fb13-6296973e5b3e"
      },
      "outputs": [
        {
          "output_type": "execute_result",
          "data": {
            "text/plain": [
              "tensor([0., 1., 2., 3., 4.])"
            ]
          },
          "metadata": {},
          "execution_count": 19
        }
      ],
      "source": [
        "e = c.cpu()\n",
        "e"
      ]
    },
    {
      "cell_type": "markdown",
      "metadata": {
        "id": "6yb70D7F0aIa"
      },
      "source": [
        "### Tensor 생성\n",
        "\n",
        "- 무작위로 초기화된 행렬 생성 (uniform distribution)"
      ]
    },
    {
      "cell_type": "code",
      "execution_count": 20,
      "metadata": {
        "colab": {
          "base_uri": "https://localhost:8080/"
        },
        "id": "M1ohi1oc0aIa",
        "outputId": "ba4ece33-28ff-4490-961c-23f7413f3cfe"
      },
      "outputs": [
        {
          "output_type": "stream",
          "name": "stdout",
          "text": [
            "tensor([[0.8960, 0.3739, 0.5908],\n",
            "        [0.4439, 0.2423, 0.5516],\n",
            "        [0.0651, 0.2069, 0.4935],\n",
            "        [0.7652, 0.4515, 0.7326],\n",
            "        [0.2032, 0.8589, 0.7395]])\n"
          ]
        }
      ],
      "source": [
        "x = torch.rand(5, 3)\n",
        "print(x)"
      ]
    },
    {
      "cell_type": "markdown",
      "metadata": {
        "id": "XdplE1BX0aIb"
      },
      "source": [
        "- dtype이 long이고 0으로 채워진 행렬 생성"
      ]
    },
    {
      "cell_type": "code",
      "execution_count": 21,
      "metadata": {
        "colab": {
          "base_uri": "https://localhost:8080/"
        },
        "id": "5gLRQs6M0aIb",
        "outputId": "f18c5fcf-96cd-45f4-bbab-322cdb59e912"
      },
      "outputs": [
        {
          "output_type": "stream",
          "name": "stdout",
          "text": [
            "tensor([[0, 0, 0],\n",
            "        [0, 0, 0],\n",
            "        [0, 0, 0],\n",
            "        [0, 0, 0],\n",
            "        [0, 0, 0]])\n",
            "torch.int64\n"
          ]
        }
      ],
      "source": [
        "x = torch.zeros(5, 3, dtype=torch.long)\n",
        "print(x)\n",
        "print(x.dtype)"
      ]
    },
    {
      "cell_type": "markdown",
      "metadata": {
        "id": "RX0uBf2g0aIc"
      },
      "source": [
        "- python list로 부터 tensor 생성"
      ]
    },
    {
      "cell_type": "code",
      "execution_count": 22,
      "metadata": {
        "colab": {
          "base_uri": "https://localhost:8080/"
        },
        "id": "_9TfISuo0aIc",
        "outputId": "86ad24a5-0e45-466a-b34f-b5d83ec4c153"
      },
      "outputs": [
        {
          "output_type": "execute_result",
          "data": {
            "text/plain": [
              "('torch.LongTensor', torch.int64)"
            ]
          },
          "metadata": {},
          "execution_count": 22
        }
      ],
      "source": [
        "a = torch.tensor([7, 4, 3, 2, 6])\n",
        "a.type(), a.dtype"
      ]
    },
    {
      "cell_type": "code",
      "execution_count": 23,
      "metadata": {
        "colab": {
          "base_uri": "https://localhost:8080/"
        },
        "id": "5Yg6Wqe-0aIc",
        "outputId": "8568fd7e-c387-41b4-dc8e-00c9e814c80a"
      },
      "outputs": [
        {
          "output_type": "execute_result",
          "data": {
            "text/plain": [
              "('torch.FloatTensor', torch.float32)"
            ]
          },
          "metadata": {},
          "execution_count": 23
        }
      ],
      "source": [
        "b = torch.FloatTensor([7, 4, 3, 2, 6])\n",
        "b.type(), b.dtype"
      ]
    },
    {
      "cell_type": "code",
      "execution_count": 24,
      "metadata": {
        "colab": {
          "base_uri": "https://localhost:8080/"
        },
        "id": "GUVEvrw10aIc",
        "outputId": "37d6c71e-6b15-4313-d311-2bf20c2bc6a0"
      },
      "outputs": [
        {
          "output_type": "execute_result",
          "data": {
            "text/plain": [
              "tensor([True, True, True, True, True])"
            ]
          },
          "metadata": {},
          "execution_count": 24
        }
      ],
      "source": [
        "a == b"
      ]
    },
    {
      "cell_type": "markdown",
      "metadata": {
        "id": "0CWwLRBuc8LU"
      },
      "source": [
        "torch.LongTensor --> torch.long, torch.int64"
      ]
    },
    {
      "cell_type": "code",
      "execution_count": 25,
      "metadata": {
        "colab": {
          "base_uri": "https://localhost:8080/"
        },
        "id": "ynDK94Qk0aId",
        "outputId": "1dcff007-ebd8-4a41-df2a-d925a24580f3"
      },
      "outputs": [
        {
          "output_type": "execute_result",
          "data": {
            "text/plain": [
              "tensor([7, 4, 3, 2, 6])"
            ]
          },
          "metadata": {},
          "execution_count": 25
        }
      ],
      "source": [
        "c = torch.tensor([7, 4, 3, 2, 6], dtype=torch.int64)\n",
        "c"
      ]
    },
    {
      "cell_type": "code",
      "execution_count": 26,
      "metadata": {
        "colab": {
          "base_uri": "https://localhost:8080/"
        },
        "id": "OqzyaBJE0aId",
        "outputId": "4a8afb79-3b1b-41dc-c4c1-cd03eda4470f"
      },
      "outputs": [
        {
          "output_type": "execute_result",
          "data": {
            "text/plain": [
              "tensor([7, 4, 3, 2, 6])"
            ]
          },
          "metadata": {},
          "execution_count": 26
        }
      ],
      "source": [
        "d = torch.LongTensor([7, 4, 3, 2, 6])\n",
        "d"
      ]
    },
    {
      "cell_type": "code",
      "execution_count": 27,
      "metadata": {
        "colab": {
          "base_uri": "https://localhost:8080/"
        },
        "id": "0-cuMD6laF2x",
        "outputId": "dfd27629-948e-48a9-972f-76aba2858b69"
      },
      "outputs": [
        {
          "output_type": "execute_result",
          "data": {
            "text/plain": [
              "tensor([True, True, True, True, True])"
            ]
          },
          "metadata": {},
          "execution_count": 27
        }
      ],
      "source": [
        "c == d"
      ]
    },
    {
      "cell_type": "markdown",
      "metadata": {
        "id": "_F_MBE6Y0aId"
      },
      "source": [
        "## Tensor 의 shape & dimension (rank)"
      ]
    },
    {
      "cell_type": "code",
      "execution_count": 28,
      "metadata": {
        "colab": {
          "base_uri": "https://localhost:8080/"
        },
        "id": "ptYfxewn0aIe",
        "outputId": "3bfb4bc8-b763-47a6-ff48-1cb0e7c5bf36"
      },
      "outputs": [
        {
          "output_type": "execute_result",
          "data": {
            "text/plain": [
              "torch.Size([5])"
            ]
          },
          "metadata": {},
          "execution_count": 28
        }
      ],
      "source": [
        "a = torch.Tensor([0, 1, 2, 3, 4])\n",
        "a.size()"
      ]
    },
    {
      "cell_type": "code",
      "execution_count": 29,
      "metadata": {
        "colab": {
          "base_uri": "https://localhost:8080/"
        },
        "id": "R5VHrcai0aIe",
        "outputId": "b009a7fc-2cce-4f5b-893b-a2f880866822"
      },
      "outputs": [
        {
          "output_type": "execute_result",
          "data": {
            "text/plain": [
              "torch.Size([5])"
            ]
          },
          "metadata": {},
          "execution_count": 29
        }
      ],
      "source": [
        "# size() 와 shape 은 alias\n",
        "a.shape"
      ]
    },
    {
      "cell_type": "code",
      "execution_count": 30,
      "metadata": {
        "colab": {
          "base_uri": "https://localhost:8080/"
        },
        "id": "fXSRrETw0aIe",
        "outputId": "fb0c0aa8-6637-4f18-9c10-e7a4c369a1b2"
      },
      "outputs": [
        {
          "output_type": "execute_result",
          "data": {
            "text/plain": [
              "1"
            ]
          },
          "metadata": {},
          "execution_count": 30
        }
      ],
      "source": [
        "a.ndimension()"
      ]
    },
    {
      "cell_type": "markdown",
      "metadata": {
        "id": "HV3UkTgU0aIf"
      },
      "source": [
        "## reshape\n",
        "- torch.view : original tensor의 memory 공유 (contiguity 제한)\n",
        "- torch.reshape: contiguity 제한 없음. 필요에 따라 new tensor 생성. numpy 와 유사한 operation을 위해 기능 제공"
      ]
    },
    {
      "cell_type": "code",
      "execution_count": 31,
      "metadata": {
        "colab": {
          "base_uri": "https://localhost:8080/"
        },
        "id": "92KIceAi0aIf",
        "outputId": "6f94e932-a118-4ab6-9739-6b68088d2371"
      },
      "outputs": [
        {
          "output_type": "stream",
          "name": "stdout",
          "text": [
            "tensor([0., 1., 2., 3., 4.])\n",
            "tensor([[0.],\n",
            "        [1.],\n",
            "        [2.],\n",
            "        [3.],\n",
            "        [4.]])\n",
            "tensor([[0.],\n",
            "        [1.],\n",
            "        [2.],\n",
            "        [3.],\n",
            "        [4.]])\n"
          ]
        }
      ],
      "source": [
        "print(a)\n",
        "print(a.view(5, 1))\n",
        "print(a.reshape(5, 1))"
      ]
    },
    {
      "cell_type": "code",
      "execution_count": 38,
      "metadata": {
        "colab": {
          "base_uri": "https://localhost:8080/"
        },
        "id": "iaBn9xv0J52H",
        "outputId": "8fc69411-00f6-458b-9dac-aeadb7376057"
      },
      "outputs": [
        {
          "output_type": "stream",
          "name": "stdout",
          "text": [
            "torch.Size([4, 4]) torch.Size([16]) torch.Size([2, 8])\n"
          ]
        }
      ],
      "source": [
        "# 4x4 크기의 랜덤한 텐서 생성\n",
        "x = torch.randn(4, 4)\n",
        "\n",
        "# x 텐서를 16개의 요소를 가진 1차원 텐서로 변형(view)합니다.\n",
        "y = x.view(16)\n",
        "# x 텐서를 2차원 텐서 변형, -1은 나머지 차원의 크기를 자동 계산\n",
        "# 결과적으로, 이 코드는 x를 2x8 크기의 텐서로 변형합니다.\n",
        "z = x.view(-1, 8)\n",
        "\n",
        "print(x.size(), y.size(), z.size())"
      ]
    },
    {
      "cell_type": "code",
      "execution_count": 39,
      "metadata": {
        "colab": {
          "base_uri": "https://localhost:8080/"
        },
        "id": "oY4Lbp_aLTAI",
        "outputId": "7cc78127-4229-4db7-f765-47beb9b91bdb"
      },
      "outputs": [
        {
          "output_type": "stream",
          "name": "stdout",
          "text": [
            "torch.Size([4, 4]) torch.Size([16]) torch.Size([2, 8])\n"
          ]
        }
      ],
      "source": [
        "x = torch.randn(4, 4)\n",
        "# x 텐서를 16개의 요소를 가진 1차원 텐서로 재구성(reshape).\n",
        "y = x.reshape(16)\n",
        "\n",
        "# x 텐서를 -1과 8을 사용하여 2차원 텐서로 재구성\n",
        "# 결과적으로, 이 코드는 x를 2x8 크기의 텐서로 재구성합니다.\n",
        "z = x.reshape(-1, 8)\n",
        "\n",
        "print(x.size(), y.size(), z.size())"
      ]
    },
    {
      "cell_type": "code",
      "execution_count": 40,
      "metadata": {
        "colab": {
          "base_uri": "https://localhost:8080/"
        },
        "id": "I4FQGB4PaMM1",
        "outputId": "9b6dae0c-71f2-4503-e84e-25ee41c9fab9"
      },
      "outputs": [
        {
          "output_type": "execute_result",
          "data": {
            "text/plain": [
              "tensor([[-0.7950,  0.3530, -1.9458, -0.1173],\n",
              "        [ 0.1431,  0.6566,  0.4912,  1.6629],\n",
              "        [-0.3492, -1.0223, -1.3610, -2.3891],\n",
              "        [ 0.0248, -1.5888,  1.5750,  0.9631]])"
            ]
          },
          "metadata": {},
          "execution_count": 40
        }
      ],
      "source": [
        "x = torch.randn(4, 4)\n",
        "x"
      ]
    },
    {
      "cell_type": "code",
      "execution_count": 41,
      "metadata": {
        "colab": {
          "base_uri": "https://localhost:8080/"
        },
        "id": "j1XuEjb-aMM1",
        "outputId": "0f98f6b9-317a-4b0e-e91d-6ad67a22c480"
      },
      "outputs": [
        {
          "output_type": "execute_result",
          "data": {
            "text/plain": [
              "True"
            ]
          },
          "metadata": {},
          "execution_count": 41
        }
      ],
      "source": [
        "# x 텐서가 연속적인 메모리 레이아웃을 가지고 있는지 확인\n",
        "# 텐서가 연속적이라면, 메모리 상에서 요소들이 순차적으로 이어져 있음을 의미\n",
        "x.is_contiguous()"
      ]
    },
    {
      "cell_type": "code",
      "execution_count": 36,
      "metadata": {
        "colab": {
          "base_uri": "https://localhost:8080/"
        },
        "id": "aYFmgqGGelDv",
        "outputId": "659b1d0e-5455-467f-8293-a3c8369839e3"
      },
      "outputs": [
        {
          "output_type": "execute_result",
          "data": {
            "text/plain": [
              "tensor([[-1.3896, -0.4584, -0.2382, -2.6050],\n",
              "        [-0.2848,  0.1877, -0.7103, -0.4845],\n",
              "        [-1.0483,  0.4279, -0.0731, -0.3862],\n",
              "        [ 2.5742,  0.8579,  0.6437,  0.3380]])"
            ]
          },
          "metadata": {},
          "execution_count": 36
        }
      ],
      "source": [
        "# dim0, dim1 을 swap\n",
        "x.transpose(0, 1)"
      ]
    },
    {
      "cell_type": "code",
      "execution_count": 37,
      "metadata": {
        "colab": {
          "base_uri": "https://localhost:8080/"
        },
        "id": "YB4bwzM4aMM1",
        "outputId": "da86541e-f760-4e52-8790-7d0ec0e66d8a"
      },
      "outputs": [
        {
          "output_type": "execute_result",
          "data": {
            "text/plain": [
              "False"
            ]
          },
          "metadata": {},
          "execution_count": 37
        }
      ],
      "source": [
        "x.transpose(0, 1).is_contiguous()"
      ]
    },
    {
      "cell_type": "code",
      "execution_count": 42,
      "metadata": {
        "colab": {
          "base_uri": "https://localhost:8080/"
        },
        "id": "u38JNAQDdrcZ",
        "outputId": "5a49aef4-dfaf-4ece-f3e3-ecfb52be2349"
      },
      "outputs": [
        {
          "output_type": "execute_result",
          "data": {
            "text/plain": [
              "tensor([[-0.7950,  0.1431, -0.3492,  0.0248,  0.3530,  0.6566, -1.0223, -1.5888],\n",
              "        [-1.9458,  0.4912, -1.3610,  1.5750, -0.1173,  1.6629, -2.3891,  0.9631]])"
            ]
          },
          "metadata": {},
          "execution_count": 42
        }
      ],
      "source": [
        "x.transpose(0, 1).reshape(-1, 8)"
      ]
    },
    {
      "cell_type": "code",
      "execution_count": 43,
      "metadata": {
        "colab": {
          "base_uri": "https://localhost:8080/",
          "height": 170
        },
        "id": "sYwFK4Che4UH",
        "outputId": "e39f50fe-9e85-4928-fa8a-fb736d6da89c"
      },
      "outputs": [
        {
          "output_type": "error",
          "ename": "RuntimeError",
          "evalue": "view size is not compatible with input tensor's size and stride (at least one dimension spans across two contiguous subspaces). Use .reshape(...) instead.",
          "traceback": [
            "\u001b[0;31m---------------------------------------------------------------------------\u001b[0m",
            "\u001b[0;31mRuntimeError\u001b[0m                              Traceback (most recent call last)",
            "\u001b[0;32m<ipython-input-43-56f6b0949c01>\u001b[0m in \u001b[0;36m<cell line: 1>\u001b[0;34m()\u001b[0m\n\u001b[0;32m----> 1\u001b[0;31m \u001b[0mx\u001b[0m\u001b[0;34m.\u001b[0m\u001b[0mtranspose\u001b[0m\u001b[0;34m(\u001b[0m\u001b[0;36m0\u001b[0m\u001b[0;34m,\u001b[0m \u001b[0;36m1\u001b[0m\u001b[0;34m)\u001b[0m\u001b[0;34m.\u001b[0m\u001b[0mview\u001b[0m\u001b[0;34m(\u001b[0m\u001b[0;34m-\u001b[0m\u001b[0;36m1\u001b[0m\u001b[0;34m,\u001b[0m \u001b[0;36m8\u001b[0m\u001b[0;34m)\u001b[0m\u001b[0;34m\u001b[0m\u001b[0;34m\u001b[0m\u001b[0m\n\u001b[0m",
            "\u001b[0;31mRuntimeError\u001b[0m: view size is not compatible with input tensor's size and stride (at least one dimension spans across two contiguous subspaces). Use .reshape(...) instead."
          ]
        }
      ],
      "source": [
        "x.transpose(0, 1).view(-1, 8)"
      ]
    },
    {
      "cell_type": "markdown",
      "metadata": {
        "id": "SOr0fUj50aIg"
      },
      "source": [
        "## numpy 와 tensor 간의 호환성\n",
        "\n",
        "- memory 를 공유하므로 하나를 수정하면 나머지에 모두 반영  "
      ]
    },
    {
      "cell_type": "code",
      "execution_count": 44,
      "metadata": {
        "colab": {
          "base_uri": "https://localhost:8080/"
        },
        "id": "G6Gk3T1L0aIg",
        "outputId": "e9ddef7a-6a14-4d00-fa10-b7773258f8d0"
      },
      "outputs": [
        {
          "output_type": "execute_result",
          "data": {
            "text/plain": [
              "tensor([0., 1., 2., 3., 4., 5.], dtype=torch.float64)"
            ]
          },
          "metadata": {},
          "execution_count": 44
        }
      ],
      "source": [
        "numpy_array = np.array([0.0, 1.0, 2.0, 3.0, 4.0, 5.0])       # numpy array\n",
        "torch_tensor = torch.from_numpy(numpy_array)               # torch tensor\n",
        "torch_tensor"
      ]
    },
    {
      "cell_type": "code",
      "execution_count": 45,
      "metadata": {
        "colab": {
          "base_uri": "https://localhost:8080/"
        },
        "id": "P1x1lBo70aIh",
        "outputId": "28ca948d-8db7-4cb2-ccb6-8425dea0ca80"
      },
      "outputs": [
        {
          "output_type": "execute_result",
          "data": {
            "text/plain": [
              "array([0., 1., 2., 3., 4., 5.])"
            ]
          },
          "metadata": {},
          "execution_count": 45
        }
      ],
      "source": [
        "back_to_numpy = torch_tensor.numpy()           # numpy array\n",
        "back_to_numpy"
      ]
    },
    {
      "cell_type": "code",
      "execution_count": 46,
      "metadata": {
        "colab": {
          "base_uri": "https://localhost:8080/"
        },
        "id": "PFxj24eI0aIh",
        "outputId": "9c02f6e6-6ee5-4a00-fbdf-e16d91b97710"
      },
      "outputs": [
        {
          "output_type": "execute_result",
          "data": {
            "text/plain": [
              "(array([0., 1., 2., 3., 4., 5.]),\n",
              " tensor([0., 1., 2., 3., 4., 5.], dtype=torch.float64),\n",
              " array([0., 1., 2., 3., 4., 5.]))"
            ]
          },
          "metadata": {},
          "execution_count": 46
        }
      ],
      "source": [
        "numpy_array, torch_tensor, back_to_numpy"
      ]
    },
    {
      "cell_type": "code",
      "execution_count": 47,
      "metadata": {
        "colab": {
          "base_uri": "https://localhost:8080/"
        },
        "id": "Bm76gZrW0aIh",
        "outputId": "03872e62-f631-4d21-981e-2309e54b46db"
      },
      "outputs": [
        {
          "output_type": "execute_result",
          "data": {
            "text/plain": [
              "(array([100.,   1.,   2.,   3.,   4.,   5.]),\n",
              " tensor([100.,   1.,   2.,   3.,   4.,   5.], dtype=torch.float64),\n",
              " array([100.,   1.,   2.,   3.,   4.,   5.]))"
            ]
          },
          "metadata": {},
          "execution_count": 47
        }
      ],
      "source": [
        "back_to_numpy[0] = 100\n",
        "\n",
        "numpy_array, torch_tensor, back_to_numpy"
      ]
    },
    {
      "cell_type": "markdown",
      "metadata": {
        "id": "M7tI-oW-0aIi"
      },
      "source": [
        "## Scalar value\n",
        "\n",
        "- 만약 tensor에 하나의 값만 존재한다면, ``.item()`` method를 사용하여 숫자 값을 얻을 수 있습니다.  "
      ]
    },
    {
      "cell_type": "code",
      "execution_count": 48,
      "metadata": {
        "colab": {
          "base_uri": "https://localhost:8080/"
        },
        "id": "nkyd8fiK0aIi",
        "outputId": "1778539d-ad07-40a9-92fa-4053ea8be1b5"
      },
      "outputs": [
        {
          "output_type": "execute_result",
          "data": {
            "text/plain": [
              "-0.4557168781757355"
            ]
          },
          "metadata": {},
          "execution_count": 48
        }
      ],
      "source": [
        "x = torch.randn(1)\n",
        "x.item()"
      ]
    },
    {
      "cell_type": "code",
      "execution_count": 49,
      "metadata": {
        "colab": {
          "base_uri": "https://localhost:8080/"
        },
        "id": "UY1-2LF00aIi",
        "outputId": "7bf0c6d9-db0a-493f-db18-703f81037d24"
      },
      "outputs": [
        {
          "output_type": "stream",
          "name": "stdout",
          "text": [
            "tensor(5.)\n",
            "5.0\n"
          ]
        }
      ],
      "source": [
        "a = torch.tensor([5., 3., 4., 1.])\n",
        "\n",
        "print(a[0])\n",
        "print(a[0].item())"
      ]
    },
    {
      "cell_type": "markdown",
      "metadata": {
        "id": "79_l6-6Jr3A4"
      },
      "source": [
        "- tensor 가 array 형태인 경우 `numpy()` method 를 통해 ndarray 반환"
      ]
    },
    {
      "cell_type": "code",
      "execution_count": 50,
      "metadata": {
        "colab": {
          "base_uri": "https://localhost:8080/"
        },
        "id": "pbNz9o3_0aIj",
        "outputId": "059c7864-0e45-4722-c2c5-fc0217d8d889"
      },
      "outputs": [
        {
          "output_type": "stream",
          "name": "stdout",
          "text": [
            "tensor([ 1.8062, -0.9067])\n",
            "\n",
            "[ 1.8061818 -0.9066642]\n"
          ]
        }
      ],
      "source": [
        "x = torch.randn(2)\n",
        "print(x)\n",
        "print()\n",
        "print(x.numpy())"
      ]
    },
    {
      "cell_type": "markdown",
      "metadata": {
        "id": "WfDw9dQO0aIj"
      },
      "source": [
        "## pandas 및 python list 와의 호환성"
      ]
    },
    {
      "cell_type": "code",
      "execution_count": 51,
      "metadata": {
        "colab": {
          "base_uri": "https://localhost:8080/"
        },
        "id": "6iCIeMxm0aIj",
        "outputId": "7ff01710-b9e1-4a97-b1bf-71c6797c0b73"
      },
      "outputs": [
        {
          "output_type": "execute_result",
          "data": {
            "text/plain": [
              "tensor([ 0.1000,  0.2000,  0.3000, 10.1000], dtype=torch.float64)"
            ]
          },
          "metadata": {},
          "execution_count": 51
        }
      ],
      "source": [
        "import pandas as pd\n",
        "\n",
        "# pandas의 Series 객체를 생성\n",
        "pandas_series = pd.Series([0.1, 0.2, 0.3, 10.1])\n",
        "# Series에서 numpy 배열로 값을 가져온 후,  PyTorch 텐서 생성\n",
        "pandas_to_torch = torch.from_numpy(pandas_series.values)\n",
        "pandas_to_torch"
      ]
    },
    {
      "cell_type": "code",
      "execution_count": 52,
      "metadata": {
        "colab": {
          "base_uri": "https://localhost:8080/"
        },
        "id": "JPW6edDv0aIk",
        "outputId": "7bc62be1-ec56-4273-8843-75e9a90917ca"
      },
      "outputs": [
        {
          "output_type": "execute_result",
          "data": {
            "text/plain": [
              "[0, 1, 2, 3]"
            ]
          },
          "metadata": {},
          "execution_count": 52
        }
      ],
      "source": [
        "# python list를 이용하여 tensor 생성\n",
        "this_tensor = torch.tensor([0, 1, 2, 3])\n",
        "# tensor에서 python list 생성\n",
        "torch_to_list = this_tensor.tolist()\n",
        "torch_to_list"
      ]
    },
    {
      "cell_type": "code",
      "execution_count": 53,
      "metadata": {
        "colab": {
          "base_uri": "https://localhost:8080/"
        },
        "id": "hL0OwHdJ0aIk",
        "outputId": "eacc0422-465e-4cda-a097-8c0cee80f86b"
      },
      "outputs": [
        {
          "output_type": "execute_result",
          "data": {
            "text/plain": [
              "array([0, 1, 2, 3])"
            ]
          },
          "metadata": {},
          "execution_count": 53
        }
      ],
      "source": [
        "# tensor를 numpy array로 생성\n",
        "this_tensor.numpy()"
      ]
    },
    {
      "cell_type": "markdown",
      "metadata": {
        "id": "ROH69NYU0aIl"
      },
      "source": [
        "## Tensor 의 indexing & slicing\n",
        "\n",
        "- Python 의 indexing & slicing 과 동일"
      ]
    },
    {
      "cell_type": "code",
      "execution_count": 54,
      "metadata": {
        "colab": {
          "base_uri": "https://localhost:8080/"
        },
        "id": "7QSJN6ok0aIl",
        "outputId": "76950f32-0dad-4f3d-99bd-c3c758a01a3d"
      },
      "outputs": [
        {
          "output_type": "execute_result",
          "data": {
            "text/plain": [
              "(tensor([100,   1,   2,   3,   0]), torch.int64)"
            ]
          },
          "metadata": {},
          "execution_count": 54
        }
      ],
      "source": [
        "c = torch.tensor([20, 1, 2, 3, 4])\n",
        "c[0] = 100\n",
        "c[4] = 0\n",
        "c, c.dtype"
      ]
    },
    {
      "cell_type": "code",
      "execution_count": 55,
      "metadata": {
        "colab": {
          "base_uri": "https://localhost:8080/"
        },
        "id": "uJGbU-8c0aIm",
        "outputId": "f693c90d-5291-47a9-c0df-f41571d92a22"
      },
      "outputs": [
        {
          "output_type": "execute_result",
          "data": {
            "text/plain": [
              "tensor([1, 2, 3])"
            ]
          },
          "metadata": {},
          "execution_count": 55
        }
      ],
      "source": [
        "d = c[1:4]\n",
        "d"
      ]
    },
    {
      "cell_type": "code",
      "execution_count": 56,
      "metadata": {
        "colab": {
          "base_uri": "https://localhost:8080/"
        },
        "id": "n7nuvxwu0aIm",
        "outputId": "24df2009-71dd-451e-a445-cc8611cdf733"
      },
      "outputs": [
        {
          "output_type": "execute_result",
          "data": {
            "text/plain": [
              "tensor([100,   1,   2, 300, 400])"
            ]
          },
          "metadata": {},
          "execution_count": 56
        }
      ],
      "source": [
        "c[3:5] = torch.tensor([300.0, 400.0])\n",
        "c"
      ]
    },
    {
      "cell_type": "markdown",
      "metadata": {
        "id": "LnsztCIG0aIm"
      },
      "source": [
        "## Basic Operations - numpy 와 동일"
      ]
    },
    {
      "cell_type": "code",
      "execution_count": 57,
      "metadata": {
        "colab": {
          "base_uri": "https://localhost:8080/"
        },
        "id": "kfjfj9Ak0aIm",
        "outputId": "b22847f9-9a25-49e2-a919-0cc52b2e5b9f"
      },
      "outputs": [
        {
          "output_type": "execute_result",
          "data": {
            "text/plain": [
              "tensor([1., 1.])"
            ]
          },
          "metadata": {},
          "execution_count": 57
        }
      ],
      "source": [
        "# element-wise 덧셈, 뺄셈\n",
        "u = torch.tensor([1.0, 0.0])\n",
        "v = torch.tensor([0.0, 1.0])\n",
        "z = u + v\n",
        "z"
      ]
    },
    {
      "cell_type": "code",
      "execution_count": 58,
      "metadata": {
        "colab": {
          "base_uri": "https://localhost:8080/"
        },
        "id": "zhgNRITy0aIn",
        "outputId": "c94cf1d6-d8a4-44b1-a1c5-9e706f50e7d4"
      },
      "outputs": [
        {
          "output_type": "execute_result",
          "data": {
            "text/plain": [
              "tensor([ 1., -1.])"
            ]
          },
          "metadata": {},
          "execution_count": 58
        }
      ],
      "source": [
        "z = u - v\n",
        "z"
      ]
    },
    {
      "cell_type": "code",
      "execution_count": 59,
      "metadata": {
        "colab": {
          "base_uri": "https://localhost:8080/"
        },
        "id": "yuh56pVz0aIn",
        "outputId": "33c56698-4dd2-4bef-9745-7038d8f0d0b1"
      },
      "outputs": [
        {
          "output_type": "execute_result",
          "data": {
            "text/plain": [
              "tensor([3, 4])"
            ]
          },
          "metadata": {},
          "execution_count": 59
        }
      ],
      "source": [
        "# element-wise 곱셈\n",
        "u = torch.tensor([1, 2])\n",
        "v = torch.tensor([3, 2])\n",
        "z = u * v\n",
        "z"
      ]
    },
    {
      "cell_type": "code",
      "execution_count": 60,
      "metadata": {
        "colab": {
          "base_uri": "https://localhost:8080/"
        },
        "id": "vjapsSQr0aIn",
        "outputId": "fd7242c8-eb7c-4a39-e842-5f50c4844e58"
      },
      "outputs": [
        {
          "output_type": "execute_result",
          "data": {
            "text/plain": [
              "tensor([2, 4])"
            ]
          },
          "metadata": {},
          "execution_count": 60
        }
      ],
      "source": [
        "# 스칼라 곱\n",
        "y = torch.tensor([1, 2])\n",
        "z = 2 * y\n",
        "z"
      ]
    },
    {
      "cell_type": "code",
      "execution_count": 61,
      "metadata": {
        "colab": {
          "base_uri": "https://localhost:8080/"
        },
        "id": "9lvO5K-D0aIo",
        "outputId": "bfefecd5-4dba-4b3a-c35e-b320efbcd184"
      },
      "outputs": [
        {
          "output_type": "execute_result",
          "data": {
            "text/plain": [
              "tensor(5)"
            ]
          },
          "metadata": {},
          "execution_count": 61
        }
      ],
      "source": [
        "# dot product\n",
        "u = torch.tensor([1, 2])\n",
        "v = torch.tensor([3, 1])\n",
        "result = torch.dot(u, v)\n",
        "result"
      ]
    },
    {
      "cell_type": "markdown",
      "metadata": {
        "id": "Wgub6XlE0aIo"
      },
      "source": [
        "## 기타"
      ]
    },
    {
      "cell_type": "code",
      "execution_count": 62,
      "metadata": {
        "colab": {
          "base_uri": "https://localhost:8080/"
        },
        "id": "daHe6BSz0aIo",
        "outputId": "188d0707-b856-4beb-c244-1709a83d393b"
      },
      "outputs": [
        {
          "output_type": "execute_result",
          "data": {
            "text/plain": [
              "tensor([2, 3, 4, 0])"
            ]
          },
          "metadata": {},
          "execution_count": 62
        }
      ],
      "source": [
        "# broadcasting\n",
        "u = torch.tensor([1, 2, 3, -1])\n",
        "z = u + 1\n",
        "z"
      ]
    },
    {
      "cell_type": "code",
      "execution_count": 63,
      "metadata": {
        "colab": {
          "base_uri": "https://localhost:8080/"
        },
        "id": "YHnjKW0y0aIp",
        "outputId": "967e3d19-96fd-478a-a69c-34b309938391"
      },
      "outputs": [
        {
          "output_type": "execute_result",
          "data": {
            "text/plain": [
              "(tensor(2.2000), tensor(5.), tensor(2.7749))"
            ]
          },
          "metadata": {},
          "execution_count": 63
        }
      ],
      "source": [
        "# mean, max, Standard Deviation\n",
        "a = torch.tensor([1, -2, 3, 4, 5], dtype=torch.float32)\n",
        "\n",
        "a.mean(), a.max(), a.std()"
      ]
    },
    {
      "cell_type": "markdown",
      "metadata": {
        "id": "S02sWh930aIq"
      },
      "source": [
        "## torch.linspace 와 np.linspace 비교"
      ]
    },
    {
      "cell_type": "code",
      "execution_count": 64,
      "metadata": {
        "colab": {
          "base_uri": "https://localhost:8080/"
        },
        "id": "5aRBgP6_0aIq",
        "outputId": "c6d29fa7-85af-4d3a-907b-3884cddbc0c5"
      },
      "outputs": [
        {
          "output_type": "execute_result",
          "data": {
            "text/plain": [
              "array([-2., -1.,  0.,  1.,  2.])"
            ]
          },
          "metadata": {},
          "execution_count": 64
        }
      ],
      "source": [
        "np_linspace = np.linspace(-2, 2, 5)\n",
        "np_linspace"
      ]
    },
    {
      "cell_type": "code",
      "execution_count": 65,
      "metadata": {
        "colab": {
          "base_uri": "https://localhost:8080/"
        },
        "id": "SMJi0dDX0aIq",
        "outputId": "92e400d7-924f-4e45-fdbe-22371bdb9570"
      },
      "outputs": [
        {
          "output_type": "execute_result",
          "data": {
            "text/plain": [
              "tensor([-2., -1.,  0.,  1.,  2.])"
            ]
          },
          "metadata": {},
          "execution_count": 65
        }
      ],
      "source": [
        "torch_linspace = torch.linspace(-2, 2, 5)\n",
        "torch_linspace"
      ]
    },
    {
      "cell_type": "code",
      "execution_count": 66,
      "metadata": {
        "colab": {
          "base_uri": "https://localhost:8080/"
        },
        "id": "l1-G76qk2Egs",
        "outputId": "d59f5148-03ef-4cdb-f56f-c6d1388e8b4f"
      },
      "outputs": [
        {
          "output_type": "execute_result",
          "data": {
            "text/plain": [
              "tensor([10.0000, 11.1111, 12.2222, 13.3333, 14.4444, 15.5556, 16.6667, 17.7778,\n",
              "        18.8889, 20.0000])"
            ]
          },
          "metadata": {},
          "execution_count": 66
        }
      ],
      "source": [
        "torch.linspace(10, 20, 10)"
      ]
    },
    {
      "cell_type": "markdown",
      "metadata": {
        "id": "EsCQ_2FD0aIr"
      },
      "source": [
        "## torch.arange 와 np.arange 비교"
      ]
    },
    {
      "cell_type": "code",
      "execution_count": 67,
      "metadata": {
        "colab": {
          "base_uri": "https://localhost:8080/"
        },
        "id": "FUcyApr2C8zP",
        "outputId": "71f1e005-bcb0-4f7b-8d5e-bb7e55ac0636"
      },
      "outputs": [
        {
          "output_type": "execute_result",
          "data": {
            "text/plain": [
              "array([-100. ,  -99.9,  -99.8, ...,   99.7,   99.8,   99.9])"
            ]
          },
          "metadata": {},
          "execution_count": 67
        }
      ],
      "source": [
        "np.arange(-100, 100, 0.1)"
      ]
    },
    {
      "cell_type": "code",
      "execution_count": 68,
      "metadata": {
        "colab": {
          "base_uri": "https://localhost:8080/"
        },
        "id": "AH86glQMy3AE",
        "outputId": "fa394795-012f-4a9c-bc97-5f695c9a9a1e"
      },
      "outputs": [
        {
          "output_type": "execute_result",
          "data": {
            "text/plain": [
              "tensor([-100.0000,  -99.9000,  -99.8000,  ...,   99.7000,   99.8000,\n",
              "          99.9000])"
            ]
          },
          "metadata": {},
          "execution_count": 68
        }
      ],
      "source": [
        "torch.arange(-100, 100, 0.1)"
      ]
    },
    {
      "cell_type": "markdown",
      "metadata": {
        "id": "2f9PE9hp0aIs"
      },
      "source": [
        "## 2D Tensor Operation"
      ]
    },
    {
      "cell_type": "code",
      "execution_count": 69,
      "metadata": {
        "colab": {
          "base_uri": "https://localhost:8080/"
        },
        "id": "IGL5sv7U0aIs",
        "outputId": "ed18e9fe-2709-43f5-a385-c56089dd8a56"
      },
      "outputs": [
        {
          "output_type": "execute_result",
          "data": {
            "text/plain": [
              "tensor([[11, 12, 13],\n",
              "        [21, 22, 23],\n",
              "        [31, 32, 33],\n",
              "        [41, 42, 43]])"
            ]
          },
          "metadata": {},
          "execution_count": 69
        }
      ],
      "source": [
        "_2d_tensor = torch.tensor([[11, 12, 13], [21, 22, 23], [31, 32, 33], [41, 42, 43]])\n",
        "_2d_tensor"
      ]
    },
    {
      "cell_type": "markdown",
      "metadata": {
        "id": "z_nDsdhp0aIs"
      },
      "source": [
        "- ndimension  \n",
        "- shape  \n",
        "- size()  \n",
        "- numel (number of elements)"
      ]
    },
    {
      "cell_type": "code",
      "execution_count": 70,
      "metadata": {
        "colab": {
          "base_uri": "https://localhost:8080/"
        },
        "id": "jF4c_t1S0aIs",
        "outputId": "8086d219-ec9b-4f9c-ed82-1f275db8d01a"
      },
      "outputs": [
        {
          "output_type": "stream",
          "name": "stdout",
          "text": [
            "tensor([[11, 12, 13],\n",
            "        [21, 22, 23],\n",
            "        [31, 32, 33],\n",
            "        [41, 42, 43]])\n",
            "2\n",
            "torch.Size([4, 3])\n",
            "torch.Size([4, 3])\n",
            "12\n"
          ]
        }
      ],
      "source": [
        "print(_2d_tensor)\n",
        "print(_2d_tensor.ndimension())\n",
        "print(_2d_tensor.shape)\n",
        "print(_2d_tensor.size())\n",
        "print(_2d_tensor.numel())"
      ]
    },
    {
      "cell_type": "markdown",
      "metadata": {
        "id": "jXb9VIZS0aIu"
      },
      "source": [
        "## matrix 간의 연산"
      ]
    },
    {
      "cell_type": "code",
      "execution_count": 71,
      "metadata": {
        "colab": {
          "base_uri": "https://localhost:8080/"
        },
        "id": "JxiBKYnF0aIu",
        "outputId": "4cf70090-a5a3-494b-8346-f18ade98f151"
      },
      "outputs": [
        {
          "output_type": "stream",
          "name": "stdout",
          "text": [
            "tensor([[1, 0],\n",
            "        [0, 1]])\n",
            "tensor([[2, 1],\n",
            "        [1, 2]])\n"
          ]
        }
      ],
      "source": [
        "x = torch.tensor([[1, 0], [0, 1]])\n",
        "y = torch.tensor([[2, 1], [1, 2]])\n",
        "print(x)\n",
        "print(y)"
      ]
    },
    {
      "cell_type": "markdown",
      "metadata": {
        "id": "5EbqEss80aIu"
      },
      "source": [
        "- element-wise 연산"
      ]
    },
    {
      "cell_type": "code",
      "execution_count": 72,
      "metadata": {
        "colab": {
          "base_uri": "https://localhost:8080/"
        },
        "id": "yvEPmpxg0aIv",
        "outputId": "90718628-12a6-4d53-bc20-1837ffc9a24f"
      },
      "outputs": [
        {
          "output_type": "execute_result",
          "data": {
            "text/plain": [
              "tensor([[2, 0],\n",
              "        [0, 2]])"
            ]
          },
          "metadata": {},
          "execution_count": 72
        }
      ],
      "source": [
        "x * y"
      ]
    },
    {
      "cell_type": "markdown",
      "metadata": {
        "id": "O2zjsgjO0aIv"
      },
      "source": [
        "## matrix multiplication"
      ]
    },
    {
      "cell_type": "code",
      "execution_count": 73,
      "metadata": {
        "colab": {
          "base_uri": "https://localhost:8080/"
        },
        "id": "xAvkasnQ0aIv",
        "outputId": "bdcf1b16-d3af-4b72-9b87-35999d418106"
      },
      "outputs": [
        {
          "output_type": "stream",
          "name": "stdout",
          "text": [
            "tensor([[0, 1, 1],\n",
            "        [1, 0, 1]])\n",
            "tensor([[ 1,  1],\n",
            "        [ 1,  1],\n",
            "        [-1,  1]])\n"
          ]
        }
      ],
      "source": [
        "x = torch.tensor([[0, 1, 1], [1, 0, 1]])\n",
        "y = torch.tensor([[1, 1], [1, 1], [-1, 1]])\n",
        "\n",
        "print(x)\n",
        "print(y)"
      ]
    },
    {
      "cell_type": "code",
      "execution_count": 74,
      "metadata": {
        "colab": {
          "base_uri": "https://localhost:8080/"
        },
        "id": "pb7FYsui0aIv",
        "outputId": "dd301ee1-44ef-451c-9946-038fd3d186e0"
      },
      "outputs": [
        {
          "output_type": "execute_result",
          "data": {
            "text/plain": [
              "tensor([[0, 2],\n",
              "        [0, 2]])"
            ]
          },
          "metadata": {},
          "execution_count": 74
        }
      ],
      "source": [
        "torch.mm(x, y)"
      ]
    },
    {
      "cell_type": "code",
      "execution_count": 75,
      "metadata": {
        "colab": {
          "base_uri": "https://localhost:8080/"
        },
        "id": "_CLgHjTufqdJ",
        "outputId": "3460cd22-35f4-48cd-b5f5-b9b44c3090e3"
      },
      "outputs": [
        {
          "output_type": "execute_result",
          "data": {
            "text/plain": [
              "array([[0, 2],\n",
              "       [0, 2]])"
            ]
          },
          "metadata": {},
          "execution_count": 75
        }
      ],
      "source": [
        "np.matmul(x.numpy(), y.numpy())"
      ]
    },
    {
      "cell_type": "markdown",
      "metadata": {
        "id": "rWCAskEP0aIw"
      },
      "source": [
        "### Concatenation\n",
        "\n",
        "- default - first axis(row-wise)로 concatenate\n",
        "- column-wise로 concatenate 하려면 axis=1 로 지정"
      ]
    },
    {
      "cell_type": "code",
      "execution_count": 76,
      "metadata": {
        "colab": {
          "base_uri": "https://localhost:8080/"
        },
        "id": "nKl42FY2zqGZ",
        "outputId": "3d67af8f-3f2b-457a-975e-9d4acdc08cdc"
      },
      "outputs": [
        {
          "output_type": "stream",
          "name": "stdout",
          "text": [
            "tensor([[1, 2, 3],\n",
            "        [4, 5, 6]])\n",
            "tensor([[ 7,  8,  9],\n",
            "        [10, 11, 12]])\n"
          ]
        }
      ],
      "source": [
        "x_1 = torch.tensor([[1, 2, 3], [4, 5, 6]])\n",
        "x_2 = torch.tensor([[7, 8, 9], [10, 11, 12]])\n",
        "print(x_1)\n",
        "print(x_2)"
      ]
    },
    {
      "cell_type": "code",
      "execution_count": 77,
      "metadata": {
        "colab": {
          "base_uri": "https://localhost:8080/"
        },
        "id": "AFRORrYn0aIw",
        "outputId": "231cf893-ede9-4b5f-a2c6-1010b6861f6e"
      },
      "outputs": [
        {
          "output_type": "execute_result",
          "data": {
            "text/plain": [
              "tensor([[ 1,  2,  3],\n",
              "        [ 4,  5,  6],\n",
              "        [ 7,  8,  9],\n",
              "        [10, 11, 12]])"
            ]
          },
          "metadata": {},
          "execution_count": 77
        }
      ],
      "source": [
        "torch.cat([x_1, x_2])"
      ]
    },
    {
      "cell_type": "code",
      "execution_count": 78,
      "metadata": {
        "colab": {
          "base_uri": "https://localhost:8080/"
        },
        "id": "M07wU-D90aIw",
        "outputId": "afeb0d1a-958b-4bef-f458-4caa829eb55c"
      },
      "outputs": [
        {
          "output_type": "execute_result",
          "data": {
            "text/plain": [
              "tensor([[ 1,  2,  3,  7,  8,  9],\n",
              "        [ 4,  5,  6, 10, 11, 12]])"
            ]
          },
          "metadata": {},
          "execution_count": 78
        }
      ],
      "source": [
        "torch.cat([x_1, x_2], axis=1)"
      ]
    },
    {
      "cell_type": "markdown",
      "metadata": {
        "id": "rId3CNLU0aIx"
      },
      "source": [
        "### torch.sum, torch.max, torch.min, torch.argmax, torch.argmin\n",
        "\n",
        "- torch.sum(input, dim, keepdim=False, dtype=None) → Tensor  \n",
        "주어진 차원 dim에서 입력 텐서의 각 행의 합(max, min)을 반환합니다.\n",
        "\n",
        "- dim 을 지정한 경우, 지정된 dim을 축소하는 것입니다. 따라서 dim 0(행)을 접으면 하나의 행이 됩니다(열 단위로 합산)."
      ]
    },
    {
      "cell_type": "code",
      "execution_count": 79,
      "metadata": {
        "colab": {
          "base_uri": "https://localhost:8080/"
        },
        "id": "hDN0yJwK2IfD",
        "outputId": "52d4d819-04e9-479f-e1a2-e4668126989b"
      },
      "outputs": [
        {
          "output_type": "execute_result",
          "data": {
            "text/plain": [
              "torch.Size([2, 3])"
            ]
          },
          "metadata": {},
          "execution_count": 79
        }
      ],
      "source": [
        "x = torch.tensor([\n",
        "     [1, 2, 3],\n",
        "     [4, 5, 6]\n",
        "   ])\n",
        "x.shape"
      ]
    },
    {
      "cell_type": "code",
      "execution_count": 80,
      "metadata": {
        "colab": {
          "base_uri": "https://localhost:8080/"
        },
        "id": "UW7qLVI82TVz",
        "outputId": "bfe4c20f-cd0f-4292-9d86-36428ef4ef61"
      },
      "outputs": [
        {
          "output_type": "execute_result",
          "data": {
            "text/plain": [
              "tensor(21)"
            ]
          },
          "metadata": {},
          "execution_count": 80
        }
      ],
      "source": [
        "torch.sum(x)"
      ]
    },
    {
      "cell_type": "code",
      "execution_count": 81,
      "metadata": {
        "colab": {
          "base_uri": "https://localhost:8080/"
        },
        "id": "jqe8R1Qx2TPP",
        "outputId": "5a80bb16-05cc-45c0-a567-815c739bf932"
      },
      "outputs": [
        {
          "output_type": "execute_result",
          "data": {
            "text/plain": [
              "tensor([5, 7, 9])"
            ]
          },
          "metadata": {},
          "execution_count": 81
        }
      ],
      "source": [
        "torch.sum(x, dim=0)"
      ]
    },
    {
      "cell_type": "code",
      "execution_count": 82,
      "metadata": {
        "colab": {
          "base_uri": "https://localhost:8080/"
        },
        "id": "8HwxCj4i0aIy",
        "outputId": "e2bac82b-d73e-41d3-c21d-16562cc4318c"
      },
      "outputs": [
        {
          "output_type": "execute_result",
          "data": {
            "text/plain": [
              "tensor([ 6, 15])"
            ]
          },
          "metadata": {},
          "execution_count": 82
        }
      ],
      "source": [
        "torch.sum(x, dim=1)"
      ]
    },
    {
      "cell_type": "code",
      "execution_count": 83,
      "metadata": {
        "colab": {
          "base_uri": "https://localhost:8080/"
        },
        "id": "CePmD-2k0aIy",
        "outputId": "e9355720-844b-49c5-d377-aa484081eed6"
      },
      "outputs": [
        {
          "output_type": "execute_result",
          "data": {
            "text/plain": [
              "(torch.return_types.max(\n",
              " values=tensor([4, 5, 6]),\n",
              " indices=tensor([1, 1, 1])),\n",
              " torch.return_types.min(\n",
              " values=tensor([1, 2, 3]),\n",
              " indices=tensor([0, 0, 0])))"
            ]
          },
          "metadata": {},
          "execution_count": 83
        }
      ],
      "source": [
        "torch.max(x, axis=0), torch.min(x, axis=0)"
      ]
    },
    {
      "cell_type": "code",
      "execution_count": 84,
      "metadata": {
        "colab": {
          "base_uri": "https://localhost:8080/"
        },
        "id": "1a8CMMJ-0O1n",
        "outputId": "4542c1cd-9611-4f2b-87f8-aec0590bb988"
      },
      "outputs": [
        {
          "output_type": "execute_result",
          "data": {
            "text/plain": [
              "(torch.return_types.max(\n",
              " values=tensor([3, 6]),\n",
              " indices=tensor([2, 2])),\n",
              " torch.return_types.min(\n",
              " values=tensor([1, 4]),\n",
              " indices=tensor([0, 0])))"
            ]
          },
          "metadata": {},
          "execution_count": 84
        }
      ],
      "source": [
        "torch.max(x, axis=1), torch.min(x, axis=1)"
      ]
    },
    {
      "cell_type": "code",
      "execution_count": 85,
      "metadata": {
        "colab": {
          "base_uri": "https://localhost:8080/"
        },
        "id": "nXjMNMg-0aIy",
        "outputId": "c8fc92bc-a5df-444d-a770-eb114d75501d"
      },
      "outputs": [
        {
          "output_type": "execute_result",
          "data": {
            "text/plain": [
              "(tensor(5), tensor(0))"
            ]
          },
          "metadata": {},
          "execution_count": 85
        }
      ],
      "source": [
        "torch.argmax(x), torch.argmin(x)"
      ]
    },
    {
      "cell_type": "code",
      "execution_count": 86,
      "metadata": {
        "colab": {
          "base_uri": "https://localhost:8080/"
        },
        "id": "M_PL7lmN5JKb",
        "outputId": "cb4d319e-dc51-4959-d539-0d01b72a9035"
      },
      "outputs": [
        {
          "output_type": "execute_result",
          "data": {
            "text/plain": [
              "(tensor([1, 1, 1]), tensor([0, 0, 0]))"
            ]
          },
          "metadata": {},
          "execution_count": 86
        }
      ],
      "source": [
        "torch.argmax(x, axis=0), torch.argmin(x, axis=0)"
      ]
    },
    {
      "cell_type": "code",
      "execution_count": 87,
      "metadata": {
        "colab": {
          "base_uri": "https://localhost:8080/"
        },
        "id": "synk2elK0aIz",
        "outputId": "85b69fb9-1708-4ebe-b3c8-5bac0afe2460"
      },
      "outputs": [
        {
          "output_type": "execute_result",
          "data": {
            "text/plain": [
              "(tensor([2, 2]), tensor([0, 0]))"
            ]
          },
          "metadata": {},
          "execution_count": 87
        }
      ],
      "source": [
        "torch.argmax(x, axis=1), torch.argmin(x, axis=1)"
      ]
    },
    {
      "cell_type": "markdown",
      "metadata": {
        "id": "O_7QZDgU0aIz"
      },
      "source": [
        "## TORCH.AUTOGRAD를 이용한 자동 미분\n",
        "\n",
        "- autograd 패키지는 Tensor의 모든 연산에 대해 자동 미분을 제공   \n",
        "\n",
        "- 신경망을 훈련할 때 가장 자주 사용되는 알고리즘은 역전파이다. 이 알고리즘에서 매개 변수 (모델 가중치)는 주어진 매개 변수에 대한 손실 함수의 기울기에 따라 조정된다.  \n",
        "\n",
        "- 이러한 그래디언트를 계산하기 위해 PyTorch에는 torch.autograd라는 내장 미분 엔진이 있다.\n",
        "\n",
        "- ``.requires_grad`` 속성을 True 로 설정하면, 그 tensor에서 이뤄진 모든 연산들을 추적(track)하기 시작  \n",
        "\n",
        "- 계산이 완료된 후 ``.backward()`` 를 호출하여 모든 변화도(gradient)를 자동으로 계산  \n",
        "\n",
        "- 이 Tensor의 변화도는 ``.grad`` 속성에 누적  \n",
        "\n",
        "- Tensor가 기록을 추적하는 것을 중단하게 하려면, ``.detach()`` 를 호출하여 연산 기록으로부터 분리(detach)하여 이후 연산들이 추적되는 것을 방지한다.\n",
        "\n",
        "- 도함수를 계산하기 위해서는 Tensor 의 ``.backward()`` 를 호출"
      ]
    },
    {
      "cell_type": "code",
      "execution_count": 88,
      "metadata": {
        "colab": {
          "base_uri": "https://localhost:8080/"
        },
        "id": "K_j214gH0aIz",
        "outputId": "ca83df94-bb95-4356-d7dd-39892ddbadbb"
      },
      "outputs": [
        {
          "output_type": "execute_result",
          "data": {
            "text/plain": [
              "tensor(2., requires_grad=True)"
            ]
          },
          "metadata": {},
          "execution_count": 88
        }
      ],
      "source": [
        "x = torch.tensor(2.0, requires_grad=True)\n",
        "x"
      ]
    },
    {
      "cell_type": "code",
      "execution_count": 89,
      "metadata": {
        "colab": {
          "base_uri": "https://localhost:8080/"
        },
        "id": "KHQ-Cio40aIz",
        "outputId": "0ee199ee-74da-44d7-a9ba-145a8f4ef4c6"
      },
      "outputs": [
        {
          "output_type": "execute_result",
          "data": {
            "text/plain": [
              "tensor(4., grad_fn=<PowBackward0>)"
            ]
          },
          "metadata": {},
          "execution_count": 89
        }
      ],
      "source": [
        "y = x ** 2\n",
        "y"
      ]
    },
    {
      "cell_type": "markdown",
      "metadata": {
        "id": "iYd4NfSL0aI0"
      },
      "source": [
        "y 를 x 에 대하여 미분  \n",
        "$$y(x)=x^2$$\n",
        "\n",
        "$$\\frac{dy(x=2)}{dx}=2x=4 \\rightarrow {y.backward()}$$  "
      ]
    },
    {
      "cell_type": "code",
      "execution_count": 90,
      "metadata": {
        "colab": {
          "base_uri": "https://localhost:8080/"
        },
        "id": "Zwsnd91k0aI0",
        "outputId": "c8f78894-e651-4be9-8967-0da8c2d86e69"
      },
      "outputs": [
        {
          "output_type": "execute_result",
          "data": {
            "text/plain": [
              "tensor(4.)"
            ]
          },
          "metadata": {},
          "execution_count": 90
        }
      ],
      "source": [
        "y.backward()\n",
        "\n",
        "x.grad"
      ]
    },
    {
      "cell_type": "markdown",
      "metadata": {
        "id": "5XAK-OhP0aI0"
      },
      "source": [
        "## 편미분\n",
        "$$f(u, v) = uv + u^2$$\n",
        "\n",
        "$$\\frac{\\partial{f(u, v)}}{\\partial {u}}=v+2u$$\n",
        "$$\\frac{\\partial{f(u, v)}}{\\partial {v}}=u$$"
      ]
    },
    {
      "cell_type": "code",
      "execution_count": 91,
      "metadata": {
        "colab": {
          "base_uri": "https://localhost:8080/"
        },
        "id": "U2BhlzdZ0aI1",
        "outputId": "c4aa9f80-ab1f-4f70-a540-d8e2cceedf3f"
      },
      "outputs": [
        {
          "output_type": "execute_result",
          "data": {
            "text/plain": [
              "tensor(3., grad_fn=<AddBackward0>)"
            ]
          },
          "metadata": {},
          "execution_count": 91
        }
      ],
      "source": [
        "u = torch.tensor(1.0, requires_grad=True)\n",
        "v = torch.tensor(2.0, requires_grad=True)\n",
        "\n",
        "f = u * v + u ** 2\n",
        "f"
      ]
    },
    {
      "cell_type": "code",
      "execution_count": 92,
      "metadata": {
        "id": "YI_Wh6of0aI1"
      },
      "outputs": [],
      "source": [
        "f.backward()"
      ]
    },
    {
      "cell_type": "code",
      "execution_count": 93,
      "metadata": {
        "colab": {
          "base_uri": "https://localhost:8080/"
        },
        "id": "yg2eiDc-0aI1",
        "outputId": "4a020938-f69b-4d69-d559-512baf30c242"
      },
      "outputs": [
        {
          "output_type": "stream",
          "name": "stdout",
          "text": [
            "tensor(4.)\n",
            "tensor(1.)\n"
          ]
        }
      ],
      "source": [
        "print(u.grad)\n",
        "print(v.grad)"
      ]
    },
    {
      "cell_type": "markdown",
      "metadata": {
        "id": "DLlWFeT-0aI1"
      },
      "source": [
        "## backpropagation"
      ]
    },
    {
      "cell_type": "code",
      "execution_count": 94,
      "metadata": {
        "colab": {
          "base_uri": "https://localhost:8080/"
        },
        "id": "tc5xdMb20aI2",
        "outputId": "09912675-3880-43f4-be58-57d6b60066e7"
      },
      "outputs": [
        {
          "output_type": "execute_result",
          "data": {
            "text/plain": [
              "tensor(1.6888, grad_fn=<BinaryCrossEntropyWithLogitsBackward0>)"
            ]
          },
          "metadata": {},
          "execution_count": 94
        }
      ],
      "source": [
        "import torch\n",
        "\n",
        "x = torch.ones(5)    # input tensor\n",
        "y = torch.zeros(3)   # expected output\n",
        "\n",
        "w = torch.randn(5, 3, requires_grad=True)\n",
        "b = torch.randn(3, requires_grad=True)\n",
        "\n",
        "z = torch.matmul(x, w)+b\n",
        "\n",
        "loss = torch.nn.functional.binary_cross_entropy_with_logits(z, y)\n",
        "loss"
      ]
    },
    {
      "cell_type": "markdown",
      "metadata": {
        "id": "JqjobwRj0aI2"
      },
      "source": [
        "### Gradient 계산\n",
        "\n",
        "- 신경망에서 매개변수의 가중치를 최적화하려면 매개변수에 대한 손실 함수의 미분을 계산해야한다. 즉, x 및 y 의 일부 고정 값 아래에서 $\\frac{\\partial loss}{\\partial w}$가 필요. 이러한 미분을 계산하려면 loss.backward ()를 호출 한 다음 w.grad 및 b.grad에서 값을 구한다."
      ]
    },
    {
      "cell_type": "code",
      "execution_count": 95,
      "metadata": {
        "colab": {
          "base_uri": "https://localhost:8080/"
        },
        "id": "morXePXY0aI2",
        "outputId": "2a616d74-6365-4139-d085-a2648b17cf84"
      },
      "outputs": [
        {
          "output_type": "stream",
          "name": "stdout",
          "text": [
            "w 의 기울기 =  tensor([[0.2269, 0.1521, 0.3212],\n",
            "        [0.2269, 0.1521, 0.3212],\n",
            "        [0.2269, 0.1521, 0.3212],\n",
            "        [0.2269, 0.1521, 0.3212],\n",
            "        [0.2269, 0.1521, 0.3212]])\n",
            "b 의 기울기 =  tensor([0.2269, 0.1521, 0.3212])\n"
          ]
        }
      ],
      "source": [
        "loss.backward()\n",
        "print(\"w 의 기울기 = \", w.grad)\n",
        "print(\"b 의 기울기 = \", b.grad)"
      ]
    },
    {
      "cell_type": "markdown",
      "metadata": {
        "id": "xY2ZFRFB0aI3"
      },
      "source": [
        "### 그라디언트 추적 비활성화\n",
        "\n",
        "기본적으로 requires_grad=True 인 모든 텐서는 계산 기록을 추적하고 기울기 계산을 지원한다. 이를 수행 할 필요가 없는 경우, 즉 네트워크를 통해 순방향 계산만 수행하려는 경우 계산 코드를 torch.no_grad() 블록으로 둘러 싸서 계산 추적을 중지할 수 있다.\n",
        "\n",
        "그래디언트 추적을 비활성화 해야하는 경우는 다음과 같다.  \n",
        "\n",
        "    - pre-train 된 network 를 fine tuning 하는 경우  \n",
        "    - 기울기를 추적하지 않는 텐서에 대한 계산이 더 효율적이기 때문에 순방향 패스 만 수행할 때 계산 속도를 높인다.\n",
        "    - 주로 모델의 평가(evaluation)나 추론(inference) 단계에서 사용되며, 계산 속도를 높이고 메모리 사용을 줄이는 데 유용합니다."
      ]
    },
    {
      "cell_type": "code",
      "execution_count": 96,
      "metadata": {
        "colab": {
          "base_uri": "https://localhost:8080/"
        },
        "id": "UDfIBKJV0aI3",
        "outputId": "0e17cfc7-ed01-42bc-a18f-2f294baffd59"
      },
      "outputs": [
        {
          "output_type": "stream",
          "name": "stdout",
          "text": [
            "True\n",
            "False\n"
          ]
        }
      ],
      "source": [
        "z = torch.matmul(x, w) + b\n",
        "\n",
        "print(z.requires_grad)\n",
        "\n",
        "with torch.no_grad():\n",
        "    z = torch.matmul(x, w)+b\n",
        "\n",
        "print(z.requires_grad)"
      ]
    },
    {
      "cell_type": "markdown",
      "metadata": {
        "id": "H463KHDp0aI3"
      },
      "source": [
        "- detach()는 특정 텐서에만 적용되어, 해당 텐서가 계산 그래프에서 분리됩니다.  주로 텐서의 일부 값만을 고정시키고 나머지 값들에 대해 그래디언트를 계산하고 싶을 때 사용됩니다."
      ]
    },
    {
      "cell_type": "code",
      "execution_count": 97,
      "metadata": {
        "colab": {
          "base_uri": "https://localhost:8080/"
        },
        "id": "gDJcPSO50aI3",
        "outputId": "1b9b3a6b-70cb-4cc6-8b28-c6ebc7914b89"
      },
      "outputs": [
        {
          "output_type": "stream",
          "name": "stdout",
          "text": [
            "False\n"
          ]
        }
      ],
      "source": [
        "z = torch.matmul(x, w)+b\n",
        "z_det = z.detach()\n",
        "\n",
        "print(z_det.requires_grad)"
      ]
    },
    {
      "cell_type": "markdown",
      "metadata": {
        "id": "7gLJRcLv0aI4"
      },
      "source": [
        "### CUDA Tensors\n",
        "\n",
        "- .to 메소드를 사용하여 Tensor를 어떠한 장치로도 옮길 수 있습니다."
      ]
    },
    {
      "cell_type": "code",
      "execution_count": 98,
      "metadata": {
        "colab": {
          "base_uri": "https://localhost:8080/"
        },
        "id": "NT7rkPYd0aI4",
        "outputId": "40dc6385-e2f9-46da-8895-44af04e7db04"
      },
      "outputs": [
        {
          "output_type": "execute_result",
          "data": {
            "text/plain": [
              "device(type='cuda', index=0)"
            ]
          },
          "metadata": {},
          "execution_count": 98
        }
      ],
      "source": [
        "device = torch.device(\"cuda:0\" if torch.cuda.is_available() else \"cpu\")\n",
        "device"
      ]
    },
    {
      "cell_type": "code",
      "execution_count": 99,
      "metadata": {
        "colab": {
          "base_uri": "https://localhost:8080/"
        },
        "id": "bRdrlhTd0aI4",
        "outputId": "4e56d254-54fc-4e23-fc7c-c70cba38dbe0"
      },
      "outputs": [
        {
          "output_type": "execute_result",
          "data": {
            "text/plain": [
              "tensor([[1., 1.],\n",
              "        [1., 1.]])"
            ]
          },
          "metadata": {},
          "execution_count": 99
        }
      ],
      "source": [
        "x = torch.ones(2, 2)\n",
        "x"
      ]
    },
    {
      "cell_type": "code",
      "execution_count": 100,
      "metadata": {
        "colab": {
          "base_uri": "https://localhost:8080/"
        },
        "id": "cMI-8aIb0aI5",
        "outputId": "91acc179-8f7d-4598-c0e8-48771a7cf142"
      },
      "outputs": [
        {
          "output_type": "execute_result",
          "data": {
            "text/plain": [
              "tensor([[1., 1.],\n",
              "        [1., 1.]], device='cuda:0')"
            ]
          },
          "metadata": {},
          "execution_count": 100
        }
      ],
      "source": [
        "x = x.to(device)\n",
        "x"
      ]
    },
    {
      "cell_type": "code",
      "execution_count": 101,
      "metadata": {
        "colab": {
          "base_uri": "https://localhost:8080/"
        },
        "id": "qH4CPoXq0aI5",
        "outputId": "94bbf0ea-4feb-4a4d-b749-433c76fd2276"
      },
      "outputs": [
        {
          "output_type": "execute_result",
          "data": {
            "text/plain": [
              "tensor([[1., 1., 1.],\n",
              "        [1., 1., 1.]], device='cuda:0')"
            ]
          },
          "metadata": {},
          "execution_count": 101
        }
      ],
      "source": [
        "y = torch.ones((2, 3), device=device)  # GPU 상에 직접적으로 tensor를 생성\n",
        "y"
      ]
    },
    {
      "cell_type": "code",
      "execution_count": null,
      "metadata": {
        "id": "E1h8Frco0aI_"
      },
      "outputs": [],
      "source": []
    }
  ],
  "metadata": {
    "accelerator": "GPU",
    "colab": {
      "provenance": [],
      "gpuType": "T4"
    },
    "kernelspec": {
      "display_name": "Python 3",
      "name": "python3"
    },
    "language_info": {
      "codemirror_mode": {
        "name": "ipython",
        "version": 3
      },
      "file_extension": ".py",
      "mimetype": "text/x-python",
      "name": "python",
      "nbconvert_exporter": "python",
      "pygments_lexer": "ipython3",
      "version": "3.9.16"
    }
  },
  "nbformat": 4,
  "nbformat_minor": 0
}