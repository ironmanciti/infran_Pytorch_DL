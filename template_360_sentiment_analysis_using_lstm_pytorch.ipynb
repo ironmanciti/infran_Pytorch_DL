{
 "cells": [
  {
   "cell_type": "markdown",
   "metadata": {
    "id": "F5loKTlZD0Zu"
   },
   "source": [
    "# 360. IMDB Sentiment Analysis\n",
    "- LSTM을 사용하여 IMDB 데이터 세트에 대한 감정 분석을 진행합니다.\n",
    "\n",
    "- IMDB (Internet Movie Database, https://www.imdb.com/)  Dataset\n",
    "    - 각 25,000 개의 training/testing set 으로 구성된 IMDB 영화관람평  \n",
    "\n",
    "    - `imdb_reviews` – encoding 되어있지 않은 string 형태의 data  \n",
    "\n",
    "    - label : positive, negative binary classification"
   ]
  },
  {
   "cell_type": "markdown",
   "metadata": {
    "id": "d9HhpMjLovXy"
   },
   "source": [
    "- 데이터 다운로드"
   ]
  },
  {
   "cell_type": "markdown",
   "metadata": {
    "id": "EWPGV1IPxS5F"
   },
   "source": [
    "- `sentiment`를 positive 1, negative 0 로 변경"
   ]
  },
  {
   "cell_type": "markdown",
   "metadata": {
    "id": "5AKbP5HdD0Zz"
   },
   "source": [
    "### train / test set 분할"
   ]
  },
  {
   "cell_type": "markdown",
   "metadata": {
    "id": "LH6n8Ji-D0Z0"
   },
   "source": [
    "## keras.preprocessing module 을 이용하여 tokenize 및 padding\n",
    "- keras.preprocessing.text.Tokenizer  \n",
    "    - 문장을 tokenize\n",
    "\n",
    "- keras.preprocessing.sequence.pad_sequence\n",
    "    - 동일한 길이의 입력으로 truncate/pad"
   ]
  },
  {
   "cell_type": "markdown",
   "metadata": {
    "id": "-gUBM2Pry0rB"
   },
   "source": [
    "- tokenizer의 dictionary를 이용하여 text 를 integer의 sequence로 변환"
   ]
  },
  {
   "cell_type": "markdown",
   "metadata": {
    "id": "bAArOy_9Lh0s"
   },
   "source": [
    "- sentence length 분포 시각화"
   ]
  },
  {
   "cell_type": "markdown",
   "metadata": {
    "id": "Q0rE6YxvD0Z3"
   },
   "source": [
    "### Padding\n",
    "- 전체 sequence 를 동일한 길이로 통일"
   ]
  },
  {
   "cell_type": "markdown",
   "metadata": {
    "id": "8MWm6kxyL_NJ"
   },
   "source": [
    "- sequence data 를 sentence 로 reverse conversion 하여 sequence 변환이 잘 되었는지 확인"
   ]
  },
  {
   "cell_type": "markdown",
   "metadata": {
    "id": "f97qGl4SD0Z4"
   },
   "source": [
    "### `TensorDataset`을 이용하여 numpy sequence data 를 tensor dataloader 로 변환"
   ]
  },
  {
   "cell_type": "markdown",
   "metadata": {
    "id": "xe--HG3bD0Z5"
   },
   "source": [
    "### Model 생성\n",
    "\n",
    "<img src=\"https://miro.medium.com/max/875/1*SICYykT7ybua1gVJDNlajw.png\"  width=600 />"
   ]
  },
  {
   "cell_type": "markdown",
   "metadata": {
    "id": "zl05hs2PD0Z5"
   },
   "source": [
    "### Training"
   ]
  },
  {
   "cell_type": "markdown",
   "metadata": {
    "id": "8pt33zRXD0Z6"
   },
   "source": [
    "### Inferance"
   ]
  }
 ],
 "metadata": {
  "accelerator": "GPU",
  "colab": {
   "collapsed_sections": [],
   "name": "360_sentiment_analysis_using_lstm_pytorch.ipynb",
   "provenance": []
  },
  "kernelspec": {
   "display_name": "Python 3 (ipykernel)",
   "language": "python",
   "name": "python3"
  },
  "language_info": {
   "codemirror_mode": {
    "name": "ipython",
    "version": 3
   },
   "file_extension": ".py",
   "mimetype": "text/x-python",
   "name": "python",
   "nbconvert_exporter": "python",
   "pygments_lexer": "ipython3",
   "version": "3.9.12"
  }
 },
 "nbformat": 4,
 "nbformat_minor": 1
}
