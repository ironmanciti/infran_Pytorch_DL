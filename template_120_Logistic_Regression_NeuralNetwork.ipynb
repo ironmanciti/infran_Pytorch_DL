{
 "cells": [
  {
   "cell_type": "markdown",
   "metadata": {
    "id": "JqXke_kBbtlA"
   },
   "source": [
    "# 120. Logistic Regression - 이진 분류"
   ]
  },
  {
   "cell_type": "markdown",
   "metadata": {
    "id": "EtKyffHjbtlE"
   },
   "source": [
    "- toy data 생성 (-100 ~ 100)"
   ]
  },
  {
   "cell_type": "markdown",
   "metadata": {
    "id": "cGut3DaebtlE"
   },
   "source": [
    "- sigmoid 함수는 ``torch.nn.Sigmoid`` 사용  \n",
    "$$\\sigma = \\frac{1}{(1 + e^{-x})}$$"
   ]
  },
  {
   "cell_type": "markdown",
   "metadata": {
    "id": "TBs20ogYbtlF"
   },
   "source": [
    "## nn.Sequential 을 이용한 Logistic Regression sequential model 정의"
   ]
  },
  {
   "cell_type": "markdown",
   "metadata": {
    "id": "MbpPHXqqbtlG"
   },
   "source": [
    "- 무작위로 초기화된 weight와 bias 를 manually initialize"
   ]
  },
  {
   "cell_type": "markdown",
   "metadata": {
    "id": "SaBkcQ4TbtlH"
   },
   "source": [
    "## ``nn.Module``을 이용한 사용자 정의 Logistic Regression model 정의"
   ]
  },
  {
   "cell_type": "markdown",
   "metadata": {
    "id": "VXIC-TZybtlH"
   },
   "source": [
    "- 무작위로 초기화된 weight와 bias 를 manually initialize"
   ]
  },
  {
   "cell_type": "markdown",
   "metadata": {
    "id": "pSJam0zabtlH"
   },
   "source": [
    "# 생성한 Neural Network Model Train"
   ]
  },
  {
   "cell_type": "markdown",
   "metadata": {
    "id": "Uk9tDPgmbtlI"
   },
   "source": [
    "## Data Class 생성 및 DataLoader를 이용한 Data 구조화\n",
    "\n",
    "- ``torch.utils.data.DataLoader``는 batch 관리를 담당하는 module\n",
    "- 모든 ``torch.utils.data.Dataset``으로 부터 DataLoader 를 생성할 수 있다.  \n",
    "- DataLoader 는 mini-batch를 iterable(반복자) 형태로 반환"
   ]
  },
  {
   "cell_type": "markdown",
   "metadata": {
    "id": "pLZ-YACgbtlI"
   },
   "source": [
    "### DataLoader 생성"
   ]
  },
  {
   "cell_type": "markdown",
   "metadata": {
    "id": "N2j7ZcuHbtlI"
   },
   "source": [
    "### model 생성"
   ]
  },
  {
   "cell_type": "markdown",
   "metadata": {
    "id": "laB83sIjbtlI"
   },
   "source": [
    "### Loss Function 및 Optimizer 정의"
   ]
  },
  {
   "cell_type": "markdown",
   "metadata": {
    "id": "DY3CBk-3btlI"
   },
   "source": [
    "### Train Loop"
   ]
  },
  {
   "cell_type": "markdown",
   "metadata": {
    "id": "vvUcywTHbtlJ"
   },
   "source": [
    "### train 된 model 을 이용한 prediction"
   ]
  }
 ],
 "metadata": {
  "colab": {
   "provenance": []
  },
  "kernelspec": {
   "display_name": "Python 3",
   "language": "python",
   "name": "python3"
  },
  "language_info": {
   "codemirror_mode": {
    "name": "ipython",
    "version": 3
   },
   "file_extension": ".py",
   "mimetype": "text/x-python",
   "name": "python",
   "nbconvert_exporter": "python",
   "pygments_lexer": "ipython3",
   "version": "3.9.7"
  }
 },
 "nbformat": 4,
 "nbformat_minor": 0
}
