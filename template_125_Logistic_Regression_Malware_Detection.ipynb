{
 "cells": [
  {
   "cell_type": "markdown",
   "id": "9a921b8e",
   "metadata": {},
   "source": [
    "# 125. Malware Detection - binary classification"
   ]
  },
  {
   "cell_type": "markdown",
   "id": "5e7dd662",
   "metadata": {},
   "source": [
    "- Name : 제외\n",
    "- md5 : hash value 제외"
   ]
  },
  {
   "cell_type": "markdown",
   "id": "ab6faa3f",
   "metadata": {},
   "source": [
    "- Train, Test split"
   ]
  },
  {
   "cell_type": "markdown",
   "id": "37971f5f",
   "metadata": {},
   "source": [
    "## ``nn.Module``을 이용한 사용자 정의 Logistic Regression model 정의 "
   ]
  },
  {
   "cell_type": "markdown",
   "id": "8fb5448b",
   "metadata": {},
   "source": [
    "### dataset loader 생성"
   ]
  },
  {
   "cell_type": "markdown",
   "id": "f414f774",
   "metadata": {},
   "source": [
    "# 생성한 Neural Network Model Train"
   ]
  }
 ],
 "metadata": {
  "kernelspec": {
   "display_name": "Python 3",
   "language": "python",
   "name": "python3"
  },
  "language_info": {
   "codemirror_mode": {
    "name": "ipython",
    "version": 3
   },
   "file_extension": ".py",
   "mimetype": "text/x-python",
   "name": "python",
   "nbconvert_exporter": "python",
   "pygments_lexer": "ipython3",
   "version": "3.9.7"
  }
 },
 "nbformat": 4,
 "nbformat_minor": 5
}
