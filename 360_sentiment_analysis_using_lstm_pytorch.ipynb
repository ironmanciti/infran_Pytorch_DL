{
  "cells": [
    {
      "cell_type": "markdown",
      "metadata": {
        "id": "F5loKTlZD0Zu"
      },
      "source": [
        "# 360. IMDB Sentiment Analysis\n",
        "- LSTM을 사용하여 IMDB 데이터 세트에 대한 감정 분석을 진행합니다.\n",
        "\n",
        "- IMDB (Internet Movie Database, https://www.imdb.com/)  Dataset\n",
        "    - 각 25,000 개의 training/testing set 으로 구성된 IMDB 영화관람평  \n",
        "\n",
        "    - `imdb_reviews` – encoding 되어있지 않은 string 형태의 data  \n",
        "\n",
        "    - label : positive, negative binary classification"
      ]
    },
    {
      "cell_type": "code",
      "execution_count": 1,
      "metadata": {
        "_cell_guid": "b1076dfc-b9ad-4769-8c92-a6c4dae69d19",
        "_uuid": "8f2839f25d086af736a60e9eeb907d3b93b6e0e5",
        "colab": {
          "base_uri": "https://localhost:8080/"
        },
        "execution": {
          "iopub.execute_input": "2021-12-29T11:50:30.632307Z",
          "iopub.status.busy": "2021-12-29T11:50:30.632039Z",
          "iopub.status.idle": "2021-12-29T11:50:33.453334Z",
          "shell.execute_reply": "2021-12-29T11:50:33.452545Z",
          "shell.execute_reply.started": "2021-12-29T11:50:30.632279Z"
        },
        "id": "GYTFVUCcD0Zw",
        "outputId": "91243e50-fedb-4027-dc4b-d3bd9c53313c"
      },
      "outputs": [
        {
          "output_type": "execute_result",
          "data": {
            "text/plain": [
              "device(type='cuda')"
            ]
          },
          "metadata": {},
          "execution_count": 1
        }
      ],
      "source": [
        "import numpy as np\n",
        "import pandas as pd\n",
        "import matplotlib.pyplot as plt\n",
        "\n",
        "import torch\n",
        "import torch.nn as nn\n",
        "import torch.nn.functional as F\n",
        "from torch.utils.data import TensorDataset, DataLoader\n",
        "\n",
        "from sklearn.model_selection import train_test_split\n",
        "import tensorflow_datasets as tfds\n",
        "\n",
        "device = torch.device(\"cuda\") if torch.cuda.is_available() else torch.device(\"cpu\")\n",
        "device"
      ]
    },
    {
      "cell_type": "markdown",
      "metadata": {
        "id": "d9HhpMjLovXy"
      },
      "source": [
        "- 데이터 다운로드"
      ]
    },
    {
      "cell_type": "code",
      "source": [
        "# IMDb 리뷰 데이터셋을 로드하고, 데이터셋 정보도 함께 가져옴\n",
        "dataset, info = tfds.load('imdb_reviews', with_info=True, as_supervised=True)\n",
        "\n",
        "# TensorFlow 텐서를 파이썬 데이터 타입으로 변환하여 리스트에 저장\n",
        "reviews = []\n",
        "sentiments = []\n",
        "for review, sentiment in dataset['train']:\n",
        "    reviews.append(review.numpy().decode('utf-8'))  # 텐서를 문자열로 변환\n",
        "    sentiments.append(sentiment.numpy())  # 텐서를 정수로 변환\n",
        "\n",
        "# pandas DataFrame 생성\n",
        "df = pd.DataFrame({'review': reviews, 'sentiment': sentiments})\n",
        "\n",
        "# CSV 파일로 저장\n",
        "df.to_csv('IMDB_dataset.csv', index=False)"
      ],
      "metadata": {
        "id": "Mc_rBxmV9rH-"
      },
      "execution_count": 2,
      "outputs": []
    },
    {
      "cell_type": "code",
      "execution_count": 3,
      "metadata": {
        "_cell_guid": "79c7e3d0-c299-4dcb-8224-4455121ee9b0",
        "_uuid": "d629ff2d2480ee46fbb7e2d37f6b5fab8052498a",
        "colab": {
          "base_uri": "https://localhost:8080/",
          "height": 225
        },
        "execution": {
          "iopub.execute_input": "2021-12-29T11:51:07.609481Z",
          "iopub.status.busy": "2021-12-29T11:51:07.609186Z",
          "iopub.status.idle": "2021-12-29T11:51:08.889471Z",
          "shell.execute_reply": "2021-12-29T11:51:08.888851Z",
          "shell.execute_reply.started": "2021-12-29T11:51:07.609450Z"
        },
        "id": "U2KB8UqSD0Zy",
        "outputId": "7c1cf043-4637-4946-b1a7-70ed97682e2e"
      },
      "outputs": [
        {
          "output_type": "stream",
          "name": "stdout",
          "text": [
            "(25000, 2)\n"
          ]
        },
        {
          "output_type": "execute_result",
          "data": {
            "text/plain": [
              "                                              review  sentiment\n",
              "0  This was an absolutely terrible movie. Don't b...          0\n",
              "1  I have been known to fall asleep during films,...          0\n",
              "2  Mann photographs the Alberta Rocky Mountains i...          0\n",
              "3  This is the kind of film for a snowy Sunday af...          1\n",
              "4  As others have mentioned, all the women that g...          1"
            ],
            "text/html": [
              "\n",
              "  <div id=\"df-1aee38c4-83e7-4f0d-bb44-b5ff515753d3\" class=\"colab-df-container\">\n",
              "    <div>\n",
              "<style scoped>\n",
              "    .dataframe tbody tr th:only-of-type {\n",
              "        vertical-align: middle;\n",
              "    }\n",
              "\n",
              "    .dataframe tbody tr th {\n",
              "        vertical-align: top;\n",
              "    }\n",
              "\n",
              "    .dataframe thead th {\n",
              "        text-align: right;\n",
              "    }\n",
              "</style>\n",
              "<table border=\"1\" class=\"dataframe\">\n",
              "  <thead>\n",
              "    <tr style=\"text-align: right;\">\n",
              "      <th></th>\n",
              "      <th>review</th>\n",
              "      <th>sentiment</th>\n",
              "    </tr>\n",
              "  </thead>\n",
              "  <tbody>\n",
              "    <tr>\n",
              "      <th>0</th>\n",
              "      <td>This was an absolutely terrible movie. Don't b...</td>\n",
              "      <td>0</td>\n",
              "    </tr>\n",
              "    <tr>\n",
              "      <th>1</th>\n",
              "      <td>I have been known to fall asleep during films,...</td>\n",
              "      <td>0</td>\n",
              "    </tr>\n",
              "    <tr>\n",
              "      <th>2</th>\n",
              "      <td>Mann photographs the Alberta Rocky Mountains i...</td>\n",
              "      <td>0</td>\n",
              "    </tr>\n",
              "    <tr>\n",
              "      <th>3</th>\n",
              "      <td>This is the kind of film for a snowy Sunday af...</td>\n",
              "      <td>1</td>\n",
              "    </tr>\n",
              "    <tr>\n",
              "      <th>4</th>\n",
              "      <td>As others have mentioned, all the women that g...</td>\n",
              "      <td>1</td>\n",
              "    </tr>\n",
              "  </tbody>\n",
              "</table>\n",
              "</div>\n",
              "    <div class=\"colab-df-buttons\">\n",
              "\n",
              "  <div class=\"colab-df-container\">\n",
              "    <button class=\"colab-df-convert\" onclick=\"convertToInteractive('df-1aee38c4-83e7-4f0d-bb44-b5ff515753d3')\"\n",
              "            title=\"Convert this dataframe to an interactive table.\"\n",
              "            style=\"display:none;\">\n",
              "\n",
              "  <svg xmlns=\"http://www.w3.org/2000/svg\" height=\"24px\" viewBox=\"0 -960 960 960\">\n",
              "    <path d=\"M120-120v-720h720v720H120Zm60-500h600v-160H180v160Zm220 220h160v-160H400v160Zm0 220h160v-160H400v160ZM180-400h160v-160H180v160Zm440 0h160v-160H620v160ZM180-180h160v-160H180v160Zm440 0h160v-160H620v160Z\"/>\n",
              "  </svg>\n",
              "    </button>\n",
              "\n",
              "  <style>\n",
              "    .colab-df-container {\n",
              "      display:flex;\n",
              "      gap: 12px;\n",
              "    }\n",
              "\n",
              "    .colab-df-convert {\n",
              "      background-color: #E8F0FE;\n",
              "      border: none;\n",
              "      border-radius: 50%;\n",
              "      cursor: pointer;\n",
              "      display: none;\n",
              "      fill: #1967D2;\n",
              "      height: 32px;\n",
              "      padding: 0 0 0 0;\n",
              "      width: 32px;\n",
              "    }\n",
              "\n",
              "    .colab-df-convert:hover {\n",
              "      background-color: #E2EBFA;\n",
              "      box-shadow: 0px 1px 2px rgba(60, 64, 67, 0.3), 0px 1px 3px 1px rgba(60, 64, 67, 0.15);\n",
              "      fill: #174EA6;\n",
              "    }\n",
              "\n",
              "    .colab-df-buttons div {\n",
              "      margin-bottom: 4px;\n",
              "    }\n",
              "\n",
              "    [theme=dark] .colab-df-convert {\n",
              "      background-color: #3B4455;\n",
              "      fill: #D2E3FC;\n",
              "    }\n",
              "\n",
              "    [theme=dark] .colab-df-convert:hover {\n",
              "      background-color: #434B5C;\n",
              "      box-shadow: 0px 1px 3px 1px rgba(0, 0, 0, 0.15);\n",
              "      filter: drop-shadow(0px 1px 2px rgba(0, 0, 0, 0.3));\n",
              "      fill: #FFFFFF;\n",
              "    }\n",
              "  </style>\n",
              "\n",
              "    <script>\n",
              "      const buttonEl =\n",
              "        document.querySelector('#df-1aee38c4-83e7-4f0d-bb44-b5ff515753d3 button.colab-df-convert');\n",
              "      buttonEl.style.display =\n",
              "        google.colab.kernel.accessAllowed ? 'block' : 'none';\n",
              "\n",
              "      async function convertToInteractive(key) {\n",
              "        const element = document.querySelector('#df-1aee38c4-83e7-4f0d-bb44-b5ff515753d3');\n",
              "        const dataTable =\n",
              "          await google.colab.kernel.invokeFunction('convertToInteractive',\n",
              "                                                    [key], {});\n",
              "        if (!dataTable) return;\n",
              "\n",
              "        const docLinkHtml = 'Like what you see? Visit the ' +\n",
              "          '<a target=\"_blank\" href=https://colab.research.google.com/notebooks/data_table.ipynb>data table notebook</a>'\n",
              "          + ' to learn more about interactive tables.';\n",
              "        element.innerHTML = '';\n",
              "        dataTable['output_type'] = 'display_data';\n",
              "        await google.colab.output.renderOutput(dataTable, element);\n",
              "        const docLink = document.createElement('div');\n",
              "        docLink.innerHTML = docLinkHtml;\n",
              "        element.appendChild(docLink);\n",
              "      }\n",
              "    </script>\n",
              "  </div>\n",
              "\n",
              "\n",
              "<div id=\"df-5bf08df9-2e7c-47cd-b9e0-17e4ac0cf404\">\n",
              "  <button class=\"colab-df-quickchart\" onclick=\"quickchart('df-5bf08df9-2e7c-47cd-b9e0-17e4ac0cf404')\"\n",
              "            title=\"Suggest charts\"\n",
              "            style=\"display:none;\">\n",
              "\n",
              "<svg xmlns=\"http://www.w3.org/2000/svg\" height=\"24px\"viewBox=\"0 0 24 24\"\n",
              "     width=\"24px\">\n",
              "    <g>\n",
              "        <path d=\"M19 3H5c-1.1 0-2 .9-2 2v14c0 1.1.9 2 2 2h14c1.1 0 2-.9 2-2V5c0-1.1-.9-2-2-2zM9 17H7v-7h2v7zm4 0h-2V7h2v10zm4 0h-2v-4h2v4z\"/>\n",
              "    </g>\n",
              "</svg>\n",
              "  </button>\n",
              "\n",
              "<style>\n",
              "  .colab-df-quickchart {\n",
              "      --bg-color: #E8F0FE;\n",
              "      --fill-color: #1967D2;\n",
              "      --hover-bg-color: #E2EBFA;\n",
              "      --hover-fill-color: #174EA6;\n",
              "      --disabled-fill-color: #AAA;\n",
              "      --disabled-bg-color: #DDD;\n",
              "  }\n",
              "\n",
              "  [theme=dark] .colab-df-quickchart {\n",
              "      --bg-color: #3B4455;\n",
              "      --fill-color: #D2E3FC;\n",
              "      --hover-bg-color: #434B5C;\n",
              "      --hover-fill-color: #FFFFFF;\n",
              "      --disabled-bg-color: #3B4455;\n",
              "      --disabled-fill-color: #666;\n",
              "  }\n",
              "\n",
              "  .colab-df-quickchart {\n",
              "    background-color: var(--bg-color);\n",
              "    border: none;\n",
              "    border-radius: 50%;\n",
              "    cursor: pointer;\n",
              "    display: none;\n",
              "    fill: var(--fill-color);\n",
              "    height: 32px;\n",
              "    padding: 0;\n",
              "    width: 32px;\n",
              "  }\n",
              "\n",
              "  .colab-df-quickchart:hover {\n",
              "    background-color: var(--hover-bg-color);\n",
              "    box-shadow: 0 1px 2px rgba(60, 64, 67, 0.3), 0 1px 3px 1px rgba(60, 64, 67, 0.15);\n",
              "    fill: var(--button-hover-fill-color);\n",
              "  }\n",
              "\n",
              "  .colab-df-quickchart-complete:disabled,\n",
              "  .colab-df-quickchart-complete:disabled:hover {\n",
              "    background-color: var(--disabled-bg-color);\n",
              "    fill: var(--disabled-fill-color);\n",
              "    box-shadow: none;\n",
              "  }\n",
              "\n",
              "  .colab-df-spinner {\n",
              "    border: 2px solid var(--fill-color);\n",
              "    border-color: transparent;\n",
              "    border-bottom-color: var(--fill-color);\n",
              "    animation:\n",
              "      spin 1s steps(1) infinite;\n",
              "  }\n",
              "\n",
              "  @keyframes spin {\n",
              "    0% {\n",
              "      border-color: transparent;\n",
              "      border-bottom-color: var(--fill-color);\n",
              "      border-left-color: var(--fill-color);\n",
              "    }\n",
              "    20% {\n",
              "      border-color: transparent;\n",
              "      border-left-color: var(--fill-color);\n",
              "      border-top-color: var(--fill-color);\n",
              "    }\n",
              "    30% {\n",
              "      border-color: transparent;\n",
              "      border-left-color: var(--fill-color);\n",
              "      border-top-color: var(--fill-color);\n",
              "      border-right-color: var(--fill-color);\n",
              "    }\n",
              "    40% {\n",
              "      border-color: transparent;\n",
              "      border-right-color: var(--fill-color);\n",
              "      border-top-color: var(--fill-color);\n",
              "    }\n",
              "    60% {\n",
              "      border-color: transparent;\n",
              "      border-right-color: var(--fill-color);\n",
              "    }\n",
              "    80% {\n",
              "      border-color: transparent;\n",
              "      border-right-color: var(--fill-color);\n",
              "      border-bottom-color: var(--fill-color);\n",
              "    }\n",
              "    90% {\n",
              "      border-color: transparent;\n",
              "      border-bottom-color: var(--fill-color);\n",
              "    }\n",
              "  }\n",
              "</style>\n",
              "\n",
              "  <script>\n",
              "    async function quickchart(key) {\n",
              "      const quickchartButtonEl =\n",
              "        document.querySelector('#' + key + ' button');\n",
              "      quickchartButtonEl.disabled = true;  // To prevent multiple clicks.\n",
              "      quickchartButtonEl.classList.add('colab-df-spinner');\n",
              "      try {\n",
              "        const charts = await google.colab.kernel.invokeFunction(\n",
              "            'suggestCharts', [key], {});\n",
              "      } catch (error) {\n",
              "        console.error('Error during call to suggestCharts:', error);\n",
              "      }\n",
              "      quickchartButtonEl.classList.remove('colab-df-spinner');\n",
              "      quickchartButtonEl.classList.add('colab-df-quickchart-complete');\n",
              "    }\n",
              "    (() => {\n",
              "      let quickchartButtonEl =\n",
              "        document.querySelector('#df-5bf08df9-2e7c-47cd-b9e0-17e4ac0cf404 button');\n",
              "      quickchartButtonEl.style.display =\n",
              "        google.colab.kernel.accessAllowed ? 'block' : 'none';\n",
              "    })();\n",
              "  </script>\n",
              "</div>\n",
              "\n",
              "    </div>\n",
              "  </div>\n"
            ],
            "application/vnd.google.colaboratory.intrinsic+json": {
              "type": "dataframe",
              "variable_name": "df",
              "summary": "{\n  \"name\": \"df\",\n  \"rows\": 25000,\n  \"fields\": [\n    {\n      \"column\": \"review\",\n      \"properties\": {\n        \"dtype\": \"string\",\n        \"num_unique_values\": 24904,\n        \"samples\": [\n          \"\\\"Written on the Wind\\\" is an irresistible, wonderfully kinky film, as only director Sirk could have done it. The movie is submerged in a bucket full of Freudian symbols, weird melodramatics and colorful contrasts. The connection between financial success and moral decay is the film's main theme. Sirk seems to suggest that sexual dysfunction is one of the side effects of capitalism. However, I prefer to see the movie as a prime example of what Sirk could do with kitschy material. The palette of colors is particularly impressive. The acting in the film is great too. Rock Hudson and Lauren Bacall are terribly glamorous and give the film an aura of elegance, but the movie belongs to Robert Stack and Dorothy Malone (she deservedly won the Best Supporting Actress Oscar), who manage to keep the film at a boiling point. Kudos to Frank Skinner's pulsating score, Russell Metty's brilliant camera work (every single shot is a masterpiece in itself), and the production design department. Also, the title tune is a beauty. It's an unforgettable movie.\",\n          \"I happened to catch this movie on cable one afternoon. I have to admit that I've never been a big baseball fan, but I can sometimes get into a good sports-related movie. What I found more interesting was the depiction of the foster family system. As a therapist who has seen both the good and the bad of the community mental health and foster system, I though it was rather refreshing to see a movie that showed both the ups and downs of this system: people jumping from family to family, biological parents not always taking an active involvement, and transitions that can be but heart-wrenching and heart-melting. Joseph Gordon-Levitt and Danny Glover are the anchor of this film, and both bring very believable performances. Maybe it was just my emotional state, but I did find myself shedding a tear at the end of the film.\",\n          \"Panned by critics at the time but loved by the fans, this film has now become a classic. Mixing supposedly 'surreal' footage shot at John Lennon's home among other places with live footage of Marc Bolan & T.Rex at their very best, this film is not just a must for everyone who's liked Marc Bolan but gives a fascinating insight into the era.<br /><br />These were the times when Marc was hobnobbing with the likes of Ringo Starr of the Beatles [who directed it] and you can even find a brief spot from one Reg Dwight [Elton John to you] bashing the ivories in an amazing [and never officially released] version of Tutti Frutti and rocking and ballad versions of Children Of The Revolution.<br /><br />There's also wonderful scenes featuring Chelita Secunda [said to have 'created glam rock' with her use of glitter etc], Mickey Finn and even the actor from Catweazle!!<br /><br />The best scene for me is in the garden when Marc leaves the dining table, sits down cross-legged in front of a string section and knocks out acoustic versions of classics such as Get It On and The Slider.<br /><br />Highly, highly recommended!! FIVE stars [out of five].<br /><br />Rory\"\n        ],\n        \"semantic_type\": \"\",\n        \"description\": \"\"\n      }\n    },\n    {\n      \"column\": \"sentiment\",\n      \"properties\": {\n        \"dtype\": \"number\",\n        \"std\": 0,\n        \"min\": 0,\n        \"max\": 1,\n        \"num_unique_values\": 2,\n        \"samples\": [\n          1,\n          0\n        ],\n        \"semantic_type\": \"\",\n        \"description\": \"\"\n      }\n    }\n  ]\n}"
            }
          },
          "metadata": {},
          "execution_count": 3
        }
      ],
      "source": [
        "df = pd.read_csv(\"IMDB_dataset.csv\")\n",
        "print(df.shape)\n",
        "df.head()"
      ]
    },
    {
      "cell_type": "code",
      "execution_count": 4,
      "metadata": {
        "colab": {
          "base_uri": "https://localhost:8080/"
        },
        "id": "8jU_fIY7oDRn",
        "outputId": "300e2727-2a00-4112-d3af-93accbe69649"
      },
      "outputs": [
        {
          "output_type": "execute_result",
          "data": {
            "text/plain": [
              "sentiment\n",
              "0    12500\n",
              "1    12500\n",
              "Name: count, dtype: int64"
            ]
          },
          "metadata": {},
          "execution_count": 4
        }
      ],
      "source": [
        "df['sentiment'].value_counts()"
      ]
    },
    {
      "cell_type": "markdown",
      "metadata": {
        "id": "5AKbP5HdD0Zz"
      },
      "source": [
        "### train / test set 분할"
      ]
    },
    {
      "cell_type": "code",
      "execution_count": 5,
      "metadata": {
        "colab": {
          "base_uri": "https://localhost:8080/"
        },
        "execution": {
          "iopub.execute_input": "2021-12-29T11:51:38.203854Z",
          "iopub.status.busy": "2021-12-29T11:51:38.203548Z",
          "iopub.status.idle": "2021-12-29T11:51:38.299696Z",
          "shell.execute_reply": "2021-12-29T11:51:38.298887Z",
          "shell.execute_reply.started": "2021-12-29T11:51:38.203822Z"
        },
        "id": "fwC5hySrD0Zz",
        "outputId": "51df1771-8226-4d63-ca1e-7ec10a5a27cf"
      },
      "outputs": [
        {
          "output_type": "execute_result",
          "data": {
            "text/plain": [
              "((20000,), (5000,), (20000,), (5000,))"
            ]
          },
          "metadata": {},
          "execution_count": 5
        }
      ],
      "source": [
        "# 데이터셋을 입력(X)과 레이블(y)로 분할\n",
        "X = df['review'].values\n",
        "y = df['sentiment'].values\n",
        "\n",
        "# 훈련 데이터와 테스트 데이터로 분할\n",
        "train_sentences, test_sentences, train_labels, test_labels = \\\n",
        "                train_test_split(X, y, test_size=0.2, random_state=0)\n",
        "\n",
        "# 데이터셋의 크기 출력\n",
        "train_sentences.shape, test_sentences.shape, train_labels.shape, test_labels.shape"
      ]
    },
    {
      "cell_type": "markdown",
      "metadata": {
        "id": "LH6n8Ji-D0Z0"
      },
      "source": [
        "## keras.preprocessing module 을 이용하여 tokenize 및 padding\n",
        "- keras.preprocessing.text.Tokenizer  \n",
        "    - 문장을 tokenize\n",
        "\n",
        "- keras.preprocessing.sequence.pad_sequence\n",
        "    - 동일한 길이의 입력으로 truncate/pad"
      ]
    },
    {
      "cell_type": "code",
      "execution_count": 6,
      "metadata": {
        "id": "B1yxj2fkwVuE"
      },
      "outputs": [],
      "source": [
        "from tensorflow.keras.preprocessing.text import Tokenizer\n",
        "from tensorflow.keras.preprocessing.sequence import pad_sequences\n",
        "\n",
        "vocab_size = 10000  # 단어의 최대 개수\n",
        "\n",
        "# 토크나이저 객체 생성 및 훈련 데이터에 대해 적합화\n",
        "tokenizer = Tokenizer(num_words=vocab_size, oov_token='<OOV>')\n",
        "tokenizer.fit_on_texts(train_sentences)"
      ]
    },
    {
      "cell_type": "markdown",
      "metadata": {
        "id": "-gUBM2Pry0rB"
      },
      "source": [
        "- tokenizer의 dictionary를 이용하여 text 를 integer의 sequence로 변환"
      ]
    },
    {
      "cell_type": "code",
      "execution_count": 7,
      "metadata": {
        "colab": {
          "base_uri": "https://localhost:8080/"
        },
        "id": "UwYtxouCwnjo",
        "outputId": "616de7d0-91bd-4d2d-9aef-6e6cad849b23"
      },
      "outputs": [
        {
          "output_type": "stream",
          "name": "stdout",
          "text": [
            "This show is possibly the biggest, ugliest, most generic steam pile I've seen in children's programming that's actually become successful. The lead character, Johnny, while I understand he's supposed to represent an ordinary kid, isn't likable or even tolerable. The jokes are lame, overdone (i.e. the \"Whoa! Didn't see that coming\" gag. Come on, that wasn't even funny the first time. It's not even cute) and lack any form of primitive wit or inspiration. And lastly... it's just plain ugly to look at. While kids aren't especially critical of artistic talent, they still prefer eye candy. I can't stand watching the show, because in a way, the art style is just...gross. Hideous, in fact. Just plain crummy. <br /><br />I just can't stand that this is getting so much airtime. While I understand that nostalgia can be a little irrational and I shouldn't be getting my hopes up on it coming back... I really miss the old cartoons. Bring back Dexter's Laboratory, The Powerpuff Girls... anything but this crap. I guess it's just wishful thinking though.<br /><br />Simply put, I advise you don't waste your time on this show. I believe that truly good cartoons are able to be enjoyed by the big kids, too. And this doesn't cut it.\n",
            "[12, 121, 7, 855, 2, 1105, 1, 88, 3869, 6398, 2467, 206, 109, 9, 2815, 8296, 195, 159, 410, 1109, 2, 484, 108, 1803, 135, 11, 387, 238, 419, 6, 4165, 33, 2028, 556, 217, 1477, 40, 57, 6952, 2, 642, 24, 841, 3613, 11, 941, 2, 1, 160, 65, 13, 588, 3206, 220, 21, 13, 289, 57, 161, 2, 80, 58, 43, 22, 57, 1021, 3, 577, 101, 809, 5, 5137, 2205, 40, 2916, 3, 7544, 43, 41, 1032, 1532, 6, 166, 31, 135, 356, 719, 263, 2730, 5, 1611, 671, 34, 129, 2694, 723, 1916, 11, 188, 757, 147, 2, 121, 84, 9, 4, 95, 2, 497, 402, 7, 41, 2667, 4456, 9, 187, 41, 1032, 9570, 8, 8, 11, 41, 188, 757, 13, 12, 7, 385, 36, 74, 1, 135, 11, 387, 13, 4413, 68, 27, 4, 114, 9114, 3, 11, 1563, 27, 385, 59, 1880, 54, 21, 10, 588, 142, 11, 64, 706, 2, 152, 2396, 733, 142, 1, 7676, 2, 1, 544, 232, 19, 12, 602, 11, 480, 43, 41, 1, 526, 150, 8, 8, 329, 274, 11, 4645, 23, 90, 445, 127, 58, 21, 12, 121, 11, 264, 13, 362, 50, 2396, 24, 508, 6, 27, 513, 32, 2, 193, 356, 97, 3, 12, 153, 598, 10]\n"
          ]
        }
      ],
      "source": [
        "# 훈련 데이터와 테스트 데이터를 정수 시퀀스로 변환\n",
        "train_sequences = tokenizer.texts_to_sequences(train_sentences)\n",
        "test_sequences = tokenizer.texts_to_sequences(test_sentences)\n",
        "print(train_sentences[0])\n",
        "print(train_sequences[0])"
      ]
    },
    {
      "cell_type": "markdown",
      "metadata": {
        "id": "bAArOy_9Lh0s"
      },
      "source": [
        "- sentence length 분포 시각화"
      ]
    },
    {
      "cell_type": "code",
      "execution_count": 8,
      "metadata": {
        "colab": {
          "base_uri": "https://localhost:8080/",
          "height": 468
        },
        "id": "4f7CakNCw0OQ",
        "outputId": "131d3b33-99b4-47b4-bdee-506b254babf2"
      },
      "outputs": [
        {
          "output_type": "stream",
          "name": "stdout",
          "text": [
            "가장 긴 문장 길이 : 2493\n",
            "평균 문장 길이 : 238.181\n"
          ]
        },
        {
          "output_type": "display_data",
          "data": {
            "text/plain": [
              "<Figure size 640x480 with 1 Axes>"
            ],
            "image/png": "[encoded data removed]"
          },
          "metadata": {}
        }
      ],
      "source": [
        "# 훈련 데이터와 테스트 데이터의 시퀀스 길이를 결합하여 히스토그램을 생성\n",
        "plt.hist([len(s) for s in train_sequences] + [len(s) for s in test_sequences], bins=50)\n",
        "\n",
        "print('가장 긴 문장 길이 : {}'.format(max([len(s) for s in train_sequences])))\n",
        "print('평균 문장 길이 : {}'.format(sum([len(s) for s in train_sequences])/len(train_sequences)))"
      ]
    },
    {
      "cell_type": "markdown",
      "metadata": {
        "id": "Q0rE6YxvD0Z3"
      },
      "source": [
        "### Padding\n",
        "- 전체 sequence 를 동일한 길이로 통일"
      ]
    },
    {
      "cell_type": "code",
      "execution_count": 9,
      "metadata": {
        "colab": {
          "base_uri": "https://localhost:8080/"
        },
        "id": "HNy76J6ED0Z3",
        "outputId": "70e8dbce-de00-4e93-c927-0c9e1cd1117f"
      },
      "outputs": [
        {
          "output_type": "stream",
          "name": "stdout",
          "text": [
            "(20000, 300)\n",
            "(5000, 300)\n",
            "[  12  121    7  855    2 1105    1   88 3869 6398 2467  206  109    9\n",
            " 2815 8296  195  159  410 1109    2  484  108 1803  135   11  387  238\n",
            "  419    6 4165   33 2028  556  217 1477   40   57 6952    2  642   24\n",
            "  841 3613   11  941    2    1  160   65   13  588 3206  220   21   13\n",
            "  289   57  161    2   80   58   43   22   57 1021    3  577  101  809\n",
            "    5 5137 2205   40 2916    3 7544   43   41 1032 1532    6  166   31\n",
            "  135  356  719  263 2730    5 1611  671   34  129 2694  723 1916   11\n",
            "  188  757  147    2  121   84    9    4   95    2  497  402    7   41\n",
            " 2667 4456    9  187   41 1032 9570    8    8   11   41  188  757   13\n",
            "   12    7  385   36   74    1  135   11  387   13 4413   68   27    4\n",
            "  114 9114    3   11 1563   27  385   59 1880   54   21   10  588  142\n",
            "   11   64  706    2  152 2396  733  142    1 7676    2    1  544  232\n",
            "   19   12  602   11  480   43   41    1  526  150    8    8  329  274\n",
            "   11 4645   23   90  445  127   58   21   12  121   11  264   13  362\n",
            "   50 2396   24  508    6   27  513   32    2  193  356   97    3   12\n",
            "  153  598   10    0    0    0    0    0    0    0    0    0    0    0\n",
            "    0    0    0    0    0    0    0    0    0    0    0    0    0    0\n",
            "    0    0    0    0    0    0    0    0    0    0    0    0    0    0\n",
            "    0    0    0    0    0    0    0    0    0    0    0    0    0    0\n",
            "    0    0    0    0    0    0    0    0    0    0    0    0    0    0\n",
            "    0    0    0    0    0    0    0    0    0    0    0    0    0    0\n",
            "    0    0    0    0    0    0]\n"
          ]
        }
      ],
      "source": [
        "max_length = 300  # 시퀀스의 최대 길이\n",
        "\n",
        "# 훈련 데이터와 테스트 데이터를 패딩하여 시퀀스의 길이를 최대 길이에 맞춤\n",
        "train_padded = pad_sequences(train_sequences, maxlen=max_length,\n",
        "                             truncating='post', padding='post')\n",
        "\n",
        "test_padded = pad_sequences(test_sequences, maxlen=max_length,\n",
        "                            truncating='post', padding='post')\n",
        "\n",
        "print(train_padded.shape)\n",
        "print(test_padded.shape)\n",
        "print(train_padded[0])"
      ]
    },
    {
      "cell_type": "markdown",
      "metadata": {
        "id": "8MWm6kxyL_NJ"
      },
      "source": [
        "- sequence data 를 sentence 로 reverse conversion 하여 sequence 변환이 잘 되었는지 확인"
      ]
    },
    {
      "cell_type": "code",
      "execution_count": 10,
      "metadata": {
        "colab": {
          "base_uri": "https://localhost:8080/"
        },
        "id": "eu6vZgTCxaw2",
        "outputId": "e0fdcce2-6607-4a87-a64d-d721b1ccd71e"
      },
      "outputs": [
        {
          "output_type": "stream",
          "name": "stdout",
          "text": [
            "this show is possibly the biggest <OOV> most generic steam pile i've seen in children's programming that's actually become successful the lead character johnny while i understand he's supposed to represent an ordinary kid isn't likable or even tolerable the jokes are lame overdone i e the <OOV> didn't see that coming gag come on that wasn't even funny the first time it's not even cute and lack any form of primitive wit or inspiration and lastly it's just plain ugly to look at while kids aren't especially critical of artistic talent they still prefer eye candy i can't stand watching the show because in a way the art style is just gross hideous in fact just plain crummy br br i just can't stand that this is getting so much <OOV> while i understand that nostalgia can be a little irrational and i shouldn't be getting my hopes up on it coming back i really miss the old cartoons bring back <OOV> laboratory the <OOV> girls anything but this crap i guess it's just <OOV> thinking though br br simply put i advise you don't waste your time on this show i believe that truly good cartoons are able to be enjoyed by the big kids too and this doesn't cut it <pad> <pad> <pad> <pad> <pad> <pad> <pad> <pad> <pad> <pad> <pad> <pad> <pad> <pad> <pad> <pad> <pad> <pad> <pad> <pad> <pad> <pad> <pad> <pad> <pad> <pad> <pad> <pad> <pad> <pad> <pad> <pad> <pad> <pad> <pad> <pad> <pad> <pad> <pad> <pad> <pad> <pad> <pad> <pad> <pad> <pad> <pad> <pad> <pad> <pad> <pad> <pad> <pad> <pad> <pad> <pad> <pad> <pad> <pad> <pad> <pad> <pad> <pad> <pad> <pad> <pad> <pad> <pad> <pad> <pad> <pad> <pad> <pad> <pad> <pad> <pad> <pad> <pad> <pad> <pad> <pad> <pad> <pad> <pad> <pad> <pad> <pad>\n",
            "\n",
            "This show is possibly the biggest, ugliest, most generic steam pile I've seen in children's programming that's actually become successful. The lead character, Johnny, while I understand he's supposed to represent an ordinary kid, isn't likable or even tolerable. The jokes are lame, overdone (i.e. the \"Whoa! Didn't see that coming\" gag. Come on, that wasn't even funny the first time. It's not even cute) and lack any form of primitive wit or inspiration. And lastly... it's just plain ugly to look at. While kids aren't especially critical of artistic talent, they still prefer eye candy. I can't stand watching the show, because in a way, the art style is just...gross. Hideous, in fact. Just plain crummy. <br /><br />I just can't stand that this is getting so much airtime. While I understand that nostalgia can be a little irrational and I shouldn't be getting my hopes up on it coming back... I really miss the old cartoons. Bring back Dexter's Laboratory, The Powerpuff Girls... anything but this crap. I guess it's just wishful thinking though.<br /><br />Simply put, I advise you don't waste your time on this show. I believe that truly good cartoons are able to be enjoyed by the big kids, too. And this doesn't cut it.\n"
          ]
        }
      ],
      "source": [
        "text = train_padded[0]\n",
        "\n",
        "# 정수 시퀀스를 다시 단어로 변환하여 출력\n",
        "print(' '.join([tokenizer.index_word.get(i, '<pad>') for i in text]))\n",
        "print()\n",
        "\n",
        "# 원본 텍스트 출력\n",
        "print(train_sentences[0])"
      ]
    },
    {
      "cell_type": "markdown",
      "metadata": {
        "id": "f97qGl4SD0Z4"
      },
      "source": [
        "### `TensorDataset`을 이용하여 numpy sequence data 를 tensor dataloader 로 변환"
      ]
    },
    {
      "cell_type": "code",
      "execution_count": 11,
      "metadata": {
        "id": "1_Ml1-ZviFbx"
      },
      "outputs": [],
      "source": [
        "# Tensor 데이터셋 생성\n",
        "train_data = TensorDataset(torch.LongTensor(train_padded), torch.FloatTensor(train_labels))\n",
        "valid_data = TensorDataset(torch.LongTensor(test_padded), torch.FloatTensor(test_labels))\n",
        "\n",
        "# 데이터로더 생성\n",
        "batch_size = 50  # 배치 크기 설정\n",
        "\n",
        "train_loader = DataLoader(train_data, shuffle=True, batch_size=batch_size)\n",
        "valid_loader = DataLoader(valid_data, shuffle=False, batch_size=batch_size)"
      ]
    },
    {
      "cell_type": "code",
      "execution_count": 12,
      "metadata": {
        "colab": {
          "base_uri": "https://localhost:8080/"
        },
        "id": "OCGcncXnD0Z4",
        "outputId": "80a13584-f475-4350-c3bd-f861023a259d"
      },
      "outputs": [
        {
          "output_type": "stream",
          "name": "stdout",
          "text": [
            "Sample input size: torch.Size([50, 300])\n",
            "Sample label size: torch.Size([50])\n"
          ]
        }
      ],
      "source": [
        "# training data의 batch 한 개 출력\n",
        "sample_X, sample_y = next(iter(train_loader))\n",
        "\n",
        "print('Sample input size:', sample_X.size()) # batch_size, seq_length\n",
        "print('Sample label size:', sample_y.size())"
      ]
    },
    {
      "cell_type": "markdown",
      "metadata": {
        "id": "xe--HG3bD0Z5"
      },
      "source": [
        "### Model 생성\n",
        "\n",
        "- 감성 분석 이진 분류 모델\n",
        "\n",
        "<img src=\"https://miro.medium.com/max/875/1*SICYykT7ybua1gVJDNlajw.png\"  width=600 />"
      ]
    },
    {
      "cell_type": "code",
      "execution_count": 13,
      "metadata": {
        "id": "wGSsjdjYD0Z5"
      },
      "outputs": [],
      "source": [
        "class SentimentRNN(nn.Module):\n",
        "    def __init__(self, no_layers, vocab_size, embedding_dim,\n",
        "                         hidden_dim, output_dim, drop_prob=0.3):\n",
        "        super(SentimentRNN, self).__init__()\n",
        "\n",
        "        self.output_dim = output_dim\n",
        "        self.hidden_dim = hidden_dim\n",
        "\n",
        "        self.no_layers = no_layers\n",
        "        self.vocab_size = vocab_size\n",
        "\n",
        "        # 임베딩 레이어: 단어의 인덱스를 고정된 크기의 벡터로 변환합니다.\n",
        "        self.embedding = nn.Embedding(vocab_size, embedding_dim)\n",
        "\n",
        "        # LSTM 레이어: LSTM 네트워크를 정의합니다.\n",
        "        self.lstm = nn.LSTM(input_size=embedding_dim, hidden_size=hidden_dim,\n",
        "                            num_layers=no_layers, batch_first=True)\n",
        "\n",
        "        # 드롭아웃 레이어: 과적합을 방지하기 위해 일부 뉴런을 무작위로 비활성화합니다.\n",
        "        self.dropout = nn.Dropout(drop_prob)\n",
        "\n",
        "        # 완전 연결 레이어: LSTM의 출력을 최종 출력 크기로 변환합니다.\n",
        "        self.fc = nn.Linear(hidden_dim, output_dim)\n",
        "\n",
        "        # 시그모이드 활성화 함수: 이진 분류 문제를 위한 활성화 함수입니다.\n",
        "        self.sig = nn.Sigmoid()\n",
        "\n",
        "    def forward(self, x, hidden):\n",
        "        batch_size = x.size(0)\n",
        "\n",
        "        # 입력 데이터를 임베딩하여 변환합니다.\n",
        "        embeds = self.embedding(x)\n",
        "\n",
        "        # LSTM 레이어에 임베딩된 데이터를 전달하여 순방향 전파를 수행합니다.\n",
        "        lstm_out, hidden = self.lstm(embeds, hidden)\n",
        "\n",
        "        # 드롭아웃을 적용합니다.\n",
        "        out = self.dropout(lstm_out)\n",
        "\n",
        "        # 완전 연결 레이어를 통해 출력을 생성합니다.\n",
        "        out = self.fc(out)\n",
        "\n",
        "        # 시그모이드 활성화 함수를 통해 확률 값을 생성합니다.\n",
        "        sig_out = self.sig(out)\n",
        "\n",
        "        # many-to-one 아키텍처에서 마지막 스텝의 출력과 hidden 상태를 반환합니다.\n",
        "        return sig_out[:, -1], hidden\n",
        "\n",
        "    def init_hidden(self, batch_size):\n",
        "        ''' 은닉 상태 초기화 '''\n",
        "        # 은닉 상태와 셀 상태를 0으로 초기화합니다.\n",
        "        h0 = torch.zeros((self.no_layers, batch_size, self.hidden_dim)).to(device)\n",
        "        c0 = torch.zeros((self.no_layers, batch_size, self.hidden_dim)).to(device)\n",
        "        return (h0, c0)"
      ]
    },
    {
      "cell_type": "code",
      "execution_count": 14,
      "metadata": {
        "colab": {
          "base_uri": "https://localhost:8080/"
        },
        "id": "oBmCW0xVD0Z5",
        "outputId": "b117375b-455f-4e09-e328-e3009f7b361a"
      },
      "outputs": [
        {
          "output_type": "execute_result",
          "data": {
            "text/plain": [
              "SentimentRNN(\n",
              "  (embedding): Embedding(10001, 64)\n",
              "  (lstm): LSTM(64, 256, batch_first=True)\n",
              "  (dropout): Dropout(p=0.3, inplace=False)\n",
              "  (fc): Linear(in_features=256, out_features=1, bias=True)\n",
              "  (sig): Sigmoid()\n",
              ")"
            ]
          },
          "metadata": {},
          "execution_count": 14
        }
      ],
      "source": [
        "no_layers = 1             # LSTM 레이어의 수\n",
        "vocab_size = vocab_size + 1    # 패딩을 위한 단어 하나 추가\n",
        "embedding_dim = 64     # 임베딩 차원\n",
        "output_dim = 1              # 출력 차원\n",
        "hidden_dim = 256         # LSTM 은닉 상태의 차원\n",
        "\n",
        "# SentimentRNN 모델 인스턴스 생성\n",
        "model = SentimentRNN(no_layers, vocab_size, embedding_dim,\n",
        "                     hidden_dim, output_dim, drop_prob=0.3)\n",
        "\n",
        "# 모델을 지정한 장치로 이동\n",
        "model.to(device)"
      ]
    },
    {
      "cell_type": "markdown",
      "metadata": {
        "id": "zl05hs2PD0Z5"
      },
      "source": [
        "### Training"
      ]
    },
    {
      "cell_type": "code",
      "execution_count": 15,
      "metadata": {
        "id": "tYVVaF6BD0Z6"
      },
      "outputs": [],
      "source": [
        "lr = 0.001  # 학습률 설정\n",
        "\n",
        "criterion = nn.BCELoss()\n",
        "optimizer = torch.optim.Adam(model.parameters(), lr=lr)\n",
        "\n",
        "# 정확도 계산을 위한 보조 함수\n",
        "def acc(pred, label):\n",
        "    # 예측값을 반올림하여 이진 분류 결과로 변환\n",
        "    pred = torch.round(pred.squeeze())\n",
        "    # 정확하게 예측된 개수 반환\n",
        "    return torch.sum(pred == label.squeeze()).item()"
      ]
    },
    {
      "cell_type": "code",
      "execution_count": 16,
      "metadata": {
        "colab": {
          "base_uri": "https://localhost:8080/"
        },
        "id": "DC0T94WoD0Z6",
        "outputId": "c7d2da16-a5d2-4f41-a53a-a641ed6f4625"
      },
      "outputs": [
        {
          "output_type": "stream",
          "name": "stdout",
          "text": [
            "epoch 0 ==> train loss: 0.01390,  validation loss: 0.01385 train acc: 0.50015, validation acc: 0.49860\n",
            "model saved.............\n",
            "epoch 1 ==> train loss: 0.01383,  validation loss: 0.01387 train acc: 0.51300, validation acc: 0.50600\n",
            "epoch 2 ==> train loss: 0.01375,  validation loss: 0.01389 train acc: 0.51995, validation acc: 0.51960\n",
            "epoch 3 ==> train loss: 0.01342,  validation loss: 0.01409 train acc: 0.54070, validation acc: 0.51040\n",
            "epoch 4 ==> train loss: 0.01287,  validation loss: 0.01442 train acc: 0.56095, validation acc: 0.50680\n",
            "epoch 5 ==> train loss: 0.01209,  validation loss: 0.01547 train acc: 0.59020, validation acc: 0.50340\n",
            "epoch 6 ==> train loss: 0.01130,  validation loss: 0.01668 train acc: 0.60820, validation acc: 0.52560\n",
            "epoch 7 ==> train loss: 0.01035,  validation loss: 0.01517 train acc: 0.69425, validation acc: 0.66060\n",
            "epoch 8 ==> train loss: 0.00839,  validation loss: 0.01412 train acc: 0.81575, validation acc: 0.71840\n",
            "epoch 9 ==> train loss: 0.00619,  validation loss: 0.01284 train acc: 0.87535, validation acc: 0.76760\n",
            "model saved.............\n",
            "1.338047711054484\n"
          ]
        }
      ],
      "source": [
        "import time\n",
        "s = time.time()\n",
        "clip = 5          # 그래디언트 클리핑 임계값\n",
        "epochs = 10  # 에폭 수\n",
        "valid_loss_min = np.inf         # 최소 검증 손실 초기화\n",
        "\n",
        "LOSS, VAL_LOSS, ACC, VAL_ACC = [], [], [], []\n",
        "\n",
        "# 각 에폭마다 훈련 및 검증을 수행\n",
        "for epoch in range(epochs):\n",
        "    model.train()      # 모델을 훈련 모드로 설정\n",
        "\n",
        "    train_loss = 0  # 훈련 손실 초기화\n",
        "    train_acc = 0   # 훈련 정확도 초기화\n",
        "    for inputs, labels in train_loader:\n",
        "        optimizer.zero_grad()  # 그래디언트 초기화\n",
        "\n",
        "        inputs, labels = inputs.to(device), labels.to(device)\n",
        "\n",
        "        # 은닉 상태 초기화\n",
        "        h = model.init_hidden(batch_size)\n",
        "\n",
        "        # 순방향 전파\n",
        "        output, hidden = model(inputs, h)\n",
        "\n",
        "        # 손실 계산\n",
        "        loss = criterion(output.squeeze(), labels)\n",
        "\n",
        "        train_loss += loss.item()             # 훈련 손실 누적\n",
        "        accuracy = acc(output, labels)    # 정확도 계산\n",
        "        train_acc += accuracy                # 훈련 정확도 누적\n",
        "\n",
        "        loss.backward()  # 역전파 수행\n",
        "        # 순환 신경망을 학습할 때는 기울기 클리핑을 적용하는 것이 좋습니다.\n",
        "        nn.utils.clip_grad_norm_(model.parameters(), clip)\n",
        "        optimizer.step()  # 매개변수 업데이트\n",
        "\n",
        "    # 평균 손실 및 정확도 계산\n",
        "    train_loss = train_loss / len(train_data)\n",
        "    train_acc = train_acc / len(train_data)\n",
        "    LOSS.append(train_loss)\n",
        "    ACC.append(train_acc)\n",
        "\n",
        "    # 검증 모드로 전환\n",
        "    model.eval()\n",
        "\n",
        "    val_loss = 0  # 검증 손실 초기화\n",
        "    val_acc = 0   # 검증 정확도 초기화\n",
        "    for inputs, labels in valid_loader:\n",
        "\n",
        "            inputs, labels = inputs.to(device), labels.to(device)\n",
        "\n",
        "            # 은닉 상태 초기화\n",
        "            h = model.init_hidden(batch_size)\n",
        "            # 순방향 전파\n",
        "            output, hidden = model(inputs, h)\n",
        "            # 손실 계산\n",
        "            loss = criterion(output.squeeze(), labels)\n",
        "\n",
        "            val_loss +=  loss.item()             # 검증 손실 누적\n",
        "            accuracy = acc(output, labels)  # 정확도 계산\n",
        "            val_acc += accuracy                 # 검증 정확도 누적\n",
        "\n",
        "    # 평균 검증 손실 및 정확도 계산\n",
        "    val_loss = val_loss / len(valid_data)\n",
        "    val_acc = val_acc / len(valid_data)\n",
        "    VAL_LOSS.append(val_loss)\n",
        "    VAL_ACC.append(val_acc)\n",
        "\n",
        "    # 에폭 결과 출력\n",
        "    print(f'epoch {epoch} ==> train loss: {train_loss:.5f},  validation loss: {val_loss:.5f}',\n",
        "                                            f'train acc: {train_acc:.5f}, validation acc: {val_acc:.5f}')\n",
        "\n",
        "    # 검증 손실이 최소값을 갱신했을 때 모델 저장\n",
        "    if val_loss <= valid_loss_min:\n",
        "        torch.save(model.state_dict(), 'state_dict.pt')\n",
        "        print('model saved.............')\n",
        "        valid_loss_min = val_loss\n",
        "\n",
        "# 걸린 시간 출력\n",
        "print((time.time() - s)/60)"
      ]
    },
    {
      "cell_type": "code",
      "execution_count": 17,
      "metadata": {
        "colab": {
          "base_uri": "https://localhost:8080/",
          "height": 336
        },
        "id": "rCP_D_4mD0Z6",
        "outputId": "9b1dd0a1-b586-4107-f104-ed732e87aa77"
      },
      "outputs": [
        {
          "output_type": "display_data",
          "data": {
            "text/plain": [
              "<Figure size 2000x600 with 2 Axes>"
            ],
            "image/png": "[encoded data removed]"
          },
          "metadata": {}
        }
      ],
      "source": [
        "fig = plt.figure(figsize = (20, 6))\n",
        "plt.subplot(1, 2, 1)\n",
        "plt.plot(ACC, label='Train')\n",
        "plt.plot(VAL_ACC, label='Validation')\n",
        "plt.title(\"Accuracy\")\n",
        "plt.legend()\n",
        "plt.grid()\n",
        "\n",
        "plt.subplot(1, 2, 2)\n",
        "plt.plot(LOSS, label='Train')\n",
        "plt.plot(VAL_LOSS, label='Validation')\n",
        "plt.title(\"Loss\")\n",
        "plt.legend()\n",
        "plt.grid()\n",
        "\n",
        "plt.show()"
      ]
    },
    {
      "cell_type": "markdown",
      "metadata": {
        "id": "8pt33zRXD0Z6"
      },
      "source": [
        "### Inferance"
      ]
    },
    {
      "cell_type": "code",
      "execution_count": 18,
      "metadata": {
        "id": "9TRGIjX2Womp"
      },
      "outputs": [],
      "source": [
        "def predict_text(text):\n",
        "    # 입력 텍스트를 정수 시퀀스로 변환하고 패딩\n",
        "    sequences = tokenizer.texts_to_sequences([text])\n",
        "    padded = pad_sequences(sequences, maxlen=max_length,\n",
        "                            truncating='post', padding='post')\n",
        "    # 텐서로 변환하고 지정한 장치로 이동\n",
        "    inputs = torch.tensor(padded).to(device)\n",
        "    # 초기 은닉 상태 생성\n",
        "    h = model.init_hidden(1)\n",
        "    # 모델에 입력을 전달하여 예측 수행\n",
        "    output, hidden = model(inputs, h)\n",
        "    # 이진 분류 결과를 반환\n",
        "    return output.item()"
      ]
    },
    {
      "cell_type": "code",
      "execution_count": 19,
      "metadata": {
        "colab": {
          "base_uri": "https://localhost:8080/",
          "height": 55
        },
        "id": "TCYMultTZm2Q",
        "outputId": "23900d21-18c4-4872-8c1f-0f00d20a7a44"
      },
      "outputs": [
        {
          "output_type": "stream",
          "name": "stdout",
          "text": [
            "0.39015471935272217\n"
          ]
        },
        {
          "output_type": "execute_result",
          "data": {
            "text/plain": [
              "'negative'"
            ],
            "application/vnd.google.colaboratory.intrinsic+json": {
              "type": "string"
            }
          },
          "metadata": {},
          "execution_count": 19
        }
      ],
      "source": [
        "text = \"It's a really boring movie. I hate it.\"\n",
        "pred = predict_text(text)\n",
        "print(pred)\n",
        "\"positive\" if pred > 0.5 else \"negative\""
      ]
    },
    {
      "cell_type": "code",
      "execution_count": 20,
      "metadata": {
        "colab": {
          "base_uri": "https://localhost:8080/",
          "height": 55
        },
        "id": "JMY6FV-5ZYEd",
        "outputId": "1c75b6dd-de5a-4c82-fbff-18ecd852d413"
      },
      "outputs": [
        {
          "output_type": "stream",
          "name": "stdout",
          "text": [
            "0.5457702279090881\n"
          ]
        },
        {
          "output_type": "execute_result",
          "data": {
            "text/plain": [
              "'positive'"
            ],
            "application/vnd.google.colaboratory.intrinsic+json": {
              "type": "string"
            }
          },
          "metadata": {},
          "execution_count": 20
        }
      ],
      "source": [
        "text = \"The movei was fantastic. I would recommend the movie.\"\n",
        "pred = predict_text(text)\n",
        "print(pred)\n",
        "\"positive\" if pred > 0.5 else \"negative\""
      ]
    },
    {
      "cell_type": "code",
      "execution_count": 21,
      "metadata": {
        "colab": {
          "base_uri": "https://localhost:8080/",
          "height": 55
        },
        "id": "Vpfbt4_HlJNK",
        "outputId": "e773fdb2-c093-45a5-bfa7-b79a035c8aea"
      },
      "outputs": [
        {
          "output_type": "stream",
          "name": "stdout",
          "text": [
            "0.9161649942398071\n"
          ]
        },
        {
          "output_type": "execute_result",
          "data": {
            "text/plain": [
              "'positive'"
            ],
            "application/vnd.google.colaboratory.intrinsic+json": {
              "type": "string"
            }
          },
          "metadata": {},
          "execution_count": 21
        }
      ],
      "source": [
        "text = \"The animation and graphics were out of this world.\"\n",
        "pred = predict_text(text)\n",
        "print(pred)\n",
        "\"positive\" if pred > 0.5 else \"negative\""
      ]
    },
    {
      "cell_type": "code",
      "execution_count": 21,
      "metadata": {
        "id": "ZAGpG18repLa"
      },
      "outputs": [],
      "source": []
    }
  ],
  "metadata": {
    "accelerator": "GPU",
    "colab": {
      "provenance": []
    },
    "kernelspec": {
      "display_name": "Python 3 (ipykernel)",
      "language": "python",
      "name": "python3"
    },
    "language_info": {
      "codemirror_mode": {
        "name": "ipython",
        "version": 3
      },
      "file_extension": ".py",
      "mimetype": "text/x-python",
      "name": "python",
      "nbconvert_exporter": "python",
      "pygments_lexer": "ipython3",
      "version": "3.9.16"
    }
  },
  "nbformat": 4,
  "nbformat_minor": 0
}