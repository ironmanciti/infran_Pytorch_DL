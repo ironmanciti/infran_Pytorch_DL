{
 "cells": [
  {
   "cell_type": "markdown",
   "id": "9a921b8e",
   "metadata": {
    "id": "9a921b8e"
   },
   "source": [
    "# 125. Malware Detection - binary classification"
   ]
  },
  {
   "cell_type": "code",
   "execution_count": 1,
   "id": "61a8fe87",
   "metadata": {
    "colab": {
     "base_uri": "https://localhost:8080/"
    },
    "id": "61a8fe87",
    "outputId": "591eaee6-01ab-4809-89ed-f847ecd8bae0"
   },
   "outputs": [
    {
     "data": {
      "text/plain": [
       "device(type='cpu')"
      ]
     },
     "execution_count": 1,
     "metadata": {},
     "output_type": "execute_result"
    }
   ],
   "source": [
    "import pandas as pd\n",
    "import numpy as np\n",
    "from sklearn.model_selection import train_test_split\n",
    "from sklearn.preprocessing import StandardScaler\n",
    "import matplotlib.pyplot as plt\n",
    "\n",
    "import torch.nn as nn\n",
    "import torch\n",
    "import torch.optim as optim\n",
    "from torch.utils.data import Dataset, DataLoader\n",
    "\n",
    "device = torch.device(\"cuda:0\" if torch.cuda.is_available() else \"cpu\")\n",
    "device"
   ]
  },
  {
   "cell_type": "code",
   "execution_count": 2,
   "id": "e3938f3f",
   "metadata": {
    "colab": {
     "base_uri": "https://localhost:8080/",
     "height": 255
    },
    "id": "e3938f3f",
    "outputId": "3e9cf61c-003b-43cd-9d98-7e32c4270e86"
   },
   "outputs": [
    {
     "data": {
      "text/html": [
       "<div>\n",
       "<style scoped>\n",
       "    .dataframe tbody tr th:only-of-type {\n",
       "        vertical-align: middle;\n",
       "    }\n",
       "\n",
       "    .dataframe tbody tr th {\n",
       "        vertical-align: top;\n",
       "    }\n",
       "\n",
       "    .dataframe thead th {\n",
       "        text-align: right;\n",
       "    }\n",
       "</style>\n",
       "<table border=\"1\" class=\"dataframe\">\n",
       "  <thead>\n",
       "    <tr style=\"text-align: right;\">\n",
       "      <th></th>\n",
       "      <th>Name</th>\n",
       "      <th>md5</th>\n",
       "      <th>Machine</th>\n",
       "      <th>SizeOfOptionalHeader</th>\n",
       "      <th>Characteristics</th>\n",
       "      <th>MajorLinkerVersion</th>\n",
       "      <th>MinorLinkerVersion</th>\n",
       "      <th>SizeOfCode</th>\n",
       "      <th>SizeOfInitializedData</th>\n",
       "      <th>SizeOfUninitializedData</th>\n",
       "      <th>...</th>\n",
       "      <th>ResourcesNb</th>\n",
       "      <th>ResourcesMeanEntropy</th>\n",
       "      <th>ResourcesMinEntropy</th>\n",
       "      <th>ResourcesMaxEntropy</th>\n",
       "      <th>ResourcesMeanSize</th>\n",
       "      <th>ResourcesMinSize</th>\n",
       "      <th>ResourcesMaxSize</th>\n",
       "      <th>LoadConfigurationSize</th>\n",
       "      <th>VersionInformationSize</th>\n",
       "      <th>legitimate</th>\n",
       "    </tr>\n",
       "  </thead>\n",
       "  <tbody>\n",
       "    <tr>\n",
       "      <th>65416</th>\n",
       "      <td>VirusShare_3ede9b62781398a2e39a0f6af9356a54</td>\n",
       "      <td>3ede9b62781398a2e39a0f6af9356a54</td>\n",
       "      <td>332</td>\n",
       "      <td>224</td>\n",
       "      <td>258</td>\n",
       "      <td>10</td>\n",
       "      <td>0</td>\n",
       "      <td>117760</td>\n",
       "      <td>392192</td>\n",
       "      <td>0</td>\n",
       "      <td>...</td>\n",
       "      <td>5</td>\n",
       "      <td>3.425849</td>\n",
       "      <td>2.458492</td>\n",
       "      <td>4.035538</td>\n",
       "      <td>3146.400000</td>\n",
       "      <td>48</td>\n",
       "      <td>9640</td>\n",
       "      <td>72</td>\n",
       "      <td>15</td>\n",
       "      <td>0</td>\n",
       "    </tr>\n",
       "    <tr>\n",
       "      <th>23220</th>\n",
       "      <td>fxsocm.dll</td>\n",
       "      <td>9a0959a682d8eba06d0bd181c49ee2a8</td>\n",
       "      <td>332</td>\n",
       "      <td>224</td>\n",
       "      <td>8462</td>\n",
       "      <td>7</td>\n",
       "      <td>10</td>\n",
       "      <td>112640</td>\n",
       "      <td>29696</td>\n",
       "      <td>0</td>\n",
       "      <td>...</td>\n",
       "      <td>8</td>\n",
       "      <td>3.911994</td>\n",
       "      <td>2.669737</td>\n",
       "      <td>5.335373</td>\n",
       "      <td>1222.750000</td>\n",
       "      <td>164</td>\n",
       "      <td>4889</td>\n",
       "      <td>72</td>\n",
       "      <td>16</td>\n",
       "      <td>1</td>\n",
       "    </tr>\n",
       "    <tr>\n",
       "      <th>118017</th>\n",
       "      <td>VirusShare_abe7101746242c922a539ba461db4e38</td>\n",
       "      <td>abe7101746242c922a539ba461db4e38</td>\n",
       "      <td>332</td>\n",
       "      <td>224</td>\n",
       "      <td>258</td>\n",
       "      <td>10</td>\n",
       "      <td>0</td>\n",
       "      <td>119808</td>\n",
       "      <td>385024</td>\n",
       "      <td>0</td>\n",
       "      <td>...</td>\n",
       "      <td>6</td>\n",
       "      <td>3.776760</td>\n",
       "      <td>2.458492</td>\n",
       "      <td>5.317552</td>\n",
       "      <td>2740.166667</td>\n",
       "      <td>48</td>\n",
       "      <td>9640</td>\n",
       "      <td>72</td>\n",
       "      <td>15</td>\n",
       "      <td>0</td>\n",
       "    </tr>\n",
       "    <tr>\n",
       "      <th>69842</th>\n",
       "      <td>VirusShare_64a1247fc96d5bc2994ef89ca09adee8</td>\n",
       "      <td>64a1247fc96d5bc2994ef89ca09adee8</td>\n",
       "      <td>332</td>\n",
       "      <td>224</td>\n",
       "      <td>258</td>\n",
       "      <td>10</td>\n",
       "      <td>0</td>\n",
       "      <td>120320</td>\n",
       "      <td>385024</td>\n",
       "      <td>0</td>\n",
       "      <td>...</td>\n",
       "      <td>6</td>\n",
       "      <td>3.756068</td>\n",
       "      <td>2.458492</td>\n",
       "      <td>5.317552</td>\n",
       "      <td>2739.500000</td>\n",
       "      <td>48</td>\n",
       "      <td>9640</td>\n",
       "      <td>72</td>\n",
       "      <td>15</td>\n",
       "      <td>0</td>\n",
       "    </tr>\n",
       "    <tr>\n",
       "      <th>22165</th>\n",
       "      <td>asferror.dll</td>\n",
       "      <td>ebc23440aa9cc4f08241d35147c1d5b5</td>\n",
       "      <td>332</td>\n",
       "      <td>224</td>\n",
       "      <td>8462</td>\n",
       "      <td>7</td>\n",
       "      <td>10</td>\n",
       "      <td>0</td>\n",
       "      <td>7168</td>\n",
       "      <td>0</td>\n",
       "      <td>...</td>\n",
       "      <td>2</td>\n",
       "      <td>3.488703</td>\n",
       "      <td>3.471506</td>\n",
       "      <td>3.505901</td>\n",
       "      <td>3050.000000</td>\n",
       "      <td>888</td>\n",
       "      <td>5212</td>\n",
       "      <td>0</td>\n",
       "      <td>16</td>\n",
       "      <td>1</td>\n",
       "    </tr>\n",
       "  </tbody>\n",
       "</table>\n",
       "<p>5 rows × 57 columns</p>\n",
       "</div>"
      ],
      "text/plain": [
       "                                               Name  \\\n",
       "65416   VirusShare_3ede9b62781398a2e39a0f6af9356a54   \n",
       "23220                                    fxsocm.dll   \n",
       "118017  VirusShare_abe7101746242c922a539ba461db4e38   \n",
       "69842   VirusShare_64a1247fc96d5bc2994ef89ca09adee8   \n",
       "22165                                  asferror.dll   \n",
       "\n",
       "                                     md5  Machine  SizeOfOptionalHeader  \\\n",
       "65416   3ede9b62781398a2e39a0f6af9356a54      332                   224   \n",
       "23220   9a0959a682d8eba06d0bd181c49ee2a8      332                   224   \n",
       "118017  abe7101746242c922a539ba461db4e38      332                   224   \n",
       "69842   64a1247fc96d5bc2994ef89ca09adee8      332                   224   \n",
       "22165   ebc23440aa9cc4f08241d35147c1d5b5      332                   224   \n",
       "\n",
       "        Characteristics  MajorLinkerVersion  MinorLinkerVersion  SizeOfCode  \\\n",
       "65416               258                  10                   0      117760   \n",
       "23220              8462                   7                  10      112640   \n",
       "118017              258                  10                   0      119808   \n",
       "69842               258                  10                   0      120320   \n",
       "22165              8462                   7                  10           0   \n",
       "\n",
       "        SizeOfInitializedData  SizeOfUninitializedData  ...  ResourcesNb  \\\n",
       "65416                  392192                        0  ...            5   \n",
       "23220                   29696                        0  ...            8   \n",
       "118017                 385024                        0  ...            6   \n",
       "69842                  385024                        0  ...            6   \n",
       "22165                    7168                        0  ...            2   \n",
       "\n",
       "        ResourcesMeanEntropy  ResourcesMinEntropy  ResourcesMaxEntropy  \\\n",
       "65416               3.425849             2.458492             4.035538   \n",
       "23220               3.911994             2.669737             5.335373   \n",
       "118017              3.776760             2.458492             5.317552   \n",
       "69842               3.756068             2.458492             5.317552   \n",
       "22165               3.488703             3.471506             3.505901   \n",
       "\n",
       "        ResourcesMeanSize  ResourcesMinSize  ResourcesMaxSize  \\\n",
       "65416         3146.400000                48              9640   \n",
       "23220         1222.750000               164              4889   \n",
       "118017        2740.166667                48              9640   \n",
       "69842         2739.500000                48              9640   \n",
       "22165         3050.000000               888              5212   \n",
       "\n",
       "        LoadConfigurationSize  VersionInformationSize  legitimate  \n",
       "65416                      72                      15           0  \n",
       "23220                      72                      16           1  \n",
       "118017                     72                      15           0  \n",
       "69842                      72                      15           0  \n",
       "22165                       0                      16           1  \n",
       "\n",
       "[5 rows x 57 columns]"
      ]
     },
     "execution_count": 2,
     "metadata": {},
     "output_type": "execute_result"
    }
   ],
   "source": [
    "df = pd.read_csv('sample_data/malware.csv', index_col=0)\n",
    "df.head()"
   ]
  },
  {
   "cell_type": "code",
   "execution_count": 3,
   "id": "ddcd3f55",
   "metadata": {
    "colab": {
     "base_uri": "https://localhost:8080/"
    },
    "id": "ddcd3f55",
    "outputId": "e9be468a-2387-46f3-c69f-47291427397d"
   },
   "outputs": [
    {
     "data": {
      "text/plain": [
       "(10000, 57)"
      ]
     },
     "execution_count": 3,
     "metadata": {},
     "output_type": "execute_result"
    }
   ],
   "source": [
    "df.shape"
   ]
  },
  {
   "cell_type": "code",
   "execution_count": 4,
   "id": "51deb212",
   "metadata": {
    "colab": {
     "base_uri": "https://localhost:8080/"
    },
    "id": "51deb212",
    "outputId": "698fad30-1a0a-4214-f784-509ff574e7fe"
   },
   "outputs": [
    {
     "data": {
      "text/plain": [
       "legitimate\n",
       "0    7071\n",
       "1    2929\n",
       "Name: count, dtype: int64"
      ]
     },
     "execution_count": 4,
     "metadata": {},
     "output_type": "execute_result"
    }
   ],
   "source": [
    "df['legitimate'].value_counts()"
   ]
  },
  {
   "cell_type": "code",
   "execution_count": 5,
   "id": "b5a427c1",
   "metadata": {
    "colab": {
     "base_uri": "https://localhost:8080/"
    },
    "id": "b5a427c1",
    "outputId": "4af97f1e-b19b-48dc-a709-2c249eb847c5"
   },
   "outputs": [
    {
     "data": {
      "text/plain": [
       "Index(['Name', 'md5', 'Machine', 'SizeOfOptionalHeader', 'Characteristics',\n",
       "       'MajorLinkerVersion', 'MinorLinkerVersion', 'SizeOfCode',\n",
       "       'SizeOfInitializedData', 'SizeOfUninitializedData',\n",
       "       'AddressOfEntryPoint', 'BaseOfCode', 'BaseOfData', 'ImageBase',\n",
       "       'SectionAlignment', 'FileAlignment', 'MajorOperatingSystemVersion',\n",
       "       'MinorOperatingSystemVersion', 'MajorImageVersion', 'MinorImageVersion',\n",
       "       'MajorSubsystemVersion', 'MinorSubsystemVersion', 'SizeOfImage',\n",
       "       'SizeOfHeaders', 'CheckSum', 'Subsystem', 'DllCharacteristics',\n",
       "       'SizeOfStackReserve', 'SizeOfStackCommit', 'SizeOfHeapReserve',\n",
       "       'SizeOfHeapCommit', 'LoaderFlags', 'NumberOfRvaAndSizes', 'SectionsNb',\n",
       "       'SectionsMeanEntropy', 'SectionsMinEntropy', 'SectionsMaxEntropy',\n",
       "       'SectionsMeanRawsize', 'SectionsMinRawsize', 'SectionMaxRawsize',\n",
       "       'SectionsMeanVirtualsize', 'SectionsMinVirtualsize',\n",
       "       'SectionMaxVirtualsize', 'ImportsNbDLL', 'ImportsNb',\n",
       "       'ImportsNbOrdinal', 'ExportNb', 'ResourcesNb', 'ResourcesMeanEntropy',\n",
       "       'ResourcesMinEntropy', 'ResourcesMaxEntropy', 'ResourcesMeanSize',\n",
       "       'ResourcesMinSize', 'ResourcesMaxSize', 'LoadConfigurationSize',\n",
       "       'VersionInformationSize', 'legitimate'],\n",
       "      dtype='object')"
      ]
     },
     "execution_count": 5,
     "metadata": {},
     "output_type": "execute_result"
    }
   ],
   "source": [
    "df.columns"
   ]
  },
  {
   "cell_type": "markdown",
   "id": "5e7dd662",
   "metadata": {
    "id": "5e7dd662"
   },
   "source": [
    "- Name : 제외\n",
    "- md5 : hash value 제외"
   ]
  },
  {
   "cell_type": "code",
   "execution_count": 6,
   "id": "cf535fde",
   "metadata": {
    "colab": {
     "base_uri": "https://localhost:8080/"
    },
    "id": "cf535fde",
    "outputId": "6fc2c4d4-db3a-440e-efa9-c94af947db9c"
   },
   "outputs": [
    {
     "data": {
      "text/plain": [
       "(10000, 55)"
      ]
     },
     "execution_count": 6,
     "metadata": {},
     "output_type": "execute_result"
    }
   ],
   "source": [
    "df = df.iloc[:, 2:]\n",
    "\n",
    "df.shape"
   ]
  },
  {
   "cell_type": "code",
   "execution_count": 7,
   "id": "62b5258d",
   "metadata": {
    "id": "62b5258d"
   },
   "outputs": [],
   "source": [
    "y = df.pop('legitimate').values\n",
    "X = df.values"
   ]
  },
  {
   "cell_type": "markdown",
   "id": "ab6faa3f",
   "metadata": {
    "id": "ab6faa3f"
   },
   "source": [
    "- Train, Test split"
   ]
  },
  {
   "cell_type": "code",
   "execution_count": 8,
   "id": "aa731d35",
   "metadata": {
    "colab": {
     "base_uri": "https://localhost:8080/"
    },
    "id": "aa731d35",
    "outputId": "aed3f811-8426-4d9c-8f8a-72d93fbfa348"
   },
   "outputs": [
    {
     "data": {
      "text/plain": [
       "((8000, 54), (2000, 54), (8000,), (2000,))"
      ]
     },
     "execution_count": 8,
     "metadata": {},
     "output_type": "execute_result"
    }
   ],
   "source": [
    "X_train, X_test, y_train, y_test = train_test_split(X, y, test_size=0.2, random_state=0)\n",
    "\n",
    "X_train.shape, X_test.shape, y_train.shape, y_test.shape"
   ]
  },
  {
   "cell_type": "code",
   "execution_count": 9,
   "id": "fee21d08",
   "metadata": {
    "id": "fee21d08"
   },
   "outputs": [],
   "source": [
    "sc = StandardScaler()\n",
    "X_train = sc.fit_transform(X_train)\n",
    "X_test  = sc.transform(X_test)"
   ]
  },
  {
   "cell_type": "code",
   "execution_count": 11,
   "id": "55e37b1d",
   "metadata": {
    "id": "55e37b1d"
   },
   "outputs": [],
   "source": [
    "# PyTorch의 FloatTensor로 변환\n",
    "X_train_ts = torch.FloatTensor(X_train)\n",
    "X_test_ts = torch.FloatTensor(X_test)\n",
    "\n",
    "# 모델의 출력과 타겟 데이터의 형식을 일치시키기 위해 [N, 1] 형태의 열 벡터로 재구성\n",
    "y_train_ts = torch.FloatTensor(y_train).view(-1, 1)\n",
    "y_test_ts = torch.FloatTensor(y_test).view(-1, 1)"
   ]
  },
  {
   "cell_type": "markdown",
   "id": "37971f5f",
   "metadata": {
    "id": "37971f5f"
   },
   "source": [
    "## ``nn.Module``을 이용한 사용자 정의 Logistic Regression model 정의"
   ]
  },
  {
   "cell_type": "code",
   "execution_count": 12,
   "id": "e56a56e9",
   "metadata": {
    "id": "e56a56e9"
   },
   "outputs": [],
   "source": [
    "# nn.Module을 상속받아 사용자 정의 로지스틱 회귀 모델 클래스를 정의\n",
    "class LogisticReg(nn.Module):\n",
    "    def __init__(self, in_dim):\n",
    "        super(LogisticReg, self).__init__()\n",
    "        # 첫 번째 선형 레이어를 정의합니다. 입력 차원은 in_dim, 출력 차원은 32입니다.\n",
    "        self.linear1 = nn.Linear(in_dim, 32)\n",
    "        # 두 번째 선형 레이어를 정의합니다. 입력 차원은 32, 출력 차원은 1입니다.\n",
    "        self.linear2 = nn.Linear(32, 1)\n",
    "        # ReLU 활성화 함수를 정의합니다.\n",
    "        self.relu = nn.ReLU()\n",
    "        # 시그모이드 활성화 함수를 정의합니다.\n",
    "        self.sigmoid = nn.Sigmoid()\n",
    "\n",
    "    def forward(self, x):\n",
    "        # 첫 번째 선형 레이어를 통과시킨 후, ReLU 활성화 함수를 적용합니다.\n",
    "        x = self.relu(self.linear1(x))\n",
    "        # 그 다음, 두 번째 선형 레이어를 통과시킨 후, 시그모이드 활성화 함수를 적용합니다.\n",
    "        out = self.sigmoid(self.linear2(x))\n",
    "        return out"
   ]
  },
  {
   "cell_type": "code",
   "execution_count": 13,
   "id": "e39828a9",
   "metadata": {
    "colab": {
     "base_uri": "https://localhost:8080/"
    },
    "id": "e39828a9",
    "outputId": "40c77022-e88d-4fcb-d868-d19075787b72"
   },
   "outputs": [
    {
     "name": "stdout",
     "output_type": "stream",
     "text": [
      "LogisticReg(\n",
      "  (linear1): Linear(in_features=54, out_features=32, bias=True)\n",
      "  (linear2): Linear(in_features=32, out_features=1, bias=True)\n",
      "  (relu): ReLU()\n",
      "  (sigmoid): Sigmoid()\n",
      ")\n"
     ]
    }
   ],
   "source": [
    "model = LogisticReg(X_train.shape[1]).to(device)\n",
    "\n",
    "# random 하게 초기화 된 parameter 출력\n",
    "print(model)"
   ]
  },
  {
   "cell_type": "code",
   "execution_count": 14,
   "id": "2bb96021",
   "metadata": {
    "id": "2bb96021"
   },
   "outputs": [],
   "source": [
    "criterion = nn.BCELoss()\n",
    "optimizer = optim.Adam(model.parameters(), lr=0.001)"
   ]
  },
  {
   "cell_type": "markdown",
   "id": "8fb5448b",
   "metadata": {
    "id": "8fb5448b"
   },
   "source": [
    "### dataset loader 생성"
   ]
  },
  {
   "cell_type": "code",
   "execution_count": 15,
   "id": "8dd22b06",
   "metadata": {
    "id": "8dd22b06"
   },
   "outputs": [],
   "source": [
    "# torch.utils.data.TensorDataset을 사용하여 학습 데이터셋을 생성\n",
    "train_ds = torch.utils.data.TensorDataset(X_train_ts, y_train_ts)\n",
    "\n",
    "# 학습 데이터셋을 DataLoader에 전달하여 학습 데이터 로더를 생성\n",
    "train_loader = torch.utils.data.DataLoader(train_ds, batch_size=512, shuffle=True)"
   ]
  },
  {
   "cell_type": "markdown",
   "id": "f414f774",
   "metadata": {
    "id": "f414f774"
   },
   "source": [
    "# 생성한 Neural Network Model Train"
   ]
  },
  {
   "cell_type": "code",
   "execution_count": 16,
   "id": "c53b56ce",
   "metadata": {
    "colab": {
     "base_uri": "https://localhost:8080/"
    },
    "id": "c53b56ce",
    "outputId": "9761622d-bf9f-4c09-fa93-7f804223f7e3",
    "scrolled": true
   },
   "outputs": [
    {
     "name": "stdout",
     "output_type": "stream",
     "text": [
      "epoch 1 loss: 0.5535\n",
      "epoch 2 loss: 0.4416\n",
      "epoch 3 loss: 0.3297\n",
      "epoch 4 loss: 0.2556\n",
      "epoch 5 loss: 0.2193\n",
      "epoch 6 loss: 0.1660\n",
      "epoch 7 loss: 0.1215\n",
      "epoch 8 loss: 0.1077\n",
      "epoch 9 loss: 0.0954\n",
      "epoch 10 loss: 0.0839\n",
      "epoch 11 loss: 0.0865\n",
      "epoch 12 loss: 0.0804\n",
      "epoch 13 loss: 0.0715\n",
      "epoch 14 loss: 0.0574\n",
      "epoch 15 loss: 0.0507\n",
      "epoch 16 loss: 0.0487\n",
      "epoch 17 loss: 0.0451\n",
      "epoch 18 loss: 0.0307\n",
      "epoch 19 loss: 0.0543\n",
      "epoch 20 loss: 0.0621\n",
      "epoch 21 loss: 0.0518\n",
      "epoch 22 loss: 0.0809\n",
      "epoch 23 loss: 0.0659\n",
      "epoch 24 loss: 0.0404\n",
      "epoch 25 loss: 0.0527\n",
      "epoch 26 loss: 0.0482\n",
      "epoch 27 loss: 0.0466\n",
      "epoch 28 loss: 0.0383\n",
      "epoch 29 loss: 0.0455\n",
      "epoch 30 loss: 0.0313\n",
      "epoch 31 loss: 0.0398\n",
      "epoch 32 loss: 0.0345\n",
      "epoch 33 loss: 0.0393\n",
      "epoch 34 loss: 0.0309\n",
      "epoch 35 loss: 0.0292\n",
      "epoch 36 loss: 0.0259\n",
      "epoch 37 loss: 0.0498\n",
      "epoch 38 loss: 0.0378\n",
      "epoch 39 loss: 0.0410\n",
      "epoch 40 loss: 0.0396\n",
      "epoch 41 loss: 0.0388\n",
      "epoch 42 loss: 0.0493\n",
      "epoch 43 loss: 0.0323\n",
      "epoch 44 loss: 0.0574\n",
      "epoch 45 loss: 0.0192\n",
      "epoch 46 loss: 0.0385\n",
      "epoch 47 loss: 0.0392\n",
      "epoch 48 loss: 0.0436\n",
      "epoch 49 loss: 0.0189\n",
      "epoch 50 loss: 0.0334\n"
     ]
    }
   ],
   "source": [
    "# 손실값을 저장할 리스트 초기화\n",
    "Loss = []\n",
    "\n",
    "num_epochs = 50\n",
    "\n",
    "for epoch in range(num_epochs):\n",
    "    for x, y in train_loader:\n",
    "        x, y = x.to(device), y.to(device)\n",
    "        # 모델에 입력 데이터를 전달하여 예측값 계산\n",
    "        yhat = model(x)\n",
    "        # 예측값과 실제 레이블 사이의 손실 계산\n",
    "        loss = criterion(yhat, y)\n",
    "\n",
    "        # 옵티마이저의 기울기 초기화\n",
    "        optimizer.zero_grad()\n",
    "        # 손실에 대한 역전파 수행 및 기울기 계산\n",
    "        loss.backward()\n",
    "        # 계산된 기울기를 사용하여 모델의 파라미터 업데이트\n",
    "        optimizer.step()\n",
    "\n",
    "    # 현재 에포크의 손실값 출력\n",
    "    print(\"epoch {} loss: {:.4f}\".format(epoch + 1, loss.item()))\n",
    "    # 손실값을 Loss 리스트에 추가\n",
    "    Loss.append(loss.item())"
   ]
  },
  {
   "cell_type": "code",
   "execution_count": 17,
   "id": "8a2bd274",
   "metadata": {
    "colab": {
     "base_uri": "https://localhost:8080/",
     "height": 449
    },
    "id": "8a2bd274",
    "outputId": "d6eab8c8-4100-404c-c903-9f2022d6a544"
   },
   "outputs": [
    {
     "data": {
      "text/plain": [
       "[<matplotlib.lines.Line2D at 0x204863e5940>]"
      ]
     },
     "execution_count": 17,
     "metadata": {},
     "output_type": "execute_result"
    },
    {
     "data": {
      "image/png": "[encoded data removed]",
      "text/plain": [
       "<Figure size 640x480 with 1 Axes>"
      ]
     },
     "metadata": {},
     "output_type": "display_data"
    }
   ],
   "source": [
    "plt.plot(Loss)"
   ]
  },
  {
   "cell_type": "code",
   "execution_count": 18,
   "id": "8fd6e26f",
   "metadata": {
    "id": "8fd6e26f"
   },
   "outputs": [
    {
     "data": {
      "text/plain": [
       "array([[ True],\n",
       "       [False],\n",
       "       [False],\n",
       "       ...,\n",
       "       [False],\n",
       "       [False],\n",
       "       [False]])"
      ]
     },
     "execution_count": 18,
     "metadata": {},
     "output_type": "execute_result"
    }
   ],
   "source": [
    "# X_test_ts.to(device)는 테스트 데이터를 현재 설정된 디바이스(CPU 또는 GPU)로 이동\n",
    "# 예측을 수행하고, 결과를 CPU로 다시 이동시킨 후 numpy 배열로 변환\n",
    "# .detach()는 계산 그래프에서 예측값을 분리하여 그래디언트가 필요없는 텐서로 만듭니다.\n",
    "# 텐서를 NumPy 배열로 변환합니다.\n",
    "#  > 0.5 조건을 사용하여 모델의 출력(확률)을 이진 분류 결정(0 또는 1)으로 변환\n",
    "y_pred = model(X_test_ts.to(device)).cpu().detach().numpy() > 0.5\n",
    "y_pred"
   ]
  },
  {
   "cell_type": "code",
   "execution_count": 19,
   "id": "cea8f377",
   "metadata": {
    "colab": {
     "base_uri": "https://localhost:8080/"
    },
    "id": "cea8f377",
    "outputId": "20e60a52-ef95-46f7-e118-a2391ae452c6"
   },
   "outputs": [
    {
     "data": {
      "text/plain": [
       "0.986"
      ]
     },
     "execution_count": 19,
     "metadata": {},
     "output_type": "execute_result"
    }
   ],
   "source": [
    "sum(y_test == y_pred.flatten()) / len(y_test)"
   ]
  },
  {
   "cell_type": "code",
   "execution_count": null,
   "id": "252d02d5",
   "metadata": {
    "id": "252d02d5"
   },
   "outputs": [],
   "source": []
  }
 ],
 "metadata": {
  "accelerator": "GPU",
  "colab": {
   "gpuType": "T4",
   "provenance": []
  },
  "kernelspec": {
   "display_name": "Python 3 (ipykernel)",
   "language": "python",
   "name": "python3"
  },
  "language_info": {
   "codemirror_mode": {
    "name": "ipython",
    "version": 3
   },
   "file_extension": ".py",
   "mimetype": "text/x-python",
   "name": "python",
   "nbconvert_exporter": "python",
   "pygments_lexer": "ipython3",
   "version": "3.9.16"
  }
 },
 "nbformat": 4,
 "nbformat_minor": 5
}
