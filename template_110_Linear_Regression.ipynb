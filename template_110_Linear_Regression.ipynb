{
 "cells": [
  {
   "cell_type": "markdown",
   "metadata": {
    "id": "bcnSYnXlm8tL"
   },
   "source": [
    "# 110. Basic Linear Regression"
   ]
  },
  {
   "cell_type": "markdown",
   "metadata": {
    "id": "1XehuXWim8tN"
   },
   "source": [
    "# 1) Feed Forward 구현\n",
    "\n",
    "- weight와 bias를 알고 있다고 가정하고 Feed Forward 함수를 직접 구현  \n",
    "- 다음의 선형회귀 문제를 pytorch 로 해결  \n",
    "\n",
    "$$b=-1,w=2$$\n",
    "\n",
    "$$\\hat{y}=-1+2x$$"
   ]
  },
  {
   "cell_type": "markdown",
   "metadata": {
    "id": "fq_F6jmym8tO"
   },
   "source": [
    "x = 1 일 때 `y = 2x - 1`이므로 y 는 1"
   ]
  },
  {
   "cell_type": "markdown",
   "metadata": {
    "id": "OdTKIp2Vm8tO"
   },
   "source": [
    "x 가 multiple inputs (array) 인 경우:"
   ]
  },
  {
   "cell_type": "markdown",
   "metadata": {
    "id": "47cOAOIAm8tO"
   },
   "source": [
    "<h1>2) torch.nn 의 Linear 클래스를 이용한 Linear Regression</h1>"
   ]
  },
  {
   "cell_type": "markdown",
   "metadata": {
    "id": "M_Bp_5zhm8tO"
   },
   "source": [
    "<code>state_dict()</code> method 는 각 layer 의 parameter tensor 를 dictionary 로 반환하므로 직접 값을 update 할 수 있다."
   ]
  },
  {
   "cell_type": "markdown",
   "metadata": {
    "id": "CFnpCbibm8tP"
   },
   "source": [
    "<h1>3) 사용자 정의 Module 작성</h1>"
   ]
  },
  {
   "cell_type": "markdown",
   "metadata": {
    "id": "awS6nkgxm8tQ"
   },
   "source": [
    "# Backpropagation 과 경사하강법 적용\n",
    "\n",
    "- weight 와 bias를 스스로 학습\n",
    "- (온도, 강수량, 습도)를 feature 로 입력 받아  (사과, 오렌지)의 수확량(label)을 선형회귀로 예측하는 model 작성"
   ]
  },
  {
   "cell_type": "markdown",
   "metadata": {
    "id": "88BnD_SKm8tQ"
   },
   "source": [
    "## Data"
   ]
  },
  {
   "cell_type": "markdown",
   "metadata": {
    "id": "wEcziR9Nm8tQ"
   },
   "source": [
    "- input 과 target을 tensor로 변환"
   ]
  },
  {
   "cell_type": "markdown",
   "metadata": {
    "id": "75e011Gym8tQ"
   },
   "source": [
    "# 1) torch.nn Linear Class 직접 사용"
   ]
  },
  {
   "cell_type": "markdown",
   "metadata": {
    "id": "-zxLrOosm8tR"
   },
   "source": [
    "# 2) 사용자 정의 model 사용"
   ]
  },
  {
   "cell_type": "markdown",
   "metadata": {
    "id": "yG447KGkm8tR"
   },
   "source": [
    "- Linear Regression 사용자 정의 model"
   ]
  },
  {
   "cell_type": "markdown",
   "metadata": {
    "id": "SOvteHljm8tS"
   },
   "source": [
    "## Train the model"
   ]
  },
  {
   "cell_type": "markdown",
   "metadata": {
    "id": "9dzkQzolm8tT"
   },
   "source": [
    "## Save and Load Model"
   ]
  },
  {
   "cell_type": "markdown",
   "metadata": {
    "id": "ncK8IMIOm8tU"
   },
   "source": [
    "- model reload 및 parameter 복원 확인"
   ]
  }
 ],
 "metadata": {
  "colab": {
   "provenance": []
  },
  "kernelspec": {
   "display_name": "Python 3",
   "language": "python",
   "name": "python3"
  },
  "language_info": {
   "codemirror_mode": {
    "name": "ipython",
    "version": 3
   },
   "file_extension": ".py",
   "mimetype": "text/x-python",
   "name": "python",
   "nbconvert_exporter": "python",
   "pygments_lexer": "ipython3",
   "version": "3.9.7"
  }
 },
 "nbformat": 4,
 "nbformat_minor": 0
}
