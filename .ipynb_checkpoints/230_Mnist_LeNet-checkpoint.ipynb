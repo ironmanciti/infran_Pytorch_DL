{
 "cells": [
  {
   "cell_type": "markdown",
   "metadata": {
    "id": "PoGXBuf9bs5t"
   },
   "source": [
    "# 230. mnist dataset 손글씨 인식 - LeNet\n",
    "\n",
    "- CNN 을 이용한 mnist dataset 손글씨 인식  \n",
    "- Yan LeCunn 이 1998 년 발표한 LeNet-5 을 Pytorch 로 customize 하여 재현"
   ]
  },
  {
   "cell_type": "code",
   "execution_count": 1,
   "metadata": {
    "id": "J3MbeSi7bs5z"
   },
   "outputs": [
    {
     "name": "stderr",
     "output_type": "stream",
     "text": [
      "C:\\Users\\trimu\\Miniconda3\\lib\\site-packages\\torchvision\\io\\image.py:11: UserWarning: Failed to load image Python extension: [WinError 126] 지정된 모듈을 찾을 수 없습니다\n",
      "  warn(f\"Failed to load image Python extension: {e}\")\n"
     ]
    }
   ],
   "source": [
    "import numpy as np\n",
    "import matplotlib.pyplot as plt\n",
    "import torch\n",
    "import torch.nn as nn\n",
    "import torchvision.transforms as transforms\n",
    "import torchvision.datasets as dsets\n",
    "from torch.utils.data.sampler import SubsetRandomSampler"
   ]
  },
  {
   "cell_type": "code",
   "execution_count": 2,
   "metadata": {
    "colab": {
     "base_uri": "https://localhost:8080/"
    },
    "id": "7T1CWY3gbs50",
    "outputId": "77e68a08-19bc-4731-8d75-28168e283eca"
   },
   "outputs": [
    {
     "data": {
      "text/plain": [
       "device(type='cuda', index=0)"
      ]
     },
     "execution_count": 2,
     "metadata": {},
     "output_type": "execute_result"
    }
   ],
   "source": [
    "device = torch.device(\"cuda:0\" if torch.cuda.is_available() else \"cpu\")\n",
    "device"
   ]
  },
  {
   "cell_type": "code",
   "execution_count": 3,
   "metadata": {
    "id": "2Z9j1U4cbs52"
   },
   "outputs": [],
   "source": [
    "composed = transforms.Compose([\n",
    "                    transforms.ToTensor(),\n",
    "                    transforms.Normalize((0.1,), (0.3,))])"
   ]
  },
  {
   "cell_type": "code",
   "execution_count": 4,
   "metadata": {
    "id": "HRXqwIWIbs52"
   },
   "outputs": [],
   "source": [
    "train_data = dsets.MNIST(root='./data', train=True, download=True, transform=composed)\n",
    "\n",
    "test_data = dsets.MNIST(root='./data', train=False, download=True, transform=composed)"
   ]
  },
  {
   "cell_type": "code",
   "execution_count": 5,
   "metadata": {
    "colab": {
     "base_uri": "https://localhost:8080/"
    },
    "id": "cFeHIjoBbs53",
    "outputId": "73c9b7d0-09dc-4aca-d3c0-12e355c79807"
   },
   "outputs": [
    {
     "name": "stdout",
     "output_type": "stream",
     "text": [
      "Dataset MNIST\n",
      "    Number of datapoints: 60000\n",
      "    Root location: ./data\n",
      "    Split: Train\n",
      "    StandardTransform\n",
      "Transform: Compose(\n",
      "               ToTensor()\n",
      "               Normalize(mean=(0.1,), std=(0.3,))\n",
      "           )\n",
      "\n",
      "Dataset MNIST\n",
      "    Number of datapoints: 10000\n",
      "    Root location: ./data\n",
      "    Split: Test\n",
      "    StandardTransform\n",
      "Transform: Compose(\n",
      "               ToTensor()\n",
      "               Normalize(mean=(0.1,), std=(0.3,))\n",
      "           )\n"
     ]
    }
   ],
   "source": [
    "print(train_data)\n",
    "print()\n",
    "print(test_data)"
   ]
  },
  {
   "cell_type": "markdown",
   "metadata": {
    "id": "LVq2yIVrdv9j"
   },
   "source": [
    "- Data 시각화"
   ]
  },
  {
   "cell_type": "code",
   "execution_count": 6,
   "metadata": {
    "colab": {
     "base_uri": "https://localhost:8080/",
     "height": 276
    },
    "id": "EPgy7fmsbs53",
    "outputId": "803c0f0e-ef66-47c6-a9b4-8ff8636b4802"
   },
   "outputs": [
    {
     "data": {
      "image/png": "[encoded data removed]",
      "text/plain": [
       "<Figure size 1800x432 with 20 Axes>"
      ]
     },
     "metadata": {},
     "output_type": "display_data"
    }
   ],
   "source": [
    "plt.figure(figsize=(25, 6))\n",
    "for i, (x, y) in enumerate(test_data):\n",
    "    if i > 19:\n",
    "        break\n",
    "    plt.subplot(2, 10, i+1)\n",
    "    plt.imshow(x.numpy().reshape(28, 28), cmap='gray')  \n",
    "    plt.title(\"Class {}\".format(y))\n",
    "    plt.xticks([])\n",
    "    plt.yticks([])\n",
    "\n",
    "plt.show()"
   ]
  },
  {
   "cell_type": "markdown",
   "metadata": {
    "id": "Va0vYqSXbs55"
   },
   "source": [
    "### Dataset Loader 생성\n",
    "- Train dataset 을 Train 와 Validation 으로 분리"
   ]
  },
  {
   "cell_type": "code",
   "execution_count": 7,
   "metadata": {
    "id": "4mnW1rt2bs55"
   },
   "outputs": [],
   "source": [
    "valid_size = 0.2\n",
    "num_train = len(train_data)\n",
    "indices = list(range(num_train))\n",
    "\n",
    "np.random.shuffle(indices)\n",
    "split = int(np.floor(valid_size*num_train))\n",
    "train_idx, valid_idx = indices[split:], indices[:split]\n",
    "\n",
    "train_sampler = SubsetRandomSampler(train_idx)\n",
    "valid_sampler = SubsetRandomSampler(valid_idx)"
   ]
  },
  {
   "cell_type": "markdown",
   "metadata": {
    "id": "1AFzg8HAd_0_"
   },
   "source": [
    "- train, validation, test dataset 으로 3 분할"
   ]
  },
  {
   "cell_type": "code",
   "execution_count": 8,
   "metadata": {
    "id": "g_OblEmRbs56"
   },
   "outputs": [],
   "source": [
    "batch_size = 128\n",
    "\n",
    "train_loader = torch.utils.data.DataLoader(dataset=train_data, \n",
    "                                           batch_size=batch_size, sampler=train_sampler)\n",
    "valid_loader = torch.utils.data.DataLoader(dataset=train_data, \n",
    "                                           batch_size=batch_size, sampler=valid_sampler)\n",
    "test_loader  = torch.utils.data.DataLoader(dataset=test_data, \n",
    "                                           batch_size=batch_size, shuffle=False)"
   ]
  },
  {
   "cell_type": "markdown",
   "metadata": {
    "id": "mRMQpq7abs57"
   },
   "source": [
    "## Model build\n",
    "\n",
    "<img src=\"https://d2l.ai/_images/lenet.svg\" width=\"800\" />"
   ]
  },
  {
   "cell_type": "code",
   "execution_count": 9,
   "metadata": {
    "id": "eUPlP0Cxbs57"
   },
   "outputs": [],
   "source": [
    "class LeNet(nn.Module):\n",
    "    def __init__(self):\n",
    "        super(LeNet, self).__init__()\n",
    "        self.conv1 = nn.Conv2d(in_channels=1, out_channels=6, kernel_size=5, padding=2)\n",
    "        self.conv2 = nn.Conv2d(in_channels=6, out_channels=16, kernel_size=5)\n",
    "        self.fc1 = nn.Linear(16 * 5 * 5, 120)\n",
    "        self.fc2 = nn.Linear(120, 84)\n",
    "        self.fc3 = nn.Linear(84, 10)\n",
    "        self.maxpool = nn.MaxPool2d(2)  #pool size = 2\n",
    "        self.relu = nn.ReLU()\n",
    "        \n",
    "    def forward(self, x):\n",
    "        x = self.relu(self.conv1(x))\n",
    "        x = self.maxpool(x) \n",
    "        x = self.relu(self.conv2(x))\n",
    "        x = self.maxpool(x)\n",
    "#         print(x.shape)\n",
    "#         return\n",
    "        x = torch.flatten(x, 1)\n",
    "        x = self.relu(self.fc1(x))\n",
    "        x = self.relu(self.fc2(x))\n",
    "        out = self.fc3(x)    \n",
    "        return out"
   ]
  },
  {
   "cell_type": "code",
   "execution_count": 10,
   "metadata": {
    "colab": {
     "base_uri": "https://localhost:8080/"
    },
    "id": "by8yMqORbs58",
    "outputId": "8ad38d8f-5b6c-43c5-e48a-7f58c545e68c"
   },
   "outputs": [
    {
     "data": {
      "text/plain": [
       "LeNet(\n",
       "  (conv1): Conv2d(1, 6, kernel_size=(5, 5), stride=(1, 1), padding=(2, 2))\n",
       "  (conv2): Conv2d(6, 16, kernel_size=(5, 5), stride=(1, 1))\n",
       "  (fc1): Linear(in_features=400, out_features=120, bias=True)\n",
       "  (fc2): Linear(in_features=120, out_features=84, bias=True)\n",
       "  (fc3): Linear(in_features=84, out_features=10, bias=True)\n",
       "  (maxpool): MaxPool2d(kernel_size=2, stride=2, padding=0, dilation=1, ceil_mode=False)\n",
       "  (relu): ReLU()\n",
       ")"
      ]
     },
     "execution_count": 10,
     "metadata": {},
     "output_type": "execute_result"
    }
   ],
   "source": [
    "model = LeNet()\n",
    "model"
   ]
  },
  {
   "cell_type": "code",
   "execution_count": 11,
   "metadata": {},
   "outputs": [
    {
     "data": {
      "text/plain": [
       "torch.Size([128, 1, 28, 28])"
      ]
     },
     "execution_count": 11,
     "metadata": {},
     "output_type": "execute_result"
    }
   ],
   "source": [
    "# next(iter(train_loader))[0].shape"
   ]
  },
  {
   "cell_type": "code",
   "execution_count": 12,
   "metadata": {},
   "outputs": [
    {
     "name": "stdout",
     "output_type": "stream",
     "text": [
      "torch.Size([128, 16, 5, 5])\n"
     ]
    }
   ],
   "source": [
    "# model.forward(next(iter(train_loader))[0])"
   ]
  },
  {
   "cell_type": "markdown",
   "metadata": {
    "id": "EFsqOK7zfGyn"
   },
   "source": [
    "### Model Summary"
   ]
  },
  {
   "cell_type": "code",
   "execution_count": 38,
   "metadata": {
    "colab": {
     "base_uri": "https://localhost:8080/"
    },
    "id": "5HMYZ0Kebs58",
    "outputId": "2199e179-bcb4-49dd-bef4-ff15eb4601b1"
   },
   "outputs": [
    {
     "name": "stdout",
     "output_type": "stream",
     "text": [
      "conv1.weight 150\n",
      "conv1.bias 6\n",
      "conv2.weight 2400\n",
      "conv2.bias 16\n",
      "fc1.weight 48000\n",
      "fc1.bias 120\n",
      "fc2.weight 10080\n",
      "fc2.bias 84\n",
      "fc3.weight 840\n",
      "fc3.bias 10\n",
      "Total parameters : 61706\n"
     ]
    }
   ],
   "source": [
    "for k, v in model.state_dict().items():\n",
    "    print(k, v.numel())\n",
    "\n",
    "print(\"Total parameters :\", sum(p.numel() for p in model.parameters()))"
   ]
  },
  {
   "cell_type": "markdown",
   "metadata": {
    "id": "aObbLMxnbs5-"
   },
   "source": [
    "### Loss Function"
   ]
  },
  {
   "cell_type": "code",
   "execution_count": 39,
   "metadata": {
    "colab": {
     "base_uri": "https://localhost:8080/"
    },
    "id": "0ZWr8-0Sbs5-",
    "outputId": "799118fa-6bac-43b4-c761-5e0565979cff"
   },
   "outputs": [
    {
     "data": {
      "text/plain": [
       "LeNet(\n",
       "  (conv1): Conv2d(1, 6, kernel_size=(5, 5), stride=(1, 1), padding=(2, 2))\n",
       "  (conv2): Conv2d(6, 16, kernel_size=(5, 5), stride=(1, 1))\n",
       "  (fc1): Linear(in_features=400, out_features=120, bias=True)\n",
       "  (fc2): Linear(in_features=120, out_features=84, bias=True)\n",
       "  (fc3): Linear(in_features=84, out_features=10, bias=True)\n",
       "  (maxpool): MaxPool2d(kernel_size=2, stride=2, padding=0, dilation=1, ceil_mode=False)\n",
       "  (relu): ReLU()\n",
       ")"
      ]
     },
     "execution_count": 39,
     "metadata": {},
     "output_type": "execute_result"
    }
   ],
   "source": [
    "criterion = nn.CrossEntropyLoss()\n",
    "\n",
    "model.to(device)"
   ]
  },
  {
   "cell_type": "code",
   "execution_count": 40,
   "metadata": {
    "id": "R201FVwAbs5-"
   },
   "outputs": [],
   "source": [
    "lr = 0.01\n",
    "optimizer = torch.optim.SGD(model.parameters(), lr=lr)"
   ]
  },
  {
   "cell_type": "code",
   "execution_count": 41,
   "metadata": {
    "colab": {
     "base_uri": "https://localhost:8080/"
    },
    "id": "usukfPtfbs5-",
    "outputId": "a1d02967-bf09-4cb2-a7d4-a9dff46f370e"
   },
   "outputs": [
    {
     "name": "stdout",
     "output_type": "stream",
     "text": [
      "epoch 0 ==> train loss: 1.80522,  valididation loss: 0.65067 train acc: 60.488, validation acc: 101.09574468085107\n",
      "epoch 1 ==> train loss: 0.43276,  valididation loss: 0.30060 train acc: 110.776, validation acc: 115.94680851063829\n",
      "epoch 2 ==> train loss: 0.25126,  valididation loss: 0.21093 train acc: 118.23733333333334, validation acc: 119.81914893617021\n",
      "epoch 3 ==> train loss: 0.18401,  valididation loss: 0.16030 train acc: 120.95733333333334, validation acc: 121.67021276595744\n",
      "epoch 4 ==> train loss: 0.14445,  valididation loss: 0.13610 train acc: 122.46133333333333, validation acc: 122.53191489361703\n",
      "epoch 5 ==> train loss: 0.12101,  valididation loss: 0.11376 train acc: 123.31733333333334, validation acc: 123.18085106382979\n",
      "epoch 6 ==> train loss: 0.10415,  valididation loss: 0.09450 train acc: 124.04, validation acc: 124.11702127659575\n",
      "epoch 7 ==> train loss: 0.09352,  valididation loss: 0.08685 train acc: 124.30133333333333, validation acc: 124.2872340425532\n",
      "epoch 8 ==> train loss: 0.08363,  valididation loss: 0.07935 train acc: 124.74133333333333, validation acc: 124.69148936170212\n",
      "epoch 9 ==> train loss: 0.07647,  valididation loss: 0.08609 train acc: 124.90666666666667, validation acc: 124.36170212765957\n",
      "epoch 10 ==> train loss: 0.07217,  valididation loss: 0.08190 train acc: 125.10933333333334, validation acc: 124.22340425531915\n",
      "epoch 11 ==> train loss: 0.06573,  valididation loss: 0.06833 train acc: 125.43466666666667, validation acc: 124.97872340425532\n",
      "epoch 12 ==> train loss: 0.06202,  valididation loss: 0.06700 train acc: 125.54666666666667, validation acc: 124.97872340425532\n",
      "epoch 13 ==> train loss: 0.05976,  valididation loss: 0.06505 train acc: 125.64533333333334, validation acc: 125.07446808510639\n",
      "epoch 14 ==> train loss: 0.05614,  valididation loss: 0.06520 train acc: 125.76533333333333, validation acc: 125.08510638297872\n",
      "epoch 15 ==> train loss: 0.05253,  valididation loss: 0.06077 train acc: 125.85866666666666, validation acc: 125.25531914893617\n",
      "epoch 16 ==> train loss: 0.04907,  valididation loss: 0.06207 train acc: 126.008, validation acc: 125.18085106382979\n",
      "epoch 17 ==> train loss: 0.04742,  valididation loss: 0.06261 train acc: 126.16266666666667, validation acc: 125.34042553191489\n",
      "epoch 18 ==> train loss: 0.04569,  valididation loss: 0.05505 train acc: 126.152, validation acc: 125.51063829787235\n",
      "epoch 19 ==> train loss: 0.04332,  valididation loss: 0.05509 train acc: 126.29333333333334, validation acc: 125.59574468085107\n",
      "epoch 20 ==> train loss: 0.04133,  valididation loss: 0.05367 train acc: 126.36266666666667, validation acc: 125.57446808510639\n",
      "epoch 21 ==> train loss: 0.03998,  valididation loss: 0.05023 train acc: 126.352, validation acc: 125.69148936170212\n",
      "epoch 22 ==> train loss: 0.03817,  valididation loss: 0.06336 train acc: 126.46933333333334, validation acc: 125.23404255319149\n",
      "epoch 23 ==> train loss: 0.03719,  valididation loss: 0.04971 train acc: 126.48533333333333, validation acc: 125.72340425531915\n",
      "epoch 24 ==> train loss: 0.03552,  valididation loss: 0.04923 train acc: 126.60533333333333, validation acc: 125.70212765957447\n",
      "epoch 25 ==> train loss: 0.03465,  valididation loss: 0.05218 train acc: 126.608, validation acc: 125.54255319148936\n",
      "epoch 26 ==> train loss: 0.03294,  valididation loss: 0.04788 train acc: 126.68, validation acc: 125.80851063829788\n",
      "epoch 27 ==> train loss: 0.03288,  valididation loss: 0.04941 train acc: 126.70133333333334, validation acc: 125.82978723404256\n",
      "epoch 28 ==> train loss: 0.03089,  valididation loss: 0.04753 train acc: 126.77333333333333, validation acc: 125.77659574468085\n",
      "epoch 29 ==> train loss: 0.03023,  valididation loss: 0.04596 train acc: 126.84533333333333, validation acc: 125.87234042553192\n"
     ]
    }
   ],
   "source": [
    "LOSS, VAL_LOSS, ACC, VAL_ACC = [], [], [], []\n",
    "EPOCHS = 30\n",
    "\n",
    "for epoch in range(EPOCHS):\n",
    "    \n",
    "    model.train()  # train mode\n",
    "    \n",
    "    train_loss = 0\n",
    "    train_acc = 0\n",
    "    for x, y in train_loader:\n",
    "        x, y = x.to(device), y.to(device)\n",
    "        \n",
    "        optimizer.zero_grad()\n",
    "    \n",
    "        z = model(x)\n",
    "        loss = criterion(z, y)\n",
    "        train_loss += loss.item()\n",
    "        _, y_pred = torch.max(z, 1)  #(max values, indices)\n",
    "        train_acc += (y_pred == y).sum().item()\n",
    "\n",
    "        loss.backward()\n",
    "        optimizer.step()\n",
    "           \n",
    "    train_loss = train_loss/len(train_loader)\n",
    "    train_acc = train_acc/len(train_loader)\n",
    "    LOSS.append(train_loss)\n",
    "    ACC.append(train_acc)\n",
    "    \n",
    "    model.eval()   # evaluation mode\n",
    "        \n",
    "    val_loss = 0\n",
    "    val_acc = 0\n",
    "    for x, y in valid_loader:\n",
    "        x, y = x.to(device), y.to(device)\n",
    "        \n",
    "        z = model(x)\n",
    "        loss = criterion(z, y)\n",
    "        val_loss += loss.item()\n",
    "        _, y_pred = torch.max(z, 1)\n",
    "        val_acc += (y_pred == y).sum().item()\n",
    "        \n",
    "    val_loss = val_loss / len(valid_loader)\n",
    "    val_acc  = val_acc / len(valid_loader)\n",
    "    VAL_LOSS.append(val_loss)\n",
    "    VAL_ACC.append(val_acc)\n",
    "    \n",
    "    print(f'epoch {epoch} ==> train loss: {train_loss:.5f},  valididation loss: {val_loss:.5f}',  \n",
    "                                            f'train acc: {train_acc:.5f}, validation acc: {val_acc:.5f}')"
   ]
  },
  {
   "cell_type": "code",
   "execution_count": 42,
   "metadata": {
    "colab": {
     "base_uri": "https://localhost:8080/",
     "height": 301
    },
    "id": "OpJAEgIhbs5_",
    "outputId": "1465d04d-d2db-49d8-c484-022ec6773489"
   },
   "outputs": [
    {
     "data": {
      "text/plain": [
       "<matplotlib.legend.Legend at 0x7f0dd177a190>"
      ]
     },
     "execution_count": 42,
     "metadata": {},
     "output_type": "execute_result"
    },
    {
     "data": {
      "image/png": "[encoded data removed]",
      "text/plain": [
       "<Figure size 864x288 with 2 Axes>"
      ]
     },
     "metadata": {
      "needs_background": "light"
     },
     "output_type": "display_data"
    }
   ],
   "source": [
    "fig, (ax1, ax2) = plt.subplots(1, 2, figsize=(12, 4))\n",
    "ax1.plot(LOSS, label='train loss')\n",
    "ax1.plot(VAL_LOSS, label='validation loss')\n",
    "ax1.set_xlabel('epoch')\n",
    "ax1.set_ylabel('loss')\n",
    "ax1.legend()\n",
    "ax2.plot(ACC, label='train accuracy')\n",
    "ax2.plot(VAL_ACC, label='validation accuracy')\n",
    "ax2.set_xlabel('epoch')\n",
    "ax2.set_ylabel('accuracy')\n",
    "ax2.legend()"
   ]
  },
  {
   "cell_type": "markdown",
   "metadata": {
    "id": "SRPlwCgebs5_"
   },
   "source": [
    "## Model 평가 - Test set 사용 "
   ]
  },
  {
   "cell_type": "code",
   "execution_count": 43,
   "metadata": {
    "colab": {
     "base_uri": "https://localhost:8080/"
    },
    "id": "mRrA5d8vbs6A",
    "outputId": "154daf95-2d29-4985-ca90-7c984dd7d87c"
   },
   "outputs": [
    {
     "name": "stdout",
     "output_type": "stream",
     "text": [
      "accuracy = 98.94%\n"
     ]
    }
   ],
   "source": [
    "predictions = []\n",
    "labels = []\n",
    "\n",
    "model.eval()\n",
    "\n",
    "for x, y in test_loader:\n",
    "    x, y = x.to(device), y.to(device)\n",
    "    z = model(x)\n",
    "    _, y_pred = torch.max(z, 1)\n",
    "    \n",
    "    predictions.extend(y_pred.cpu().numpy())\n",
    "    labels.extend(y.cpu().numpy())\n",
    "    \n",
    "correct_indices = np.nonzero(np.array(predictions) == np.array(labels))[0]\n",
    "incorrect_indices = np.nonzero(np.array(predictions) != np.array(labels))[0]\n",
    "    \n",
    "print(\"accuracy = {:.2f}%\".format(len(correct_indices) / len(predictions) * 100))"
   ]
  },
  {
   "cell_type": "markdown",
   "metadata": {
    "id": "FVUpUTXVipQI"
   },
   "source": [
    "## Category 별 분류 성능 측정"
   ]
  },
  {
   "cell_type": "code",
   "execution_count": 49,
   "metadata": {
    "colab": {
     "base_uri": "https://localhost:8080/",
     "height": 568
    },
    "id": "gw3FNTzvioYM",
    "outputId": "0af8c2f2-740f-4a7b-d06c-187e124626fe"
   },
   "outputs": [
    {
     "name": "stdout",
     "output_type": "stream",
     "text": [
      "accuracy of 0 = 99.59%\n",
      "accuracy of 1 = 99.47%\n",
      "accuracy of 2 = 99.22%\n",
      "accuracy of 3 = 98.91%\n",
      "accuracy of 4 = 99.59%\n",
      "accuracy of 5 = 98.54%\n",
      "accuracy of 6 = 98.43%\n",
      "accuracy of 7 = 99.32%\n",
      "accuracy of 8 = 98.15%\n",
      "accuracy of 9 = 98.02%\n"
     ]
    },
    {
     "data": {
      "image/png": "[encoded data removed]",
      "text/plain": [
       "<Figure size 576x432 with 2 Axes>"
      ]
     },
     "metadata": {
      "needs_background": "light"
     },
     "output_type": "display_data"
    }
   ],
   "source": [
    "from sklearn.metrics import confusion_matrix\n",
    "import seaborn as sns\n",
    "\n",
    "cm = confusion_matrix(labels, predictions)\n",
    "plt.figure(figsize=(8, 6))\n",
    "ax = sns.heatmap(cm, annot=True, fmt='d')\n",
    "ax.set_xlabel('True value')\n",
    "ax.set_ylabel('Predicted Value')\n",
    "\n",
    "for i in range(10):\n",
    "    print(f\"accuracy of {i} = {cm[i][i] / cm[i].sum() * 100:.2f}%\")"
   ]
  },
  {
   "cell_type": "markdown",
   "metadata": {
    "id": "6JOCwrdBbs6C"
   },
   "source": [
    "# 실습 : fashion MNIST 를 이용하여 위와 동일한 작업\n",
    "\n",
    "Label\tClass\n",
    "\n",
    "0\tT-shirt/top  \n",
    "1\tTrouser  \n",
    "2\tPullover  \n",
    "3\tDress  \n",
    "4\tCoat  \n",
    "5\tSandal  \n",
    "6\tShirt  \n",
    "7\tSneaker  \n",
    "8\tBag  \n",
    "9\tAnkle boot"
   ]
  },
  {
   "cell_type": "code",
   "execution_count": 50,
   "metadata": {
    "id": "8zO4eNQylDhu"
   },
   "outputs": [],
   "source": [
    "composed = transforms.Compose([\n",
    "                    transforms.ToTensor(),\n",
    "                    transforms.Normalize((0.1,), (0.3,))])"
   ]
  },
  {
   "cell_type": "code",
   "execution_count": 52,
   "metadata": {
    "id": "8A6f5zgxbs6C"
   },
   "outputs": [],
   "source": [
    "# load mnist data\n",
    "train_data = dsets.FashionMNIST(root='./data', train=True, download=True, transform=composed)\n",
    "\n",
    "test_data = dsets.FashionMNIST(root='./data', train=False, download=True, transform=composed)"
   ]
  },
  {
   "cell_type": "code",
   "execution_count": 53,
   "metadata": {
    "id": "zhLftNtjbs6C"
   },
   "outputs": [],
   "source": [
    "class_names = ['T-shirt/top', 'Trouser', 'Pullover', 'Dress', \n",
    "               'Coat', 'Sandal', 'Shirt', 'Sneaker', 'Bag', 'Ankle boot']"
   ]
  },
  {
   "cell_type": "code",
   "execution_count": 56,
   "metadata": {
    "colab": {
     "base_uri": "https://localhost:8080/",
     "height": 276
    },
    "id": "PUwdnagkldrd",
    "outputId": "034c5648-8f7a-4e34-c161-b333759096c6"
   },
   "outputs": [
    {
     "data": {
      "image/png": "[encoded data removed]",
      "text/plain": [
       "<Figure size 1800x432 with 20 Axes>"
      ]
     },
     "metadata": {},
     "output_type": "display_data"
    }
   ],
   "source": [
    "plt.figure(figsize=(25, 6))\n",
    "for i, (x, y) in enumerate(test_data):\n",
    "    if i > 19:\n",
    "        break\n",
    "    plt.subplot(2, 10, i+1)\n",
    "    plt.imshow(x.numpy().reshape(28, 28), cmap='gray')  \n",
    "    plt.title(class_names[y])\n",
    "    plt.xticks([])\n",
    "    plt.yticks([])\n",
    "\n",
    "plt.show()"
   ]
  },
  {
   "cell_type": "code",
   "execution_count": 48,
   "metadata": {
    "id": "GJpC_kLAbs6C"
   },
   "outputs": [],
   "source": [
    "# Your code here"
   ]
  },
  {
   "cell_type": "code",
   "execution_count": 48,
   "metadata": {
    "id": "2G2JEGhkbs6C"
   },
   "outputs": [],
   "source": []
  }
 ],
 "metadata": {
  "accelerator": "GPU",
  "colab": {
   "name": "230_Mnist_LeNet.ipynb",
   "provenance": []
  },
  "kernelspec": {
   "display_name": "Python 3",
   "language": "python",
   "name": "python3"
  },
  "language_info": {
   "codemirror_mode": {
    "name": "ipython",
    "version": 3
   },
   "file_extension": ".py",
   "mimetype": "text/x-python",
   "name": "python",
   "nbconvert_exporter": "python",
   "pygments_lexer": "ipython3",
   "version": "3.7.3"
  }
 },
 "nbformat": 4,
 "nbformat_minor": 1
}
