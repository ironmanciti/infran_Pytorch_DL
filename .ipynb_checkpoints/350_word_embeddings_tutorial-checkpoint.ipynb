{
 "cells": [
  {
   "cell_type": "markdown",
   "metadata": {
    "id": "JIzKPX1k5pQW"
   },
   "source": [
    "# 350. Word Embeddigs \n",
    "\n",
    "\n",
    "<img src=\"cbow.jpg\" width=600>\n"
   ]
  },
  {
   "cell_type": "code",
   "execution_count": 1,
   "metadata": {
    "colab": {
     "base_uri": "https://localhost:8080/"
    },
    "id": "jxib_Z-b5pQZ",
    "outputId": "43b38992-974c-4fa6-b525-87f3721e770e"
   },
   "outputs": [
    {
     "data": {
      "text/plain": [
       "device(type='cuda')"
      ]
     },
     "execution_count": 1,
     "metadata": {},
     "output_type": "execute_result"
    }
   ],
   "source": [
    "import torch\n",
    "import torch.nn as nn\n",
    "import torch.optim as optim\n",
    "\n",
    "torch.manual_seed(1)\n",
    "\n",
    "device = torch.device(\"cuda\" if torch.cuda.is_available() else \"cpu\")\n",
    "device"
   ]
  },
  {
   "cell_type": "markdown",
   "metadata": {
    "id": "skVSFCLb5pQb"
   },
   "source": [
    "- torch.nn.Embedding(num_embeddings, embedding_dim) 사용  \n",
    "\n",
    "\n",
    "    - Input: IntTensor or LongTensor \n",
    "    - Output: embedding_dim  \n",
    "\n",
    "- weight 는  $\\mathcal{N}(0, 1)$ 으로 초기화 해 준다"
   ]
  },
  {
   "cell_type": "code",
   "execution_count": 7,
   "metadata": {},
   "outputs": [
    {
     "data": {
      "text/plain": [
       "Parameter containing:\n",
       "tensor([[-0.9081,  0.5423,  0.1103, -2.2590,  0.6067],\n",
       "        [-0.1383,  0.8310, -0.2477, -0.8029,  0.2366]], requires_grad=True)"
      ]
     },
     "execution_count": 7,
     "metadata": {},
     "output_type": "execute_result"
    }
   ],
   "source": [
    "word_to_idx = {\"hello\": 0, \"world\": 1}\n",
    "\n",
    "embeds = nn.Embedding(2, 5)  # 2 words in vocab, 5 dimensional embeddings\n",
    "next(embeds.parameters())"
   ]
  },
  {
   "cell_type": "code",
   "execution_count": 9,
   "metadata": {
    "colab": {
     "base_uri": "https://localhost:8080/"
    },
    "id": "ydz4WIWq5pQb",
    "outputId": "9f07e97e-572c-4d57-fedc-64a3894a5c06"
   },
   "outputs": [
    {
     "name": "stdout",
     "output_type": "stream",
     "text": [
      "tensor([0])\n",
      "tensor([[-0.9081,  0.5423,  0.1103, -2.2590,  0.6067]],\n",
      "       grad_fn=<EmbeddingBackward0>)\n",
      "tensor([1])\n",
      "tensor([[-0.1383,  0.8310, -0.2477, -0.8029,  0.2366]],\n",
      "       grad_fn=<EmbeddingBackward0>)\n"
     ]
    }
   ],
   "source": [
    "idx = torch.tensor([word_to_idx[\"hello\"]], dtype=torch.long)\n",
    "print(idx)\n",
    "print(embeds(idx))\n",
    "\n",
    "idx = torch.tensor([word_to_idx[\"world\"]], dtype=torch.long)\n",
    "print(idx)\n",
    "print(embeds(idx))"
   ]
  },
  {
   "cell_type": "markdown",
   "metadata": {
    "id": "oXdaTi8-5pQc"
   },
   "source": [
    "## Skip-gram : N-Gram Language Modeling\n",
    "\n",
    "- 중심 단어를 이용하여 주변 단어 예측"
   ]
  },
  {
   "cell_type": "markdown",
   "metadata": {
    "id": "3Bi376ZB5pQc"
   },
   "source": [
    "### Toy 말뭉치"
   ]
  },
  {
   "cell_type": "code",
   "execution_count": 30,
   "metadata": {
    "id": "ojwAxIyn5pQd"
   },
   "outputs": [],
   "source": [
    "corpus = ['King is a very strong man.', \n",
    "          'Queen is a wise and pretty woman.', \n",
    "          'Boy is a young man.',\n",
    "          'Boy will be a strong king',\n",
    "          'Girl will be a pretty queen',\n",
    "          'Girl is a young and pretty woman.',\n",
    "          'Pretty queen was a pretty girl',\n",
    "          'Strong king was a strong boy',\n",
    "          'Queen is a woman and king is a man',\n",
    "          'Princess is a girl and prince is a boy',\n",
    "          'Prince is young and will be a strong and wise king.',\n",
    "          'Princess is a young woman and will be a pretty and wise queen.',\n",
    "          'Man is strong.', \n",
    "          'Woman is pretty.',\n",
    "          'Prince is a boy will be a king.',\n",
    "          'Princess is a girl will be a queen.']"
   ]
  },
  {
   "cell_type": "code",
   "execution_count": 31,
   "metadata": {
    "id": "N9IBp-sa5pQd"
   },
   "outputs": [],
   "source": [
    "import re\n",
    "\n",
    "cleaned_corpus = []\n",
    "for text in corpus:\n",
    "    text = re.sub(r'[^a-zA-Z ]', '', text)   \n",
    "    cleaned_corpus.append(text.lower())"
   ]
  },
  {
   "cell_type": "markdown",
   "metadata": {
    "id": "JSeHy_qQ5pQe"
   },
   "source": [
    "### stopword(불용어) 제거"
   ]
  },
  {
   "cell_type": "code",
   "execution_count": 32,
   "metadata": {
    "id": "Vnj50KSD5pQe"
   },
   "outputs": [
    {
     "data": {
      "text/plain": [
       "['king very strong man',\n",
       " 'queen wise pretty woman',\n",
       " 'boy young man',\n",
       " 'boy strong king',\n",
       " 'girl pretty queen',\n",
       " 'girl young pretty woman',\n",
       " 'pretty queen pretty girl',\n",
       " 'strong king strong boy',\n",
       " 'queen woman king man',\n",
       " 'princess girl prince boy',\n",
       " 'prince young strong wise king',\n",
       " 'princess young woman pretty wise queen',\n",
       " 'man strong',\n",
       " 'woman pretty',\n",
       " 'prince boy king',\n",
       " 'princess girl queen']"
      ]
     },
     "execution_count": 32,
     "metadata": {},
     "output_type": "execute_result"
    }
   ],
   "source": [
    "stop_words = ['is', 'a' ,'will', 'be', 'and', 'was']\n",
    "\n",
    "results = []\n",
    "    \n",
    "for text in cleaned_corpus:\n",
    "    tmp = []\n",
    "    for word in text.split():\n",
    "        if word not in stop_words:\n",
    "            tmp.append(word)\n",
    "    results.append(' '.join(tmp))\n",
    "\n",
    "results"
   ]
  },
  {
   "cell_type": "markdown",
   "metadata": {
    "id": "m5d47mSv5pQe"
   },
   "source": [
    "### word vocabulary 작성"
   ]
  },
  {
   "cell_type": "code",
   "execution_count": 49,
   "metadata": {
    "colab": {
     "base_uri": "https://localhost:8080/"
    },
    "id": "DlrNuaAp5pQf",
    "outputId": "1cb19d8b-46d2-41a1-d7c2-dee55b8039cb"
   },
   "outputs": [
    {
     "name": "stdout",
     "output_type": "stream",
     "text": [
      "['girl', 'queen', 'man', 'prince', 'young', 'wise', 'strong', 'very', 'woman', 'boy', 'king', 'pretty', 'princess']\n"
     ]
    }
   ],
   "source": [
    "words = []\n",
    "for sentence in results:\n",
    "    for word in sentence.split():\n",
    "        words.append(word)\n",
    "        \n",
    "words = list(set(words))\n",
    "print(words)"
   ]
  },
  {
   "cell_type": "markdown",
   "metadata": {
    "id": "AJx5iazW5pQf"
   },
   "source": [
    "### word index 작성\n",
    "\n",
    "- word to index\n",
    "- index to word"
   ]
  },
  {
   "cell_type": "code",
   "execution_count": 50,
   "metadata": {
    "colab": {
     "base_uri": "https://localhost:8080/"
    },
    "id": "ZDGMGQ-L5pQf",
    "outputId": "d822fc57-3aad-4376-9d24-f748e4f898a3"
   },
   "outputs": [
    {
     "name": "stdout",
     "output_type": "stream",
     "text": [
      "{'girl': 0, 'queen': 1, 'man': 2, 'prince': 3, 'young': 4, 'wise': 5, 'strong': 6, 'very': 7, 'woman': 8, 'boy': 9, 'king': 10, 'pretty': 11, 'princess': 12}\n",
      "{0: 'girl', 1: 'queen', 2: 'man', 3: 'prince', 4: 'young', 5: 'wise', 6: 'strong', 7: 'very', 8: 'woman', 9: 'boy', 10: 'king', 11: 'pretty', 12: 'princess'}\n"
     ]
    }
   ],
   "source": [
    "word2index = dict((w, i) for i, w in enumerate(words))\n",
    "index2word = dict((i, w) for i, w in enumerate(words))\n",
    "\n",
    "print(word2index)\n",
    "print(index2word)"
   ]
  },
  {
   "cell_type": "markdown",
   "metadata": {
    "id": "s35J4zqL5pQg"
   },
   "source": [
    "### Train Data 작성 \n",
    "\n",
    "- skip-gram 방식 사용 "
   ]
  },
  {
   "cell_type": "code",
   "execution_count": 51,
   "metadata": {
    "colab": {
     "base_uri": "https://localhost:8080/"
    },
    "id": "FyA7PzhO5pQg",
    "outputId": "312b0a8a-fa01-4298-958d-1a679a375acf"
   },
   "outputs": [
    {
     "data": {
      "text/plain": [
       "[['king', 'very', 'strong', 'man'],\n",
       " ['queen', 'wise', 'pretty', 'woman'],\n",
       " ['boy', 'young', 'man'],\n",
       " ['boy', 'strong', 'king'],\n",
       " ['girl', 'pretty', 'queen'],\n",
       " ['girl', 'young', 'pretty', 'woman'],\n",
       " ['pretty', 'queen', 'pretty', 'girl'],\n",
       " ['strong', 'king', 'strong', 'boy'],\n",
       " ['queen', 'woman', 'king', 'man'],\n",
       " ['princess', 'girl', 'prince', 'boy'],\n",
       " ['prince', 'young', 'strong', 'wise', 'king'],\n",
       " ['princess', 'young', 'woman', 'pretty', 'wise', 'queen'],\n",
       " ['man', 'strong'],\n",
       " ['woman', 'pretty'],\n",
       " ['prince', 'boy', 'king'],\n",
       " ['princess', 'girl', 'queen']]"
      ]
     },
     "execution_count": 51,
     "metadata": {},
     "output_type": "execute_result"
    }
   ],
   "source": [
    "sentences = []\n",
    "\n",
    "for sentence in results:\n",
    "    sentences.append(sentence.split())\n",
    "    \n",
    "sentences"
   ]
  },
  {
   "cell_type": "code",
   "execution_count": 52,
   "metadata": {
    "id": "3dJPWaD05pQg"
   },
   "outputs": [],
   "source": [
    "WINDOW_SIZE = 2\n",
    "\n",
    "data = []\n",
    "for sentence in sentences:\n",
    "    for i, w in enumerate(sentence):\n",
    "        neighbors = sentence[max(i-WINDOW_SIZE, 0):min(i+WINDOW_SIZE, len(sentence))+1]\n",
    "        for n in neighbors:\n",
    "            if n != w:\n",
    "                data.append([w, n])"
   ]
  },
  {
   "cell_type": "code",
   "execution_count": 53,
   "metadata": {
    "colab": {
     "base_uri": "https://localhost:8080/"
    },
    "id": "Y_YH6maj5pQh",
    "outputId": "17dd4592-145b-4efd-a6c0-7cf805664b7f"
   },
   "outputs": [
    {
     "data": {
      "text/plain": [
       "[['king', 'very'],\n",
       " ['king', 'strong'],\n",
       " ['very', 'king'],\n",
       " ['very', 'strong'],\n",
       " ['very', 'man'],\n",
       " ['strong', 'king'],\n",
       " ['strong', 'very'],\n",
       " ['strong', 'man'],\n",
       " ['man', 'very'],\n",
       " ['man', 'strong']]"
      ]
     },
     "execution_count": 53,
     "metadata": {},
     "output_type": "execute_result"
    }
   ],
   "source": [
    "data[:10]"
   ]
  },
  {
   "cell_type": "code",
   "execution_count": 54,
   "metadata": {
    "colab": {
     "base_uri": "https://localhost:8080/",
     "height": 206
    },
    "id": "K1i5JimZ5pQh",
    "outputId": "1f1aca9f-9217-4b19-d7f6-2baaaa5910b7"
   },
   "outputs": [
    {
     "data": {
      "text/html": [
       "<div>\n",
       "<style scoped>\n",
       "    .dataframe tbody tr th:only-of-type {\n",
       "        vertical-align: middle;\n",
       "    }\n",
       "\n",
       "    .dataframe tbody tr th {\n",
       "        vertical-align: top;\n",
       "    }\n",
       "\n",
       "    .dataframe thead th {\n",
       "        text-align: right;\n",
       "    }\n",
       "</style>\n",
       "<table border=\"1\" class=\"dataframe\">\n",
       "  <thead>\n",
       "    <tr style=\"text-align: right;\">\n",
       "      <th></th>\n",
       "      <th>input</th>\n",
       "      <th>label</th>\n",
       "    </tr>\n",
       "  </thead>\n",
       "  <tbody>\n",
       "    <tr>\n",
       "      <th>0</th>\n",
       "      <td>king</td>\n",
       "      <td>very</td>\n",
       "    </tr>\n",
       "    <tr>\n",
       "      <th>1</th>\n",
       "      <td>king</td>\n",
       "      <td>strong</td>\n",
       "    </tr>\n",
       "    <tr>\n",
       "      <th>2</th>\n",
       "      <td>very</td>\n",
       "      <td>king</td>\n",
       "    </tr>\n",
       "    <tr>\n",
       "      <th>3</th>\n",
       "      <td>very</td>\n",
       "      <td>strong</td>\n",
       "    </tr>\n",
       "    <tr>\n",
       "      <th>4</th>\n",
       "      <td>very</td>\n",
       "      <td>man</td>\n",
       "    </tr>\n",
       "    <tr>\n",
       "      <th>5</th>\n",
       "      <td>strong</td>\n",
       "      <td>king</td>\n",
       "    </tr>\n",
       "    <tr>\n",
       "      <th>6</th>\n",
       "      <td>strong</td>\n",
       "      <td>very</td>\n",
       "    </tr>\n",
       "    <tr>\n",
       "      <th>7</th>\n",
       "      <td>strong</td>\n",
       "      <td>man</td>\n",
       "    </tr>\n",
       "    <tr>\n",
       "      <th>8</th>\n",
       "      <td>man</td>\n",
       "      <td>very</td>\n",
       "    </tr>\n",
       "    <tr>\n",
       "      <th>9</th>\n",
       "      <td>man</td>\n",
       "      <td>strong</td>\n",
       "    </tr>\n",
       "  </tbody>\n",
       "</table>\n",
       "</div>"
      ],
      "text/plain": [
       "    input   label\n",
       "0    king    very\n",
       "1    king  strong\n",
       "2    very    king\n",
       "3    very  strong\n",
       "4    very     man\n",
       "5  strong    king\n",
       "6  strong    very\n",
       "7  strong     man\n",
       "8     man    very\n",
       "9     man  strong"
      ]
     },
     "execution_count": 54,
     "metadata": {},
     "output_type": "execute_result"
    }
   ],
   "source": [
    "import pandas as pd \n",
    "df = pd.DataFrame(data, columns=['input', 'label'])\n",
    "df.head(10)"
   ]
  },
  {
   "cell_type": "code",
   "execution_count": 55,
   "metadata": {
    "colab": {
     "base_uri": "https://localhost:8080/"
    },
    "id": "l5JIzAu_5pQh",
    "outputId": "5e1aba80-4fcf-444b-cf52-9106be80ccd4"
   },
   "outputs": [
    {
     "data": {
      "text/plain": [
       "[(tensor([10]), tensor([7])),\n",
       " (tensor([10]), tensor([6])),\n",
       " (tensor([7]), tensor([10])),\n",
       " (tensor([7]), tensor([6])),\n",
       " (tensor([7]), tensor([2]))]"
      ]
     },
     "execution_count": 55,
     "metadata": {},
     "output_type": "execute_result"
    }
   ],
   "source": [
    "data = []    # input word\n",
    "\n",
    "for x, y in zip(df['input'], df['label']):\n",
    "    data.append((torch.tensor([word2index[x]], dtype=torch.long), \n",
    "                        torch.tensor([word2index[y]], dtype=torch.long)))\n",
    "    \n",
    "data[:5]"
   ]
  },
  {
   "cell_type": "markdown",
   "metadata": {},
   "source": [
    "## Network 작성\n",
    "\n",
    "<img src=\"wod2vec.JPG\" width=500>"
   ]
  },
  {
   "cell_type": "code",
   "execution_count": 56,
   "metadata": {
    "id": "U_hBCTWT5pQi"
   },
   "outputs": [],
   "source": [
    "class Word2Vec(nn.Module):\n",
    "\n",
    "    def __init__(self, vocab_size, embedding_dim):\n",
    "        super(Word2Vec, self).__init__()\n",
    "        self.embeddings = nn.Embedding(vocab_size, embedding_dim)\n",
    "        self.fc = nn.Linear(embedding_dim, vocab_size)     \n",
    "        self.relu = nn.ReLU()\n",
    "\n",
    "    def forward(self, x):\n",
    "        embeds = self.embeddings(x).view((1, -1))\n",
    "        out = self.relu(self.fc(embeds))\n",
    "        return out"
   ]
  },
  {
   "cell_type": "code",
   "execution_count": 57,
   "metadata": {
    "colab": {
     "base_uri": "https://localhost:8080/"
    },
    "id": "dbYrIaWB5pQi",
    "outputId": "0d75ae4f-b672-4b3b-c812-c967d4ab6419"
   },
   "outputs": [
    {
     "data": {
      "text/plain": [
       "Word2Vec(\n",
       "  (embeddings): Embedding(13, 2)\n",
       "  (fc): Linear(in_features=2, out_features=13, bias=True)\n",
       "  (relu): ReLU()\n",
       ")"
      ]
     },
     "execution_count": 57,
     "metadata": {},
     "output_type": "execute_result"
    }
   ],
   "source": [
    "EMBEDDING_DIM = 2\n",
    "\n",
    "model = Word2Vec(len(word2index), EMBEDDING_DIM)\n",
    "model.to(device)"
   ]
  },
  {
   "cell_type": "code",
   "execution_count": 58,
   "metadata": {
    "colab": {
     "base_uri": "https://localhost:8080/"
    },
    "id": "SLvViV7A5pQi",
    "outputId": "19ba067f-0046-47a2-d66a-d42efc4b1a19"
   },
   "outputs": [
    {
     "name": "stdout",
     "output_type": "stream",
     "text": [
      "346.1674827337265\n",
      "318.6428735256195\n",
      "317.65358489751816\n",
      "317.4747269153595\n",
      "317.42001789808273\n",
      "317.4031318426132\n",
      "317.4079086780548\n",
      "316.04078966379166\n",
      "316.07546573877335\n",
      "316.0238282084465\n",
      "316.0004684329033\n",
      "315.95769464969635\n",
      "315.98146176338196\n",
      "315.98014521598816\n",
      "315.9309846162796\n",
      "315.963587641716\n",
      "315.9443827867508\n",
      "315.90279322862625\n",
      "315.91316467523575\n",
      "315.8871371746063\n",
      "Elapsed =  2.9528332710266114\n"
     ]
    }
   ],
   "source": [
    "import time\n",
    "\n",
    "s = time.time()\n",
    "\n",
    "criterion = nn.CrossEntropyLoss()\n",
    "optimizer = optim.Adam(model.parameters(), lr=0.01)\n",
    "\n",
    "for epoch in range(1000):\n",
    "    \n",
    "    total_loss = 0\n",
    "    for (x, y) in data:\n",
    "        x, y = x.to(device), y.to(device)\n",
    "        \n",
    "        y_pred = model(x)\n",
    "\n",
    "        loss = criterion(y_pred, y)\n",
    "\n",
    "        model.zero_grad()\n",
    "        loss.backward()\n",
    "        optimizer.step()\n",
    "\n",
    "        total_loss += loss.item()\n",
    "        \n",
    "    if epoch % 50 == 0:    \n",
    "        print(total_loss)  \n",
    "        \n",
    "print(\"Elapsed = \", (time.time() - s)/60)"
   ]
  },
  {
   "cell_type": "code",
   "execution_count": 59,
   "metadata": {
    "colab": {
     "base_uri": "https://localhost:8080/"
    },
    "id": "tBA68XiY5pQj",
    "outputId": "d6bdfa1f-fad6-435f-e221-e93cff7e76fb"
   },
   "outputs": [
    {
     "data": {
      "text/plain": [
       "OrderedDict([('embeddings.weight',\n",
       "              tensor([[-1.2381,  1.2508],\n",
       "                      [ 0.7010, -1.5686],\n",
       "                      [ 0.4577,  0.6918],\n",
       "                      [-0.4403, -0.3475],\n",
       "                      [-0.8742,  0.2881],\n",
       "                      [-0.7681,  1.9247],\n",
       "                      [-0.5657,  0.1829],\n",
       "                      [ 1.1594,  0.7962],\n",
       "                      [-2.3968, -0.1883],\n",
       "                      [-0.9513, -0.2215],\n",
       "                      [ 0.4920,  1.1122],\n",
       "                      [-0.0393, -0.5857],\n",
       "                      [-1.6733, -1.3727]], device='cuda:0')),\n",
       "             ('fc.weight',\n",
       "              tensor([[ 0.2567, -1.2803],\n",
       "                      [-0.4207,  1.0362],\n",
       "                      [-0.0814, -0.0455],\n",
       "                      [ 0.3888, -0.0956],\n",
       "                      [-0.6333,  0.4589],\n",
       "                      [ 0.8268, -1.0312],\n",
       "                      [ 1.1684,  0.7996],\n",
       "                      [ 0.2080, -0.0847],\n",
       "                      [ 0.5385,  2.4185],\n",
       "                      [-0.1247, -0.1472],\n",
       "                      [ 3.6586, -0.4004],\n",
       "                      [ 2.0717, -1.7105],\n",
       "                      [-0.2207,  0.1200]], device='cuda:0')),\n",
       "             ('fc.bias',\n",
       "              tensor([ 0.2710, -0.5884, -0.8014, -0.6330, -0.5982, -0.0612,  0.4296, -0.6545,\n",
       "                      -2.5895, -0.5230, -1.5990, -1.0607, -0.5676], device='cuda:0'))])"
      ]
     },
     "execution_count": 59,
     "metadata": {},
     "output_type": "execute_result"
    }
   ],
   "source": [
    "model.state_dict()"
   ]
  },
  {
   "cell_type": "code",
   "execution_count": 60,
   "metadata": {
    "colab": {
     "base_uri": "https://localhost:8080/",
     "height": 457
    },
    "id": "bIPeQ3Yh5pQj",
    "outputId": "a7450fda-a407-4a40-fb91-8f3082597c8f"
   },
   "outputs": [
    {
     "data": {
      "text/html": [
       "<div>\n",
       "<style scoped>\n",
       "    .dataframe tbody tr th:only-of-type {\n",
       "        vertical-align: middle;\n",
       "    }\n",
       "\n",
       "    .dataframe tbody tr th {\n",
       "        vertical-align: top;\n",
       "    }\n",
       "\n",
       "    .dataframe thead th {\n",
       "        text-align: right;\n",
       "    }\n",
       "</style>\n",
       "<table border=\"1\" class=\"dataframe\">\n",
       "  <thead>\n",
       "    <tr style=\"text-align: right;\">\n",
       "      <th></th>\n",
       "      <th>x1</th>\n",
       "      <th>x2</th>\n",
       "    </tr>\n",
       "  </thead>\n",
       "  <tbody>\n",
       "    <tr>\n",
       "      <th>0</th>\n",
       "      <td>-1.238135</td>\n",
       "      <td>1.250833</td>\n",
       "    </tr>\n",
       "    <tr>\n",
       "      <th>1</th>\n",
       "      <td>0.701022</td>\n",
       "      <td>-1.568615</td>\n",
       "    </tr>\n",
       "    <tr>\n",
       "      <th>2</th>\n",
       "      <td>0.457712</td>\n",
       "      <td>0.691821</td>\n",
       "    </tr>\n",
       "    <tr>\n",
       "      <th>3</th>\n",
       "      <td>-0.440310</td>\n",
       "      <td>-0.347511</td>\n",
       "    </tr>\n",
       "    <tr>\n",
       "      <th>4</th>\n",
       "      <td>-0.874167</td>\n",
       "      <td>0.288136</td>\n",
       "    </tr>\n",
       "    <tr>\n",
       "      <th>5</th>\n",
       "      <td>-0.768094</td>\n",
       "      <td>1.924717</td>\n",
       "    </tr>\n",
       "    <tr>\n",
       "      <th>6</th>\n",
       "      <td>-0.565675</td>\n",
       "      <td>0.182866</td>\n",
       "    </tr>\n",
       "    <tr>\n",
       "      <th>7</th>\n",
       "      <td>1.159388</td>\n",
       "      <td>0.796245</td>\n",
       "    </tr>\n",
       "    <tr>\n",
       "      <th>8</th>\n",
       "      <td>-2.396755</td>\n",
       "      <td>-0.188257</td>\n",
       "    </tr>\n",
       "    <tr>\n",
       "      <th>9</th>\n",
       "      <td>-0.951316</td>\n",
       "      <td>-0.221459</td>\n",
       "    </tr>\n",
       "    <tr>\n",
       "      <th>10</th>\n",
       "      <td>0.492032</td>\n",
       "      <td>1.112205</td>\n",
       "    </tr>\n",
       "    <tr>\n",
       "      <th>11</th>\n",
       "      <td>-0.039299</td>\n",
       "      <td>-0.585726</td>\n",
       "    </tr>\n",
       "    <tr>\n",
       "      <th>12</th>\n",
       "      <td>-1.673301</td>\n",
       "      <td>-1.372656</td>\n",
       "    </tr>\n",
       "  </tbody>\n",
       "</table>\n",
       "</div>"
      ],
      "text/plain": [
       "          x1        x2\n",
       "0  -1.238135  1.250833\n",
       "1   0.701022 -1.568615\n",
       "2   0.457712  0.691821\n",
       "3  -0.440310 -0.347511\n",
       "4  -0.874167  0.288136\n",
       "5  -0.768094  1.924717\n",
       "6  -0.565675  0.182866\n",
       "7   1.159388  0.796245\n",
       "8  -2.396755 -0.188257\n",
       "9  -0.951316 -0.221459\n",
       "10  0.492032  1.112205\n",
       "11 -0.039299 -0.585726\n",
       "12 -1.673301 -1.372656"
      ]
     },
     "execution_count": 60,
     "metadata": {},
     "output_type": "execute_result"
    }
   ],
   "source": [
    "vectors= model.state_dict()['embeddings.weight'].cpu().numpy()\n",
    "\n",
    "pd.DataFrame(vectors, columns = ['x1', 'x2'])"
   ]
  },
  {
   "cell_type": "code",
   "execution_count": 61,
   "metadata": {
    "colab": {
     "base_uri": "https://localhost:8080/",
     "height": 457
    },
    "id": "8_8bXwsV5pQj",
    "outputId": "b6ab7a5a-3bfb-4996-f9af-2888d7808e5d"
   },
   "outputs": [
    {
     "data": {
      "text/html": [
       "<div>\n",
       "<style scoped>\n",
       "    .dataframe tbody tr th:only-of-type {\n",
       "        vertical-align: middle;\n",
       "    }\n",
       "\n",
       "    .dataframe tbody tr th {\n",
       "        vertical-align: top;\n",
       "    }\n",
       "\n",
       "    .dataframe thead th {\n",
       "        text-align: right;\n",
       "    }\n",
       "</style>\n",
       "<table border=\"1\" class=\"dataframe\">\n",
       "  <thead>\n",
       "    <tr style=\"text-align: right;\">\n",
       "      <th></th>\n",
       "      <th>x1</th>\n",
       "      <th>x2</th>\n",
       "      <th>word</th>\n",
       "    </tr>\n",
       "  </thead>\n",
       "  <tbody>\n",
       "    <tr>\n",
       "      <th>0</th>\n",
       "      <td>-1.238135</td>\n",
       "      <td>1.250833</td>\n",
       "      <td>girl</td>\n",
       "    </tr>\n",
       "    <tr>\n",
       "      <th>1</th>\n",
       "      <td>0.701022</td>\n",
       "      <td>-1.568615</td>\n",
       "      <td>queen</td>\n",
       "    </tr>\n",
       "    <tr>\n",
       "      <th>2</th>\n",
       "      <td>0.457712</td>\n",
       "      <td>0.691821</td>\n",
       "      <td>man</td>\n",
       "    </tr>\n",
       "    <tr>\n",
       "      <th>3</th>\n",
       "      <td>-0.440310</td>\n",
       "      <td>-0.347511</td>\n",
       "      <td>prince</td>\n",
       "    </tr>\n",
       "    <tr>\n",
       "      <th>4</th>\n",
       "      <td>-0.874167</td>\n",
       "      <td>0.288136</td>\n",
       "      <td>young</td>\n",
       "    </tr>\n",
       "    <tr>\n",
       "      <th>5</th>\n",
       "      <td>-0.768094</td>\n",
       "      <td>1.924717</td>\n",
       "      <td>wise</td>\n",
       "    </tr>\n",
       "    <tr>\n",
       "      <th>6</th>\n",
       "      <td>-0.565675</td>\n",
       "      <td>0.182866</td>\n",
       "      <td>strong</td>\n",
       "    </tr>\n",
       "    <tr>\n",
       "      <th>7</th>\n",
       "      <td>1.159388</td>\n",
       "      <td>0.796245</td>\n",
       "      <td>very</td>\n",
       "    </tr>\n",
       "    <tr>\n",
       "      <th>8</th>\n",
       "      <td>-2.396755</td>\n",
       "      <td>-0.188257</td>\n",
       "      <td>woman</td>\n",
       "    </tr>\n",
       "    <tr>\n",
       "      <th>9</th>\n",
       "      <td>-0.951316</td>\n",
       "      <td>-0.221459</td>\n",
       "      <td>boy</td>\n",
       "    </tr>\n",
       "    <tr>\n",
       "      <th>10</th>\n",
       "      <td>0.492032</td>\n",
       "      <td>1.112205</td>\n",
       "      <td>king</td>\n",
       "    </tr>\n",
       "    <tr>\n",
       "      <th>11</th>\n",
       "      <td>-0.039299</td>\n",
       "      <td>-0.585726</td>\n",
       "      <td>pretty</td>\n",
       "    </tr>\n",
       "    <tr>\n",
       "      <th>12</th>\n",
       "      <td>-1.673301</td>\n",
       "      <td>-1.372656</td>\n",
       "      <td>princess</td>\n",
       "    </tr>\n",
       "  </tbody>\n",
       "</table>\n",
       "</div>"
      ],
      "text/plain": [
       "          x1        x2      word\n",
       "0  -1.238135  1.250833      girl\n",
       "1   0.701022 -1.568615     queen\n",
       "2   0.457712  0.691821       man\n",
       "3  -0.440310 -0.347511    prince\n",
       "4  -0.874167  0.288136     young\n",
       "5  -0.768094  1.924717      wise\n",
       "6  -0.565675  0.182866    strong\n",
       "7   1.159388  0.796245      very\n",
       "8  -2.396755 -0.188257     woman\n",
       "9  -0.951316 -0.221459       boy\n",
       "10  0.492032  1.112205      king\n",
       "11 -0.039299 -0.585726    pretty\n",
       "12 -1.673301 -1.372656  princess"
      ]
     },
     "execution_count": 61,
     "metadata": {},
     "output_type": "execute_result"
    }
   ],
   "source": [
    "w2v = pd.DataFrame(vectors, columns = ['x1', 'x2'])\n",
    "w2v['word'] = words\n",
    "w2v"
   ]
  },
  {
   "cell_type": "markdown",
   "metadata": {
    "id": "MlWWFUar5pQk"
   },
   "source": [
    "### Vector화 된 단어들 간의 cosine 유사도를 시각화 "
   ]
  },
  {
   "cell_type": "code",
   "execution_count": 62,
   "metadata": {
    "colab": {
     "base_uri": "https://localhost:8080/",
     "height": 606
    },
    "id": "Zswzx82W5pQk",
    "outputId": "9efd2499-1ea4-42f4-ed39-1abc2dd51ad7"
   },
   "outputs": [
    {
     "data": {
      "image/png": "[encoded data removed]",
      "text/plain": [
       "<Figure size 864x720 with 1 Axes>"
      ]
     },
     "metadata": {
      "needs_background": "light"
     },
     "output_type": "display_data"
    }
   ],
   "source": [
    "import matplotlib.pyplot as plt\n",
    "import numpy as np\n",
    "\n",
    "fig, ax = plt.subplots(figsize=(12,10))\n",
    "\n",
    "for word, x1, x2 in zip(w2v['word'], w2v['x1'], w2v['x2']):\n",
    "    ax.annotate(word, (x1, x2))\n",
    "    \n",
    "x_axis_min = np.min(w2v['x1']) - 0.5\n",
    "x_axis_max = np.max(w2v['x1']) + 0.5\n",
    "y_axis_min = np.min(w2v['x2']) - 0.5\n",
    "y_axis_max = np.max(w2v['x2']) + 0.5\n",
    " \n",
    "plt.xlim(x_axis_min, x_axis_max)\n",
    "plt.ylim(y_axis_min, y_axis_max)\n",
    "plt.xlabel('x1')\n",
    "plt.ylabel('x2')\n",
    "\n",
    "plt.show()"
   ]
  },
  {
   "cell_type": "code",
   "execution_count": null,
   "metadata": {
    "id": "m6EJNUPu5pQk"
   },
   "outputs": [],
   "source": []
  }
 ],
 "metadata": {
  "accelerator": "GPU",
  "colab": {
   "name": "350_word_embeddings_tutorial.ipynb",
   "provenance": []
  },
  "kernelspec": {
   "display_name": "Python 3",
   "language": "python",
   "name": "python3"
  },
  "language_info": {
   "codemirror_mode": {
    "name": "ipython",
    "version": 3
   },
   "file_extension": ".py",
   "mimetype": "text/x-python",
   "name": "python",
   "nbconvert_exporter": "python",
   "pygments_lexer": "ipython3",
   "version": "3.9.7"
  }
 },
 "nbformat": 4,
 "nbformat_minor": 1
}
