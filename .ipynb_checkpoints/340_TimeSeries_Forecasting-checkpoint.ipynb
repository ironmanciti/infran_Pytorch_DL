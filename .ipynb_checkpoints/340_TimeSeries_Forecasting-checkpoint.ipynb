{
 "cells": [
  {
   "cell_type": "markdown",
   "metadata": {
    "id": "WUyDCq-lBSFH"
   },
   "source": [
    "# 340. Time Series Forecasting in Finance"
   ]
  },
  {
   "cell_type": "markdown",
   "metadata": {
    "id": "uD-X1AeamQ0f"
   },
   "source": [
    "## Multilayer perceptrons for time series forecasting"
   ]
  },
  {
   "cell_type": "code",
   "execution_count": 1,
   "metadata": {
    "id": "xCQcey6qmY_O"
   },
   "outputs": [],
   "source": [
    "pip install -q yfinance"
   ]
  },
  {
   "cell_type": "code",
   "execution_count": 2,
   "metadata": {
    "colab": {
     "base_uri": "https://localhost:8080/",
     "height": 35
    },
    "id": "xiYuz5XSmfJ6",
    "outputId": "d9a23c60-6e23-4c8e-ab74-f5642b66b8c1"
   },
   "outputs": [
    {
     "data": {
      "application/vnd.google.colaboratory.intrinsic+json": {
       "type": "string"
      },
      "text/plain": [
       "'cuda'"
      ]
     },
     "execution_count": 2,
     "metadata": {},
     "output_type": "execute_result"
    }
   ],
   "source": [
    "import yfinance as yf\n",
    "import numpy as np\n",
    "\n",
    "import torch\n",
    "import torch.optim as optim\n",
    "import torch.nn as nn\n",
    "import torch.nn.functional as F\n",
    "from torch.utils.data import (Dataset, TensorDataset, \n",
    "                              DataLoader, Subset)\n",
    "\n",
    "from sklearn.metrics import mean_squared_error\n",
    "import matplotlib.pyplot as plt\n",
    "plt.style.use('seaborn')\n",
    "plt.rcParams['figure.figsize'] = [6, 2.5]\n",
    "plt.rcParams['figure.dpi'] = 100\n",
    "\n",
    "device = 'cuda' if torch.cuda.is_available() else 'cpu'\n",
    "device"
   ]
  },
  {
   "cell_type": "markdown",
   "metadata": {
    "id": "BKcV3K-Jm8n-"
   },
   "source": [
    "Define parameters:"
   ]
  },
  {
   "cell_type": "code",
   "execution_count": 3,
   "metadata": {
    "id": "vpqpSTUfm_QW"
   },
   "outputs": [],
   "source": [
    "# data\n",
    "TICKER = 'INTC'  #Intel\n",
    "START_DATE = '2011-01-02'\n",
    "END_DATE = '2021-12-31'\n",
    "N_LAGS = 6\n",
    "VALID_SIZE = 100  #validation dataset size (최근 data)\n",
    "BATCH_SIZE = 64"
   ]
  },
  {
   "cell_type": "markdown",
   "metadata": {
    "id": "VZ4nL7p5nMnw"
   },
   "source": [
    "Download and prepare the data:"
   ]
  },
  {
   "cell_type": "code",
   "execution_count": 4,
   "metadata": {
    "colab": {
     "base_uri": "https://localhost:8080/",
     "height": 237
    },
    "id": "Qc9sVEhjnQDS",
    "outputId": "777f3842-4030-43b2-9c28-23a4a7ad19ac"
   },
   "outputs": [
    {
     "data": {
      "text/html": [
       "\n",
       "  <div id=\"df-33f32592-c9a9-4f72-af51-2fae82823271\">\n",
       "    <div class=\"colab-df-container\">\n",
       "      <div>\n",
       "<style scoped>\n",
       "    .dataframe tbody tr th:only-of-type {\n",
       "        vertical-align: middle;\n",
       "    }\n",
       "\n",
       "    .dataframe tbody tr th {\n",
       "        vertical-align: top;\n",
       "    }\n",
       "\n",
       "    .dataframe thead th {\n",
       "        text-align: right;\n",
       "    }\n",
       "</style>\n",
       "<table border=\"1\" class=\"dataframe\">\n",
       "  <thead>\n",
       "    <tr style=\"text-align: right;\">\n",
       "      <th></th>\n",
       "      <th>Open</th>\n",
       "      <th>High</th>\n",
       "      <th>Low</th>\n",
       "      <th>Close</th>\n",
       "      <th>Adj Close</th>\n",
       "      <th>Volume</th>\n",
       "    </tr>\n",
       "    <tr>\n",
       "      <th>Date</th>\n",
       "      <th></th>\n",
       "      <th></th>\n",
       "      <th></th>\n",
       "      <th></th>\n",
       "      <th></th>\n",
       "      <th></th>\n",
       "    </tr>\n",
       "  </thead>\n",
       "  <tbody>\n",
       "    <tr>\n",
       "      <th>2011-01-09</th>\n",
       "      <td>20.709999</td>\n",
       "      <td>20.770000</td>\n",
       "      <td>20.270000</td>\n",
       "      <td>20.660000</td>\n",
       "      <td>14.868240</td>\n",
       "      <td>74806100</td>\n",
       "    </tr>\n",
       "    <tr>\n",
       "      <th>2011-01-16</th>\n",
       "      <td>21.350000</td>\n",
       "      <td>21.420000</td>\n",
       "      <td>20.969999</td>\n",
       "      <td>21.080000</td>\n",
       "      <td>15.170500</td>\n",
       "      <td>154888800</td>\n",
       "    </tr>\n",
       "    <tr>\n",
       "      <th>2011-01-23</th>\n",
       "      <td>20.950001</td>\n",
       "      <td>21.040001</td>\n",
       "      <td>20.809999</td>\n",
       "      <td>20.820000</td>\n",
       "      <td>14.983394</td>\n",
       "      <td>63697600</td>\n",
       "    </tr>\n",
       "    <tr>\n",
       "      <th>2011-01-30</th>\n",
       "      <td>21.760000</td>\n",
       "      <td>21.889999</td>\n",
       "      <td>21.350000</td>\n",
       "      <td>21.459999</td>\n",
       "      <td>15.443974</td>\n",
       "      <td>55193100</td>\n",
       "    </tr>\n",
       "    <tr>\n",
       "      <th>2011-02-06</th>\n",
       "      <td>21.469999</td>\n",
       "      <td>21.700001</td>\n",
       "      <td>21.430000</td>\n",
       "      <td>21.680000</td>\n",
       "      <td>15.734390</td>\n",
       "      <td>39353500</td>\n",
       "    </tr>\n",
       "  </tbody>\n",
       "</table>\n",
       "</div>\n",
       "      <button class=\"colab-df-convert\" onclick=\"convertToInteractive('df-33f32592-c9a9-4f72-af51-2fae82823271')\"\n",
       "              title=\"Convert this dataframe to an interactive table.\"\n",
       "              style=\"display:none;\">\n",
       "        \n",
       "  <svg xmlns=\"http://www.w3.org/2000/svg\" height=\"24px\"viewBox=\"0 0 24 24\"\n",
       "       width=\"24px\">\n",
       "    <path d=\"M0 0h24v24H0V0z\" fill=\"none\"/>\n",
       "    <path d=\"M18.56 5.44l.94 2.06.94-2.06 2.06-.94-2.06-.94-.94-2.06-.94 2.06-2.06.94zm-11 1L8.5 8.5l.94-2.06 2.06-.94-2.06-.94L8.5 2.5l-.94 2.06-2.06.94zm10 10l.94 2.06.94-2.06 2.06-.94-2.06-.94-.94-2.06-.94 2.06-2.06.94z\"/><path d=\"M17.41 7.96l-1.37-1.37c-.4-.4-.92-.59-1.43-.59-.52 0-1.04.2-1.43.59L10.3 9.45l-7.72 7.72c-.78.78-.78 2.05 0 2.83L4 21.41c.39.39.9.59 1.41.59.51 0 1.02-.2 1.41-.59l7.78-7.78 2.81-2.81c.8-.78.8-2.07 0-2.86zM5.41 20L4 18.59l7.72-7.72 1.47 1.35L5.41 20z\"/>\n",
       "  </svg>\n",
       "      </button>\n",
       "      \n",
       "  <style>\n",
       "    .colab-df-container {\n",
       "      display:flex;\n",
       "      flex-wrap:wrap;\n",
       "      gap: 12px;\n",
       "    }\n",
       "\n",
       "    .colab-df-convert {\n",
       "      background-color: #E8F0FE;\n",
       "      border: none;\n",
       "      border-radius: 50%;\n",
       "      cursor: pointer;\n",
       "      display: none;\n",
       "      fill: #1967D2;\n",
       "      height: 32px;\n",
       "      padding: 0 0 0 0;\n",
       "      width: 32px;\n",
       "    }\n",
       "\n",
       "    .colab-df-convert:hover {\n",
       "      background-color: #E2EBFA;\n",
       "      box-shadow: 0px 1px 2px rgba(60, 64, 67, 0.3), 0px 1px 3px 1px rgba(60, 64, 67, 0.15);\n",
       "      fill: #174EA6;\n",
       "    }\n",
       "\n",
       "    [theme=dark] .colab-df-convert {\n",
       "      background-color: #3B4455;\n",
       "      fill: #D2E3FC;\n",
       "    }\n",
       "\n",
       "    [theme=dark] .colab-df-convert:hover {\n",
       "      background-color: #434B5C;\n",
       "      box-shadow: 0px 1px 3px 1px rgba(0, 0, 0, 0.15);\n",
       "      filter: drop-shadow(0px 1px 2px rgba(0, 0, 0, 0.3));\n",
       "      fill: #FFFFFF;\n",
       "    }\n",
       "  </style>\n",
       "\n",
       "      <script>\n",
       "        const buttonEl =\n",
       "          document.querySelector('#df-33f32592-c9a9-4f72-af51-2fae82823271 button.colab-df-convert');\n",
       "        buttonEl.style.display =\n",
       "          google.colab.kernel.accessAllowed ? 'block' : 'none';\n",
       "\n",
       "        async function convertToInteractive(key) {\n",
       "          const element = document.querySelector('#df-33f32592-c9a9-4f72-af51-2fae82823271');\n",
       "          const dataTable =\n",
       "            await google.colab.kernel.invokeFunction('convertToInteractive',\n",
       "                                                     [key], {});\n",
       "          if (!dataTable) return;\n",
       "\n",
       "          const docLinkHtml = 'Like what you see? Visit the ' +\n",
       "            '<a target=\"_blank\" href=https://colab.research.google.com/notebooks/data_table.ipynb>data table notebook</a>'\n",
       "            + ' to learn more about interactive tables.';\n",
       "          element.innerHTML = '';\n",
       "          dataTable['output_type'] = 'display_data';\n",
       "          await google.colab.output.renderOutput(dataTable, element);\n",
       "          const docLink = document.createElement('div');\n",
       "          docLink.innerHTML = docLinkHtml;\n",
       "          element.appendChild(docLink);\n",
       "        }\n",
       "      </script>\n",
       "    </div>\n",
       "  </div>\n",
       "  "
      ],
      "text/plain": [
       "                 Open       High        Low      Close  Adj Close     Volume\n",
       "Date                                                                        \n",
       "2011-01-09  20.709999  20.770000  20.270000  20.660000  14.868240   74806100\n",
       "2011-01-16  21.350000  21.420000  20.969999  21.080000  15.170500  154888800\n",
       "2011-01-23  20.950001  21.040001  20.809999  20.820000  14.983394   63697600\n",
       "2011-01-30  21.760000  21.889999  21.350000  21.459999  15.443974   55193100\n",
       "2011-02-06  21.469999  21.700001  21.430000  21.680000  15.734390   39353500"
      ]
     },
     "execution_count": 4,
     "metadata": {},
     "output_type": "execute_result"
    }
   ],
   "source": [
    "df = yf.download(TICKER, \n",
    "                 start=START_DATE, \n",
    "                 end=END_DATE,\n",
    "                 progress=False)\n",
    "\n",
    "# df = df.resample('D').last()\n",
    "df = df.resample('W').last()\n",
    "# df = df.resample('M').last()\n",
    "df.dropna(inplace=True)\n",
    "df.head()"
   ]
  },
  {
   "cell_type": "code",
   "execution_count": 5,
   "metadata": {
    "colab": {
     "base_uri": "https://localhost:8080/"
    },
    "id": "kONzccIzzn74",
    "outputId": "e9dca037-fd2f-44e7-89b7-04be1734972b"
   },
   "outputs": [
    {
     "data": {
      "text/plain": [
       "Open         0\n",
       "High         0\n",
       "Low          0\n",
       "Close        0\n",
       "Adj Close    0\n",
       "Volume       0\n",
       "dtype: int64"
      ]
     },
     "execution_count": 5,
     "metadata": {},
     "output_type": "execute_result"
    }
   ],
   "source": [
    "df.isnull().sum()"
   ]
  },
  {
   "cell_type": "code",
   "execution_count": 6,
   "metadata": {
    "colab": {
     "base_uri": "https://localhost:8080/"
    },
    "id": "vnuljDnDzj70",
    "outputId": "8245decf-fdc6-4a26-866c-8246216aa77c"
   },
   "outputs": [
    {
     "data": {
      "text/plain": [
       "(574,)"
      ]
     },
     "execution_count": 6,
     "metadata": {},
     "output_type": "execute_result"
    }
   ],
   "source": [
    "prices = df['Adj Close'].values\n",
    "prices.shape"
   ]
  },
  {
   "cell_type": "code",
   "execution_count": 29,
   "metadata": {
    "colab": {
     "base_uri": "https://localhost:8080/"
    },
    "id": "rn8-QlFkU1WT",
    "outputId": "7927633c-a0cb-4f56-89a1-ad660fcad5cc"
   },
   "outputs": [
    {
     "data": {
      "text/plain": [
       "array([14.86824036, 15.1704998 , 14.98339367, 15.44397354, 15.73439026,\n",
       "       15.79244995, 16.06823158, 15.86502838, 15.64730358, 15.14652061])"
      ]
     },
     "execution_count": 29,
     "metadata": {},
     "output_type": "execute_result"
    }
   ],
   "source": [
    "prices[:10]"
   ]
  },
  {
   "cell_type": "code",
   "execution_count": 8,
   "metadata": {
    "colab": {
     "base_uri": "https://localhost:8080/",
     "height": 289
    },
    "id": "3rLJvksindAX",
    "outputId": "59bd4f64-65cb-4946-81f2-e80335a4f6d9"
   },
   "outputs": [
    {
     "data": {
      "image/png": "[encoded data removed]",
      "text/plain": [
       "<Figure size 600x250 with 1 Axes>"
      ]
     },
     "metadata": {},
     "output_type": "display_data"
    }
   ],
   "source": [
    "fig, ax = plt.subplots()\n",
    "\n",
    "ax.plot(df.index, prices)\n",
    "ax.set(title=f\"{TICKER}'s Stock price\", \n",
    "       xlabel='Time', \n",
    "       ylabel='Price ($)');"
   ]
  },
  {
   "cell_type": "markdown",
   "metadata": {
    "id": "Xi3POLQrnuYd"
   },
   "source": [
    "시계열을 MLP용 데이터세트로 변환하는 함수를 정의"
   ]
  },
  {
   "cell_type": "code",
   "execution_count": 9,
   "metadata": {
    "id": "xD9BNE3Go5J6"
   },
   "outputs": [],
   "source": [
    "def create_input_data(series, n_lags):\n",
    "  '''\n",
    "  Parameters\n",
    "  ----------\n",
    "  series : np.array. 변환할 시계열\n",
    "  n_lags : int. feature로 사용할 지연된 관측치의 수\n",
    "\n",
    "  Returns\n",
    "  -------\n",
    "  X : np.arra of features\n",
    "  y : np.arra of target\n",
    "  '''\n",
    "  X, y = [], []\n",
    "\n",
    "  for step in range(len(series) - n_lags):\n",
    "      end_step = step + n_lags\n",
    "      X.append(series[step:end_step])\n",
    "      y.append(series[end_step])\n",
    "  return np.array(X), np.array(y)"
   ]
  },
  {
   "cell_type": "markdown",
   "metadata": {
    "id": "rML7N6A5e8Pa"
   },
   "source": [
    "## 시계열 예측을 위한 순환 신경망 정의"
   ]
  },
  {
   "cell_type": "code",
   "execution_count": 10,
   "metadata": {
    "colab": {
     "base_uri": "https://localhost:8080/"
    },
    "id": "gTqaByoTWIq2",
    "outputId": "325fd8a6-4c97-4ec9-85b5-baa0ac2a4268"
   },
   "outputs": [
    {
     "data": {
      "text/plain": [
       "((474, 1), (100, 1))"
      ]
     },
     "execution_count": 10,
     "metadata": {},
     "output_type": "execute_result"
    }
   ],
   "source": [
    "prices_train = prices[:-VALID_SIZE].reshape(-1, 1)\n",
    "prices_valid  = prices[-VALID_SIZE:].reshape(-1, 1)\n",
    "prices_train.shape, prices_valid.shape"
   ]
  },
  {
   "cell_type": "markdown",
   "metadata": {
    "id": "ViGKeTUQtOYv"
   },
   "source": [
    "시계열을 RNN input shape으로 변환"
   ]
  },
  {
   "cell_type": "code",
   "execution_count": 11,
   "metadata": {
    "colab": {
     "base_uri": "https://localhost:8080/"
    },
    "id": "7TTElrHfT9PB",
    "outputId": "fd9b9bd5-0652-4cd1-ecd9-672c769a7c47"
   },
   "outputs": [
    {
     "name": "stdout",
     "output_type": "stream",
     "text": [
      "(568, 6) (568,)\n"
     ]
    },
    {
     "data": {
      "text/plain": [
       "(torch.Size([568, 6]), torch.Size([568, 1]))"
      ]
     },
     "execution_count": 11,
     "metadata": {},
     "output_type": "execute_result"
    }
   ],
   "source": [
    "X, y = create_input_data(prices, N_LAGS)\n",
    "print(X.shape, y.shape)\n",
    "\n",
    "X_tensor = torch.from_numpy(X)\n",
    "y_tensor = torch.from_numpy(y).unsqueeze(dim=1)\n",
    "X_tensor.size(), y_tensor.size()"
   ]
  },
  {
   "cell_type": "code",
   "execution_count": 12,
   "metadata": {
    "colab": {
     "base_uri": "https://localhost:8080/"
    },
    "id": "Ii4ekfqGJ8Nk",
    "outputId": "dcc7b280-69c7-425a-954e-7ad313a8baf4"
   },
   "outputs": [
    {
     "data": {
      "text/plain": [
       "(torch.Size([568, 6, 1]), torch.Size([568, 1]))"
      ]
     },
     "execution_count": 12,
     "metadata": {},
     "output_type": "execute_result"
    }
   ],
   "source": [
    "X_tensor = torch.from_numpy(X).float().reshape(X.shape[0], X.shape[1], 1)\n",
    "y_tensor = torch.from_numpy(y).float().reshape(X.shape[0], 1)\n",
    "X_tensor.size(), y_tensor.size()"
   ]
  },
  {
   "cell_type": "code",
   "execution_count": 13,
   "metadata": {
    "id": "d4fWBKlwD_bE"
   },
   "outputs": [],
   "source": [
    "valid_ind = len(prices) - VALID_SIZE - N_LAGS\n",
    "\n",
    "dataset = TensorDataset(X_tensor, y_tensor)\n",
    "\n",
    "train_dataset = Subset(dataset, range(valid_ind))\n",
    "valid_dataset = Subset(dataset, range(valid_ind, len(X)))\n",
    "\n",
    "train_loader = DataLoader(dataset=train_dataset, batch_size=BATCH_SIZE, shuffle=True)\n",
    "valid_loader = DataLoader(dataset=valid_dataset, batch_size=BATCH_SIZE)"
   ]
  },
  {
   "cell_type": "code",
   "execution_count": 14,
   "metadata": {
    "colab": {
     "base_uri": "https://localhost:8080/"
    },
    "id": "xhgKY18GKVFk",
    "outputId": "8d21dbc5-68ec-48ae-99ae-55c61881ae67"
   },
   "outputs": [
    {
     "data": {
      "text/plain": [
       "torch.Size([64, 6, 1])"
      ]
     },
     "execution_count": 14,
     "metadata": {},
     "output_type": "execute_result"
    }
   ],
   "source": [
    "#input\n",
    "next(iter(train_loader))[0].shape"
   ]
  },
  {
   "cell_type": "code",
   "execution_count": 15,
   "metadata": {
    "colab": {
     "base_uri": "https://localhost:8080/"
    },
    "id": "Sch5dqqzKZL5",
    "outputId": "aa28cf37-d1cb-4fee-9ef1-a38993b2e0a3"
   },
   "outputs": [
    {
     "data": {
      "text/plain": [
       "torch.Size([64, 1])"
      ]
     },
     "execution_count": 15,
     "metadata": {},
     "output_type": "execute_result"
    }
   ],
   "source": [
    "#target\n",
    "next(iter(train_loader))[1].shape"
   ]
  },
  {
   "cell_type": "code",
   "execution_count": 16,
   "metadata": {
    "colab": {
     "base_uri": "https://localhost:8080/"
    },
    "id": "5F_3G_W8KhJz",
    "outputId": "5761f7b5-814e-41b8-cca0-d9e585a9d1c6"
   },
   "outputs": [
    {
     "name": "stdout",
     "output_type": "stream",
     "text": [
      "Size - training: 468 | validation: 100\n"
     ]
    }
   ],
   "source": [
    "print(f'Size - training: {len(train_loader.dataset)} | validation: {len(valid_loader.dataset)}')"
   ]
  },
  {
   "cell_type": "markdown",
   "metadata": {
    "id": "dbia9QSoUSFd"
   },
   "source": [
    "## RNN model 정의\n",
    "\n",
    "`nn.LSTM(input_size, hidden_size, n_layers, batch_first=True)`\n",
    "\n",
    "    input_size: 입력 `x`에서 예상되는 feature 수  \n",
    "    hidden_size: hidden state `h`의 feature 수   \n",
    "    num_layers: recurrent layer 수. Default: 1    \n",
    "    batch_first: If ``True``, `(batch, seq, feature)` instead of `(seq, batch, feature)`.\n",
    "\n",
    "Inputs: input, (h_0, c_0) \n",
    "* **input** : $(L, N, H_{in})$  \n",
    "* **h_0** : $(D * \\text{num_layers}, N, H_{out})$\n",
    "* **c_0** : $(D * \\text{num_layers}, N, H_{cell})$\n",
    "\n",
    "Outputs: output, (h_n, c_n)  \n",
    "* **output**: $(L, N, D * H_{out})$\n",
    "* **h_n**: $(D * \\text{num\\_layers}, N, H_{out})$  \n",
    "* **c_n**: $(D * \\text{num\\_layers}, N, H_{cell})$\n",
    "\n",
    "\n",
    "$\\begin{aligned}\n",
    "N ={} & \\text{batch size} \\\\\n",
    "L ={} & \\text{sequence length} \\\\\n",
    "D ={} & 2 \\text{ if bidirectional=True otherwise } 1 \\\\\n",
    "H_{in} ={} & \\text{input_size} \\\\\n",
    "H_{cell} ={} & \\text{hidden_size} \\\\\n",
    "H_{out} ={} & \\text{proj_size if } \\text{proj_size}>0 \\text{ otherwise hidden_size} \\\\\n",
    "\\end{aligned}$\n",
    "\n",
    "\n",
    "\n",
    "\n"
   ]
  },
  {
   "cell_type": "code",
   "execution_count": 17,
   "metadata": {
    "id": "Mk5T0SdAtRYv"
   },
   "outputs": [],
   "source": [
    "class LSTM(nn.Module):\n",
    "  def __init__(self, input_size, hidden_dim, n_layers, output_dim):\n",
    "      super(LSTM, self).__init__()\n",
    "      self.hidden_dim = hidden_dim\n",
    "      self.n_layers = n_layers\n",
    "      self.lstm = nn.LSTM(input_size, hidden_dim, \n",
    "                        n_layers, batch_first=True)\n",
    "      self.fc = nn.Linear(hidden_dim, output_dim)\n",
    "    \n",
    "  def forward(self, x, hidden):\n",
    "      batch_size = x.shape[0]\n",
    "      output, hidden = self.lstm(x, hidden)\n",
    "      output = output.reshape(batch_size, -1, self.hidden_dim)  #batch first\n",
    "      output = self.fc(output[:,-1])  #many-to-one\n",
    "      return output, hidden\n",
    "\n",
    "  def init_hidden(self, batch_size):\n",
    "     weight = next(self.parameters()).detach()\n",
    "     # same type, device, filled with zeros\n",
    "     hidden = (weight.new_zeros(self.n_layers, batch_size,  self.hidden_dim), \n",
    "                    weight.new_zeros(self.n_layers,  batch_size, self.hidden_dim))\n",
    "     return hidden"
   ]
  },
  {
   "cell_type": "code",
   "execution_count": 18,
   "metadata": {
    "id": "Wlg4Hh1Dt8vx"
   },
   "outputs": [],
   "source": [
    "model_lstm = LSTM(input_size=1, hidden_dim=12, \n",
    "            n_layers=1, output_dim=1).to(device)\n",
    "loss_fn = nn.MSELoss()\n",
    "optimizer = optim.Adam(model_lstm.parameters(), lr=0.001)"
   ]
  },
  {
   "cell_type": "code",
   "execution_count": 19,
   "metadata": {
    "colab": {
     "base_uri": "https://localhost:8080/"
    },
    "id": "3miXd-itKtwv",
    "outputId": "ecb94b8a-d436-461f-8d9b-393077ed29b4"
   },
   "outputs": [
    {
     "data": {
      "text/plain": [
       "LSTM(\n",
       "  (lstm): LSTM(1, 12, batch_first=True)\n",
       "  (fc): Linear(in_features=12, out_features=1, bias=True)\n",
       ")"
      ]
     },
     "execution_count": 19,
     "metadata": {},
     "output_type": "execute_result"
    }
   ],
   "source": [
    "model_lstm"
   ]
  },
  {
   "cell_type": "markdown",
   "metadata": {
    "id": "EzxJlvLouOOK"
   },
   "source": [
    "Train the network:"
   ]
  },
  {
   "cell_type": "code",
   "execution_count": 20,
   "metadata": {
    "colab": {
     "base_uri": "https://localhost:8080/"
    },
    "id": "IK4GMrNyuRJc",
    "outputId": "99db9a71-55f4-432e-ed18-0b92a7bac967"
   },
   "outputs": [
    {
     "name": "stdout",
     "output_type": "stream",
     "text": [
      "<0> - Train. loss: 1860.6601 \t Valid. loss: 53.9889\n",
      "<50> - Train. loss: 1489.2658 \t Valid. loss: 47.0455\n",
      "<100> - Train. loss: 1200.8661 \t Valid. loss: 41.4446\n",
      "<150> - Train. loss: 975.9160 \t Valid. loss: 36.5057\n",
      "<200> - Train. loss: 804.8094 \t Valid. loss: 32.2072\n",
      "<250> - Train. loss: 632.9340 \t Valid. loss: 27.9488\n",
      "<300> - Train. loss: 504.6603 \t Valid. loss: 23.8312\n",
      "<350> - Train. loss: 392.5607 \t Valid. loss: 19.8766\n",
      "<400> - Train. loss: 280.3816 \t Valid. loss: 15.9175\n",
      "<450> - Train. loss: 190.8330 \t Valid. loss: 12.3016\n",
      "<500> - Train. loss: 142.8090 \t Valid. loss: 9.6219\n",
      "<550> - Train. loss: 111.9275 \t Valid. loss: 7.6334\n",
      "<600> - Train. loss: 95.9067 \t Valid. loss: 6.1400\n",
      "<650> - Train. loss: 85.0417 \t Valid. loss: 5.0724\n",
      "<700> - Train. loss: 79.2625 \t Valid. loss: 4.2395\n",
      "<750> - Train. loss: 73.5023 \t Valid. loss: 3.6776\n",
      "<800> - Train. loss: 74.3575 \t Valid. loss: 3.3747\n",
      "<850> - Train. loss: 70.4496 \t Valid. loss: 3.1614\n",
      "<900> - Train. loss: 66.9398 \t Valid. loss: 3.0801\n",
      "<950> - Train. loss: 66.6783 \t Valid. loss: 2.9700\n",
      "Lowest loss recorded in epoch: 994\n"
     ]
    }
   ],
   "source": [
    "# neural network \n",
    "N_EPOCHS = 1000\n",
    "PRINT_EVERY = 50\n",
    "train_losses, valid_losses = [], []\n",
    "\n",
    "for epoch in range(N_EPOCHS):\n",
    "    running_loss_train = 0\n",
    "    running_loss_valid = 0\n",
    "\n",
    "    model_lstm.train()\n",
    "\n",
    "    for x_batch, y_batch in train_loader:\n",
    "        # initialize the hidden state\n",
    "        batch_size = x_batch.shape[0]\n",
    "        h = model_lstm.init_hidden(batch_size) \n",
    "\n",
    "        x_batch = x_batch.to(device)\n",
    "        y_batch = y_batch.to(device)\n",
    "        y_hat, hidden = model_lstm(x_batch, h)\n",
    "\n",
    "        h = hidden\n",
    "\n",
    "        loss = torch.sqrt(loss_fn(y_batch, y_hat))\n",
    "\n",
    "        optimizer.zero_grad()\n",
    "        loss.backward()\n",
    "        optimizer.step()\n",
    "        running_loss_train += loss.item() * x_batch.size(0)\n",
    "\n",
    "    epoch_loss_train = running_loss_train / len(train_loader)\n",
    "    train_losses.append(epoch_loss_train)\n",
    "\n",
    "    with torch.no_grad():\n",
    "        model_lstm.eval()\n",
    "        for x_val, y_val in valid_loader:\n",
    "            batch_size = x_val.shape[0]\n",
    "            h = model_lstm.init_hidden(batch_size)\n",
    "            x_val = x_val.to(device)\n",
    "            y_val = y_val.to(device)\n",
    "            y_hat, hidden = model_lstm(x_val, h)\n",
    "            h = hidden\n",
    "            loss = torch.sqrt(loss_fn(y_val, y_hat))\n",
    "            running_loss_valid += loss.item() * x_val.size(0)\n",
    "\n",
    "        epoch_loss_valid = running_loss_valid / len(valid_loader.dataset)\n",
    "\n",
    "        if epoch > 0 and epoch_loss_valid < min(valid_losses):\n",
    "            best_epoch = epoch\n",
    "            torch.save(model_lstm.state_dict(), './rnn_checkpoint.pth')\n",
    "\n",
    "        valid_losses.append(epoch_loss_valid)\n",
    "\n",
    "        if epoch % PRINT_EVERY == 0:\n",
    "            print(f\"<{epoch}> - Train. loss: {epoch_loss_train:.4f} \\t Valid. loss: {epoch_loss_valid:.4f}\")\n",
    "\n",
    "print(f'Lowest loss recorded in epoch: {best_epoch}')\n",
    "\n"
   ]
  },
  {
   "cell_type": "markdown",
   "metadata": {
    "id": "1cfDk7CUyI8z"
   },
   "source": [
    "Plot the losses over epochs:"
   ]
  },
  {
   "cell_type": "code",
   "execution_count": 21,
   "metadata": {
    "colab": {
     "base_uri": "https://localhost:8080/",
     "height": 289
    },
    "id": "IOKpSuJFyMYu",
    "outputId": "9c5733c8-fe3d-4617-be0b-c892ece68546"
   },
   "outputs": [
    {
     "data": {
      "image/png": "[encoded data removed]",
      "text/plain": [
       "<Figure size 600x250 with 1 Axes>"
      ]
     },
     "metadata": {},
     "output_type": "display_data"
    }
   ],
   "source": [
    "train_losses = np.array(train_losses)\n",
    "valid_losses = np.array(valid_losses)\n",
    "\n",
    "fig, ax = plt.subplots()\n",
    "\n",
    "ax.plot(train_losses, color='blue', label='Training loss')\n",
    "ax.plot(valid_losses, color='red', label='Validation loss')\n",
    "\n",
    "ax.set(title=\"Loss over epochs\", \n",
    "       xlabel='Epoch', \n",
    "       ylabel='Loss')\n",
    "ax.legend()\n",
    "plt.show()"
   ]
  },
  {
   "cell_type": "markdown",
   "metadata": {
    "id": "yF5DrQ59yqZk"
   },
   "source": [
    "Load the best model (with the lowest validation loss):"
   ]
  },
  {
   "cell_type": "code",
   "execution_count": 22,
   "metadata": {
    "colab": {
     "base_uri": "https://localhost:8080/"
    },
    "id": "Fw2yReDByvWS",
    "outputId": "9df015c7-f34e-47f4-e9a1-e57e840b49fe"
   },
   "outputs": [
    {
     "data": {
      "text/plain": [
       "<All keys matched successfully>"
      ]
     },
     "execution_count": 22,
     "metadata": {},
     "output_type": "execute_result"
    }
   ],
   "source": [
    "state_dict = torch.load('rnn_checkpoint.pth')\n",
    "model_lstm.load_state_dict(state_dict)"
   ]
  },
  {
   "cell_type": "markdown",
   "metadata": {
    "id": "LTX26D4Iy44_"
   },
   "source": [
    "Obtain the predictions:"
   ]
  },
  {
   "cell_type": "code",
   "execution_count": 23,
   "metadata": {
    "id": "pRqU94wny73m"
   },
   "outputs": [],
   "source": [
    "y_pred_rnn = []\n",
    "\n",
    "with torch.no_grad():\n",
    "    model_lstm.eval()\n",
    "\n",
    "    for x_val, y_val in valid_loader:\n",
    "        batch_size = x_val.shape[0]\n",
    "        h = model_lstm.init_hidden(batch_size)\n",
    "        x_val = x_val.to(device)\n",
    "        y_hat, hidden = model_lstm(x_val, h)\n",
    "        y_pred_rnn.append(y_hat)\n",
    "\n",
    "y_pred_rnn = torch.cat(y_pred_rnn).cpu()"
   ]
  },
  {
   "cell_type": "code",
   "execution_count": 24,
   "metadata": {
    "colab": {
     "base_uri": "https://localhost:8080/"
    },
    "id": "jXP4xLreQoqX",
    "outputId": "eb4f31e1-e99d-4144-d85e-bf2f6647d3ea"
   },
   "outputs": [
    {
     "data": {
      "text/plain": [
       "tensor([[57.5028],\n",
       "        [57.5916],\n",
       "        [57.6253],\n",
       "        [57.6085],\n",
       "        [57.0197],\n",
       "        [55.3918],\n",
       "        [52.9827],\n",
       "        [43.6065],\n",
       "        [49.0574],\n",
       "        [50.9225]])"
      ]
     },
     "execution_count": 24,
     "metadata": {},
     "output_type": "execute_result"
    }
   ],
   "source": [
    "y_pred_rnn[:10]"
   ]
  },
  {
   "cell_type": "code",
   "execution_count": 25,
   "metadata": {
    "colab": {
     "base_uri": "https://localhost:8080/"
    },
    "id": "Zz-AbHkoTOf0",
    "outputId": "9cc7cafb-b8b2-40fc-b773-dd480f4a3467"
   },
   "outputs": [
    {
     "data": {
      "text/plain": [
       "array([[63.09930801],\n",
       "       [64.29402161],\n",
       "       [61.49363327],\n",
       "       [53.06383133],\n",
       "       [53.30277252],\n",
       "       [52.02205276],\n",
       "       [43.80251312],\n",
       "       [50.05318451],\n",
       "       [51.73532486],\n",
       "       [54.61215973]])"
      ]
     },
     "execution_count": 25,
     "metadata": {},
     "output_type": "execute_result"
    }
   ],
   "source": [
    "prices_valid[:10]"
   ]
  },
  {
   "cell_type": "markdown",
   "metadata": {
    "id": "WaTjCKk3zTse"
   },
   "source": [
    "Evaluate the predictions:"
   ]
  },
  {
   "cell_type": "code",
   "execution_count": 26,
   "metadata": {
    "id": "bxNw11PfMle6"
   },
   "outputs": [],
   "source": [
    "rnn_mse = mean_squared_error(prices_valid, y_pred_rnn)\n",
    "rnn_rmse = np.sqrt(rnn_mse)"
   ]
  },
  {
   "cell_type": "markdown",
   "metadata": {
    "id": "JlpnNsehPIh2"
   },
   "source": [
    "RNN - 이전 6일의 price를 보고 익일 price 예측. "
   ]
  },
  {
   "cell_type": "code",
   "execution_count": 27,
   "metadata": {
    "colab": {
     "base_uri": "https://localhost:8080/"
    },
    "id": "LnT-pn_zMfeh",
    "outputId": "3568c687-2f7f-4ae0-a9ad-8a345c2e3a79"
   },
   "outputs": [
    {
     "name": "stdout",
     "output_type": "stream",
     "text": [
      "RNN's forecast - MSE: 9.7502, RMSE: 3.1225\n"
     ]
    }
   ],
   "source": [
    "print(f\"RNN's forecast - MSE: {rnn_mse:.4f}, RMSE: {rnn_rmse:.4f}\")"
   ]
  },
  {
   "cell_type": "code",
   "execution_count": 28,
   "metadata": {
    "colab": {
     "base_uri": "https://localhost:8080/",
     "height": 289
    },
    "id": "c99w0d-XzWeb",
    "outputId": "40c6652d-3b74-4cc1-8d94-f034f0c3a155"
   },
   "outputs": [
    {
     "data": {
      "image/png": "[encoded data removed]",
      "text/plain": [
       "<Figure size 600x250 with 1 Axes>"
      ]
     },
     "metadata": {},
     "output_type": "display_data"
    }
   ],
   "source": [
    "fig, ax = plt.subplots()\n",
    "\n",
    "ax.plot(prices_valid, color='blue', label='Actual')\n",
    "ax.plot(y_pred_rnn, color='red', label='LSTM')\n",
    "\n",
    "ax.set(title=\"Actual vs. Forecasts\", \n",
    "       xlabel='Time', \n",
    "       ylabel='Price ($)')\n",
    "ax.legend()\n",
    "plt.show()"
   ]
  }
 ],
 "metadata": {
  "accelerator": "GPU",
  "colab": {
   "collapsed_sections": [],
   "name": "340_DeepLearning_TimeSeries.ipynb",
   "provenance": []
  },
  "kernelspec": {
   "display_name": "Python 3",
   "language": "python",
   "name": "python3"
  },
  "language_info": {
   "codemirror_mode": {
    "name": "ipython",
    "version": 3
   },
   "file_extension": ".py",
   "mimetype": "text/x-python",
   "name": "python",
   "nbconvert_exporter": "python",
   "pygments_lexer": "ipython3",
   "version": "3.9.7"
  }
 },
 "nbformat": 4,
 "nbformat_minor": 1
}
