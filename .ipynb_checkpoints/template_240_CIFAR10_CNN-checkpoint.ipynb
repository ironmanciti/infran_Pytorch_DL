{
 "cells": [
  {
   "cell_type": "markdown",
   "metadata": {
    "id": "q4RMbkolIgZP"
   },
   "source": [
    "# 240. CIFAR-10 을 이용한 CNN 구축\n",
    "\n",
    "- **CNN**을 학습하여 CIFAR-10 데이터베이스의 이미지를 분류합니다.\n",
    "\n",
    "<img src='https://production-media.paperswithcode.com/datasets/CIFAR-10-0000000431-b71f61c0_U5n3Glr.jpg' width=600 />\n",
    "\n",
    "\n",
    "- mean, std ((0.5, 0.5, 0.5), (0.5, 0.5, 0.5)) 로 normalize 된 image 의 unnormalization 방법\n",
    "    - image = image * 0.5 + 0.5"
   ]
  },
  {
   "cell_type": "markdown",
   "metadata": {
    "id": "RXokErjxgyjY"
   },
   "source": [
    "## Data Download 및 Data Loader 를 이용하여 Train, Validation data 준비"
   ]
  },
  {
   "cell_type": "markdown",
   "metadata": {
    "id": "mwlI9nSwg5j-"
   },
   "source": [
    "### 일부 Data 시각화\n",
    "\n",
    "- matplotlib 은 channel 위치가 last 이므로 transpose(1, 2, 0) 로 image 수정"
   ]
  },
  {
   "cell_type": "markdown",
   "metadata": {
    "id": "6SdZUr6fIgZa"
   },
   "source": [
    "## Model build\n",
    "\n",
    "### Custom Model\n",
    "\n",
    "- Output Size = (W - F + 2P) / S + 1  \n",
    "- output_size / Maxpool(2) "
   ]
  },
  {
   "cell_type": "markdown",
   "metadata": {
    "id": "qaFdOdKn4nIW"
   },
   "source": [
    "input image size : (32, 32)\n",
    "kernel size : 3\n",
    "padding : 1\n",
    "stride : 1"
   ]
  },
  {
   "cell_type": "markdown",
   "metadata": {
    "id": "hRxrKLRI9F-L"
   },
   "source": [
    "`model.forward(train_data[0][0].unsqueeze(0).to(device))`"
   ]
  },
  {
   "cell_type": "markdown",
   "metadata": {
    "id": "utACyzFKhGaM"
   },
   "source": [
    "### nn.Sequential 이용\n",
    "\n",
    "\n",
    "- ``torch.nn`` 에는 코드를 간단히 사용할 수 있는 또 다른 편리한 클래스인\n",
    "[Sequential](https://pytorch.org/docs/stable/nn.html#torch.nn.Sequential) 이 있습니다.  \n",
    "\n",
    "- ``Sequential`` 객체는 그 안에 포함된 각 모듈을 순차적으로 실행합니다. 이것은 신경망을 작성하는 더 간단한 방법입니다.\n"
   ]
  },
  {
   "cell_type": "markdown",
   "metadata": {
    "id": "G-cUi6OjIgZc"
   },
   "source": [
    "### Model Summary"
   ]
  },
  {
   "cell_type": "markdown",
   "metadata": {
    "id": "38FnXHXlIgZc"
   },
   "source": [
    "### Loss Function"
   ]
  },
  {
   "cell_type": "markdown",
   "metadata": {
    "id": "131T7vCmIgZe"
   },
   "source": [
    "### Model 평가"
   ]
  },
  {
   "cell_type": "markdown",
   "metadata": {
    "id": "ZKdyh4-6hoy3"
   },
   "source": [
    "### model 이 어떤 image 들을 잘 맞추고 혹은 틀렸는지 시각화"
   ]
  },
  {
   "cell_type": "markdown",
   "metadata": {
    "id": "-nJ765fqh-tC"
   },
   "source": [
    "## Saving and loading the model\n",
    "\n",
    "### Save and load the model via state_dict"
   ]
  },
  {
   "cell_type": "markdown",
   "metadata": {
    "id": "O9NDbhuhsecS"
   },
   "source": [
    "### Save and load entire model"
   ]
  }
 ],
 "metadata": {
  "accelerator": "GPU",
  "colab": {
   "collapsed_sections": [],
   "name": "240_CIFAR10_CNN.ipynb",
   "provenance": []
  },
  "kernelspec": {
   "display_name": "Python 3",
   "language": "python",
   "name": "python3"
  },
  "language_info": {
   "codemirror_mode": {
    "name": "ipython",
    "version": 3
   },
   "file_extension": ".py",
   "mimetype": "text/x-python",
   "name": "python",
   "nbconvert_exporter": "python",
   "pygments_lexer": "ipython3",
   "version": "3.9.7"
  }
 },
 "nbformat": 4,
 "nbformat_minor": 1
}
