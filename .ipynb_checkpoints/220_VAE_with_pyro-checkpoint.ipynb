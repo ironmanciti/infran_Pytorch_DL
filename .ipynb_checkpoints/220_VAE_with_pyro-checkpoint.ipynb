{
 "cells": [
  {
   "cell_type": "markdown",
   "id": "linear-tower",
   "metadata": {
    "id": "linear-tower"
   },
   "source": [
    "# VAE in Pyro"
   ]
  },
  {
   "cell_type": "code",
   "execution_count": 8,
   "id": "xXTBIK_j5wTt",
   "metadata": {
    "colab": {
     "base_uri": "https://localhost:8080/"
    },
    "id": "xXTBIK_j5wTt",
    "outputId": "5372d8a3-8a5d-46a9-9efc-c5386fa3c19f"
   },
   "outputs": [],
   "source": [
    "# !pip install pyro-ppl"
   ]
  },
  {
   "cell_type": "code",
   "execution_count": 9,
   "id": "ambient-amplifier",
   "metadata": {
    "colab": {
     "base_uri": "https://localhost:8080/",
     "height": 35
    },
    "id": "ambient-amplifier",
    "outputId": "bbac9735-a4af-492f-88e1-fa3db701893c"
   },
   "outputs": [
    {
     "data": {
      "text/plain": [
       "'1.6.0'"
      ]
     },
     "execution_count": 9,
     "metadata": {},
     "output_type": "execute_result"
    }
   ],
   "source": [
    "import os\n",
    "import matplotlib.pyplot as plt\n",
    "import torch\n",
    "from torchvision.datasets import MNIST\n",
    "import torch.nn as nn\n",
    "import torchvision.transforms as transforms\n",
    "import pyro\n",
    "import pyro.distributions as dist\n",
    "from pyro.infer import SVI, Trace_ELBO\n",
    "from pyro.optim import Adam\n",
    "pyro.__version__"
   ]
  },
  {
   "cell_type": "code",
   "execution_count": 10,
   "id": "stuffed-ceiling",
   "metadata": {
    "id": "stuffed-ceiling"
   },
   "outputs": [
    {
     "data": {
      "text/plain": [
       "True"
      ]
     },
     "execution_count": 10,
     "metadata": {},
     "output_type": "execute_result"
    }
   ],
   "source": [
    "pyro.distributions.enable_validation(False)\n",
    "pyro.set_rng_seed(0)\n",
    "smoke_test = False\n",
    "USE_CUDA = torch.cuda.is_available()\n",
    "USE_CUDA"
   ]
  },
  {
   "cell_type": "markdown",
   "id": "surface-kruger",
   "metadata": {
    "id": "surface-kruger"
   },
   "source": [
    "torchvision.transforms.ToTensor() : Converts a PIL Image or numpy.ndarray(dtype = np.uint8) in the range\n",
    "[0, 255] to a torch.FloatTensor of shape (C x H x W) in the range [0.0, 1.0]"
   ]
  },
  {
   "cell_type": "code",
   "execution_count": 12,
   "id": "innocent-turkey",
   "metadata": {
    "id": "innocent-turkey"
   },
   "outputs": [],
   "source": [
    "batch_size=256\n",
    "use_cuda=USE_CUDA\n",
    "\n",
    "train_set = MNIST(root='./data', train=True, transform=transforms.ToTensor(),\n",
    "                  download=True)\n",
    "test_set  = MNIST(root='./data', train=False, transform=transforms.ToTensor())\n",
    "kwargs = {'num_workers': 1, 'pin_memory': use_cuda}\n",
    "train_loader = torch.utils.data.DataLoader(dataset=train_set, batch_size=batch_size,\n",
    "                                          shuffle=True, **kwargs)\n",
    "test_loader = torch.utils.data.DataLoader(dataset=test_set, batch_size=batch_size,\n",
    "                                         shuffle=False, **kwargs)"
   ]
  },
  {
   "cell_type": "markdown",
   "id": "binding-juice",
   "metadata": {
    "id": "binding-juice"
   },
   "source": [
    "## Decoder"
   ]
  },
  {
   "cell_type": "code",
   "execution_count": 18,
   "id": "disciplinary-snowboard",
   "metadata": {
    "id": "disciplinary-snowboard"
   },
   "outputs": [],
   "source": [
    "class Decoder(nn.Module):\n",
    "        \n",
    "    def __init__(self, z_dim, hidden_dim):\n",
    "        super().__init__()\n",
    "        # 2 linear transformations \n",
    "        self.fc1 = nn.Linear(z_dim, hidden_dim)\n",
    "        self.fc2 = nn.Linear(hidden_dim, 784)\n",
    "        self.softplus = nn.Softplus()\n",
    "    \n",
    "    def forward(self, z):\n",
    "        hidden = self.softplus(self.fc1(z))\n",
    "        # Bernoulli output, batch_size * 784\n",
    "        loc_img = torch.sigmoid(self.fc2(hidden))\n",
    "        return loc_img"
   ]
  },
  {
   "cell_type": "markdown",
   "id": "ceramic-victoria",
   "metadata": {
    "id": "ceramic-victoria"
   },
   "source": [
    "## Encoder\n",
    "\n",
    "pyro.module - Takes a torch.nn.Module and registers its parameters with the ParamStore  \n",
    "\n",
    "pyro.plate(name, size) - Construct for conditionally independent sequences of variables  \n",
    "\n",
    "    name : A unique name to help inference algorithms match  \n",
    "    size : Optional size of the collection being subsampled\n",
    "    \n",
    "new_ones(size) : Returns a Tensor of size size filled with 1. By default, the returned Tensor has the same torch.dtype and torch.device as this tensor.  \n",
    "\n",
    "my_dist.to_event(1) to declare a dimension as dependent. In Pyro you can treat a univariate distribution as multivariate by calling the .to_event(n) property where n is the number of batch dimensions (from the right) to declare as dependent.  \n",
    "\n",
    "pyro.distributions.Bernoulli(wrapping of torch.distributions.bernoulli.Bernoulli) - Creates a Bernoulli distribution. Samples are binary (0 or 1). \n",
    "\n",
    "pyro.sample(name, fn, obs) - Calls the stochastic function `fn` with additional side-effects depending\n",
    "on `name`. obs – observed datum "
   ]
  },
  {
   "cell_type": "code",
   "execution_count": 19,
   "id": "accepted-wright",
   "metadata": {
    "id": "accepted-wright"
   },
   "outputs": [],
   "source": [
    "# d = pyro.distributions.Bernoulli(0.5 * torch.ones(3,4)).to_event(1)\n",
    "# d.batch_shape, d.event_shape, d.sample()"
   ]
  },
  {
   "cell_type": "code",
   "execution_count": 20,
   "id": "numerical-underwear",
   "metadata": {
    "id": "numerical-underwear"
   },
   "outputs": [],
   "source": [
    "class Encoder(nn.Module):\n",
    "\n",
    "    def __init__(self, z_dim, hidden_dim):\n",
    "        super().__init__()\n",
    "        # 3 linear transformations\n",
    "        self.fc1 = nn.Linear(784, hidden_dim)\n",
    "        self.fc21 = nn.Linear(hidden_dim, z_dim)\n",
    "        self.fc22 = nn.Linear(hidden_dim, z_dim)\n",
    "        self.softplus = nn.Softplus()\n",
    "        \n",
    "    def forward(self, x):\n",
    "        x = x.reshape(-1, 784)\n",
    "        hidden = self.softplus(self.fc1(x))\n",
    "        # mean vector\n",
    "        z_loc = self.fc21(hidden)\n",
    "        # square root covariance vector\n",
    "        z_scale = torch.exp(self.fc22(hidden))\n",
    "        # mean and covariance that together parameterize \n",
    "        #a (diagonal) Gaussian distribution in latent space  \n",
    "        return z_loc, z_scale\n",
    "    \n",
    "    # define the model p(x|z)p(z)\n",
    "    def model(self, x):\n",
    "        # register pytorch module `decoder` with pyro\n",
    "        pyro.module(\"decoder\", self.decoder)\n",
    "\n",
    "        with pyro.plate(\"data\", x.shape[0]): # mini-batch 에 독립성 부여\n",
    "            # setup hyperparameters for prior p(z) - 단위 정규분포\n",
    "            z_loc = x.new_zeros(torch.Size((x.shape[0], self.z_dim)))\n",
    "            z_scale = x.new_ones(torch.Size((x.shape[0], self.z_dim)))\n",
    "            # sample from prior (when computing ELBO)\n",
    "            # 다변수 정규분포 - dianogal covariance\n",
    "            z = pyro.sample(\"latent\", dist.Normal(z_loc, z_scale).to_event(1))\n",
    "            # decode latent z\n",
    "            loc_img = self.decoder(z)\n",
    "            # score against actual images. flatten x.\n",
    "            pyro.sample(\"obs\", dist.Bernoulli(loc_img).to_event(1), obs=x.reshape(-1, 784))\n",
    "        \n",
    "    # define the guide\n",
    "    def guide(self, x):\n",
    "        # reguster pytorch module \"encoder\" with pyro\n",
    "        pyro.module(\"encoder\", self.encoder)\n",
    "        with pyro.plate(\"data\", x.shape[0]): # mini-batch size\n",
    "            z_loc, z_scale = self.encoder(x)\n",
    "            # sample latent z using normal distribution\n",
    "            pyro.sample(\"latent\", dist.Normal(z_loc, z_scale).to_event(1))"
   ]
  },
  {
   "cell_type": "markdown",
   "id": "martial-employment",
   "metadata": {
    "id": "martial-employment"
   },
   "source": [
    "## VAE"
   ]
  },
  {
   "cell_type": "code",
   "execution_count": 21,
   "id": "reported-group",
   "metadata": {
    "id": "reported-group"
   },
   "outputs": [],
   "source": [
    "class VAE(nn.Module):\n",
    "    \n",
    "    def __init__(self, z_dim=50, hidden_dim=400, use_cuda=False):\n",
    "        super().__init__()\n",
    "        self.encoder = Encoder(z_dim, hidden_dim)\n",
    "        self.decoder = Decoder(z_dim, hidden_dim)\n",
    "        \n",
    "        if use_cuda:\n",
    "            self.cuda() #모든 parameter를 gpu 로 보냄\n",
    "        self.use_cuda = use_cuda\n",
    "        self.z_dim = z_dim\n",
    "    \n",
    "    def model(self, x):\n",
    "        pyro.module(\"decoder\", self.decoder)\n",
    "        \n",
    "        # define the model p(x|z)p(z)\n",
    "        with pyro.plate(\"data\", x.shape[0]): # mini-batch 에 독립성 부여\n",
    "            # setup hyperparameters for prior p(z) - 단위 정규분포\n",
    "            z_loc = x.new_zeros(torch.Size((x.shape[0], self.z_dim)))\n",
    "            z_scale = x.new_ones(torch.Size((x.shape[0], self.z_dim)))\n",
    "            # sample from prior (when computing ELBO)\n",
    "            # 다변수 정규분포 - dianogal covariance\n",
    "            z = pyro.sample(\"latent\", dist.Normal(z_loc, z_scale).to_event(1))\n",
    "            # decode latent z\n",
    "            loc_img = self.decoder(z)\n",
    "            # score against actual images. flatten x.\n",
    "            pyro.sample(\"obs\", \n",
    "                        dist.Bernoulli(loc_img).to_event(1), obs=x.reshape(-1, 784))\n",
    "            \n",
    "    # define the guide\n",
    "    def guide(self, x):\n",
    "        # reguster pytorch module \"encoder\" with pyro\n",
    "        pyro.module(\"encoder\", self.encoder)\n",
    "        with pyro.plate(\"data\", x.shape[0]): # mini-batch size\n",
    "            z_loc, z_scale = self.encoder(x)\n",
    "            # sample latent z using normal distribution\n",
    "            pyro.sample(\"latent\", dist.Normal(z_loc, z_scale).to_event(1))\n",
    "            \n",
    "    def reconstruct_img(self, x):\n",
    "        # encode image x\n",
    "        z_loc, z_scale = self.encoder(x)\n",
    "        # sample in latent space\n",
    "        z = dist.Normal(z_loc, z_scale).sample()\n",
    "        # decode image\n",
    "        loc_img = self.decoder(z)\n",
    "        return loc_img"
   ]
  },
  {
   "cell_type": "code",
   "execution_count": 22,
   "id": "bulgarian-speaker",
   "metadata": {
    "colab": {
     "base_uri": "https://localhost:8080/"
    },
    "id": "bulgarian-speaker",
    "outputId": "c7938e51-125e-46f6-9155-164995841b39"
   },
   "outputs": [
    {
     "data": {
      "text/plain": [
       "VAE(\n",
       "  (encoder): Encoder(\n",
       "    (fc1): Linear(in_features=784, out_features=400, bias=True)\n",
       "    (fc21): Linear(in_features=400, out_features=50, bias=True)\n",
       "    (fc22): Linear(in_features=400, out_features=50, bias=True)\n",
       "    (softplus): Softplus(beta=1, threshold=20)\n",
       "  )\n",
       "  (decoder): Decoder(\n",
       "    (fc1): Linear(in_features=50, out_features=400, bias=True)\n",
       "    (fc2): Linear(in_features=400, out_features=784, bias=True)\n",
       "    (softplus): Softplus(beta=1, threshold=20)\n",
       "  )\n",
       ")"
      ]
     },
     "execution_count": 22,
     "metadata": {
      "tags": []
     },
     "output_type": "execute_result"
    }
   ],
   "source": [
    "vae = VAE()\n",
    "vae"
   ]
  },
  {
   "cell_type": "markdown",
   "id": "individual-score",
   "metadata": {
    "id": "individual-score"
   },
   "source": [
    "## Setup inference algorithm\n",
    "\n",
    "Pyro supports stochastic variational inference as a general purpose inference algorithm.  \n",
    "\n",
    "The model has observations 𝐱 and latent random variables 𝐳 as well as parameters 𝜃.   \n",
    "It has a joint probability density of the form \n",
    "$$𝑝_𝜃(𝐱,𝐳)=𝑝_𝜃(𝐱|𝐳)𝑝_𝜃(𝐳)$$\n",
    "\n",
    "We assume that the various probability distributions $𝑝_𝑖$ that make up $𝑝_𝜃(𝐱,𝐳)$ have the following properties:\n",
    "\n",
    "1. we can sample from each $𝑝_𝑖$  \n",
    "2. we can compute the pointwise log pdf $𝑝_𝑖$  \n",
    "3. $𝑝_𝑖$ is differentiable w.r.t. the parameters 𝜃  \n",
    "\n",
    "### Guide\n",
    "The basic idea is that we introduce a parameterized distribution $𝑞_𝜙(𝐳)$, where 𝜙 are known as the variational parameters. This distribution is called the variational distribution in much of the literature, and in the context of Pyro it’s called the **guide**. The guide will serve as an approximation to the posterior. \n",
    "\n",
    "### SVI Class\n",
    "In Pyro, doing variational inference is encapsulated in the SVI class.  \n",
    "\n",
    "The user needs to provide three things: **the model, the guide, and an optimizer**. "
   ]
  },
  {
   "cell_type": "markdown",
   "id": "designed-germany",
   "metadata": {
    "id": "designed-germany"
   },
   "source": [
    "## Train"
   ]
  },
  {
   "cell_type": "code",
   "execution_count": 23,
   "id": "systematic-terror",
   "metadata": {
    "id": "systematic-terror"
   },
   "outputs": [],
   "source": [
    "def train(svi, train_loader, use_cuda=False):\n",
    "    epoch_loss = 0\n",
    "    for x, _ in train_loader:\n",
    "        if use_cuda:\n",
    "            x = x.cuda()\n",
    "        # ELBO gradient 수행 및 loss 누적\n",
    "        epoch_loss += svi.step(x)\n",
    "\n",
    "    return epoch_loss/len(train_loader.dataset)\n",
    "\n",
    "def evaluate(svi, test_loader, use_cuda=False):\n",
    "    test_loss = 0\n",
    "    for x, _ in test_loader:\n",
    "        if use_cuda:\n",
    "            x = x.cuda()\n",
    "        # ELBO gradient 수행 및 loss 누적\n",
    "        test_loss += svi.evaluate_loss(x)\n",
    "\n",
    "    return test_loss/len(test_loader.dataset)"
   ]
  },
  {
   "cell_type": "code",
   "execution_count": null,
   "id": "relative-stake",
   "metadata": {
    "colab": {
     "base_uri": "https://localhost:8080/",
     "height": 1000,
     "referenced_widgets": [
      "21527c263fb24ab9bd4924cac9b5ebf8",
      "708852a400f046439e14cb1964f38d4f",
      "beaa1c4aecbb4039987ea1cf7bacda09",
      "6afca71bc1aa44268b95132be12d4df1",
      "0f521ffc1a2e438d9082e672e5b1de2b",
      "ff864458b8894a66a64369bc05f1b617",
      "2db32e062ece4f47bc5ffeb557540673",
      "132debd3b8e04b108d10a926247375dc",
      "bf3a45ff8be44669afdfd3cab08a5340",
      "7c6624ff96234a7f9b5c25400a76ea71",
      "94755f5a617547f5abdc629c33868b5d",
      "5bfe1a896c1243d18c8e873830f63e60",
      "c62bb4791a0040f3a3f621751a30687b",
      "b9a06768ddc74b3b90fb850bf11d1781",
      "e4c71860dcd54707a9893bc38e46b89f",
      "ceba7e509ad2463d82cf493763d64f51",
      "3a54844cfc4644ab969b19934fa019d5",
      "7af515f5d8f8405d848f459206a19e92",
      "7f75a03b97824cbe884925d07e38c019",
      "dfe27827216d445aa338d64603a6f296",
      "795d38b041d1447384e3c1b9f8c65ae0",
      "7bfd1cc911214a36beee6203fc6c0c05",
      "c68d019d2f534e92a526abe35bb667c8",
      "94083111b8b34250b24c58dff133e686",
      "a9a9640dc4544384a10c226bd8722767",
      "9ecd49d88689455d856a6a497a6579b4",
      "a8f0ddb3ee20465689e7d09df6caf3cc",
      "bbbd8b01055142e99bffc33a98e5ce1d",
      "39c5271137784134ab5d9eb673eadef1",
      "c1b29b4d49234a8db5cb97e665f0e910",
      "531cf6c150f54e99bd0e9eb25f935639",
      "1313e99a41414330ab1844863d128f27"
     ]
    },
    "id": "relative-stake",
    "outputId": "2210453a-ec07-4073-ea67-53d7bc153675",
    "scrolled": false
   },
   "outputs": [],
   "source": [
    "LEARNING_RATE = 1.0e-3\n",
    "\n",
    "NUM_EPOCHS = 1 if smoke_test else 100\n",
    "TEST_FREQUENCY = 5\n",
    "\n",
    "pyro.clear_param_store()\n",
    "\n",
    "vae = VAE(use_cuda=USE_CUDA)\n",
    "\n",
    "optimizer = Adam({\"lr\": LEARNING_RATE})\n",
    "\n",
    "svi = SVI(vae.model, vae.guide, optimizer, loss=Trace_ELBO())\n",
    "\n",
    "train_elbo = []\n",
    "test_elbo = []\n",
    "\n",
    "for epoch in range(NUM_EPOCHS):\n",
    "    total_epoch_loss_train = train(svi, train_loader, use_cuda=USE_CUDA)\n",
    "    train_elbo.append(total_epoch_loss_train)\n",
    "    print(f\"[epoch{epoch:3d}] average train loss: {total_epoch_loss_train:.4f}\")\n",
    "    \n",
    "    if epoch % TEST_FREQUENCY == 0:\n",
    "        total_epoch_loss_test = evaluate(svi, train_loader, use_cuda=USE_CUDA)\n",
    "        test_elbo.append(total_epoch_loss_test)\n",
    "        print(f\"[epoch{epoch:3d}] average test loss: {total_epoch_loss_test:.4f}\")"
   ]
  },
  {
   "cell_type": "code",
   "execution_count": 55,
   "id": "PP4w22o1CngB",
   "metadata": {
    "id": "PP4w22o1CngB"
   },
   "outputs": [],
   "source": [
    "original_img = next(iter(test_loader))[0]\n",
    "z_loc, z_scale = vae.encoder(original_img)\n",
    "z = pyro.sample(\"latent\", dist.Normal(z_loc, z_scale).to_event(1))\n",
    "loc_img = vae.decoder(z)"
   ]
  },
  {
   "cell_type": "code",
   "execution_count": 56,
   "id": "ztpg54hF_ZS4",
   "metadata": {
    "colab": {
     "base_uri": "https://localhost:8080/",
     "height": 252
    },
    "id": "ztpg54hF_ZS4",
    "outputId": "9e75db89-f88f-4687-9a03-992895ac0a11"
   },
   "outputs": [
    {
     "data": {
      "image/png": "[encoded data removed]",
      "text/plain": [
       "<Figure size 288x288 with 64 Axes>"
      ]
     },
     "metadata": {
      "tags": []
     },
     "output_type": "display_data"
    }
   ],
   "source": [
    "plt.figure(figsize=(4, 4))\n",
    "for i in range(64):\n",
    "    plt.subplot(8, 8, i+1)\n",
    "    plt.imshow(original_img[i].reshape(28, 28), cmap='gray')\n",
    "    plt.xticks([])\n",
    "    plt.yticks([])"
   ]
  },
  {
   "cell_type": "code",
   "execution_count": 57,
   "id": "7ckB253mBmDi",
   "metadata": {
    "colab": {
     "base_uri": "https://localhost:8080/",
     "height": 252
    },
    "id": "7ckB253mBmDi",
    "outputId": "74d06826-e305-470c-9d42-280070fc8c53"
   },
   "outputs": [
    {
     "data": {
      "image/png": "[encoded data removed]",
      "text/plain": [
       "<Figure size 288x288 with 64 Axes>"
      ]
     },
     "metadata": {
      "tags": []
     },
     "output_type": "display_data"
    }
   ],
   "source": [
    "plt.figure(figsize=(4, 4))\n",
    "for i in range(64):\n",
    "    plt.subplot(8, 8, i+1)\n",
    "    plt.imshow(loc_img[i].detach().numpy().reshape(28, 28), cmap='gray')\n",
    "    plt.xticks([])\n",
    "    plt.yticks([])"
   ]
  },
  {
   "cell_type": "code",
   "execution_count": null,
   "id": "FEZgc0sVCTsg",
   "metadata": {
    "id": "FEZgc0sVCTsg"
   },
   "outputs": [],
   "source": []
  }
 ],
 "metadata": {
  "accelerator": "GPU",
  "colab": {
   "machine_shape": "hm",
   "name": "220_VAE_with_pyro.ipynb",
   "provenance": []
  },
  "kernelspec": {
   "display_name": "Python 3",
   "language": "python",
   "name": "python3"
  },
  "language_info": {
   "codemirror_mode": {
    "name": "ipython",
    "version": 3
   },
   "file_extension": ".py",
   "mimetype": "text/x-python",
   "name": "python",
   "nbconvert_exporter": "python",
   "pygments_lexer": "ipython3",
   "version": "3.7.6"
  },
  "widgets": {
   "application/vnd.jupyter.widget-state+json": {
    "0f521ffc1a2e438d9082e672e5b1de2b": {
     "model_module": "@jupyter-widgets/controls",
     "model_name": "ProgressStyleModel",
     "state": {
      "_model_module": "@jupyter-widgets/controls",
      "_model_module_version": "1.5.0",
      "_model_name": "ProgressStyleModel",
      "_view_count": null,
      "_view_module": "@jupyter-widgets/base",
      "_view_module_version": "1.2.0",
      "_view_name": "StyleView",
      "bar_color": null,
      "description_width": "initial"
     }
    },
    "1313e99a41414330ab1844863d128f27": {
     "model_module": "@jupyter-widgets/base",
     "model_name": "LayoutModel",
     "state": {
      "_model_module": "@jupyter-widgets/base",
      "_model_module_version": "1.2.0",
      "_model_name": "LayoutModel",
      "_view_count": null,
      "_view_module": "@jupyter-widgets/base",
      "_view_module_version": "1.2.0",
      "_view_name": "LayoutView",
      "align_content": null,
      "align_items": null,
      "align_self": null,
      "border": null,
      "bottom": null,
      "display": null,
      "flex": null,
      "flex_flow": null,
      "grid_area": null,
      "grid_auto_columns": null,
      "grid_auto_flow": null,
      "grid_auto_rows": null,
      "grid_column": null,
      "grid_gap": null,
      "grid_row": null,
      "grid_template_areas": null,
      "grid_template_columns": null,
      "grid_template_rows": null,
      "height": null,
      "justify_content": null,
      "justify_items": null,
      "left": null,
      "margin": null,
      "max_height": null,
      "max_width": null,
      "min_height": null,
      "min_width": null,
      "object_fit": null,
      "object_position": null,
      "order": null,
      "overflow": null,
      "overflow_x": null,
      "overflow_y": null,
      "padding": null,
      "right": null,
      "top": null,
      "visibility": null,
      "width": null
     }
    },
    "132debd3b8e04b108d10a926247375dc": {
     "model_module": "@jupyter-widgets/base",
     "model_name": "LayoutModel",
     "state": {
      "_model_module": "@jupyter-widgets/base",
      "_model_module_version": "1.2.0",
      "_model_name": "LayoutModel",
      "_view_count": null,
      "_view_module": "@jupyter-widgets/base",
      "_view_module_version": "1.2.0",
      "_view_name": "LayoutView",
      "align_content": null,
      "align_items": null,
      "align_self": null,
      "border": null,
      "bottom": null,
      "display": null,
      "flex": null,
      "flex_flow": null,
      "grid_area": null,
      "grid_auto_columns": null,
      "grid_auto_flow": null,
      "grid_auto_rows": null,
      "grid_column": null,
      "grid_gap": null,
      "grid_row": null,
      "grid_template_areas": null,
      "grid_template_columns": null,
      "grid_template_rows": null,
      "height": null,
      "justify_content": null,
      "justify_items": null,
      "left": null,
      "margin": null,
      "max_height": null,
      "max_width": null,
      "min_height": null,
      "min_width": null,
      "object_fit": null,
      "object_position": null,
      "order": null,
      "overflow": null,
      "overflow_x": null,
      "overflow_y": null,
      "padding": null,
      "right": null,
      "top": null,
      "visibility": null,
      "width": null
     }
    },
    "21527c263fb24ab9bd4924cac9b5ebf8": {
     "model_module": "@jupyter-widgets/controls",
     "model_name": "HBoxModel",
     "state": {
      "_dom_classes": [],
      "_model_module": "@jupyter-widgets/controls",
      "_model_module_version": "1.5.0",
      "_model_name": "HBoxModel",
      "_view_count": null,
      "_view_module": "@jupyter-widgets/controls",
      "_view_module_version": "1.5.0",
      "_view_name": "HBoxView",
      "box_style": "",
      "children": [
       "IPY_MODEL_beaa1c4aecbb4039987ea1cf7bacda09",
       "IPY_MODEL_6afca71bc1aa44268b95132be12d4df1"
      ],
      "layout": "IPY_MODEL_708852a400f046439e14cb1964f38d4f"
     }
    },
    "2db32e062ece4f47bc5ffeb557540673": {
     "model_module": "@jupyter-widgets/controls",
     "model_name": "DescriptionStyleModel",
     "state": {
      "_model_module": "@jupyter-widgets/controls",
      "_model_module_version": "1.5.0",
      "_model_name": "DescriptionStyleModel",
      "_view_count": null,
      "_view_module": "@jupyter-widgets/base",
      "_view_module_version": "1.2.0",
      "_view_name": "StyleView",
      "description_width": ""
     }
    },
    "39c5271137784134ab5d9eb673eadef1": {
     "model_module": "@jupyter-widgets/controls",
     "model_name": "ProgressStyleModel",
     "state": {
      "_model_module": "@jupyter-widgets/controls",
      "_model_module_version": "1.5.0",
      "_model_name": "ProgressStyleModel",
      "_view_count": null,
      "_view_module": "@jupyter-widgets/base",
      "_view_module_version": "1.2.0",
      "_view_name": "StyleView",
      "bar_color": null,
      "description_width": "initial"
     }
    },
    "3a54844cfc4644ab969b19934fa019d5": {
     "model_module": "@jupyter-widgets/controls",
     "model_name": "HBoxModel",
     "state": {
      "_dom_classes": [],
      "_model_module": "@jupyter-widgets/controls",
      "_model_module_version": "1.5.0",
      "_model_name": "HBoxModel",
      "_view_count": null,
      "_view_module": "@jupyter-widgets/controls",
      "_view_module_version": "1.5.0",
      "_view_name": "HBoxView",
      "box_style": "",
      "children": [
       "IPY_MODEL_7f75a03b97824cbe884925d07e38c019",
       "IPY_MODEL_dfe27827216d445aa338d64603a6f296"
      ],
      "layout": "IPY_MODEL_7af515f5d8f8405d848f459206a19e92"
     }
    },
    "531cf6c150f54e99bd0e9eb25f935639": {
     "model_module": "@jupyter-widgets/controls",
     "model_name": "DescriptionStyleModel",
     "state": {
      "_model_module": "@jupyter-widgets/controls",
      "_model_module_version": "1.5.0",
      "_model_name": "DescriptionStyleModel",
      "_view_count": null,
      "_view_module": "@jupyter-widgets/base",
      "_view_module_version": "1.2.0",
      "_view_name": "StyleView",
      "description_width": ""
     }
    },
    "5bfe1a896c1243d18c8e873830f63e60": {
     "model_module": "@jupyter-widgets/controls",
     "model_name": "HTMLModel",
     "state": {
      "_dom_classes": [],
      "_model_module": "@jupyter-widgets/controls",
      "_model_module_version": "1.5.0",
      "_model_name": "HTMLModel",
      "_view_count": null,
      "_view_module": "@jupyter-widgets/controls",
      "_view_module_version": "1.5.0",
      "_view_name": "HTMLView",
      "description": "",
      "description_tooltip": null,
      "layout": "IPY_MODEL_ceba7e509ad2463d82cf493763d64f51",
      "placeholder": "​",
      "style": "IPY_MODEL_e4c71860dcd54707a9893bc38e46b89f",
      "value": " 29696/? [00:00&lt;00:00, 54668.82it/s]"
     }
    },
    "6afca71bc1aa44268b95132be12d4df1": {
     "model_module": "@jupyter-widgets/controls",
     "model_name": "HTMLModel",
     "state": {
      "_dom_classes": [],
      "_model_module": "@jupyter-widgets/controls",
      "_model_module_version": "1.5.0",
      "_model_name": "HTMLModel",
      "_view_count": null,
      "_view_module": "@jupyter-widgets/controls",
      "_view_module_version": "1.5.0",
      "_view_name": "HTMLView",
      "description": "",
      "description_tooltip": null,
      "layout": "IPY_MODEL_132debd3b8e04b108d10a926247375dc",
      "placeholder": "​",
      "style": "IPY_MODEL_2db32e062ece4f47bc5ffeb557540673",
      "value": " 9913344/? [26:01&lt;00:00, 6349.25it/s]"
     }
    },
    "708852a400f046439e14cb1964f38d4f": {
     "model_module": "@jupyter-widgets/base",
     "model_name": "LayoutModel",
     "state": {
      "_model_module": "@jupyter-widgets/base",
      "_model_module_version": "1.2.0",
      "_model_name": "LayoutModel",
      "_view_count": null,
      "_view_module": "@jupyter-widgets/base",
      "_view_module_version": "1.2.0",
      "_view_name": "LayoutView",
      "align_content": null,
      "align_items": null,
      "align_self": null,
      "border": null,
      "bottom": null,
      "display": null,
      "flex": null,
      "flex_flow": null,
      "grid_area": null,
      "grid_auto_columns": null,
      "grid_auto_flow": null,
      "grid_auto_rows": null,
      "grid_column": null,
      "grid_gap": null,
      "grid_row": null,
      "grid_template_areas": null,
      "grid_template_columns": null,
      "grid_template_rows": null,
      "height": null,
      "justify_content": null,
      "justify_items": null,
      "left": null,
      "margin": null,
      "max_height": null,
      "max_width": null,
      "min_height": null,
      "min_width": null,
      "object_fit": null,
      "object_position": null,
      "order": null,
      "overflow": null,
      "overflow_x": null,
      "overflow_y": null,
      "padding": null,
      "right": null,
      "top": null,
      "visibility": null,
      "width": null
     }
    },
    "795d38b041d1447384e3c1b9f8c65ae0": {
     "model_module": "@jupyter-widgets/controls",
     "model_name": "ProgressStyleModel",
     "state": {
      "_model_module": "@jupyter-widgets/controls",
      "_model_module_version": "1.5.0",
      "_model_name": "ProgressStyleModel",
      "_view_count": null,
      "_view_module": "@jupyter-widgets/base",
      "_view_module_version": "1.2.0",
      "_view_name": "StyleView",
      "bar_color": null,
      "description_width": "initial"
     }
    },
    "7af515f5d8f8405d848f459206a19e92": {
     "model_module": "@jupyter-widgets/base",
     "model_name": "LayoutModel",
     "state": {
      "_model_module": "@jupyter-widgets/base",
      "_model_module_version": "1.2.0",
      "_model_name": "LayoutModel",
      "_view_count": null,
      "_view_module": "@jupyter-widgets/base",
      "_view_module_version": "1.2.0",
      "_view_name": "LayoutView",
      "align_content": null,
      "align_items": null,
      "align_self": null,
      "border": null,
      "bottom": null,
      "display": null,
      "flex": null,
      "flex_flow": null,
      "grid_area": null,
      "grid_auto_columns": null,
      "grid_auto_flow": null,
      "grid_auto_rows": null,
      "grid_column": null,
      "grid_gap": null,
      "grid_row": null,
      "grid_template_areas": null,
      "grid_template_columns": null,
      "grid_template_rows": null,
      "height": null,
      "justify_content": null,
      "justify_items": null,
      "left": null,
      "margin": null,
      "max_height": null,
      "max_width": null,
      "min_height": null,
      "min_width": null,
      "object_fit": null,
      "object_position": null,
      "order": null,
      "overflow": null,
      "overflow_x": null,
      "overflow_y": null,
      "padding": null,
      "right": null,
      "top": null,
      "visibility": null,
      "width": null
     }
    },
    "7bfd1cc911214a36beee6203fc6c0c05": {
     "model_module": "@jupyter-widgets/base",
     "model_name": "LayoutModel",
     "state": {
      "_model_module": "@jupyter-widgets/base",
      "_model_module_version": "1.2.0",
      "_model_name": "LayoutModel",
      "_view_count": null,
      "_view_module": "@jupyter-widgets/base",
      "_view_module_version": "1.2.0",
      "_view_name": "LayoutView",
      "align_content": null,
      "align_items": null,
      "align_self": null,
      "border": null,
      "bottom": null,
      "display": null,
      "flex": null,
      "flex_flow": null,
      "grid_area": null,
      "grid_auto_columns": null,
      "grid_auto_flow": null,
      "grid_auto_rows": null,
      "grid_column": null,
      "grid_gap": null,
      "grid_row": null,
      "grid_template_areas": null,
      "grid_template_columns": null,
      "grid_template_rows": null,
      "height": null,
      "justify_content": null,
      "justify_items": null,
      "left": null,
      "margin": null,
      "max_height": null,
      "max_width": null,
      "min_height": null,
      "min_width": null,
      "object_fit": null,
      "object_position": null,
      "order": null,
      "overflow": null,
      "overflow_x": null,
      "overflow_y": null,
      "padding": null,
      "right": null,
      "top": null,
      "visibility": null,
      "width": null
     }
    },
    "7c6624ff96234a7f9b5c25400a76ea71": {
     "model_module": "@jupyter-widgets/base",
     "model_name": "LayoutModel",
     "state": {
      "_model_module": "@jupyter-widgets/base",
      "_model_module_version": "1.2.0",
      "_model_name": "LayoutModel",
      "_view_count": null,
      "_view_module": "@jupyter-widgets/base",
      "_view_module_version": "1.2.0",
      "_view_name": "LayoutView",
      "align_content": null,
      "align_items": null,
      "align_self": null,
      "border": null,
      "bottom": null,
      "display": null,
      "flex": null,
      "flex_flow": null,
      "grid_area": null,
      "grid_auto_columns": null,
      "grid_auto_flow": null,
      "grid_auto_rows": null,
      "grid_column": null,
      "grid_gap": null,
      "grid_row": null,
      "grid_template_areas": null,
      "grid_template_columns": null,
      "grid_template_rows": null,
      "height": null,
      "justify_content": null,
      "justify_items": null,
      "left": null,
      "margin": null,
      "max_height": null,
      "max_width": null,
      "min_height": null,
      "min_width": null,
      "object_fit": null,
      "object_position": null,
      "order": null,
      "overflow": null,
      "overflow_x": null,
      "overflow_y": null,
      "padding": null,
      "right": null,
      "top": null,
      "visibility": null,
      "width": null
     }
    },
    "7f75a03b97824cbe884925d07e38c019": {
     "model_module": "@jupyter-widgets/controls",
     "model_name": "FloatProgressModel",
     "state": {
      "_dom_classes": [],
      "_model_module": "@jupyter-widgets/controls",
      "_model_module_version": "1.5.0",
      "_model_name": "FloatProgressModel",
      "_view_count": null,
      "_view_module": "@jupyter-widgets/controls",
      "_view_module_version": "1.5.0",
      "_view_name": "ProgressView",
      "bar_style": "success",
      "description": "",
      "description_tooltip": null,
      "layout": "IPY_MODEL_7bfd1cc911214a36beee6203fc6c0c05",
      "max": 1648877,
      "min": 0,
      "orientation": "horizontal",
      "style": "IPY_MODEL_795d38b041d1447384e3c1b9f8c65ae0",
      "value": 1648877
     }
    },
    "94083111b8b34250b24c58dff133e686": {
     "model_module": "@jupyter-widgets/base",
     "model_name": "LayoutModel",
     "state": {
      "_model_module": "@jupyter-widgets/base",
      "_model_module_version": "1.2.0",
      "_model_name": "LayoutModel",
      "_view_count": null,
      "_view_module": "@jupyter-widgets/base",
      "_view_module_version": "1.2.0",
      "_view_name": "LayoutView",
      "align_content": null,
      "align_items": null,
      "align_self": null,
      "border": null,
      "bottom": null,
      "display": null,
      "flex": null,
      "flex_flow": null,
      "grid_area": null,
      "grid_auto_columns": null,
      "grid_auto_flow": null,
      "grid_auto_rows": null,
      "grid_column": null,
      "grid_gap": null,
      "grid_row": null,
      "grid_template_areas": null,
      "grid_template_columns": null,
      "grid_template_rows": null,
      "height": null,
      "justify_content": null,
      "justify_items": null,
      "left": null,
      "margin": null,
      "max_height": null,
      "max_width": null,
      "min_height": null,
      "min_width": null,
      "object_fit": null,
      "object_position": null,
      "order": null,
      "overflow": null,
      "overflow_x": null,
      "overflow_y": null,
      "padding": null,
      "right": null,
      "top": null,
      "visibility": null,
      "width": null
     }
    },
    "94755f5a617547f5abdc629c33868b5d": {
     "model_module": "@jupyter-widgets/controls",
     "model_name": "FloatProgressModel",
     "state": {
      "_dom_classes": [],
      "_model_module": "@jupyter-widgets/controls",
      "_model_module_version": "1.5.0",
      "_model_name": "FloatProgressModel",
      "_view_count": null,
      "_view_module": "@jupyter-widgets/controls",
      "_view_module_version": "1.5.0",
      "_view_name": "ProgressView",
      "bar_style": "success",
      "description": "",
      "description_tooltip": null,
      "layout": "IPY_MODEL_b9a06768ddc74b3b90fb850bf11d1781",
      "max": 28881,
      "min": 0,
      "orientation": "horizontal",
      "style": "IPY_MODEL_c62bb4791a0040f3a3f621751a30687b",
      "value": 28881
     }
    },
    "9ecd49d88689455d856a6a497a6579b4": {
     "model_module": "@jupyter-widgets/base",
     "model_name": "LayoutModel",
     "state": {
      "_model_module": "@jupyter-widgets/base",
      "_model_module_version": "1.2.0",
      "_model_name": "LayoutModel",
      "_view_count": null,
      "_view_module": "@jupyter-widgets/base",
      "_view_module_version": "1.2.0",
      "_view_name": "LayoutView",
      "align_content": null,
      "align_items": null,
      "align_self": null,
      "border": null,
      "bottom": null,
      "display": null,
      "flex": null,
      "flex_flow": null,
      "grid_area": null,
      "grid_auto_columns": null,
      "grid_auto_flow": null,
      "grid_auto_rows": null,
      "grid_column": null,
      "grid_gap": null,
      "grid_row": null,
      "grid_template_areas": null,
      "grid_template_columns": null,
      "grid_template_rows": null,
      "height": null,
      "justify_content": null,
      "justify_items": null,
      "left": null,
      "margin": null,
      "max_height": null,
      "max_width": null,
      "min_height": null,
      "min_width": null,
      "object_fit": null,
      "object_position": null,
      "order": null,
      "overflow": null,
      "overflow_x": null,
      "overflow_y": null,
      "padding": null,
      "right": null,
      "top": null,
      "visibility": null,
      "width": null
     }
    },
    "a8f0ddb3ee20465689e7d09df6caf3cc": {
     "model_module": "@jupyter-widgets/controls",
     "model_name": "FloatProgressModel",
     "state": {
      "_dom_classes": [],
      "_model_module": "@jupyter-widgets/controls",
      "_model_module_version": "1.5.0",
      "_model_name": "FloatProgressModel",
      "_view_count": null,
      "_view_module": "@jupyter-widgets/controls",
      "_view_module_version": "1.5.0",
      "_view_name": "ProgressView",
      "bar_style": "success",
      "description": "",
      "description_tooltip": null,
      "layout": "IPY_MODEL_c1b29b4d49234a8db5cb97e665f0e910",
      "max": 4542,
      "min": 0,
      "orientation": "horizontal",
      "style": "IPY_MODEL_39c5271137784134ab5d9eb673eadef1",
      "value": 4542
     }
    },
    "a9a9640dc4544384a10c226bd8722767": {
     "model_module": "@jupyter-widgets/controls",
     "model_name": "HBoxModel",
     "state": {
      "_dom_classes": [],
      "_model_module": "@jupyter-widgets/controls",
      "_model_module_version": "1.5.0",
      "_model_name": "HBoxModel",
      "_view_count": null,
      "_view_module": "@jupyter-widgets/controls",
      "_view_module_version": "1.5.0",
      "_view_name": "HBoxView",
      "box_style": "",
      "children": [
       "IPY_MODEL_a8f0ddb3ee20465689e7d09df6caf3cc",
       "IPY_MODEL_bbbd8b01055142e99bffc33a98e5ce1d"
      ],
      "layout": "IPY_MODEL_9ecd49d88689455d856a6a497a6579b4"
     }
    },
    "b9a06768ddc74b3b90fb850bf11d1781": {
     "model_module": "@jupyter-widgets/base",
     "model_name": "LayoutModel",
     "state": {
      "_model_module": "@jupyter-widgets/base",
      "_model_module_version": "1.2.0",
      "_model_name": "LayoutModel",
      "_view_count": null,
      "_view_module": "@jupyter-widgets/base",
      "_view_module_version": "1.2.0",
      "_view_name": "LayoutView",
      "align_content": null,
      "align_items": null,
      "align_self": null,
      "border": null,
      "bottom": null,
      "display": null,
      "flex": null,
      "flex_flow": null,
      "grid_area": null,
      "grid_auto_columns": null,
      "grid_auto_flow": null,
      "grid_auto_rows": null,
      "grid_column": null,
      "grid_gap": null,
      "grid_row": null,
      "grid_template_areas": null,
      "grid_template_columns": null,
      "grid_template_rows": null,
      "height": null,
      "justify_content": null,
      "justify_items": null,
      "left": null,
      "margin": null,
      "max_height": null,
      "max_width": null,
      "min_height": null,
      "min_width": null,
      "object_fit": null,
      "object_position": null,
      "order": null,
      "overflow": null,
      "overflow_x": null,
      "overflow_y": null,
      "padding": null,
      "right": null,
      "top": null,
      "visibility": null,
      "width": null
     }
    },
    "bbbd8b01055142e99bffc33a98e5ce1d": {
     "model_module": "@jupyter-widgets/controls",
     "model_name": "HTMLModel",
     "state": {
      "_dom_classes": [],
      "_model_module": "@jupyter-widgets/controls",
      "_model_module_version": "1.5.0",
      "_model_name": "HTMLModel",
      "_view_count": null,
      "_view_module": "@jupyter-widgets/controls",
      "_view_module_version": "1.5.0",
      "_view_name": "HTMLView",
      "description": "",
      "description_tooltip": null,
      "layout": "IPY_MODEL_1313e99a41414330ab1844863d128f27",
      "placeholder": "​",
      "style": "IPY_MODEL_531cf6c150f54e99bd0e9eb25f935639",
      "value": " 5120/? [00:00&lt;00:00, 67144.53it/s]"
     }
    },
    "beaa1c4aecbb4039987ea1cf7bacda09": {
     "model_module": "@jupyter-widgets/controls",
     "model_name": "FloatProgressModel",
     "state": {
      "_dom_classes": [],
      "_model_module": "@jupyter-widgets/controls",
      "_model_module_version": "1.5.0",
      "_model_name": "FloatProgressModel",
      "_view_count": null,
      "_view_module": "@jupyter-widgets/controls",
      "_view_module_version": "1.5.0",
      "_view_name": "ProgressView",
      "bar_style": "success",
      "description": "",
      "description_tooltip": null,
      "layout": "IPY_MODEL_ff864458b8894a66a64369bc05f1b617",
      "max": 9912422,
      "min": 0,
      "orientation": "horizontal",
      "style": "IPY_MODEL_0f521ffc1a2e438d9082e672e5b1de2b",
      "value": 9912422
     }
    },
    "bf3a45ff8be44669afdfd3cab08a5340": {
     "model_module": "@jupyter-widgets/controls",
     "model_name": "HBoxModel",
     "state": {
      "_dom_classes": [],
      "_model_module": "@jupyter-widgets/controls",
      "_model_module_version": "1.5.0",
      "_model_name": "HBoxModel",
      "_view_count": null,
      "_view_module": "@jupyter-widgets/controls",
      "_view_module_version": "1.5.0",
      "_view_name": "HBoxView",
      "box_style": "",
      "children": [
       "IPY_MODEL_94755f5a617547f5abdc629c33868b5d",
       "IPY_MODEL_5bfe1a896c1243d18c8e873830f63e60"
      ],
      "layout": "IPY_MODEL_7c6624ff96234a7f9b5c25400a76ea71"
     }
    },
    "c1b29b4d49234a8db5cb97e665f0e910": {
     "model_module": "@jupyter-widgets/base",
     "model_name": "LayoutModel",
     "state": {
      "_model_module": "@jupyter-widgets/base",
      "_model_module_version": "1.2.0",
      "_model_name": "LayoutModel",
      "_view_count": null,
      "_view_module": "@jupyter-widgets/base",
      "_view_module_version": "1.2.0",
      "_view_name": "LayoutView",
      "align_content": null,
      "align_items": null,
      "align_self": null,
      "border": null,
      "bottom": null,
      "display": null,
      "flex": null,
      "flex_flow": null,
      "grid_area": null,
      "grid_auto_columns": null,
      "grid_auto_flow": null,
      "grid_auto_rows": null,
      "grid_column": null,
      "grid_gap": null,
      "grid_row": null,
      "grid_template_areas": null,
      "grid_template_columns": null,
      "grid_template_rows": null,
      "height": null,
      "justify_content": null,
      "justify_items": null,
      "left": null,
      "margin": null,
      "max_height": null,
      "max_width": null,
      "min_height": null,
      "min_width": null,
      "object_fit": null,
      "object_position": null,
      "order": null,
      "overflow": null,
      "overflow_x": null,
      "overflow_y": null,
      "padding": null,
      "right": null,
      "top": null,
      "visibility": null,
      "width": null
     }
    },
    "c62bb4791a0040f3a3f621751a30687b": {
     "model_module": "@jupyter-widgets/controls",
     "model_name": "ProgressStyleModel",
     "state": {
      "_model_module": "@jupyter-widgets/controls",
      "_model_module_version": "1.5.0",
      "_model_name": "ProgressStyleModel",
      "_view_count": null,
      "_view_module": "@jupyter-widgets/base",
      "_view_module_version": "1.2.0",
      "_view_name": "StyleView",
      "bar_color": null,
      "description_width": "initial"
     }
    },
    "c68d019d2f534e92a526abe35bb667c8": {
     "model_module": "@jupyter-widgets/controls",
     "model_name": "DescriptionStyleModel",
     "state": {
      "_model_module": "@jupyter-widgets/controls",
      "_model_module_version": "1.5.0",
      "_model_name": "DescriptionStyleModel",
      "_view_count": null,
      "_view_module": "@jupyter-widgets/base",
      "_view_module_version": "1.2.0",
      "_view_name": "StyleView",
      "description_width": ""
     }
    },
    "ceba7e509ad2463d82cf493763d64f51": {
     "model_module": "@jupyter-widgets/base",
     "model_name": "LayoutModel",
     "state": {
      "_model_module": "@jupyter-widgets/base",
      "_model_module_version": "1.2.0",
      "_model_name": "LayoutModel",
      "_view_count": null,
      "_view_module": "@jupyter-widgets/base",
      "_view_module_version": "1.2.0",
      "_view_name": "LayoutView",
      "align_content": null,
      "align_items": null,
      "align_self": null,
      "border": null,
      "bottom": null,
      "display": null,
      "flex": null,
      "flex_flow": null,
      "grid_area": null,
      "grid_auto_columns": null,
      "grid_auto_flow": null,
      "grid_auto_rows": null,
      "grid_column": null,
      "grid_gap": null,
      "grid_row": null,
      "grid_template_areas": null,
      "grid_template_columns": null,
      "grid_template_rows": null,
      "height": null,
      "justify_content": null,
      "justify_items": null,
      "left": null,
      "margin": null,
      "max_height": null,
      "max_width": null,
      "min_height": null,
      "min_width": null,
      "object_fit": null,
      "object_position": null,
      "order": null,
      "overflow": null,
      "overflow_x": null,
      "overflow_y": null,
      "padding": null,
      "right": null,
      "top": null,
      "visibility": null,
      "width": null
     }
    },
    "dfe27827216d445aa338d64603a6f296": {
     "model_module": "@jupyter-widgets/controls",
     "model_name": "HTMLModel",
     "state": {
      "_dom_classes": [],
      "_model_module": "@jupyter-widgets/controls",
      "_model_module_version": "1.5.0",
      "_model_name": "HTMLModel",
      "_view_count": null,
      "_view_module": "@jupyter-widgets/controls",
      "_view_module_version": "1.5.0",
      "_view_name": "HTMLView",
      "description": "",
      "description_tooltip": null,
      "layout": "IPY_MODEL_94083111b8b34250b24c58dff133e686",
      "placeholder": "​",
      "style": "IPY_MODEL_c68d019d2f534e92a526abe35bb667c8",
      "value": " 1649664/? [11:10&lt;00:00, 2459.18it/s]"
     }
    },
    "e4c71860dcd54707a9893bc38e46b89f": {
     "model_module": "@jupyter-widgets/controls",
     "model_name": "DescriptionStyleModel",
     "state": {
      "_model_module": "@jupyter-widgets/controls",
      "_model_module_version": "1.5.0",
      "_model_name": "DescriptionStyleModel",
      "_view_count": null,
      "_view_module": "@jupyter-widgets/base",
      "_view_module_version": "1.2.0",
      "_view_name": "StyleView",
      "description_width": ""
     }
    },
    "ff864458b8894a66a64369bc05f1b617": {
     "model_module": "@jupyter-widgets/base",
     "model_name": "LayoutModel",
     "state": {
      "_model_module": "@jupyter-widgets/base",
      "_model_module_version": "1.2.0",
      "_model_name": "LayoutModel",
      "_view_count": null,
      "_view_module": "@jupyter-widgets/base",
      "_view_module_version": "1.2.0",
      "_view_name": "LayoutView",
      "align_content": null,
      "align_items": null,
      "align_self": null,
      "border": null,
      "bottom": null,
      "display": null,
      "flex": null,
      "flex_flow": null,
      "grid_area": null,
      "grid_auto_columns": null,
      "grid_auto_flow": null,
      "grid_auto_rows": null,
      "grid_column": null,
      "grid_gap": null,
      "grid_row": null,
      "grid_template_areas": null,
      "grid_template_columns": null,
      "grid_template_rows": null,
      "height": null,
      "justify_content": null,
      "justify_items": null,
      "left": null,
      "margin": null,
      "max_height": null,
      "max_width": null,
      "min_height": null,
      "min_width": null,
      "object_fit": null,
      "object_position": null,
      "order": null,
      "overflow": null,
      "overflow_x": null,
      "overflow_y": null,
      "padding": null,
      "right": null,
      "top": null,
      "visibility": null,
      "width": null
     }
    }
   }
  }
 },
 "nbformat": 4,
 "nbformat_minor": 5
}
