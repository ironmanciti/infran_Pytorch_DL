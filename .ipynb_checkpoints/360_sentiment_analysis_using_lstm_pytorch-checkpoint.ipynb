{
 "cells": [
  {
   "cell_type": "markdown",
   "metadata": {
    "id": "F5loKTlZD0Zu"
   },
   "source": [
    "# 360. IMDB Sentiment Analysis\n",
    "- LSTM을 사용하여 IMDB 데이터 세트에 대한 감정 분석을 진행합니다.\n",
    "\n",
    "- IMDB (Internet Movie Database, https://www.imdb.com/)  Dataset\n",
    "    - 각 25,000 개의 training/testing set 으로 구성된 IMDB 영화관람평  \n",
    "\n",
    "    - `imdb_reviews` – encoding 되어있지 않은 string 형태의 data  \n",
    "\n",
    "    - label : positive, negative binary classification"
   ]
  },
  {
   "cell_type": "code",
   "execution_count": 1,
   "metadata": {
    "_cell_guid": "b1076dfc-b9ad-4769-8c92-a6c4dae69d19",
    "_uuid": "8f2839f25d086af736a60e9eeb907d3b93b6e0e5",
    "colab": {
     "base_uri": "https://localhost:8080/"
    },
    "execution": {
     "iopub.execute_input": "2021-12-29T11:50:30.632307Z",
     "iopub.status.busy": "2021-12-29T11:50:30.632039Z",
     "iopub.status.idle": "2021-12-29T11:50:33.453334Z",
     "shell.execute_reply": "2021-12-29T11:50:33.452545Z",
     "shell.execute_reply.started": "2021-12-29T11:50:30.632279Z"
    },
    "id": "GYTFVUCcD0Zw",
    "outputId": "1532acc4-6782-4eeb-af1f-9d252f7b764d"
   },
   "outputs": [
    {
     "data": {
      "text/plain": [
       "device(type='cuda')"
      ]
     },
     "execution_count": 1,
     "metadata": {},
     "output_type": "execute_result"
    }
   ],
   "source": [
    "import numpy as np \n",
    "import pandas as pd \n",
    "import torch\n",
    "import torch.nn as nn\n",
    "import torch.nn.functional as F\n",
    "import matplotlib.pyplot as plt\n",
    "from torch.utils.data import TensorDataset, DataLoader\n",
    "from sklearn.model_selection import train_test_split\n",
    "\n",
    "device = torch.device(\"cuda\") if torch.cuda.is_available() else torch.device(\"cpu\")\n",
    "device"
   ]
  },
  {
   "cell_type": "markdown",
   "metadata": {
    "id": "d9HhpMjLovXy"
   },
   "source": [
    "- 데이터 다운로드"
   ]
  },
  {
   "cell_type": "code",
   "execution_count": 2,
   "metadata": {
    "colab": {
     "base_uri": "https://localhost:8080/"
    },
    "id": "MpBsvbWHmJSi",
    "outputId": "a2f2070e-dc07-4f07-fd59-b573ea89b853"
   },
   "outputs": [
    {
     "name": "stdout",
     "output_type": "stream",
     "text": [
      "Downloading...\n",
      "From: https://drive.google.com/uc?id=1RFs-jV18dy9I3cWQ2M80kHfON-fDCerg\n",
      "To: /content/IMDBDataset.csv\n",
      "100% 66.2M/66.2M [00:00<00:00, 128MB/s]\n"
     ]
    }
   ],
   "source": [
    "!gdown 1U2unKVg74aO3J-4XXGoEINjN7XxyASUX"
   ]
  },
  {
   "cell_type": "code",
   "execution_count": 3,
   "metadata": {
    "_cell_guid": "79c7e3d0-c299-4dcb-8224-4455121ee9b0",
    "_uuid": "d629ff2d2480ee46fbb7e2d37f6b5fab8052498a",
    "colab": {
     "base_uri": "https://localhost:8080/",
     "height": 206
    },
    "execution": {
     "iopub.execute_input": "2021-12-29T11:51:07.609481Z",
     "iopub.status.busy": "2021-12-29T11:51:07.609186Z",
     "iopub.status.idle": "2021-12-29T11:51:08.889471Z",
     "shell.execute_reply": "2021-12-29T11:51:08.888851Z",
     "shell.execute_reply.started": "2021-12-29T11:51:07.609450Z"
    },
    "id": "U2KB8UqSD0Zy",
    "outputId": "9f8fc539-0fd9-4be7-a9a5-e0c351d06d3a"
   },
   "outputs": [
    {
     "data": {
      "text/html": [
       "\n",
       "  <div id=\"df-bf8294cd-503c-4c74-8c10-de2546bb7863\">\n",
       "    <div class=\"colab-df-container\">\n",
       "      <div>\n",
       "<style scoped>\n",
       "    .dataframe tbody tr th:only-of-type {\n",
       "        vertical-align: middle;\n",
       "    }\n",
       "\n",
       "    .dataframe tbody tr th {\n",
       "        vertical-align: top;\n",
       "    }\n",
       "\n",
       "    .dataframe thead th {\n",
       "        text-align: right;\n",
       "    }\n",
       "</style>\n",
       "<table border=\"1\" class=\"dataframe\">\n",
       "  <thead>\n",
       "    <tr style=\"text-align: right;\">\n",
       "      <th></th>\n",
       "      <th>review</th>\n",
       "      <th>sentiment</th>\n",
       "    </tr>\n",
       "  </thead>\n",
       "  <tbody>\n",
       "    <tr>\n",
       "      <th>0</th>\n",
       "      <td>One of the other reviewers has mentioned that ...</td>\n",
       "      <td>positive</td>\n",
       "    </tr>\n",
       "    <tr>\n",
       "      <th>1</th>\n",
       "      <td>A wonderful little production. &lt;br /&gt;&lt;br /&gt;The...</td>\n",
       "      <td>positive</td>\n",
       "    </tr>\n",
       "    <tr>\n",
       "      <th>2</th>\n",
       "      <td>I thought this was a wonderful way to spend ti...</td>\n",
       "      <td>positive</td>\n",
       "    </tr>\n",
       "    <tr>\n",
       "      <th>3</th>\n",
       "      <td>Basically there's a family where a little boy ...</td>\n",
       "      <td>negative</td>\n",
       "    </tr>\n",
       "    <tr>\n",
       "      <th>4</th>\n",
       "      <td>Petter Mattei's \"Love in the Time of Money\" is...</td>\n",
       "      <td>positive</td>\n",
       "    </tr>\n",
       "  </tbody>\n",
       "</table>\n",
       "</div>\n",
       "      <button class=\"colab-df-convert\" onclick=\"convertToInteractive('df-bf8294cd-503c-4c74-8c10-de2546bb7863')\"\n",
       "              title=\"Convert this dataframe to an interactive table.\"\n",
       "              style=\"display:none;\">\n",
       "        \n",
       "  <svg xmlns=\"http://www.w3.org/2000/svg\" height=\"24px\"viewBox=\"0 0 24 24\"\n",
       "       width=\"24px\">\n",
       "    <path d=\"M0 0h24v24H0V0z\" fill=\"none\"/>\n",
       "    <path d=\"M18.56 5.44l.94 2.06.94-2.06 2.06-.94-2.06-.94-.94-2.06-.94 2.06-2.06.94zm-11 1L8.5 8.5l.94-2.06 2.06-.94-2.06-.94L8.5 2.5l-.94 2.06-2.06.94zm10 10l.94 2.06.94-2.06 2.06-.94-2.06-.94-.94-2.06-.94 2.06-2.06.94z\"/><path d=\"M17.41 7.96l-1.37-1.37c-.4-.4-.92-.59-1.43-.59-.52 0-1.04.2-1.43.59L10.3 9.45l-7.72 7.72c-.78.78-.78 2.05 0 2.83L4 21.41c.39.39.9.59 1.41.59.51 0 1.02-.2 1.41-.59l7.78-7.78 2.81-2.81c.8-.78.8-2.07 0-2.86zM5.41 20L4 18.59l7.72-7.72 1.47 1.35L5.41 20z\"/>\n",
       "  </svg>\n",
       "      </button>\n",
       "      \n",
       "  <style>\n",
       "    .colab-df-container {\n",
       "      display:flex;\n",
       "      flex-wrap:wrap;\n",
       "      gap: 12px;\n",
       "    }\n",
       "\n",
       "    .colab-df-convert {\n",
       "      background-color: #E8F0FE;\n",
       "      border: none;\n",
       "      border-radius: 50%;\n",
       "      cursor: pointer;\n",
       "      display: none;\n",
       "      fill: #1967D2;\n",
       "      height: 32px;\n",
       "      padding: 0 0 0 0;\n",
       "      width: 32px;\n",
       "    }\n",
       "\n",
       "    .colab-df-convert:hover {\n",
       "      background-color: #E2EBFA;\n",
       "      box-shadow: 0px 1px 2px rgba(60, 64, 67, 0.3), 0px 1px 3px 1px rgba(60, 64, 67, 0.15);\n",
       "      fill: #174EA6;\n",
       "    }\n",
       "\n",
       "    [theme=dark] .colab-df-convert {\n",
       "      background-color: #3B4455;\n",
       "      fill: #D2E3FC;\n",
       "    }\n",
       "\n",
       "    [theme=dark] .colab-df-convert:hover {\n",
       "      background-color: #434B5C;\n",
       "      box-shadow: 0px 1px 3px 1px rgba(0, 0, 0, 0.15);\n",
       "      filter: drop-shadow(0px 1px 2px rgba(0, 0, 0, 0.3));\n",
       "      fill: #FFFFFF;\n",
       "    }\n",
       "  </style>\n",
       "\n",
       "      <script>\n",
       "        const buttonEl =\n",
       "          document.querySelector('#df-bf8294cd-503c-4c74-8c10-de2546bb7863 button.colab-df-convert');\n",
       "        buttonEl.style.display =\n",
       "          google.colab.kernel.accessAllowed ? 'block' : 'none';\n",
       "\n",
       "        async function convertToInteractive(key) {\n",
       "          const element = document.querySelector('#df-bf8294cd-503c-4c74-8c10-de2546bb7863');\n",
       "          const dataTable =\n",
       "            await google.colab.kernel.invokeFunction('convertToInteractive',\n",
       "                                                     [key], {});\n",
       "          if (!dataTable) return;\n",
       "\n",
       "          const docLinkHtml = 'Like what you see? Visit the ' +\n",
       "            '<a target=\"_blank\" href=https://colab.research.google.com/notebooks/data_table.ipynb>data table notebook</a>'\n",
       "            + ' to learn more about interactive tables.';\n",
       "          element.innerHTML = '';\n",
       "          dataTable['output_type'] = 'display_data';\n",
       "          await google.colab.output.renderOutput(dataTable, element);\n",
       "          const docLink = document.createElement('div');\n",
       "          docLink.innerHTML = docLinkHtml;\n",
       "          element.appendChild(docLink);\n",
       "        }\n",
       "      </script>\n",
       "    </div>\n",
       "  </div>\n",
       "  "
      ],
      "text/plain": [
       "                                              review sentiment\n",
       "0  One of the other reviewers has mentioned that ...  positive\n",
       "1  A wonderful little production. <br /><br />The...  positive\n",
       "2  I thought this was a wonderful way to spend ti...  positive\n",
       "3  Basically there's a family where a little boy ...  negative\n",
       "4  Petter Mattei's \"Love in the Time of Money\" is...  positive"
      ]
     },
     "execution_count": 3,
     "metadata": {},
     "output_type": "execute_result"
    }
   ],
   "source": [
    "df = pd.read_csv(\"IMDBDataset.csv\")\n",
    "df.head()"
   ]
  },
  {
   "cell_type": "markdown",
   "metadata": {
    "id": "EWPGV1IPxS5F"
   },
   "source": [
    "- `sentiment`를 positive 1, negative 0 로 변경"
   ]
  },
  {
   "cell_type": "code",
   "execution_count": 4,
   "metadata": {
    "colab": {
     "base_uri": "https://localhost:8080/",
     "height": 206
    },
    "id": "MxMtg5XfmuMq",
    "outputId": "d10c6ba7-3a8f-4ea7-f163-d9ff11393742"
   },
   "outputs": [
    {
     "data": {
      "text/html": [
       "\n",
       "  <div id=\"df-71790b68-eed5-474d-8163-16d82a612a17\">\n",
       "    <div class=\"colab-df-container\">\n",
       "      <div>\n",
       "<style scoped>\n",
       "    .dataframe tbody tr th:only-of-type {\n",
       "        vertical-align: middle;\n",
       "    }\n",
       "\n",
       "    .dataframe tbody tr th {\n",
       "        vertical-align: top;\n",
       "    }\n",
       "\n",
       "    .dataframe thead th {\n",
       "        text-align: right;\n",
       "    }\n",
       "</style>\n",
       "<table border=\"1\" class=\"dataframe\">\n",
       "  <thead>\n",
       "    <tr style=\"text-align: right;\">\n",
       "      <th></th>\n",
       "      <th>review</th>\n",
       "      <th>sentiment</th>\n",
       "    </tr>\n",
       "  </thead>\n",
       "  <tbody>\n",
       "    <tr>\n",
       "      <th>0</th>\n",
       "      <td>One of the other reviewers has mentioned that ...</td>\n",
       "      <td>1.0</td>\n",
       "    </tr>\n",
       "    <tr>\n",
       "      <th>1</th>\n",
       "      <td>A wonderful little production. &lt;br /&gt;&lt;br /&gt;The...</td>\n",
       "      <td>1.0</td>\n",
       "    </tr>\n",
       "    <tr>\n",
       "      <th>2</th>\n",
       "      <td>I thought this was a wonderful way to spend ti...</td>\n",
       "      <td>1.0</td>\n",
       "    </tr>\n",
       "    <tr>\n",
       "      <th>3</th>\n",
       "      <td>Basically there's a family where a little boy ...</td>\n",
       "      <td>0.0</td>\n",
       "    </tr>\n",
       "    <tr>\n",
       "      <th>4</th>\n",
       "      <td>Petter Mattei's \"Love in the Time of Money\" is...</td>\n",
       "      <td>1.0</td>\n",
       "    </tr>\n",
       "  </tbody>\n",
       "</table>\n",
       "</div>\n",
       "      <button class=\"colab-df-convert\" onclick=\"convertToInteractive('df-71790b68-eed5-474d-8163-16d82a612a17')\"\n",
       "              title=\"Convert this dataframe to an interactive table.\"\n",
       "              style=\"display:none;\">\n",
       "        \n",
       "  <svg xmlns=\"http://www.w3.org/2000/svg\" height=\"24px\"viewBox=\"0 0 24 24\"\n",
       "       width=\"24px\">\n",
       "    <path d=\"M0 0h24v24H0V0z\" fill=\"none\"/>\n",
       "    <path d=\"M18.56 5.44l.94 2.06.94-2.06 2.06-.94-2.06-.94-.94-2.06-.94 2.06-2.06.94zm-11 1L8.5 8.5l.94-2.06 2.06-.94-2.06-.94L8.5 2.5l-.94 2.06-2.06.94zm10 10l.94 2.06.94-2.06 2.06-.94-2.06-.94-.94-2.06-.94 2.06-2.06.94z\"/><path d=\"M17.41 7.96l-1.37-1.37c-.4-.4-.92-.59-1.43-.59-.52 0-1.04.2-1.43.59L10.3 9.45l-7.72 7.72c-.78.78-.78 2.05 0 2.83L4 21.41c.39.39.9.59 1.41.59.51 0 1.02-.2 1.41-.59l7.78-7.78 2.81-2.81c.8-.78.8-2.07 0-2.86zM5.41 20L4 18.59l7.72-7.72 1.47 1.35L5.41 20z\"/>\n",
       "  </svg>\n",
       "      </button>\n",
       "      \n",
       "  <style>\n",
       "    .colab-df-container {\n",
       "      display:flex;\n",
       "      flex-wrap:wrap;\n",
       "      gap: 12px;\n",
       "    }\n",
       "\n",
       "    .colab-df-convert {\n",
       "      background-color: #E8F0FE;\n",
       "      border: none;\n",
       "      border-radius: 50%;\n",
       "      cursor: pointer;\n",
       "      display: none;\n",
       "      fill: #1967D2;\n",
       "      height: 32px;\n",
       "      padding: 0 0 0 0;\n",
       "      width: 32px;\n",
       "    }\n",
       "\n",
       "    .colab-df-convert:hover {\n",
       "      background-color: #E2EBFA;\n",
       "      box-shadow: 0px 1px 2px rgba(60, 64, 67, 0.3), 0px 1px 3px 1px rgba(60, 64, 67, 0.15);\n",
       "      fill: #174EA6;\n",
       "    }\n",
       "\n",
       "    [theme=dark] .colab-df-convert {\n",
       "      background-color: #3B4455;\n",
       "      fill: #D2E3FC;\n",
       "    }\n",
       "\n",
       "    [theme=dark] .colab-df-convert:hover {\n",
       "      background-color: #434B5C;\n",
       "      box-shadow: 0px 1px 3px 1px rgba(0, 0, 0, 0.15);\n",
       "      filter: drop-shadow(0px 1px 2px rgba(0, 0, 0, 0.3));\n",
       "      fill: #FFFFFF;\n",
       "    }\n",
       "  </style>\n",
       "\n",
       "      <script>\n",
       "        const buttonEl =\n",
       "          document.querySelector('#df-71790b68-eed5-474d-8163-16d82a612a17 button.colab-df-convert');\n",
       "        buttonEl.style.display =\n",
       "          google.colab.kernel.accessAllowed ? 'block' : 'none';\n",
       "\n",
       "        async function convertToInteractive(key) {\n",
       "          const element = document.querySelector('#df-71790b68-eed5-474d-8163-16d82a612a17');\n",
       "          const dataTable =\n",
       "            await google.colab.kernel.invokeFunction('convertToInteractive',\n",
       "                                                     [key], {});\n",
       "          if (!dataTable) return;\n",
       "\n",
       "          const docLinkHtml = 'Like what you see? Visit the ' +\n",
       "            '<a target=\"_blank\" href=https://colab.research.google.com/notebooks/data_table.ipynb>data table notebook</a>'\n",
       "            + ' to learn more about interactive tables.';\n",
       "          element.innerHTML = '';\n",
       "          dataTable['output_type'] = 'display_data';\n",
       "          await google.colab.output.renderOutput(dataTable, element);\n",
       "          const docLink = document.createElement('div');\n",
       "          docLink.innerHTML = docLinkHtml;\n",
       "          element.appendChild(docLink);\n",
       "        }\n",
       "      </script>\n",
       "    </div>\n",
       "  </div>\n",
       "  "
      ],
      "text/plain": [
       "                                              review  sentiment\n",
       "0  One of the other reviewers has mentioned that ...        1.0\n",
       "1  A wonderful little production. <br /><br />The...        1.0\n",
       "2  I thought this was a wonderful way to spend ti...        1.0\n",
       "3  Basically there's a family where a little boy ...        0.0\n",
       "4  Petter Mattei's \"Love in the Time of Money\" is...        1.0"
      ]
     },
     "execution_count": 4,
     "metadata": {},
     "output_type": "execute_result"
    }
   ],
   "source": [
    "df['sentiment'] = df['sentiment'].apply(lambda x: 1. if x == 'positive' else 0.)\n",
    "df.head()"
   ]
  },
  {
   "cell_type": "code",
   "execution_count": 5,
   "metadata": {
    "colab": {
     "base_uri": "https://localhost:8080/"
    },
    "id": "8jU_fIY7oDRn",
    "outputId": "62e83791-ef6c-462d-c5fb-c21b32aa81f8"
   },
   "outputs": [
    {
     "data": {
      "text/plain": [
       "1.0    25000\n",
       "0.0    25000\n",
       "Name: sentiment, dtype: int64"
      ]
     },
     "execution_count": 5,
     "metadata": {},
     "output_type": "execute_result"
    }
   ],
   "source": [
    "df['sentiment'].value_counts()"
   ]
  },
  {
   "cell_type": "markdown",
   "metadata": {
    "id": "5AKbP5HdD0Zz"
   },
   "source": [
    "### train / test set 분할"
   ]
  },
  {
   "cell_type": "code",
   "execution_count": 6,
   "metadata": {
    "colab": {
     "base_uri": "https://localhost:8080/"
    },
    "execution": {
     "iopub.execute_input": "2021-12-29T11:51:38.203854Z",
     "iopub.status.busy": "2021-12-29T11:51:38.203548Z",
     "iopub.status.idle": "2021-12-29T11:51:38.299696Z",
     "shell.execute_reply": "2021-12-29T11:51:38.298887Z",
     "shell.execute_reply.started": "2021-12-29T11:51:38.203822Z"
    },
    "id": "fwC5hySrD0Zz",
    "outputId": "09d0688d-9db0-4419-ef06-fb68c079d62b"
   },
   "outputs": [
    {
     "data": {
      "text/plain": [
       "((40000,), (10000,), (40000,), (10000,))"
      ]
     },
     "execution_count": 6,
     "metadata": {},
     "output_type": "execute_result"
    }
   ],
   "source": [
    "X = df['review'].values\n",
    "y = df['sentiment'].values\n",
    "\n",
    "train_sentences, test_sentences, train_labels, test_labels = \\\n",
    "                train_test_split(X, y, test_size=0.2, random_state=0)\n",
    "                \n",
    "train_sentences.shape, test_sentences.shape, train_labels.shape, test_labels.shape"
   ]
  },
  {
   "cell_type": "markdown",
   "metadata": {
    "id": "LH6n8Ji-D0Z0"
   },
   "source": [
    "## keras.preprocessing module 을 이용하여 tokenize 및 padding\n",
    "- keras.preprocessing.text.Tokenizer  \n",
    "    - 문장을 tokenize\n",
    "\n",
    "- keras.preprocessing.sequence.pad_sequence\n",
    "    - 동일한 길이의 입력으로 truncate/pad"
   ]
  },
  {
   "cell_type": "code",
   "execution_count": 7,
   "metadata": {
    "id": "B1yxj2fkwVuE"
   },
   "outputs": [],
   "source": [
    "from tensorflow.keras.preprocessing.text import Tokenizer\n",
    "from tensorflow.keras.preprocessing.sequence import pad_sequences\n",
    "\n",
    "vocab_size = 10000  #maximum number of words\n",
    "\n",
    "tokenizer = Tokenizer(num_words = vocab_size, oov_token='<OOV>')\n",
    "tokenizer.fit_on_texts(train_sentences)"
   ]
  },
  {
   "cell_type": "markdown",
   "metadata": {
    "id": "-gUBM2Pry0rB"
   },
   "source": [
    "- tokenizer의 dictionary를 이용하여 text 를 integer의 sequence로 변환"
   ]
  },
  {
   "cell_type": "code",
   "execution_count": 8,
   "metadata": {
    "colab": {
     "base_uri": "https://localhost:8080/"
    },
    "id": "UwYtxouCwnjo",
    "outputId": "73b567f2-09ac-4488-a304-5f4fec1eb56b"
   },
   "outputs": [
    {
     "name": "stdout",
     "output_type": "stream",
     "text": [
      "That's about the only redeeming quality in a movie that otherwise insults the viewer's intelligence by losing track of time, plot, and reason for being produced.<br /><br />Plus, how that guy with the glasses ever got a gig in Hollywood is beyond me.\n",
      "[197, 42, 2, 62, 1713, 482, 9, 4, 18, 13, 885, 7196, 2, 6150, 1722, 32, 2350, 1379, 5, 57, 114, 3, 286, 17, 110, 1018, 8, 8, 923, 88, 13, 220, 16, 2, 4349, 123, 191, 4, 8165, 9, 373, 7, 682, 69]\n"
     ]
    }
   ],
   "source": [
    "train_sequences = tokenizer.texts_to_sequences(train_sentences)\n",
    "test_sequences = tokenizer.texts_to_sequences(test_sentences)\n",
    "\n",
    "print(train_sentences[0])\n",
    "print(train_sequences[0])"
   ]
  },
  {
   "cell_type": "markdown",
   "metadata": {
    "id": "bAArOy_9Lh0s"
   },
   "source": [
    "- sentence length 분포 시각화"
   ]
  },
  {
   "cell_type": "code",
   "execution_count": 9,
   "metadata": {
    "colab": {
     "base_uri": "https://localhost:8080/",
     "height": 301
    },
    "id": "4f7CakNCw0OQ",
    "outputId": "eb736a88-d2b6-479a-e600-72e884858915"
   },
   "outputs": [
    {
     "name": "stdout",
     "output_type": "stream",
     "text": [
      "가장 긴 문장 길이 : 2493\n",
      "평균 문장 길이 : 234.5575\n"
     ]
    },
    {
     "data": {
      "image/png": "[encoded data removed]",
      "text/plain": [
       "<Figure size 432x288 with 1 Axes>"
      ]
     },
     "metadata": {
      "needs_background": "light"
     },
     "output_type": "display_data"
    }
   ],
   "source": [
    "plt.hist([len(s) for s in train_sequences] + [len(s) for s in test_sequences], bins=50)\n",
    "\n",
    "print('가장 긴 문장 길이 : {}'.format(max([len(s) for s in train_sequences])))\n",
    "print('평균 문장 길이 : {}'.format(sum([len(s) for s in train_sequences])/len(train_sequences)))"
   ]
  },
  {
   "cell_type": "markdown",
   "metadata": {
    "id": "Q0rE6YxvD0Z3"
   },
   "source": [
    "### Padding\n",
    "- 전체 sequence 를 동일한 길이로 통일"
   ]
  },
  {
   "cell_type": "code",
   "execution_count": 10,
   "metadata": {
    "colab": {
     "base_uri": "https://localhost:8080/"
    },
    "id": "HNy76J6ED0Z3",
    "outputId": "7177b986-8e61-45ea-e9d9-cfc0dcbb9779"
   },
   "outputs": [
    {
     "name": "stdout",
     "output_type": "stream",
     "text": [
      "(40000, 300)\n",
      "(10000, 300)\n",
      "[ 197   42    2   62 1713  482    9    4   18   13  885 7196    2 6150\n",
      " 1722   32 2350 1379    5   57  114    3  286   17  110 1018    8    8\n",
      "  923   88   13  220   16    2 4349  123  191    4 8165    9  373    7\n",
      "  682   69    0    0    0    0    0    0    0    0    0    0    0    0\n",
      "    0    0    0    0    0    0    0    0    0    0    0    0    0    0\n",
      "    0    0    0    0    0    0    0    0    0    0    0    0    0    0\n",
      "    0    0    0    0    0    0    0    0    0    0    0    0    0    0\n",
      "    0    0    0    0    0    0    0    0    0    0    0    0    0    0\n",
      "    0    0    0    0    0    0    0    0    0    0    0    0    0    0\n",
      "    0    0    0    0    0    0    0    0    0    0    0    0    0    0\n",
      "    0    0    0    0    0    0    0    0    0    0    0    0    0    0\n",
      "    0    0    0    0    0    0    0    0    0    0    0    0    0    0\n",
      "    0    0    0    0    0    0    0    0    0    0    0    0    0    0\n",
      "    0    0    0    0    0    0    0    0    0    0    0    0    0    0\n",
      "    0    0    0    0    0    0    0    0    0    0    0    0    0    0\n",
      "    0    0    0    0    0    0    0    0    0    0    0    0    0    0\n",
      "    0    0    0    0    0    0    0    0    0    0    0    0    0    0\n",
      "    0    0    0    0    0    0    0    0    0    0    0    0    0    0\n",
      "    0    0    0    0    0    0    0    0    0    0    0    0    0    0\n",
      "    0    0    0    0    0    0    0    0    0    0    0    0    0    0\n",
      "    0    0    0    0    0    0    0    0    0    0    0    0    0    0\n",
      "    0    0    0    0    0    0]\n"
     ]
    }
   ],
   "source": [
    "max_length = 300\n",
    "\n",
    "train_padded = pad_sequences(train_sequences, maxlen=max_length, \n",
    "                             truncating='post', padding='post')\n",
    "\n",
    "test_padded = pad_sequences(test_sequences, maxlen=max_length, \n",
    "                            truncating='post', padding='post')\n",
    "\n",
    "print(train_padded.shape)\n",
    "print(test_padded.shape)\n",
    "print(train_padded[0])"
   ]
  },
  {
   "cell_type": "markdown",
   "metadata": {
    "id": "8MWm6kxyL_NJ"
   },
   "source": [
    "- sequence data 를 sentence 로 reverse conversion 하여 sequence 변환이 잘 되었는지 확인"
   ]
  },
  {
   "cell_type": "code",
   "execution_count": 11,
   "metadata": {
    "colab": {
     "base_uri": "https://localhost:8080/"
    },
    "id": "eu6vZgTCxaw2",
    "outputId": "bdc9c529-7525-4804-8b97-3f717ecadcf9"
   },
   "outputs": [
    {
     "name": "stdout",
     "output_type": "stream",
     "text": [
      "that's about the only redeeming quality in a movie that otherwise insults the viewer's intelligence by losing track of time plot and reason for being produced br br plus how that guy with the glasses ever got a gig in hollywood is beyond me <pad> <pad> <pad> <pad> <pad> <pad> <pad> <pad> <pad> <pad> <pad> <pad> <pad> <pad> <pad> <pad> <pad> <pad> <pad> <pad> <pad> <pad> <pad> <pad> <pad> <pad> <pad> <pad> <pad> <pad> <pad> <pad> <pad> <pad> <pad> <pad> <pad> <pad> <pad> <pad> <pad> <pad> <pad> <pad> <pad> <pad> <pad> <pad> <pad> <pad> <pad> <pad> <pad> <pad> <pad> <pad> <pad> <pad> <pad> <pad> <pad> <pad> <pad> <pad> <pad> <pad> <pad> <pad> <pad> <pad> <pad> <pad> <pad> <pad> <pad> <pad> <pad> <pad> <pad> <pad> <pad> <pad> <pad> <pad> <pad> <pad> <pad> <pad> <pad> <pad> <pad> <pad> <pad> <pad> <pad> <pad> <pad> <pad> <pad> <pad> <pad> <pad> <pad> <pad> <pad> <pad> <pad> <pad> <pad> <pad> <pad> <pad> <pad> <pad> <pad> <pad> <pad> <pad> <pad> <pad> <pad> <pad> <pad> <pad> <pad> <pad> <pad> <pad> <pad> <pad> <pad> <pad> <pad> <pad> <pad> <pad> <pad> <pad> <pad> <pad> <pad> <pad> <pad> <pad> <pad> <pad> <pad> <pad> <pad> <pad> <pad> <pad> <pad> <pad> <pad> <pad> <pad> <pad> <pad> <pad> <pad> <pad> <pad> <pad> <pad> <pad> <pad> <pad> <pad> <pad> <pad> <pad> <pad> <pad> <pad> <pad> <pad> <pad> <pad> <pad> <pad> <pad> <pad> <pad> <pad> <pad> <pad> <pad> <pad> <pad> <pad> <pad> <pad> <pad> <pad> <pad> <pad> <pad> <pad> <pad> <pad> <pad> <pad> <pad> <pad> <pad> <pad> <pad> <pad> <pad> <pad> <pad> <pad> <pad> <pad> <pad> <pad> <pad> <pad> <pad> <pad> <pad> <pad> <pad> <pad> <pad> <pad> <pad> <pad> <pad> <pad> <pad> <pad> <pad> <pad> <pad> <pad> <pad> <pad> <pad> <pad> <pad> <pad> <pad> <pad> <pad> <pad> <pad> <pad> <pad> <pad> <pad> <pad> <pad> <pad> <pad>\n",
      "\n",
      "That's about the only redeeming quality in a movie that otherwise insults the viewer's intelligence by losing track of time, plot, and reason for being produced.<br /><br />Plus, how that guy with the glasses ever got a gig in Hollywood is beyond me.\n"
     ]
    }
   ],
   "source": [
    "text = train_padded[0]\n",
    "print(' '.join([tokenizer.index_word.get(i, '<pad>') for i in text]))\n",
    "print()\n",
    "print(train_sentences[0])"
   ]
  },
  {
   "cell_type": "markdown",
   "metadata": {
    "id": "f97qGl4SD0Z4"
   },
   "source": [
    "### `TensorDataset`을 이용하여 numpy sequence data 를 tensor dataloader 로 변환"
   ]
  },
  {
   "cell_type": "code",
   "execution_count": 12,
   "metadata": {
    "id": "1_Ml1-ZviFbx"
   },
   "outputs": [],
   "source": [
    "# Tensor datasets 생성\n",
    "\n",
    "train_data = TensorDataset(torch.LongTensor(train_padded), torch.FloatTensor(train_labels))\n",
    "valid_data = TensorDataset(torch.LongTensor(test_padded), torch.FloatTensor(test_labels))\n",
    "\n",
    "# dataloader 생성\n",
    "batch_size = 50\n",
    "train_loader = DataLoader(train_data, shuffle=True, batch_size=batch_size)\n",
    "valid_loader = DataLoader(valid_data, shuffle=False, batch_size=batch_size)"
   ]
  },
  {
   "cell_type": "code",
   "execution_count": 13,
   "metadata": {
    "colab": {
     "base_uri": "https://localhost:8080/"
    },
    "id": "OCGcncXnD0Z4",
    "outputId": "66421feb-9950-4993-b267-c39a6c39211a"
   },
   "outputs": [
    {
     "name": "stdout",
     "output_type": "stream",
     "text": [
      "Sample input size: torch.Size([50, 300])\n",
      "Sample label size: torch.Size([50])\n"
     ]
    }
   ],
   "source": [
    "# training data의 batch 한 개 출력\n",
    "sample_X, sample_y =next(iter(train_loader))\n",
    "\n",
    "print('Sample input size:', sample_X.size()) # batch_size, seq_length\n",
    "print('Sample label size:', sample_y.size())"
   ]
  },
  {
   "cell_type": "markdown",
   "metadata": {
    "id": "xe--HG3bD0Z5"
   },
   "source": [
    "### Model 생성\n",
    "\n",
    "<img src=\"https://miro.medium.com/max/875/1*SICYykT7ybua1gVJDNlajw.png\"  width=600 />"
   ]
  },
  {
   "cell_type": "code",
   "execution_count": 14,
   "metadata": {
    "id": "wGSsjdjYD0Z5"
   },
   "outputs": [],
   "source": [
    "class SentimentRNN(nn.Module):\n",
    "    def __init__(self, no_layers, vocab_size, embedding_dim, \n",
    "                         hidden_dim, output_dim, drop_prob=0.3):\n",
    "        super(SentimentRNN, self).__init__()\n",
    " \n",
    "        self.output_dim = output_dim\n",
    "        self.hidden_dim = hidden_dim\n",
    " \n",
    "        self.no_layers = no_layers\n",
    "        self.vocab_size = vocab_size\n",
    "    \n",
    "        self.embedding = nn.Embedding(vocab_size, embedding_dim)\n",
    "        \n",
    "        self.lstm = nn.LSTM(input_size = embedding_dim, hidden_size = hidden_dim,\n",
    "                           num_layers = no_layers, batch_first = True)\n",
    "        \n",
    "        self.dropout = nn.Dropout(drop_prob)\n",
    "\n",
    "        self.fc = nn.Linear(hidden_dim, output_dim)\n",
    "        self.sig = nn.Sigmoid()\n",
    "        \n",
    "    def forward(self, x, hidden):\n",
    "        batch_size = x.size(0)\n",
    "        embeds = self.embedding(x)  \n",
    "        lstm_out, hidden = self.lstm(embeds, hidden)\n",
    "        #batch first\n",
    "        lstm_out = lstm_out.reshape(batch_size, -1, self.hidden_dim) \n",
    "\n",
    "        out = self.dropout(lstm_out)\n",
    "        out = self.fc(out)     \n",
    "        sig_out = self.sig(out)\n",
    "        # many-to-one\n",
    "        return sig_out[:, -1], hidden\n",
    "        \n",
    "    def init_hidden(self, batch_size):\n",
    "        ''' Initializes hidden state '''\n",
    "        h0 = torch.zeros((self.no_layers, batch_size, self.hidden_dim)).to(device)\n",
    "        c0 = torch.zeros((self.no_layers, batch_size, self.hidden_dim)).to(device)\n",
    "        return (h0, c0)"
   ]
  },
  {
   "cell_type": "code",
   "execution_count": 15,
   "metadata": {
    "colab": {
     "base_uri": "https://localhost:8080/"
    },
    "id": "oBmCW0xVD0Z5",
    "outputId": "462c74a5-887d-4284-efc6-629df63d4705"
   },
   "outputs": [
    {
     "data": {
      "text/plain": [
       "SentimentRNN(\n",
       "  (embedding): Embedding(10001, 64)\n",
       "  (lstm): LSTM(64, 256, batch_first=True)\n",
       "  (dropout): Dropout(p=0.3, inplace=False)\n",
       "  (fc): Linear(in_features=256, out_features=1, bias=True)\n",
       "  (sig): Sigmoid()\n",
       ")"
      ]
     },
     "execution_count": 15,
     "metadata": {},
     "output_type": "execute_result"
    }
   ],
   "source": [
    "no_layers = 1\n",
    "vocab_size = vocab_size + 1 #extra 1 for padding\n",
    "embedding_dim = 64\n",
    "output_dim = 1\n",
    "hidden_dim = 256\n",
    "\n",
    "model = SentimentRNN(no_layers, vocab_size, embedding_dim, \n",
    "                                  hidden_dim, output_dim, drop_prob=0.3)\n",
    "\n",
    "model.to(device)"
   ]
  },
  {
   "cell_type": "markdown",
   "metadata": {
    "id": "zl05hs2PD0Z5"
   },
   "source": [
    "### Training"
   ]
  },
  {
   "cell_type": "code",
   "execution_count": 16,
   "metadata": {
    "id": "tYVVaF6BD0Z6"
   },
   "outputs": [],
   "source": [
    "lr=0.001\n",
    "\n",
    "criterion = nn.BCELoss()\n",
    "optimizer = torch.optim.Adam(model.parameters(), lr=lr)\n",
    "\n",
    "# accuracy 계산 helper function\n",
    "def acc(pred, label):\n",
    "    pred = torch.round(pred.squeeze())\n",
    "    return torch.sum(pred == label.squeeze()).item()"
   ]
  },
  {
   "cell_type": "code",
   "execution_count": 17,
   "metadata": {
    "colab": {
     "base_uri": "https://localhost:8080/"
    },
    "id": "DC0T94WoD0Z6",
    "outputId": "a72491d2-92e8-4fee-b729-d9c91eda7bc0"
   },
   "outputs": [
    {
     "name": "stdout",
     "output_type": "stream",
     "text": [
      "epoch 0 ==> train loss: 0.01388,  valididation loss: 0.01383 train acc: 0.50450, validation acc: 0.51650\n",
      "model saved.............\n",
      "epoch 1 ==> train loss: 0.01379,  valididation loss: 0.01378 train acc: 0.52192, validation acc: 0.52540\n",
      "model saved.............\n",
      "epoch 2 ==> train loss: 0.01361,  valididation loss: 0.01370 train acc: 0.53487, validation acc: 0.53230\n",
      "model saved.............\n",
      "epoch 3 ==> train loss: 0.01328,  valididation loss: 0.01318 train acc: 0.56470, validation acc: 0.58550\n",
      "model saved.............\n",
      "epoch 4 ==> train loss: 0.01141,  valididation loss: 0.01192 train acc: 0.70160, validation acc: 0.60510\n",
      "model saved.............\n",
      "epoch 5 ==> train loss: 0.00811,  valididation loss: 0.00776 train acc: 0.82735, validation acc: 0.83770\n",
      "model saved.............\n",
      "epoch 6 ==> train loss: 0.00598,  valididation loss: 0.00680 train acc: 0.87965, validation acc: 0.86030\n",
      "model saved.............\n",
      "epoch 7 ==> train loss: 0.00491,  valididation loss: 0.00630 train acc: 0.90382, validation acc: 0.86600\n",
      "model saved.............\n",
      "epoch 8 ==> train loss: 0.00405,  valididation loss: 0.00648 train acc: 0.92407, validation acc: 0.87270\n",
      "epoch 9 ==> train loss: 0.00316,  valididation loss: 0.00703 train acc: 0.94137, validation acc: 0.87740\n",
      "3.5095517079035443\n"
     ]
    }
   ],
   "source": [
    "import time\n",
    "s = time.time()\n",
    "clip = 5\n",
    "epochs = 10\n",
    "valid_loss_min = np.inf\n",
    "\n",
    "LOSS, VAL_LOSS, ACC, VAL_ACC = [], [], [], []\n",
    "\n",
    "for epoch in range(epochs):\n",
    "    model.train()\n",
    "    \n",
    "    train_loss = 0\n",
    "    train_acc = 0\n",
    "    for inputs, labels in train_loader:\n",
    "        optimizer.zero_grad()\n",
    "\n",
    "        inputs, labels = inputs.to(device), labels.to(device)   \n",
    "        \n",
    "        # hidden state 초기화\n",
    "        h = model.init_hidden(batch_size)\n",
    "\n",
    "        output, hidden = model(inputs, h)\n",
    "        \n",
    "        loss = criterion(output.squeeze(), labels)\n",
    "\n",
    "        train_loss += loss.item()\n",
    "        accuracy = acc(output, labels)\n",
    "        train_acc += accuracy\n",
    "\n",
    "        loss.backward()\n",
    "        #`clip_grad_norm`은 RNN/LSTM에서 gradient exploding을 방지하는 데 도움이 됩니다.\n",
    "        nn.utils.clip_grad_norm_(model.parameters(), clip)\n",
    "        optimizer.step()\n",
    "\n",
    "    train_loss = train_loss / len(train_data)\n",
    "    train_acc = train_acc / len(train_data)\n",
    "    LOSS.append(train_loss)\n",
    "    ACC.append(train_acc)\n",
    " \n",
    "    \n",
    "    model.eval()\n",
    "\n",
    "    val_loss = 0\n",
    "    val_acc = 0\n",
    "    for inputs, labels in valid_loader:\n",
    "\n",
    "            inputs, labels = inputs.to(device), labels.to(device)\n",
    "\n",
    "            h = model.init_hidden(batch_size)\n",
    "            \n",
    "            output, hidden = model(inputs, h)\n",
    "\n",
    "            loss = criterion(output.squeeze(), labels)\n",
    "\n",
    "            val_loss +=  loss.item()\n",
    "            \n",
    "            accuracy = acc(output, labels)\n",
    "            val_acc += accuracy\n",
    "    \n",
    "    val_loss = val_loss / len(valid_data)\n",
    "    val_acc = val_acc / len(valid_data)\n",
    "    VAL_LOSS.append(val_loss)\n",
    "    VAL_ACC.append(val_acc)\n",
    "\n",
    "    print(f'epoch {epoch} ==> train loss: {train_loss:.5f},  valididation loss: {val_loss:.5f}',  \n",
    "                                            f'train acc: {train_acc:.5f}, validation acc: {val_acc:.5f}')\n",
    "    \n",
    "    if val_loss <= valid_loss_min:\n",
    "        torch.save(model.state_dict(), 'state_dict.pt')\n",
    "        print('model saved.............')\n",
    "        valid_loss_min = val_loss\n",
    "\n",
    "print((time.time() - s)/60)"
   ]
  },
  {
   "cell_type": "code",
   "execution_count": 18,
   "metadata": {
    "colab": {
     "base_uri": "https://localhost:8080/",
     "height": 319
    },
    "id": "rCP_D_4mD0Z6",
    "outputId": "23d9dd85-b2dc-4354-dc2a-9e400ec24004"
   },
   "outputs": [
    {
     "data": {
      "image/png": "[encoded data removed]",
      "text/plain": [
       "<Figure size 1440x432 with 2 Axes>"
      ]
     },
     "metadata": {
      "needs_background": "light"
     },
     "output_type": "display_data"
    }
   ],
   "source": [
    "fig = plt.figure(figsize = (20, 6))\n",
    "plt.subplot(1, 2, 1)\n",
    "plt.plot(ACC, label='Train')\n",
    "plt.plot(VAL_ACC, label='Validation')\n",
    "plt.title(\"Accuracy\")\n",
    "plt.legend()\n",
    "plt.grid()\n",
    "    \n",
    "plt.subplot(1, 2, 2)\n",
    "plt.plot(LOSS, label='Train')\n",
    "plt.plot(VAL_LOSS, label='Validation')\n",
    "plt.title(\"Loss\")\n",
    "plt.legend()\n",
    "plt.grid()\n",
    "\n",
    "plt.show()"
   ]
  },
  {
   "cell_type": "markdown",
   "metadata": {
    "id": "8pt33zRXD0Z6"
   },
   "source": [
    "### Inferance"
   ]
  },
  {
   "cell_type": "code",
   "execution_count": 19,
   "metadata": {
    "id": "9TRGIjX2Womp"
   },
   "outputs": [],
   "source": [
    "def predict_text(text):\n",
    "    sequences = tokenizer.texts_to_sequences([text])\n",
    "    padded = pad_sequences(sequences, maxlen=max_length, \n",
    "                            truncating='post', padding='post')\n",
    "    inputs = torch.tensor(padded).to(device)\n",
    "    h = model.init_hidden(1)\n",
    "    output, hidden = model(inputs, h)\n",
    "    return output.item()"
   ]
  },
  {
   "cell_type": "code",
   "execution_count": 20,
   "metadata": {
    "colab": {
     "base_uri": "https://localhost:8080/",
     "height": 53
    },
    "id": "TCYMultTZm2Q",
    "outputId": "b8dd058b-8dda-447f-d9fe-76abbfae1b2f"
   },
   "outputs": [
    {
     "name": "stdout",
     "output_type": "stream",
     "text": [
      "0.008624096401035786\n"
     ]
    },
    {
     "data": {
      "application/vnd.google.colaboratory.intrinsic+json": {
       "type": "string"
      },
      "text/plain": [
       "'negative'"
      ]
     },
     "execution_count": 20,
     "metadata": {},
     "output_type": "execute_result"
    }
   ],
   "source": [
    "text = \"It's a really boring movie. I hate it.\"\n",
    "pred = predict_text(text)\n",
    "print(pred)\n",
    "\"positive\" if pred > 0.5 else \"negative\""
   ]
  },
  {
   "cell_type": "code",
   "execution_count": 21,
   "metadata": {
    "colab": {
     "base_uri": "https://localhost:8080/",
     "height": 53
    },
    "id": "JMY6FV-5ZYEd",
    "outputId": "2dbd9727-1a60-40f4-d3d6-ad85ed6a7730"
   },
   "outputs": [
    {
     "name": "stdout",
     "output_type": "stream",
     "text": [
      "0.6365423202514648\n"
     ]
    },
    {
     "data": {
      "application/vnd.google.colaboratory.intrinsic+json": {
       "type": "string"
      },
      "text/plain": [
       "'positive'"
      ]
     },
     "execution_count": 21,
     "metadata": {},
     "output_type": "execute_result"
    }
   ],
   "source": [
    "text = \"The movei was fantastic. I would recommend the movie.\"\n",
    "pred = predict_text(text)\n",
    "print(pred)\n",
    "\"positive\" if pred > 0.5 else \"negative\""
   ]
  },
  {
   "cell_type": "code",
   "execution_count": 22,
   "metadata": {
    "colab": {
     "base_uri": "https://localhost:8080/",
     "height": 53
    },
    "id": "Vpfbt4_HlJNK",
    "outputId": "6b238f32-4333-4cd3-dfc5-3b6179ef88f2"
   },
   "outputs": [
    {
     "name": "stdout",
     "output_type": "stream",
     "text": [
      "0.944367527961731\n"
     ]
    },
    {
     "data": {
      "application/vnd.google.colaboratory.intrinsic+json": {
       "type": "string"
      },
      "text/plain": [
       "'positive'"
      ]
     },
     "execution_count": 22,
     "metadata": {},
     "output_type": "execute_result"
    }
   ],
   "source": [
    "text = \"The animation and graphics were out of this world.\"\n",
    "pred = predict_text(text)\n",
    "print(pred)\n",
    "\"positive\" if pred > 0.5 else \"negative\""
   ]
  },
  {
   "cell_type": "code",
   "execution_count": 22,
   "metadata": {
    "id": "ZAGpG18repLa"
   },
   "outputs": [],
   "source": []
  }
 ],
 "metadata": {
  "accelerator": "GPU",
  "colab": {
   "collapsed_sections": [],
   "name": "360_sentiment_analysis_using_lstm_pytorch.ipynb",
   "provenance": []
  },
  "kernelspec": {
   "display_name": "Python 3 (ipykernel)",
   "language": "python",
   "name": "python3"
  },
  "language_info": {
   "codemirror_mode": {
    "name": "ipython",
    "version": 3
   },
   "file_extension": ".py",
   "mimetype": "text/x-python",
   "name": "python",
   "nbconvert_exporter": "python",
   "pygments_lexer": "ipython3",
   "version": "3.9.16"
  }
 },
 "nbformat": 4,
 "nbformat_minor": 1
}
