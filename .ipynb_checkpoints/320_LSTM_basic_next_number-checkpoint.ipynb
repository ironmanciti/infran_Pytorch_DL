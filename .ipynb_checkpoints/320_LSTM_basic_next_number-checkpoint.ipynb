{
 "cells": [
  {
   "cell_type": "markdown",
   "metadata": {
    "colab_type": "text",
    "id": "JUOrHll26NTA"
   },
   "source": [
    "# 320. Basic LSTM 이해\n",
    "\n",
    "\n",
    "## Define the LSTM\n",
    "\n",
    "- `nn.LSTM`을 사용하여 RNN 레이어를 생성한 다음, 원하는 출력 크기를 얻기 위해 fully-connected layer를 추가  \n",
    "\n",
    "\n",
    "- torch.nn.RNN 의 parameters:  \n",
    "\n",
    "    * **input_size** - input 의 feature 수\n",
    "    * **hidden_size** - RNN 출력 및 hidden state의 feature 수\n",
    "    * **num_layers** - RNN stacked 레이어 수. **Default: 1**\n",
    "    * **batch_first** - True: input and output tensors 의 shape=(batch, seq, feature). **Default: False**\n",
    "    * **bidirectional** – True:  bidirectional RNN. **Default: False**   \n",
    "    \n",
    "    \n",
    "- Inputs: input,  (h_0, c_0)\n",
    "\n",
    "    - input shape - (seq_len, batch, input_size)\n",
    "    - h_0 shape - (num_layers * num_directions, batch, hidden_size). **Default: 0**\n",
    "    - c_0 shape - (num_layers * num_directions, batch, hidden_size)\n",
    "    \n",
    "    \n",
    "- Outputs: output, output, (h_n, c_n)\n",
    "    - output - (seq_len, batch, num_directions * hidden_size)  \n",
    "    - h_n - (num_layers * num_directions, batch, hidden_size)\n",
    "    - c_n - (num_layers * num_directions, batch, hidden_size):"
   ]
  },
  {
   "cell_type": "code",
   "execution_count": 1,
   "metadata": {},
   "outputs": [],
   "source": [
    "import numpy as np\n",
    "import torch\n",
    "import torch.nn as nn\n",
    "import torch.optim as optim\n",
    "import matplotlib.pyplot as plt"
   ]
  },
  {
   "cell_type": "markdown",
   "metadata": {},
   "source": [
    "- simple LSTM 생성하여 LSTM의 특성 파악"
   ]
  },
  {
   "cell_type": "code",
   "execution_count": 2,
   "metadata": {},
   "outputs": [
    {
     "data": {
      "text/plain": [
       "LSTM(5, 16, batch_first=True)"
      ]
     },
     "execution_count": 2,
     "metadata": {},
     "output_type": "execute_result"
    }
   ],
   "source": [
    "input_dim = 5\n",
    "hidden_dim = 16\n",
    "n_layers = 1\n",
    "\n",
    "lstm_layer = nn.LSTM(input_dim, hidden_dim, n_layers, batch_first=True)\n",
    "lstm_layer"
   ]
  },
  {
   "cell_type": "markdown",
   "metadata": {},
   "source": [
    "- simple LSTM을 test 하기 위해 toy data 생성"
   ]
  },
  {
   "cell_type": "code",
   "execution_count": 3,
   "metadata": {},
   "outputs": [
    {
     "name": "stdout",
     "output_type": "stream",
     "text": [
      "input =  tensor([[[-2.0740, -1.7335, -1.0397, -0.1400,  0.4212]],\n",
      "\n",
      "        [[-0.4526,  1.0128, -1.5894, -0.4716, -1.4122]],\n",
      "\n",
      "        [[ 0.2714,  0.8112, -0.3092, -0.3101,  0.9504]],\n",
      "\n",
      "        [[-1.2765, -0.7081, -0.8103, -0.0700,  0.3390]],\n",
      "\n",
      "        [[-1.2912,  0.6906,  1.4694,  1.2355,  2.2444]]])\n",
      "input shape =  torch.Size([5, 1, 5])\n",
      "\n",
      "hidden shape =  torch.Size([1, 5, 16]) torch.Size([1, 5, 16])\n"
     ]
    }
   ],
   "source": [
    "batch_size = 5\n",
    "seq_len = 1\n",
    "\n",
    "#input\n",
    "inp = torch.randn(batch_size, seq_len, input_dim)\n",
    "\n",
    "print(\"input = \", inp)\n",
    "print(\"input shape = \", inp.shape)\n",
    "print()\n",
    "\n",
    "#hidden state\n",
    "hidden_state = torch.randn(n_layers, batch_size, hidden_dim)\n",
    "cell_state = torch.randn(n_layers, batch_size, hidden_dim)\n",
    "\n",
    "hidden = (hidden_state, cell_state)\n",
    "\n",
    "print(\"hidden shape = \", hidden_state.shape, cell_state.shape)"
   ]
  },
  {
   "cell_type": "markdown",
   "metadata": {},
   "source": [
    "- 위에서 생성한 toy data 를 lstm_layer 에 입력하여 출력 및 new hidden state 확인"
   ]
  },
  {
   "cell_type": "code",
   "execution_count": 4,
   "metadata": {},
   "outputs": [
    {
     "name": "stdout",
     "output_type": "stream",
     "text": [
      "LSTM output shape (seq, batch, hidden):  torch.Size([5, 1, 16])\n",
      "h_n (num_layers, batch, hidden):  torch.Size([1, 5, 16])\n",
      "c_n (num_layers, batch, hidden):  torch.Size([1, 5, 16])\n"
     ]
    }
   ],
   "source": [
    "out, hidden = lstm_layer(inp, hidden)\n",
    "\n",
    "print(\"LSTM output shape (seq, batch, hidden): \", out.shape)\n",
    "print(\"h_n (num_layers, batch, hidden): \", hidden[0].shape)\n",
    "print(\"c_n (num_layers, batch, hidden): \", hidden[1].shape)"
   ]
  },
  {
   "cell_type": "markdown",
   "metadata": {},
   "source": [
    "## Many-to-Many, Many-to-One Type 의 output 비교\n",
    "\n",
    "- LSTM 은 가변 길이의 sequence data 를 입력 받아 \n",
    "\n",
    "### Many-to-Many \n",
    "    - 각 sequence 의 output 모두 사용\n",
    "    \n",
    "### Many-to-One\n",
    "    - last output 만 사용"
   ]
  },
  {
   "cell_type": "markdown",
   "metadata": {},
   "source": [
    "### Many-to-Many"
   ]
  },
  {
   "cell_type": "code",
   "execution_count": 5,
   "metadata": {},
   "outputs": [
    {
     "name": "stdout",
     "output_type": "stream",
     "text": [
      "torch.Size([5, 3, 5])\n",
      "torch.Size([5, 3, 16])\n"
     ]
    }
   ],
   "source": [
    "seq_len = 3\n",
    "\n",
    "inp = torch.randn(batch_size, seq_len, input_dim)\n",
    "out, hidden = lstm_layer(inp, hidden)\n",
    "\n",
    "print(inp.shape)\n",
    "print(out.shape)  # many-to-many"
   ]
  },
  {
   "cell_type": "markdown",
   "metadata": {},
   "source": [
    "### Many-to-One"
   ]
  },
  {
   "cell_type": "code",
   "execution_count": 6,
   "metadata": {},
   "outputs": [
    {
     "name": "stdout",
     "output_type": "stream",
     "text": [
      "torch.Size([5, 16])\n"
     ]
    }
   ],
   "source": [
    "#last output (many-to-one) 만 출력\n",
    "out = out[:, -1]\n",
    "print(out.shape)"
   ]
  },
  {
   "cell_type": "markdown",
   "metadata": {},
   "source": [
    "## 연속된 5 개의 숫자를 보고 다음 숫자를 알아맞추도록 LSTM 을 이용한 model 작성\n",
    "\n",
    "- data 는 0 ~ 99 까지의 연속된 5개의 숫자 sequence 이고, target 은 (5 ~ 105) * 2 로 구성한다.   \n",
    "- 입력  sequence 에 대응하는 target을 예측하는 model 을 LSTM 으로 작성"
   ]
  },
  {
   "cell_type": "code",
   "execution_count": 7,
   "metadata": {
    "colab": {
     "base_uri": "https://localhost:8080/",
     "height": 255
    },
    "colab_type": "code",
    "id": "ddNibtIk6NTE",
    "outputId": "9de16996-77ce-4c5b-8f71-f6249fb0a519"
   },
   "outputs": [
    {
     "name": "stdout",
     "output_type": "stream",
     "text": [
      "[[5], [6], [7], [8], [9]]\n",
      "[20]\n"
     ]
    }
   ],
   "source": [
    "Numbers = [[i] for i in range(105)]\n",
    "\n",
    "Data = []\n",
    "Target = []\n",
    "for i in range(5, len(Numbers)):\n",
    "    Data.append(Numbers[i-5: i])\n",
    "    Target.append([Numbers[i][0] * 2])\n",
    "\n",
    "print(Data[5])\n",
    "print(Target[5])"
   ]
  },
  {
   "cell_type": "code",
   "execution_count": 8,
   "metadata": {},
   "outputs": [
    {
     "data": {
      "text/plain": [
       "(torch.Size([100, 5, 1]), torch.Size([100, 1]))"
      ]
     },
     "execution_count": 8,
     "metadata": {},
     "output_type": "execute_result"
    }
   ],
   "source": [
    "X = torch.tensor(Data, dtype=torch.float) / 100   #scaling\n",
    "Y = torch.tensor(Target, dtype=torch.float) / 100\n",
    "X.size(), Y.size()"
   ]
  },
  {
   "cell_type": "code",
   "execution_count": 9,
   "metadata": {},
   "outputs": [],
   "source": [
    "from torch.utils.data import TensorDataset, DataLoader\n",
    "\n",
    "ds = TensorDataset(X, Y)\n",
    "ds_loader = DataLoader(ds, batch_size=5, shuffle=True)"
   ]
  },
  {
   "cell_type": "markdown",
   "metadata": {},
   "source": [
    "- LSTM model 생성"
   ]
  },
  {
   "cell_type": "code",
   "execution_count": 10,
   "metadata": {},
   "outputs": [],
   "source": [
    "class LSTM(nn.Module):\n",
    "    def __init__(self, input_dim, hidden_dim, output_dim, n_layers):\n",
    "        super(LSTM, self).__init__()\n",
    "        self.n_layers = n_layers\n",
    "        self.hidden_dim = hidden_dim\n",
    "        self.lstm = nn.LSTM(input_dim, hidden_dim, n_layers, batch_first=True)\n",
    "        self.fc = nn.Linear(hidden_dim, output_dim)\n",
    "\n",
    "    def forward(self, x, hidden):\n",
    "        batch_size = x.shape[0]\n",
    "        out, hidden = self.lstm(x, hidden)\n",
    "        out = out.reshape(batch_size, -1, self.hidden_dim)  #batch first\n",
    "        output = self.fc(out)\n",
    "        return output[:, -1], hidden      #many-to-one\n",
    "    \n",
    "    def init_hidden(self, batch_size):\n",
    "        weight = next(self.parameters()).detach()\n",
    "        # same type, device, filled with zeros\n",
    "        h0 = weight.new_zeros(self.n_layers, batch_size, self.hidden_dim) \n",
    "        c0 = weight.new_zeros(self.n_layers, batch_size, self.hidden_dim)\n",
    "        return (h0, c0)"
   ]
  },
  {
   "cell_type": "code",
   "execution_count": 11,
   "metadata": {},
   "outputs": [],
   "source": [
    "model = LSTM(1, 16, 1, 1)\n",
    "\n",
    "criterion = nn.MSELoss()\n",
    "optimizer = optim.Adam(model.parameters(), lr=0.01)"
   ]
  },
  {
   "cell_type": "code",
   "execution_count": 12,
   "metadata": {},
   "outputs": [],
   "source": [
    "epochs = 50\n",
    "batch_size = 5\n",
    "\n",
    "for step in range(epochs):   \n",
    "\n",
    "    for x, y in ds_loader:\n",
    "        # hidden state 초기화\n",
    "        h = model.init_hidden(batch_size) \n",
    "        \n",
    "        prediction, hidden = model(x, h)\n",
    "        \n",
    "        optimizer.zero_grad()\n",
    "        loss = criterion(prediction, y)\n",
    "        loss.backward()\n",
    "        optimizer.step()"
   ]
  },
  {
   "cell_type": "code",
   "execution_count": 13,
   "metadata": {},
   "outputs": [],
   "source": [
    "batch_size = X.shape[0]\n",
    "h = model.init_hidden(batch_size)\n",
    "\n",
    "y_pred, hidden = model(X, h)"
   ]
  },
  {
   "cell_type": "code",
   "execution_count": 14,
   "metadata": {},
   "outputs": [
    {
     "data": {
      "text/plain": [
       "Text(0, 0.5, 'Predicted value')"
      ]
     },
     "execution_count": 14,
     "metadata": {},
     "output_type": "execute_result"
    },
    {
     "data": {
      "image/png": "[encoded data removed]",
      "text/plain": [
       "<Figure size 432x288 with 1 Axes>"
      ]
     },
     "metadata": {
      "needs_background": "light"
     },
     "output_type": "display_data"
    }
   ],
   "source": [
    "plt.scatter(Y.numpy(), y_pred.detach().numpy(), marker='.')\n",
    "plt.xlabel('True value')\n",
    "plt.ylabel('Predicted value')"
   ]
  },
  {
   "cell_type": "markdown",
   "metadata": {
    "colab_type": "text",
    "id": "6mYEp5Cn6NTW"
   },
   "source": [
    "- 임의의 연속된 숫자와 비교"
   ]
  },
  {
   "cell_type": "code",
   "execution_count": 15,
   "metadata": {
    "colab": {
     "base_uri": "https://localhost:8080/",
     "height": 34
    },
    "colab_type": "code",
    "id": "RUmHGYCW6NTy",
    "outputId": "5189462a-77e6-4db7-e3d7-231636b9a774"
   },
   "outputs": [],
   "source": [
    "test_data = torch.tensor([[35], [36], [37], [38], [39]], dtype=torch.float).unsqueeze(0)\n",
    "\n",
    "x = test_data / 100\n",
    "h = model.init_hidden(1)\n",
    "\n",
    "prediction, hidden = model(x, h)"
   ]
  },
  {
   "cell_type": "code",
   "execution_count": 16,
   "metadata": {
    "scrolled": false
   },
   "outputs": [
    {
     "data": {
      "text/plain": [
       "79.28691506385803"
      ]
     },
     "execution_count": 16,
     "metadata": {},
     "output_type": "execute_result"
    }
   ],
   "source": [
    "prediction.item() * 100"
   ]
  },
  {
   "cell_type": "code",
   "execution_count": null,
   "metadata": {},
   "outputs": [],
   "source": []
  }
 ],
 "metadata": {
  "accelerator": "GPU",
  "colab": {
   "name": "99-1. Simple LSTM.ipynb",
   "provenance": []
  },
  "kernelspec": {
   "display_name": "Python 3",
   "language": "python",
   "name": "python3"
  },
  "language_info": {
   "codemirror_mode": {
    "name": "ipython",
    "version": 3
   },
   "file_extension": ".py",
   "mimetype": "text/x-python",
   "name": "python",
   "nbconvert_exporter": "python",
   "pygments_lexer": "ipython3",
   "version": "3.9.7"
  }
 },
 "nbformat": 4,
 "nbformat_minor": 1
}
