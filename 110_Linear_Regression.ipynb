{
  "cells": [
    {
      "cell_type": "markdown",
      "metadata": {
        "id": "bcnSYnXlm8tL"
      },
      "source": [
        "# 110. Basic Linear Regression"
      ]
    },
    {
      "cell_type": "code",
      "execution_count": 1,
      "metadata": {
        "id": "9h9B--MZm8tM"
      },
      "outputs": [],
      "source": [
        "import numpy as np\n",
        "import torch"
      ]
    },
    {
      "cell_type": "markdown",
      "metadata": {
        "id": "1XehuXWim8tN"
      },
      "source": [
        "# 1) Feed Forward 구현\n",
        "\n",
        "- weight와 bias를 알고 있다고 가정하고 Feed Forward 함수를 직접 구현  \n",
        "- 다음의 선형회귀 문제를 pytorch 로 해결  \n",
        "\n",
        "$$b=-1,w=2$$\n",
        "\n",
        "$$\\hat{y}=-1+2x$$"
      ]
    },
    {
      "cell_type": "code",
      "execution_count": 2,
      "metadata": {
        "colab": {
          "base_uri": "https://localhost:8080/"
        },
        "id": "BEzbhzmzm8tN",
        "outputId": "cacef397-9f65-47d5-c083-cf5d635f7eb9"
      },
      "outputs": [
        {
          "output_type": "stream",
          "name": "stdout",
          "text": [
            "tensor(2.) tensor(-1.)\n"
          ]
        }
      ],
      "source": [
        "w = torch.tensor(2.0)\n",
        "b = torch.tensor(-1.0)\n",
        "print(w, b)"
      ]
    },
    {
      "cell_type": "code",
      "execution_count": 3,
      "metadata": {
        "id": "zziBhoJwm8tN"
      },
      "outputs": [],
      "source": [
        "def forward(x):\n",
        "    yhat = w * x + b\n",
        "    return yhat"
      ]
    },
    {
      "cell_type": "markdown",
      "metadata": {
        "id": "fq_F6jmym8tO"
      },
      "source": [
        "x = 1 일 때 `y = 2x - 1`이므로 y 는 1"
      ]
    },
    {
      "cell_type": "code",
      "execution_count": 5,
      "metadata": {
        "colab": {
          "base_uri": "https://localhost:8080/"
        },
        "id": "TfQLUbHSm8tO",
        "outputId": "4f11130c-f6dc-4270-f394-37a6a0aebbc4"
      },
      "outputs": [
        {
          "output_type": "stream",
          "name": "stdout",
          "text": [
            "x = 1.0 일 때, y = 1.0\n"
          ]
        }
      ],
      "source": [
        "x = torch.tensor([1.0])\n",
        "yhat = forward(x)\n",
        "\n",
        "print(f\"x = {x.item()} 일 때, y = {yhat.item()}\")"
      ]
    },
    {
      "cell_type": "markdown",
      "metadata": {
        "id": "OdTKIp2Vm8tO"
      },
      "source": [
        "x 가 multiple inputs (array) 인 경우:"
      ]
    },
    {
      "cell_type": "code",
      "execution_count": 6,
      "metadata": {
        "colab": {
          "base_uri": "https://localhost:8080/"
        },
        "id": "PGaOD7A0m8tO",
        "outputId": "44da7ff5-2fe7-406b-bb85-680b32bfd5d9"
      },
      "outputs": [
        {
          "output_type": "execute_result",
          "data": {
            "text/plain": [
              "tensor([[1.],\n",
              "        [3.],\n",
              "        [5.]])"
            ]
          },
          "metadata": {},
          "execution_count": 6
        }
      ],
      "source": [
        "x = torch.tensor([[1.0], [2.0], [3.0]])\n",
        "forward(x)"
      ]
    },
    {
      "cell_type": "code",
      "execution_count": 7,
      "metadata": {
        "colab": {
          "base_uri": "https://localhost:8080/"
        },
        "id": "qBYlQ29Wm8tO",
        "outputId": "d3bf9a25-c613-4842-a0a3-c786fe2ab23b"
      },
      "outputs": [
        {
          "output_type": "execute_result",
          "data": {
            "text/plain": [
              "tensor([[1.],\n",
              "        [3.],\n",
              "        [5.]])"
            ]
          },
          "metadata": {},
          "execution_count": 7
        }
      ],
      "source": [
        "y_hat = forward(x)\n",
        "y_hat"
      ]
    },
    {
      "cell_type": "markdown",
      "metadata": {
        "id": "47cOAOIAm8tO"
      },
      "source": [
        "<h1>2) torch.nn 의 Linear 클래스를 이용한 Linear Regression</h1>"
      ]
    },
    {
      "cell_type": "code",
      "execution_count": 38,
      "metadata": {
        "id": "G2umRhZhm8tO"
      },
      "outputs": [],
      "source": [
        "from torch.nn import Linear\n",
        "torch.manual_seed(1)\n",
        "\n",
        "# 선형 회귀 모델 생성\n",
        "# 입력 특성의 수 1, 출력 특성의 수 1\n",
        "# bias=True: 모델에 편향(bias) 값을 포함\n",
        "model = Linear(in_features=1, out_features=1, bias=True)"
      ]
    },
    {
      "cell_type": "markdown",
      "metadata": {
        "id": "M_Bp_5zhm8tO"
      },
      "source": [
        "<code>state_dict()</code> method 는 각 layer 의 parameter tensor 를 dictionary 로 반환하므로 직접 값을 update 할 수 있다."
      ]
    },
    {
      "cell_type": "code",
      "execution_count": 10,
      "metadata": {
        "colab": {
          "base_uri": "https://localhost:8080/"
        },
        "id": "k-I_8p7Mm8tO",
        "outputId": "cc33d7b6-f081-4953-fd51-afe34b416c7c"
      },
      "outputs": [
        {
          "output_type": "stream",
          "name": "stdout",
          "text": [
            "OrderedDict([('weight', tensor([[0.5153]])), ('bias', tensor([-0.4414]))])\n",
            "\n",
            "tensor([[0.5153]]) tensor([-0.4414])\n",
            "\n",
            "Parameter containing:\n",
            "tensor([[0.5153]], requires_grad=True)\n",
            "Parameter containing:\n",
            "tensor([-0.4414], requires_grad=True)\n"
          ]
        }
      ],
      "source": [
        "print(model.state_dict())\n",
        "print()\n",
        "print(model.state_dict()['weight'], model.state_dict()['bias'])\n",
        "print()\n",
        "print(model.weight)\n",
        "print(model.bias)"
      ]
    },
    {
      "cell_type": "code",
      "execution_count": 40,
      "metadata": {
        "id": "XlLGmtH5m8tP"
      },
      "outputs": [],
      "source": [
        "model.state_dict()['weight'][0] = torch.tensor(2)\n",
        "model.state_dict()['bias'][0]     = torch.tensor(-1)"
      ]
    },
    {
      "cell_type": "code",
      "execution_count": 23,
      "metadata": {
        "colab": {
          "base_uri": "https://localhost:8080/"
        },
        "id": "wVWl62f2m8tP",
        "outputId": "4593a00c-e130-4f44-86b7-99304bc2897d"
      },
      "outputs": [
        {
          "output_type": "execute_result",
          "data": {
            "text/plain": [
              "OrderedDict([('weight', tensor([[2.]])), ('bias', tensor([-1.]))])"
            ]
          },
          "metadata": {},
          "execution_count": 23
        }
      ],
      "source": [
        "model.state_dict()"
      ]
    },
    {
      "cell_type": "code",
      "execution_count": 41,
      "metadata": {
        "colab": {
          "base_uri": "https://localhost:8080/"
        },
        "id": "74kVJXclm8tP",
        "outputId": "2fd04fe1-9df0-4e73-d197-26d8cfe1b037"
      },
      "outputs": [
        {
          "output_type": "execute_result",
          "data": {
            "text/plain": [
              "1.0"
            ]
          },
          "metadata": {},
          "execution_count": 41
        }
      ],
      "source": [
        "# x = [[1.0]]일 경우 prediction --> 1.0*2 - 1 = 1\n",
        "x = torch.tensor([[1.0]])\n",
        "yhat = model(x)\n",
        "yhat.item()"
      ]
    },
    {
      "cell_type": "code",
      "execution_count": 42,
      "metadata": {
        "colab": {
          "base_uri": "https://localhost:8080/"
        },
        "id": "GX42JrU3m8tP",
        "outputId": "5ba9b4e9-9d29-4dca-9f9f-e0f3852cd7d3"
      },
      "outputs": [
        {
          "output_type": "stream",
          "name": "stdout",
          "text": [
            "[[1.]\n",
            " [3.]\n",
            " [5.]]\n"
          ]
        }
      ],
      "source": [
        "# x 가 multiple inputs (array) 인 경우:\n",
        "x = torch.tensor([[1.0], [2.0], [3.0]])\n",
        "yhat = model(x)\n",
        "print(yhat.detach().numpy())"
      ]
    },
    {
      "cell_type": "markdown",
      "metadata": {
        "id": "CFnpCbibm8tP"
      },
      "source": [
        "<h1>3) 사용자 정의 Module 작성</h1>"
      ]
    },
    {
      "cell_type": "code",
      "execution_count": 43,
      "metadata": {
        "id": "feIqIccWm8tP"
      },
      "outputs": [],
      "source": [
        "from torch import nn\n",
        "\n",
        "class LR(nn.Module):\n",
        "    def __init__(self, input_size, output_size):\n",
        "        super(LR, self).__init__()\n",
        "        self.linear = nn.Linear(input_size, output_size)\n",
        "\n",
        "    def forward(self, x):\n",
        "        out = self.linear(x)\n",
        "        return out"
      ]
    },
    {
      "cell_type": "code",
      "execution_count": 44,
      "metadata": {
        "colab": {
          "base_uri": "https://localhost:8080/"
        },
        "id": "6ZkJMAS5m8tP",
        "outputId": "890b3b96-a143-4b4b-e561-2d62e32c9670"
      },
      "outputs": [
        {
          "output_type": "execute_result",
          "data": {
            "text/plain": [
              "OrderedDict([('linear.weight', tensor([[-0.1939]])),\n",
              "             ('linear.bias', tensor([0.4694]))])"
            ]
          },
          "metadata": {},
          "execution_count": 44
        }
      ],
      "source": [
        "# 입력 size 1, 출력 size 1\n",
        "model = LR(1, 1)\n",
        "\n",
        "model.state_dict()"
      ]
    },
    {
      "cell_type": "code",
      "execution_count": 45,
      "metadata": {
        "colab": {
          "base_uri": "https://localhost:8080/"
        },
        "id": "oxzMPJB8m8tP",
        "outputId": "19462c4e-6b3a-4512-84fb-640609627e5d"
      },
      "outputs": [
        {
          "output_type": "stream",
          "name": "stdout",
          "text": [
            "[Parameter containing:\n",
            "tensor([[2.]], requires_grad=True), Parameter containing:\n",
            "tensor([-1.], requires_grad=True)]\n",
            "\n",
            "Linear(in_features=1, out_features=1, bias=True)\n"
          ]
        }
      ],
      "source": [
        "model.state_dict()['linear.weight'][0] = torch.tensor(2)\n",
        "model.state_dict()['linear.bias'][0]     = torch.tensor(-1)\n",
        "\n",
        "print(list(model.parameters()))\n",
        "print()\n",
        "print(model.linear)"
      ]
    },
    {
      "cell_type": "code",
      "execution_count": 50,
      "metadata": {
        "colab": {
          "base_uri": "https://localhost:8080/"
        },
        "id": "iLomCguXm8tP",
        "outputId": "61196c6a-3b92-470c-a99b-8eee67bb6b22"
      },
      "outputs": [
        {
          "output_type": "stream",
          "name": "stdout",
          "text": [
            "[[1.]\n",
            " [3.]\n",
            " [5.]]\n"
          ]
        }
      ],
      "source": [
        "x = torch.tensor([[1.0], [2.0], [3.0]])\n",
        "yhat = model(x)\n",
        "\n",
        "# 계산 그래프로부터 텐서를 분리하여 그라디언트 계산이 필요 없는 텐서로 만듭니다\n",
        "print(yhat.detach().numpy())"
      ]
    },
    {
      "cell_type": "code",
      "execution_count": 48,
      "metadata": {
        "colab": {
          "base_uri": "https://localhost:8080/"
        },
        "id": "vMo_JbAvm8tP",
        "outputId": "83e81f61-1a19-456a-a6f5-5ceb5534041d"
      },
      "outputs": [
        {
          "output_type": "execute_result",
          "data": {
            "text/plain": [
              "[Parameter containing:\n",
              " tensor([[2.]], requires_grad=True),\n",
              " Parameter containing:\n",
              " tensor([-1.], requires_grad=True)]"
            ]
          },
          "metadata": {},
          "execution_count": 48
        }
      ],
      "source": [
        "list(model.parameters())"
      ]
    },
    {
      "cell_type": "code",
      "execution_count": 51,
      "metadata": {
        "colab": {
          "base_uri": "https://localhost:8080/"
        },
        "id": "uhyW9qRkm8tQ",
        "outputId": "96995679-7de3-4283-a8b2-dbe7e94cd5a5"
      },
      "outputs": [
        {
          "output_type": "execute_result",
          "data": {
            "text/plain": [
              "tensor([[1.],\n",
              "        [3.],\n",
              "        [5.]], grad_fn=<AddmmBackward0>)"
            ]
          },
          "metadata": {},
          "execution_count": 51
        }
      ],
      "source": [
        "x = torch.tensor([[1.0], [2.0], [3.0]])\n",
        "yhat = model(x)\n",
        "yhat"
      ]
    },
    {
      "cell_type": "code",
      "execution_count": 52,
      "metadata": {
        "colab": {
          "base_uri": "https://localhost:8080/"
        },
        "id": "Wmi5heSWm8tQ",
        "outputId": "b2856256-b9fc-4acc-d2a6-64a2294d28a8"
      },
      "outputs": [
        {
          "output_type": "execute_result",
          "data": {
            "text/plain": [
              "array([[1.],\n",
              "       [3.],\n",
              "       [5.]], dtype=float32)"
            ]
          },
          "metadata": {},
          "execution_count": 52
        }
      ],
      "source": [
        "yhat.detach().numpy()"
      ]
    },
    {
      "cell_type": "markdown",
      "metadata": {
        "id": "awS6nkgxm8tQ"
      },
      "source": [
        "# Backpropagation 과 경사하강법 적용\n",
        "\n",
        "- weight 와 bias를 스스로 학습\n",
        "- (온도, 강수량, 습도)를 feature 로 입력 받아  (사과, 오렌지)의 수확량(label)을 선형회귀로 예측하는 model 작성"
      ]
    },
    {
      "cell_type": "markdown",
      "metadata": {
        "id": "88BnD_SKm8tQ"
      },
      "source": [
        "## Data"
      ]
    },
    {
      "cell_type": "code",
      "execution_count": 53,
      "metadata": {
        "id": "1zm2V1Ncm8tQ"
      },
      "outputs": [],
      "source": [
        "# Input (습도, 강수량, 최고온도, 최저온도)\n",
        "inputs = np.array([\n",
        "                   [73, 67, 43, 10],\n",
        "                   [91, 88, 64, 5],\n",
        "                   [87, 134, 58, 2],\n",
        "                   [102, 43, 37, 4],\n",
        "                   [69, 96, 70, 5]], dtype='float32')"
      ]
    },
    {
      "cell_type": "code",
      "execution_count": 54,
      "metadata": {
        "id": "dbmEnnDum8tQ"
      },
      "outputs": [],
      "source": [
        "# Targets - (apples, oranges) 수확량\n",
        "targets = np.array([\n",
        "                    [56, 70],\n",
        "                    [81, 101],\n",
        "                    [119, 133],\n",
        "                    [22, 37],\n",
        "                    [103, 119]], dtype='float32')"
      ]
    },
    {
      "cell_type": "markdown",
      "metadata": {
        "id": "wEcziR9Nm8tQ"
      },
      "source": [
        "- input 과 target을 tensor로 변환"
      ]
    },
    {
      "cell_type": "code",
      "execution_count": 55,
      "metadata": {
        "colab": {
          "base_uri": "https://localhost:8080/"
        },
        "id": "n3qisCB5m8tQ",
        "outputId": "b2c932a4-f70b-418f-d6f7-45fe26d558ad"
      },
      "outputs": [
        {
          "output_type": "stream",
          "name": "stdout",
          "text": [
            "torch.Size([5, 4])\n",
            "torch.Size([5, 2])\n"
          ]
        }
      ],
      "source": [
        "inputs = torch.from_numpy(inputs)\n",
        "targets = torch.from_numpy(targets)\n",
        "print(inputs.size())\n",
        "print(targets.size())"
      ]
    },
    {
      "cell_type": "markdown",
      "metadata": {
        "id": "75e011Gym8tQ"
      },
      "source": [
        "# 1) torch.nn Linear Class 직접 사용"
      ]
    },
    {
      "cell_type": "code",
      "execution_count": 56,
      "metadata": {
        "colab": {
          "base_uri": "https://localhost:8080/"
        },
        "id": "Q2k91cVTm8tQ",
        "outputId": "27088038-c145-41fa-c8dd-7edf2dc1f5af"
      },
      "outputs": [
        {
          "output_type": "execute_result",
          "data": {
            "text/plain": [
              "<torch._C.Generator at 0x7824c81817d0>"
            ]
          },
          "metadata": {},
          "execution_count": 56
        }
      ],
      "source": [
        "from torch.nn import Linear\n",
        "from torch import optim\n",
        "\n",
        "torch.manual_seed(1)"
      ]
    },
    {
      "cell_type": "code",
      "execution_count": 57,
      "metadata": {
        "id": "WDjvkzJNm8tR"
      },
      "outputs": [],
      "source": [
        "model = Linear(in_features=4, out_features=2)"
      ]
    },
    {
      "cell_type": "code",
      "execution_count": 58,
      "metadata": {
        "id": "jmStsatMm8tR"
      },
      "outputs": [],
      "source": [
        "criterion = nn.MSELoss()\n",
        "\n",
        "optimizer = optim.SGD(model.parameters(), lr=1e-4)"
      ]
    },
    {
      "cell_type": "code",
      "execution_count": 59,
      "metadata": {
        "id": "SAXBmzWrm8tR"
      },
      "outputs": [],
      "source": [
        "for epoch in range(100):\n",
        "    for x, y in zip(inputs, targets):\n",
        "        yhat = model(x)\n",
        "        loss = criterion(yhat, y)\n",
        "        loss.backward()\n",
        "        optimizer.step()\n",
        "        optimizer.zero_grad()"
      ]
    },
    {
      "cell_type": "code",
      "execution_count": 60,
      "metadata": {
        "colab": {
          "base_uri": "https://localhost:8080/"
        },
        "id": "T6lkOpk7m8tR",
        "outputId": "9ca4ec99-9c51-419a-a430-cba730064041"
      },
      "outputs": [
        {
          "output_type": "stream",
          "name": "stdout",
          "text": [
            "tensor(4.0759, grad_fn=<MseLossBackward0>)\n"
          ]
        }
      ],
      "source": [
        "preds = model(inputs)\n",
        "loss = criterion(preds, targets)\n",
        "print(loss)"
      ]
    },
    {
      "cell_type": "code",
      "execution_count": 61,
      "metadata": {
        "colab": {
          "base_uri": "https://localhost:8080/"
        },
        "id": "E2cJ2ATIm8tR",
        "outputId": "4e2c5fc6-a5e7-48f5-8f0d-b9997a80e650"
      },
      "outputs": [
        {
          "output_type": "stream",
          "name": "stdout",
          "text": [
            "[[ 56.  70.]\n",
            " [ 81. 101.]\n",
            " [119. 133.]\n",
            " [ 22.  37.]\n",
            " [103. 119.]]\n",
            "\n",
            "[[ 58.021603  69.747055]\n",
            " [ 83.15652   98.78548 ]\n",
            " [119.96505  128.44089 ]\n",
            " [ 21.839664  34.988003]\n",
            " [102.80343  117.893585]]\n"
          ]
        }
      ],
      "source": [
        "# Predictions & target 비교\n",
        "print(targets.detach().numpy())\n",
        "print()\n",
        "print(preds.detach().numpy())"
      ]
    },
    {
      "cell_type": "markdown",
      "metadata": {
        "id": "-zxLrOosm8tR"
      },
      "source": [
        "# 2) 사용자 정의 model 사용"
      ]
    },
    {
      "cell_type": "markdown",
      "metadata": {
        "id": "yG447KGkm8tR"
      },
      "source": [
        "- Linear Regression 사용자 정의 model"
      ]
    },
    {
      "cell_type": "code",
      "execution_count": 62,
      "metadata": {
        "id": "6cUasF47m8tS"
      },
      "outputs": [],
      "source": [
        "class LinearReg(nn.Module):\n",
        "    def __init__(self, input_size, output_size):\n",
        "        super(LinearReg, self).__init__()\n",
        "        self.fc = nn.Linear(input_size, output_size)\n",
        "\n",
        "    def forward(self, x):\n",
        "        yhat = self.fc(x)\n",
        "        return yhat"
      ]
    },
    {
      "cell_type": "code",
      "execution_count": 63,
      "metadata": {
        "id": "iS8dHqJFm8tS"
      },
      "outputs": [],
      "source": [
        "model = LinearReg(inputs.shape[1], targets.shape[1])"
      ]
    },
    {
      "cell_type": "code",
      "execution_count": 64,
      "metadata": {
        "id": "xO3QDv2xm8tS"
      },
      "outputs": [],
      "source": [
        "criterion = nn.MSELoss()\n",
        "\n",
        "optimizer = optim.SGD(model.parameters(), lr=1e-4)"
      ]
    },
    {
      "cell_type": "code",
      "execution_count": 65,
      "metadata": {
        "colab": {
          "base_uri": "https://localhost:8080/"
        },
        "id": "OEYbS_hCm8tS",
        "outputId": "50692389-e11f-44a6-d34f-80eea66e35dd"
      },
      "outputs": [
        {
          "output_type": "stream",
          "name": "stdout",
          "text": [
            "LinearReg(\n",
            "  (fc): Linear(in_features=4, out_features=2, bias=True)\n",
            ")\n",
            "OrderedDict([('fc.weight', tensor([[ 0.1387,  0.0247,  0.1826, -0.1949],\n",
            "        [-0.0365, -0.0450,  0.0725, -0.0020]])), ('fc.bias', tensor([0.4371, 0.1556]))])\n"
          ]
        }
      ],
      "source": [
        "print(model)\n",
        "print(model.state_dict())"
      ]
    },
    {
      "cell_type": "code",
      "execution_count": 66,
      "metadata": {
        "colab": {
          "base_uri": "https://localhost:8080/"
        },
        "id": "i3kvbYNcm8tS",
        "outputId": "a2739421-b15d-4e4d-b3e5-282da88a76d2"
      },
      "outputs": [
        {
          "output_type": "execute_result",
          "data": {
            "text/plain": [
              "{'state': {},\n",
              " 'param_groups': [{'lr': 0.0001,\n",
              "   'momentum': 0,\n",
              "   'dampening': 0,\n",
              "   'weight_decay': 0,\n",
              "   'nesterov': False,\n",
              "   'maximize': False,\n",
              "   'foreach': None,\n",
              "   'differentiable': False,\n",
              "   'params': [0, 1]}]}"
            ]
          },
          "metadata": {},
          "execution_count": 66
        }
      ],
      "source": [
        "optimizer.state_dict()"
      ]
    },
    {
      "cell_type": "markdown",
      "metadata": {
        "id": "SOvteHljm8tS"
      },
      "source": [
        "## Train the model"
      ]
    },
    {
      "cell_type": "code",
      "execution_count": 67,
      "metadata": {
        "id": "DgUG5zQAm8tT"
      },
      "outputs": [],
      "source": [
        "for epoch in range(100):\n",
        "    for x, y in zip(inputs, targets):\n",
        "        yhat = model(x)\n",
        "        loss = criterion(yhat, y)\n",
        "        loss.backward()\n",
        "        optimizer.step()\n",
        "        optimizer.zero_grad()"
      ]
    },
    {
      "cell_type": "code",
      "execution_count": 68,
      "metadata": {
        "colab": {
          "base_uri": "https://localhost:8080/"
        },
        "id": "86O2Rl9zm8tT",
        "outputId": "467d299c-49f2-49f6-f7a8-bcbdc867413b"
      },
      "outputs": [
        {
          "output_type": "execute_result",
          "data": {
            "text/plain": [
              "[Parameter containing:\n",
              " tensor([[-0.3590,  0.8959,  0.6336, -0.3657],\n",
              "         [-0.3081,  0.7807,  0.9301, -0.0332]], requires_grad=True),\n",
              " Parameter containing:\n",
              " tensor([0.4331, 0.1568], requires_grad=True)]"
            ]
          },
          "metadata": {},
          "execution_count": 68
        }
      ],
      "source": [
        "list(model.parameters())"
      ]
    },
    {
      "cell_type": "code",
      "execution_count": 69,
      "metadata": {
        "colab": {
          "base_uri": "https://localhost:8080/"
        },
        "id": "njFl9XpZm8tT",
        "outputId": "7990ff95-07ba-46fe-8f6f-944f9a860412"
      },
      "outputs": [
        {
          "output_type": "execute_result",
          "data": {
            "text/plain": [
              "OrderedDict([('fc.weight',\n",
              "              tensor([[-0.3590,  0.8959,  0.6336, -0.3657],\n",
              "                      [-0.3081,  0.7807,  0.9301, -0.0332]])),\n",
              "             ('fc.bias', tensor([0.4331, 0.1568]))])"
            ]
          },
          "metadata": {},
          "execution_count": 69
        }
      ],
      "source": [
        "model.state_dict()"
      ]
    },
    {
      "cell_type": "code",
      "execution_count": 71,
      "metadata": {
        "id": "_UMU1X4Tm8tT"
      },
      "outputs": [],
      "source": [
        "preds = model(inputs)"
      ]
    },
    {
      "cell_type": "code",
      "execution_count": 72,
      "metadata": {
        "colab": {
          "base_uri": "https://localhost:8080/"
        },
        "id": "ImdB6pNQm8tT",
        "outputId": "9ffdb953-5cdf-49f9-806b-7ebbb8586251"
      },
      "outputs": [
        {
          "output_type": "stream",
          "name": "stdout",
          "text": [
            "[[ 56.  70.]\n",
            " [ 81. 101.]\n",
            " [119. 133.]\n",
            " [ 22.  37.]\n",
            " [103. 119.]]\n",
            "\n",
            "[[ 57.84296   69.63474 ]\n",
            " [ 85.329544 100.18181 ]\n",
            " [125.27413  131.84756 ]\n",
            " [ 24.323568  36.581207]\n",
            " [104.19542  118.78631 ]]\n"
          ]
        }
      ],
      "source": [
        "# Predictions & target 비교\n",
        "print(targets.detach().numpy())\n",
        "print()\n",
        "print(preds.detach().numpy())"
      ]
    },
    {
      "cell_type": "markdown",
      "metadata": {
        "id": "9dzkQzolm8tT"
      },
      "source": [
        "## Save and Load Model"
      ]
    },
    {
      "cell_type": "code",
      "execution_count": 73,
      "metadata": {
        "colab": {
          "base_uri": "https://localhost:8080/"
        },
        "id": "2ouJcxk-m8tU",
        "outputId": "7b09d732-94f8-4086-d734-18ac07f276ef"
      },
      "outputs": [
        {
          "output_type": "execute_result",
          "data": {
            "text/plain": [
              "OrderedDict([('fc.weight',\n",
              "              tensor([[-0.3590,  0.8959,  0.6336, -0.3657],\n",
              "                      [-0.3081,  0.7807,  0.9301, -0.0332]])),\n",
              "             ('fc.bias', tensor([0.4331, 0.1568]))])"
            ]
          },
          "metadata": {},
          "execution_count": 73
        }
      ],
      "source": [
        "# model save\n",
        "torch.save(model.state_dict(), 'model.pt')\n",
        "\n",
        "model.state_dict()"
      ]
    },
    {
      "cell_type": "markdown",
      "metadata": {
        "id": "ncK8IMIOm8tU"
      },
      "source": [
        "- model reload 및 parameter 복원 확인"
      ]
    },
    {
      "cell_type": "code",
      "execution_count": 74,
      "metadata": {
        "colab": {
          "base_uri": "https://localhost:8080/"
        },
        "id": "c61282yPm8tU",
        "outputId": "12803027-f389-4207-d294-805fd7846c03"
      },
      "outputs": [
        {
          "output_type": "execute_result",
          "data": {
            "text/plain": [
              "OrderedDict([('fc.weight',\n",
              "              tensor([[-0.3590,  0.8959,  0.6336, -0.3657],\n",
              "                      [-0.3081,  0.7807,  0.9301, -0.0332]])),\n",
              "             ('fc.bias', tensor([0.4331, 0.1568]))])"
            ]
          },
          "metadata": {},
          "execution_count": 74
        }
      ],
      "source": [
        "reloaded = LinearReg(inputs.shape[1], targets.shape[1])\n",
        "reloaded.load_state_dict(torch.load('model.pt'))\n",
        "\n",
        "reloaded.state_dict()"
      ]
    },
    {
      "cell_type": "code",
      "execution_count": 75,
      "metadata": {
        "id": "KwsMFtUgm8tU"
      },
      "outputs": [],
      "source": [
        "preds = reloaded(inputs)"
      ]
    },
    {
      "cell_type": "code",
      "execution_count": 76,
      "metadata": {
        "colab": {
          "base_uri": "https://localhost:8080/"
        },
        "id": "tujQpY0bm8tU",
        "outputId": "af192bcf-a88d-457e-8bf3-93e3435c19f7"
      },
      "outputs": [
        {
          "output_type": "stream",
          "name": "stdout",
          "text": [
            "[[ 56.  70.]\n",
            " [ 81. 101.]\n",
            " [119. 133.]\n",
            " [ 22.  37.]\n",
            " [103. 119.]]\n",
            "\n",
            "[[ 57.84296   69.63474 ]\n",
            " [ 85.329544 100.18181 ]\n",
            " [125.27413  131.84756 ]\n",
            " [ 24.323568  36.581207]\n",
            " [104.19542  118.78631 ]]\n"
          ]
        }
      ],
      "source": [
        "# Predictions & target 비교\n",
        "print(targets.detach().numpy())\n",
        "print()\n",
        "print(preds.detach().numpy())"
      ]
    },
    {
      "cell_type": "code",
      "execution_count": null,
      "metadata": {
        "id": "gnSwdPxKm8tU"
      },
      "outputs": [],
      "source": []
    }
  ],
  "metadata": {
    "kernelspec": {
      "display_name": "Python 3",
      "language": "python",
      "name": "python3"
    },
    "language_info": {
      "codemirror_mode": {
        "name": "ipython",
        "version": 3
      },
      "file_extension": ".py",
      "mimetype": "text/x-python",
      "name": "python",
      "nbconvert_exporter": "python",
      "pygments_lexer": "ipython3",
      "version": "3.9.7"
    },
    "colab": {
      "provenance": []
    }
  },
  "nbformat": 4,
  "nbformat_minor": 0
}