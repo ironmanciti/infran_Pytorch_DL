{
 "cells": [
  {
   "cell_type": "markdown",
   "metadata": {
    "id": "bcnSYnXlm8tL"
   },
   "source": [
    "# 110. Basic Linear Regression"
   ]
  },
  {
   "cell_type": "code",
   "execution_count": 1,
   "metadata": {
    "id": "9h9B--MZm8tM"
   },
   "outputs": [],
   "source": [
    "import numpy as np\n",
    "import torch"
   ]
  },
  {
   "cell_type": "markdown",
   "metadata": {
    "id": "1XehuXWim8tN"
   },
   "source": [
    "# 1) Feed Forward 구현\n",
    "\n",
    "- weight와 bias를 알고 있다고 가정하고 Feed Forward 함수를 직접 구현  \n",
    "- 다음의 선형회귀 문제를 pytorch 로 해결  \n",
    "\n",
    "$$b=-1,w=2$$\n",
    "\n",
    "$$\\hat{y}=-1+2x$$"
   ]
  },
  {
   "cell_type": "code",
   "execution_count": 3,
   "metadata": {
    "colab": {
     "base_uri": "https://localhost:8080/"
    },
    "id": "BEzbhzmzm8tN",
    "outputId": "cacef397-9f65-47d5-c083-cf5d635f7eb9"
   },
   "outputs": [
    {
     "name": "stdout",
     "output_type": "stream",
     "text": [
      "tensor(2.) tensor(-1.)\n"
     ]
    }
   ],
   "source": [
    "w = torch.tensor(2.0)\n",
    "b = torch.tensor(-1.0)\n",
    "print(w, b)"
   ]
  },
  {
   "cell_type": "code",
   "execution_count": 4,
   "metadata": {
    "id": "zziBhoJwm8tN"
   },
   "outputs": [],
   "source": [
    "def forward(x):\n",
    "    yhat = w * x + b\n",
    "    return yhat"
   ]
  },
  {
   "cell_type": "markdown",
   "metadata": {
    "id": "fq_F6jmym8tO"
   },
   "source": [
    "x = 1 일 때 `y = 2x - 1`이므로 y 는 1"
   ]
  },
  {
   "cell_type": "code",
   "execution_count": 5,
   "metadata": {
    "colab": {
     "base_uri": "https://localhost:8080/"
    },
    "id": "TfQLUbHSm8tO",
    "outputId": "4f11130c-f6dc-4270-f394-37a6a0aebbc4"
   },
   "outputs": [
    {
     "name": "stdout",
     "output_type": "stream",
     "text": [
      "x = 1.0 일 때, y = 1.0\n"
     ]
    }
   ],
   "source": [
    "x = torch.tensor([1.0])\n",
    "yhat = forward(x)\n",
    "\n",
    "print(f\"x = {x.item()} 일 때, y = {yhat.item()}\")"
   ]
  },
  {
   "cell_type": "markdown",
   "metadata": {
    "id": "OdTKIp2Vm8tO"
   },
   "source": [
    "x 가 multiple inputs (array) 인 경우:"
   ]
  },
  {
   "cell_type": "code",
   "execution_count": 6,
   "metadata": {
    "colab": {
     "base_uri": "https://localhost:8080/"
    },
    "id": "PGaOD7A0m8tO",
    "outputId": "44da7ff5-2fe7-406b-bb85-680b32bfd5d9"
   },
   "outputs": [
    {
     "data": {
      "text/plain": [
       "tensor([[1.],\n",
       "        [3.],\n",
       "        [5.]])"
      ]
     },
     "execution_count": 6,
     "metadata": {},
     "output_type": "execute_result"
    }
   ],
   "source": [
    "x = torch.tensor([[1.0], [2.0], [3.0]])\n",
    "forward(x)"
   ]
  },
  {
   "cell_type": "code",
   "execution_count": 7,
   "metadata": {
    "colab": {
     "base_uri": "https://localhost:8080/"
    },
    "id": "qBYlQ29Wm8tO",
    "outputId": "d3bf9a25-c613-4842-a0a3-c786fe2ab23b"
   },
   "outputs": [
    {
     "data": {
      "text/plain": [
       "tensor([[1.],\n",
       "        [3.],\n",
       "        [5.]])"
      ]
     },
     "execution_count": 7,
     "metadata": {},
     "output_type": "execute_result"
    }
   ],
   "source": [
    "y_hat = forward(x)\n",
    "y_hat"
   ]
  },
  {
   "cell_type": "markdown",
   "metadata": {
    "id": "47cOAOIAm8tO"
   },
   "source": [
    "<h1>2) torch.nn 의 Linear 클래스를 이용한 Linear Regression</h1>"
   ]
  },
  {
   "cell_type": "code",
   "execution_count": 8,
   "metadata": {
    "id": "G2umRhZhm8tO"
   },
   "outputs": [],
   "source": [
    "from torch.nn import Linear\n",
    "torch.manual_seed(1)\n",
    "\n",
    "# 선형 회귀 모델 생성\n",
    "# 입력 특성의 수 1, 출력 특성의 수 1\n",
    "# bias=True: 모델에 편향(bias) 값을 포함\n",
    "model = Linear(in_features=1, out_features=1, bias=True)"
   ]
  },
  {
   "cell_type": "markdown",
   "metadata": {
    "id": "M_Bp_5zhm8tO"
   },
   "source": [
    "<code>state_dict()</code> method 는 각 layer 의 parameter tensor 를 dictionary 로 반환하므로 직접 값을 update 할 수 있다."
   ]
  },
  {
   "cell_type": "code",
   "execution_count": 9,
   "metadata": {
    "colab": {
     "base_uri": "https://localhost:8080/"
    },
    "id": "k-I_8p7Mm8tO",
    "outputId": "cc33d7b6-f081-4953-fd51-afe34b416c7c"
   },
   "outputs": [
    {
     "name": "stdout",
     "output_type": "stream",
     "text": [
      "OrderedDict([('weight', tensor([[0.5153]])), ('bias', tensor([-0.4414]))])\n",
      "\n",
      "tensor([[0.5153]]) tensor([-0.4414])\n",
      "\n",
      "Parameter containing:\n",
      "tensor([[0.5153]], requires_grad=True)\n",
      "Parameter containing:\n",
      "tensor([-0.4414], requires_grad=True)\n"
     ]
    }
   ],
   "source": [
    "print(model.state_dict())\n",
    "print()\n",
    "print(model.state_dict()['weight'], model.state_dict()['bias'])\n",
    "print()\n",
    "print(model.weight)\n",
    "print(model.bias)"
   ]
  },
  {
   "cell_type": "code",
   "execution_count": 10,
   "metadata": {
    "id": "XlLGmtH5m8tP"
   },
   "outputs": [],
   "source": [
    "model.state_dict()['weight'][0] = torch.tensor(2)\n",
    "model.state_dict()['bias'][0]     = torch.tensor(-1)"
   ]
  },
  {
   "cell_type": "code",
   "execution_count": 11,
   "metadata": {
    "colab": {
     "base_uri": "https://localhost:8080/"
    },
    "id": "wVWl62f2m8tP",
    "outputId": "4593a00c-e130-4f44-86b7-99304bc2897d"
   },
   "outputs": [
    {
     "data": {
      "text/plain": [
       "OrderedDict([('weight', tensor([[2.]])), ('bias', tensor([-1.]))])"
      ]
     },
     "execution_count": 11,
     "metadata": {},
     "output_type": "execute_result"
    }
   ],
   "source": [
    "model.state_dict()"
   ]
  },
  {
   "cell_type": "code",
   "execution_count": 12,
   "metadata": {
    "colab": {
     "base_uri": "https://localhost:8080/"
    },
    "id": "74kVJXclm8tP",
    "outputId": "2fd04fe1-9df0-4e73-d197-26d8cfe1b037"
   },
   "outputs": [
    {
     "data": {
      "text/plain": [
       "1.0"
      ]
     },
     "execution_count": 12,
     "metadata": {},
     "output_type": "execute_result"
    }
   ],
   "source": [
    "# x = [[1.0]]일 경우 prediction --> 1.0*2 - 1 = 1\n",
    "x = torch.tensor([[1.0]])\n",
    "yhat = model(x)\n",
    "yhat.item()"
   ]
  },
  {
   "cell_type": "code",
   "execution_count": 13,
   "metadata": {
    "colab": {
     "base_uri": "https://localhost:8080/"
    },
    "id": "GX42JrU3m8tP",
    "outputId": "5ba9b4e9-9d29-4dca-9f9f-e0f3852cd7d3"
   },
   "outputs": [
    {
     "name": "stdout",
     "output_type": "stream",
     "text": [
      "[[1.]\n",
      " [3.]\n",
      " [5.]]\n"
     ]
    }
   ],
   "source": [
    "# x 가 multiple inputs (array) 인 경우:\n",
    "x = torch.tensor([[1.0], [2.0], [3.0]])\n",
    "yhat = model(x)\n",
    "print(yhat.detach().numpy())"
   ]
  },
  {
   "cell_type": "markdown",
   "metadata": {
    "id": "CFnpCbibm8tP"
   },
   "source": [
    "<h1>3) 사용자 정의 Module 작성</h1>"
   ]
  },
  {
   "cell_type": "code",
   "execution_count": 17,
   "metadata": {
    "id": "feIqIccWm8tP"
   },
   "outputs": [],
   "source": [
    "from torch import nn\n",
    "\n",
    "class LR(nn.Module):\n",
    "    def __init__(self, input_size, output_size):\n",
    "        super(LR, self).__init__()\n",
    "        # 선형 레이어를 정의합니다. 입력 크기와 출력 크기를 인수로 받습니다.\n",
    "        self.linear = nn.Linear(input_size, output_size)\n",
    "\n",
    "    def forward(self, x):\n",
    "        # 입력 x를 선형 레이어에 통과시켜 출력값을 계산합니다.\n",
    "        out = self.linear(x)\n",
    "        return out  # 최종 출력값을 반환합니다."
   ]
  },
  {
   "cell_type": "code",
   "execution_count": 18,
   "metadata": {
    "colab": {
     "base_uri": "https://localhost:8080/"
    },
    "id": "6ZkJMAS5m8tP",
    "outputId": "890b3b96-a143-4b4b-e561-2d62e32c9670"
   },
   "outputs": [
    {
     "data": {
      "text/plain": [
       "OrderedDict([('linear.weight', tensor([[-0.9414]])),\n",
       "             ('linear.bias', tensor([0.5997]))])"
      ]
     },
     "execution_count": 18,
     "metadata": {},
     "output_type": "execute_result"
    }
   ],
   "source": [
    "# 입력 size 1, 출력 size 1\n",
    "model = LR(1, 1)\n",
    "\n",
    "model.state_dict()"
   ]
  },
  {
   "cell_type": "code",
   "execution_count": 19,
   "metadata": {
    "colab": {
     "base_uri": "https://localhost:8080/"
    },
    "id": "oxzMPJB8m8tP",
    "outputId": "19462c4e-6b3a-4512-84fb-640609627e5d"
   },
   "outputs": [
    {
     "name": "stdout",
     "output_type": "stream",
     "text": [
      "[Parameter containing:\n",
      "tensor([[2.]], requires_grad=True), Parameter containing:\n",
      "tensor([-1.], requires_grad=True)]\n",
      "\n",
      "Linear(in_features=1, out_features=1, bias=True)\n"
     ]
    }
   ],
   "source": [
    "model.state_dict()['linear.weight'][0] = torch.tensor(2)\n",
    "model.state_dict()['linear.bias'][0]     = torch.tensor(-1)\n",
    "\n",
    "print(list(model.parameters()))\n",
    "print()\n",
    "print(model.linear)"
   ]
  },
  {
   "cell_type": "code",
   "execution_count": 20,
   "metadata": {
    "colab": {
     "base_uri": "https://localhost:8080/"
    },
    "id": "iLomCguXm8tP",
    "outputId": "61196c6a-3b92-470c-a99b-8eee67bb6b22"
   },
   "outputs": [
    {
     "name": "stdout",
     "output_type": "stream",
     "text": [
      "[[1.]\n",
      " [3.]\n",
      " [5.]]\n"
     ]
    }
   ],
   "source": [
    "x = torch.tensor([[1.0], [2.0], [3.0]])\n",
    "yhat = model(x)\n",
    "\n",
    "# 계산 그래프로부터 텐서를 분리하여 그라디언트 계산이 필요 없는 텐서로 만듭니다\n",
    "print(yhat.detach().numpy())"
   ]
  },
  {
   "cell_type": "code",
   "execution_count": 21,
   "metadata": {
    "colab": {
     "base_uri": "https://localhost:8080/"
    },
    "id": "vMo_JbAvm8tP",
    "outputId": "83e81f61-1a19-456a-a6f5-5ceb5534041d"
   },
   "outputs": [
    {
     "data": {
      "text/plain": [
       "[Parameter containing:\n",
       " tensor([[2.]], requires_grad=True),\n",
       " Parameter containing:\n",
       " tensor([-1.], requires_grad=True)]"
      ]
     },
     "execution_count": 21,
     "metadata": {},
     "output_type": "execute_result"
    }
   ],
   "source": [
    "list(model.parameters())"
   ]
  },
  {
   "cell_type": "markdown",
   "metadata": {
    "id": "awS6nkgxm8tQ"
   },
   "source": [
    "# Backpropagation 과 경사하강법 적용\n",
    "\n",
    "- weight 와 bias를 스스로 학습\n",
    "- (습도, 강수량, 최고온도, 최저온도)를 feature 로 입력 받아  (사과, 오렌지)의 수확량(label)을 선형회귀로 예측하는 model 작성"
   ]
  },
  {
   "cell_type": "markdown",
   "metadata": {
    "id": "88BnD_SKm8tQ"
   },
   "source": [
    "## Data"
   ]
  },
  {
   "cell_type": "code",
   "execution_count": 22,
   "metadata": {
    "id": "1zm2V1Ncm8tQ"
   },
   "outputs": [],
   "source": [
    "# Input (습도, 강수량, 최고온도, 최저온도)\n",
    "inputs = np.array([\n",
    "                   [73, 67, 43, 10],\n",
    "                   [91, 88, 64, 5],\n",
    "                   [87, 134, 58, 2],\n",
    "                   [102, 43, 37, 4],\n",
    "                   [69, 96, 70, 5]], dtype='float32')"
   ]
  },
  {
   "cell_type": "code",
   "execution_count": 23,
   "metadata": {
    "id": "dbmEnnDum8tQ"
   },
   "outputs": [],
   "source": [
    "# Targets - (apples, oranges) 수확량\n",
    "targets = np.array([\n",
    "                    [56, 70],\n",
    "                    [81, 101],\n",
    "                    [119, 133],\n",
    "                    [22, 37],\n",
    "                    [103, 119]], dtype='float32')"
   ]
  },
  {
   "cell_type": "markdown",
   "metadata": {
    "id": "wEcziR9Nm8tQ"
   },
   "source": [
    "- input 과 target을 tensor로 변환"
   ]
  },
  {
   "cell_type": "code",
   "execution_count": 24,
   "metadata": {
    "colab": {
     "base_uri": "https://localhost:8080/"
    },
    "id": "n3qisCB5m8tQ",
    "outputId": "b2c932a4-f70b-418f-d6f7-45fe26d558ad"
   },
   "outputs": [
    {
     "name": "stdout",
     "output_type": "stream",
     "text": [
      "torch.Size([5, 4])\n",
      "torch.Size([5, 2])\n"
     ]
    }
   ],
   "source": [
    "inputs = torch.from_numpy(inputs)\n",
    "targets = torch.from_numpy(targets)\n",
    "print(inputs.size())\n",
    "print(targets.size())"
   ]
  },
  {
   "cell_type": "markdown",
   "metadata": {
    "id": "75e011Gym8tQ"
   },
   "source": [
    "# 1) torch.nn Linear Class 직접 사용"
   ]
  },
  {
   "cell_type": "code",
   "execution_count": 25,
   "metadata": {
    "colab": {
     "base_uri": "https://localhost:8080/"
    },
    "id": "Q2k91cVTm8tQ",
    "outputId": "27088038-c145-41fa-c8dd-7edf2dc1f5af"
   },
   "outputs": [
    {
     "data": {
      "text/plain": [
       "<torch._C.Generator at 0x1eb99b51a30>"
      ]
     },
     "execution_count": 25,
     "metadata": {},
     "output_type": "execute_result"
    }
   ],
   "source": [
    "from torch.nn import Linear\n",
    "from torch import optim\n",
    "\n",
    "torch.manual_seed(1)"
   ]
  },
  {
   "cell_type": "code",
   "execution_count": 28,
   "metadata": {
    "id": "WDjvkzJNm8tR"
   },
   "outputs": [],
   "source": [
    "# 입력 특징의 크기가 4이고 출력 특징의 크기가 2인 선형 모델을 정의합니다.\n",
    "model = nn.Linear(in_features=4, out_features=2)"
   ]
  },
  {
   "cell_type": "code",
   "execution_count": 29,
   "metadata": {
    "id": "jmStsatMm8tR"
   },
   "outputs": [],
   "source": [
    "# 손실 함수로 평균 제곱 오차(MSE)를 정의합니다.\n",
    "criterion = nn.MSELoss()\n",
    "\n",
    "# 모델의 매개변수를 최적화하기 위해 확률적 경사 하강법(SGD) 옵티마이저를 정의합니다.\n",
    "# 학습률(lr)은 1e-4로 설정합니다.\n",
    "optimizer = optim.SGD(model.parameters(), lr=1e-4)"
   ]
  },
  {
   "cell_type": "code",
   "execution_count": 30,
   "metadata": {
    "id": "SAXBmzWrm8tR"
   },
   "outputs": [],
   "source": [
    "for epoch in range(100):               # 총 100번의 에포크 동안 학습을 반복합니다.\n",
    "    for x, y in zip(inputs, targets):  # 입력 데이터와 타겟 데이터를 쌍으로 묶어 순회합니다.\n",
    "        yhat = model(x)                # 모델에 입력 x를 전달하여 예측값 yhat을 얻습니다.\n",
    "        loss = criterion(yhat, y)      # 예측값 yhat과 실제값 y를 비교하여 손실(loss)을 계산합니다.\n",
    "        loss.backward()                # 손실에 대한 그래디언트를 계산합니다.\n",
    "        optimizer.step()               # 옵티마이저를 사용하여 모델의 가중치를 업데이트합니다.\n",
    "        optimizer.zero_grad()          # 다음 반복을 위해 옵티마이저의 그래디언트를 초기화합니다."
   ]
  },
  {
   "cell_type": "code",
   "execution_count": 31,
   "metadata": {
    "colab": {
     "base_uri": "https://localhost:8080/"
    },
    "id": "T6lkOpk7m8tR",
    "outputId": "9ca4ec99-9c51-419a-a430-cba730064041"
   },
   "outputs": [
    {
     "name": "stdout",
     "output_type": "stream",
     "text": [
      "tensor(7.0686, grad_fn=<MseLossBackward0>)\n"
     ]
    }
   ],
   "source": [
    "# 모델에 전체 입력 데이터를 전달하여 예측값(preds)을 얻습니다.\n",
    "preds = model(inputs)\n",
    "\n",
    "# 예측값(preds)과 실제 타겟값(targets)을 비교하여 손실(loss)을 계산합니다.\n",
    "loss = criterion(preds, targets)\n",
    "print(loss)"
   ]
  },
  {
   "cell_type": "code",
   "execution_count": 32,
   "metadata": {
    "colab": {
     "base_uri": "https://localhost:8080/"
    },
    "id": "E2cJ2ATIm8tR",
    "outputId": "4e2c5fc6-a5e7-48f5-8f0d-b9997a80e650"
   },
   "outputs": [
    {
     "name": "stdout",
     "output_type": "stream",
     "text": [
      "[[ 56.  70.]\n",
      " [ 81. 101.]\n",
      " [119. 133.]\n",
      " [ 22.  37.]\n",
      " [103. 119.]]\n",
      "\n",
      "[[ 57.842937  69.6347  ]\n",
      " [ 85.32951  100.18176 ]\n",
      " [125.2741   131.84752 ]\n",
      " [ 24.323542  36.581146]\n",
      " [104.19539  118.78626 ]]\n"
     ]
    }
   ],
   "source": [
    "# Predictions & target 비교\n",
    "print(targets.detach().numpy())\n",
    "print()\n",
    "print(preds.detach().numpy())"
   ]
  },
  {
   "cell_type": "markdown",
   "metadata": {
    "id": "-zxLrOosm8tR"
   },
   "source": [
    "# 2) 사용자 정의 model 사용"
   ]
  },
  {
   "cell_type": "markdown",
   "metadata": {
    "id": "yG447KGkm8tR"
   },
   "source": [
    "- Linear Regression 사용자 정의 model"
   ]
  },
  {
   "cell_type": "code",
   "execution_count": 33,
   "metadata": {
    "id": "6cUasF47m8tS"
   },
   "outputs": [],
   "source": [
    "from torch import nn\n",
    "\n",
    "# 선형 회귀 모델을 정의하는 클래스입니다.\n",
    "class LinearReg(nn.Module):\n",
    "    def __init__(self, input_size, output_size):\n",
    "        # nn.Module의 생성자를 호출하여 초기화합니다.\n",
    "        super(LinearReg, self).__init__()\n",
    "        # 입력 크기와 출력 크기를 받아 선형 레이어(fc)를 정의합니다.\n",
    "        self.fc = nn.Linear(input_size, output_size)\n",
    "\n",
    "    def forward(self, x):\n",
    "        # 입력 데이터 x를 선형 레이어(fc)에 통과시켜 예측값 yhat을 계산합니다.\n",
    "        yhat = self.fc(x)\n",
    "        # 예측값 yhat을 반환합니다.\n",
    "        return yhat"
   ]
  },
  {
   "cell_type": "code",
   "execution_count": 34,
   "metadata": {
    "id": "iS8dHqJFm8tS"
   },
   "outputs": [],
   "source": [
    "model = LinearReg(inputs.shape[1], targets.shape[1])"
   ]
  },
  {
   "cell_type": "code",
   "execution_count": 35,
   "metadata": {
    "id": "xO3QDv2xm8tS"
   },
   "outputs": [],
   "source": [
    "criterion = nn.MSELoss()\n",
    "\n",
    "optimizer = optim.SGD(model.parameters(), lr=1e-4)"
   ]
  },
  {
   "cell_type": "code",
   "execution_count": 39,
   "metadata": {
    "colab": {
     "base_uri": "https://localhost:8080/"
    },
    "id": "OEYbS_hCm8tS",
    "outputId": "50692389-e11f-44a6-d34f-80eea66e35dd"
   },
   "outputs": [
    {
     "name": "stdout",
     "output_type": "stream",
     "text": [
      "LinearReg(\n",
      "  (fc): Linear(in_features=4, out_features=2, bias=True)\n",
      ")\n",
      "OrderedDict([('fc.weight', tensor([[-0.1862, -0.3020, -0.0838, -0.2157],\n",
      "        [-0.1602,  0.0239,  0.2981,  0.2718]])), ('fc.bias', tensor([-0.4888,  0.3100]))])\n"
     ]
    }
   ],
   "source": [
    "# 모델의 구조를 출력합니다. 여기에는 모델의 레이어와 각 레이어의 세부 정보가 포함됩니다.\n",
    "print(model)\n",
    "\n",
    "# 모델의 현재 상태를 딕셔너리 형태로 출력합니다.\n",
    "# 여기에는 각 레이어의 가중치와 바이어스 값 등이 포함됩니다.\n",
    "print(model.state_dict())"
   ]
  },
  {
   "cell_type": "code",
   "execution_count": 38,
   "metadata": {
    "colab": {
     "base_uri": "https://localhost:8080/"
    },
    "id": "i3kvbYNcm8tS",
    "outputId": "a2739421-b15d-4e4d-b3e5-282da88a76d2"
   },
   "outputs": [
    {
     "data": {
      "text/plain": [
       "{'state': {},\n",
       " 'param_groups': [{'lr': 0.0001,\n",
       "   'momentum': 0,\n",
       "   'dampening': 0,\n",
       "   'weight_decay': 0,\n",
       "   'nesterov': False,\n",
       "   'maximize': False,\n",
       "   'foreach': None,\n",
       "   'differentiable': False,\n",
       "   'params': [0, 1]}]}"
      ]
     },
     "execution_count": 38,
     "metadata": {},
     "output_type": "execute_result"
    }
   ],
   "source": [
    "# 옵티마이저의 현재 상태를 딕셔너리 형태로 반환합니다.\n",
    "# 여기에는 각 매개변수의 상태 및 옵티마이저 설정(예: 학습률, 모멘텀 등)이 포함됩니다.\n",
    "optimizer.state_dict()"
   ]
  },
  {
   "cell_type": "markdown",
   "metadata": {
    "id": "SOvteHljm8tS"
   },
   "source": [
    "## Train the model"
   ]
  },
  {
   "cell_type": "code",
   "execution_count": 40,
   "metadata": {
    "id": "DgUG5zQAm8tT"
   },
   "outputs": [],
   "source": [
    "for epoch in range(100):\n",
    "    for x, y in zip(inputs, targets):\n",
    "        yhat = model(x)\n",
    "        loss = criterion(yhat, y)\n",
    "        loss.backward()\n",
    "        optimizer.step()\n",
    "        optimizer.zero_grad()"
   ]
  },
  {
   "cell_type": "code",
   "execution_count": 41,
   "metadata": {
    "colab": {
     "base_uri": "https://localhost:8080/"
    },
    "id": "86O2Rl9zm8tT",
    "outputId": "467d299c-49f2-49f6-f7a8-bcbdc867413b"
   },
   "outputs": [
    {
     "data": {
      "text/plain": [
       "[Parameter containing:\n",
       " tensor([[-0.3504,  0.9005,  0.6323, -0.3524],\n",
       "         [-0.3409,  0.7470,  0.9696,  0.2570]], requires_grad=True),\n",
       " Parameter containing:\n",
       " tensor([-0.4880,  0.3092], requires_grad=True)]"
      ]
     },
     "execution_count": 41,
     "metadata": {},
     "output_type": "execute_result"
    }
   ],
   "source": [
    "list(model.parameters())"
   ]
  },
  {
   "cell_type": "code",
   "execution_count": 42,
   "metadata": {
    "colab": {
     "base_uri": "https://localhost:8080/"
    },
    "id": "njFl9XpZm8tT",
    "outputId": "7990ff95-07ba-46fe-8f6f-944f9a860412"
   },
   "outputs": [
    {
     "data": {
      "text/plain": [
       "OrderedDict([('fc.weight',\n",
       "              tensor([[-0.3504,  0.9005,  0.6323, -0.3524],\n",
       "                      [-0.3409,  0.7470,  0.9696,  0.2570]])),\n",
       "             ('fc.bias', tensor([-0.4880,  0.3092]))])"
      ]
     },
     "execution_count": 42,
     "metadata": {},
     "output_type": "execute_result"
    }
   ],
   "source": [
    "model.state_dict()"
   ]
  },
  {
   "cell_type": "code",
   "execution_count": 43,
   "metadata": {
    "id": "_UMU1X4Tm8tT"
   },
   "outputs": [],
   "source": [
    "preds = model(inputs)"
   ]
  },
  {
   "cell_type": "code",
   "execution_count": 44,
   "metadata": {
    "colab": {
     "base_uri": "https://localhost:8080/"
    },
    "id": "ImdB6pNQm8tT",
    "outputId": "9ffdb953-5cdf-49f9-806b-7ebbb8586251"
   },
   "outputs": [
    {
     "name": "stdout",
     "output_type": "stream",
     "text": [
      "[[ 56.  70.]\n",
      " [ 81. 101.]\n",
      " [119. 133.]\n",
      " [ 22.  37.]\n",
      " [103. 119.]]\n",
      "\n",
      "[[ 57.926044  69.7348  ]\n",
      " [ 85.56749   98.36236 ]\n",
      " [125.65458  127.49921 ]\n",
      " [ 24.472986  34.56048 ]\n",
      " [104.27415  117.65631 ]]\n"
     ]
    }
   ],
   "source": [
    "# Predictions & target 비교\n",
    "print(targets.detach().numpy())\n",
    "print()\n",
    "print(preds.detach().numpy())"
   ]
  },
  {
   "cell_type": "markdown",
   "metadata": {
    "id": "9dzkQzolm8tT"
   },
   "source": [
    "## Save and Load Model"
   ]
  },
  {
   "cell_type": "code",
   "execution_count": 45,
   "metadata": {
    "colab": {
     "base_uri": "https://localhost:8080/"
    },
    "id": "2ouJcxk-m8tU",
    "outputId": "7b09d732-94f8-4086-d734-18ac07f276ef"
   },
   "outputs": [
    {
     "data": {
      "text/plain": [
       "OrderedDict([('fc.weight',\n",
       "              tensor([[-0.3504,  0.9005,  0.6323, -0.3524],\n",
       "                      [-0.3409,  0.7470,  0.9696,  0.2570]])),\n",
       "             ('fc.bias', tensor([-0.4880,  0.3092]))])"
      ]
     },
     "execution_count": 45,
     "metadata": {},
     "output_type": "execute_result"
    }
   ],
   "source": [
    "# model save\n",
    "torch.save(model.state_dict(), 'model.pt')\n",
    "\n",
    "model.state_dict()"
   ]
  },
  {
   "cell_type": "markdown",
   "metadata": {
    "id": "ncK8IMIOm8tU"
   },
   "source": [
    "- model reload 및 parameter 복원 확인"
   ]
  },
  {
   "cell_type": "code",
   "execution_count": 46,
   "metadata": {
    "colab": {
     "base_uri": "https://localhost:8080/"
    },
    "id": "c61282yPm8tU",
    "outputId": "12803027-f389-4207-d294-805fd7846c03"
   },
   "outputs": [
    {
     "data": {
      "text/plain": [
       "OrderedDict([('fc.weight',\n",
       "              tensor([[-0.3504,  0.9005,  0.6323, -0.3524],\n",
       "                      [-0.3409,  0.7470,  0.9696,  0.2570]])),\n",
       "             ('fc.bias', tensor([-0.4880,  0.3092]))])"
      ]
     },
     "execution_count": 46,
     "metadata": {},
     "output_type": "execute_result"
    }
   ],
   "source": [
    "reloaded = LinearReg(inputs.shape[1], targets.shape[1])\n",
    "reloaded.load_state_dict(torch.load('model.pt'))\n",
    "\n",
    "reloaded.state_dict()"
   ]
  },
  {
   "cell_type": "code",
   "execution_count": 47,
   "metadata": {
    "id": "KwsMFtUgm8tU"
   },
   "outputs": [],
   "source": [
    "preds = reloaded(inputs)"
   ]
  },
  {
   "cell_type": "code",
   "execution_count": 48,
   "metadata": {
    "colab": {
     "base_uri": "https://localhost:8080/"
    },
    "id": "tujQpY0bm8tU",
    "outputId": "af192bcf-a88d-457e-8bf3-93e3435c19f7"
   },
   "outputs": [
    {
     "name": "stdout",
     "output_type": "stream",
     "text": [
      "[[ 56.  70.]\n",
      " [ 81. 101.]\n",
      " [119. 133.]\n",
      " [ 22.  37.]\n",
      " [103. 119.]]\n",
      "\n",
      "[[ 57.926044  69.7348  ]\n",
      " [ 85.56749   98.36236 ]\n",
      " [125.65458  127.49921 ]\n",
      " [ 24.472986  34.56048 ]\n",
      " [104.27415  117.65631 ]]\n"
     ]
    }
   ],
   "source": [
    "# Predictions & target 비교\n",
    "print(targets.detach().numpy())\n",
    "print()\n",
    "print(preds.detach().numpy())"
   ]
  },
  {
   "cell_type": "code",
   "execution_count": null,
   "metadata": {
    "id": "gnSwdPxKm8tU"
   },
   "outputs": [],
   "source": []
  }
 ],
 "metadata": {
  "colab": {
   "provenance": []
  },
  "kernelspec": {
   "display_name": "Python 3 (ipykernel)",
   "language": "python",
   "name": "python3"
  },
  "language_info": {
   "codemirror_mode": {
    "name": "ipython",
    "version": 3
   },
   "file_extension": ".py",
   "mimetype": "text/x-python",
   "name": "python",
   "nbconvert_exporter": "python",
   "pygments_lexer": "ipython3",
   "version": "3.10.11"
  }
 },
 "nbformat": 4,
 "nbformat_minor": 4
}
