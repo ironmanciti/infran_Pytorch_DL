{
 "cells": [
  {
   "cell_type": "markdown",
   "metadata": {},
   "source": [
    "# 220. CNN Basic\n",
    "\n",
    "## Convolution\n",
    "\n",
    "<img src='conv_layer.gif' height=60% width=60% />"
   ]
  },
  {
   "cell_type": "code",
   "execution_count": 1,
   "metadata": {},
   "outputs": [],
   "source": [
    "import torch \n",
    "import torch.nn as nn\n",
    "import matplotlib.pyplot as plt\n",
    "import numpy as np"
   ]
  },
  {
   "cell_type": "markdown",
   "metadata": {},
   "source": [
    "<img src = \"convolution.JPG\" width = 500, align = \"center\">"
   ]
  },
  {
   "cell_type": "code",
   "execution_count": 2,
   "metadata": {},
   "outputs": [
    {
     "data": {
      "text/plain": [
       "Conv2d(1, 1, kernel_size=(2, 2), stride=(1, 1), bias=False)"
      ]
     },
     "execution_count": 2,
     "metadata": {},
     "output_type": "execute_result"
    }
   ],
   "source": [
    "conv = nn.Conv2d(in_channels=1, out_channels=1, kernel_size=2, stride=1, padding=0, bias=False)\n",
    "conv"
   ]
  },
  {
   "cell_type": "markdown",
   "metadata": {},
   "source": [
    "- <code>nn.Conv2d</code> 의 parameter 는 random 하게 초기화되고, 훈련 과정에서 학습됨.  "
   ]
  },
  {
   "cell_type": "code",
   "execution_count": 3,
   "metadata": {},
   "outputs": [
    {
     "data": {
      "text/plain": [
       "OrderedDict([('weight',\n",
       "              tensor([[[[-0.4688, -0.0984],\n",
       "                        [ 0.1677,  0.2118]]]]))])"
      ]
     },
     "execution_count": 3,
     "metadata": {},
     "output_type": "execute_result"
    }
   ],
   "source": [
    "conv.state_dict()"
   ]
  },
  {
   "cell_type": "markdown",
   "metadata": {},
   "source": [
    "- 간단한 계산 예시를 위해 kernel parameter 값을 임의로 수정"
   ]
  },
  {
   "cell_type": "code",
   "execution_count": 5,
   "metadata": {},
   "outputs": [
    {
     "data": {
      "text/plain": [
       "OrderedDict([('weight',\n",
       "              tensor([[[[1., 2.],\n",
       "                        [3., 4.]]]]))])"
      ]
     },
     "execution_count": 5,
     "metadata": {},
     "output_type": "execute_result"
    }
   ],
   "source": [
    "conv.state_dict()['weight'][0][0] = \\\n",
    "                        torch.tensor([[1., 2.], \n",
    "                                      [3., 4.]])\n",
    "conv.state_dict()"
   ]
  },
  {
   "cell_type": "markdown",
   "metadata": {},
   "source": [
    "- sample image를 4x4 크기로 생성  \n",
    "\n",
    "- ``torch.nn`` 은 미니 배치(mini-batch)만 지원하므로, `nnConv2D` 는 `nSamples x nChannels x Height x Width` 의\n",
    "    4차원 Tensor를 입력으로 한다. 하나의 샘플만 있다면, `input.unsqueeze(0)` 을 사용해서 가짜 차원을 추가한다."
   ]
  },
  {
   "cell_type": "code",
   "execution_count": 6,
   "metadata": {},
   "outputs": [
    {
     "name": "stdout",
     "output_type": "stream",
     "text": [
      "[[[[1. 0. 1. 0.]\n",
      "   [0. 1. 1. 0.]\n",
      "   [1. 0. 1. 0.]\n",
      "   [1. 0. 1. 1.]]]]\n"
     ]
    }
   ],
   "source": [
    "sample_image = torch.tensor([\n",
    "                             [1, 0, 1, 0],\n",
    "                             [0, 1, 1, 0],\n",
    "                             [1, 0, 1, 0],\n",
    "                             [1, 0, 1, 1]], dtype=torch.float)\n",
    "\n",
    "sample_image = sample_image.unsqueeze(0).unsqueeze(0)\n",
    "print(sample_image.numpy())"
   ]
  },
  {
   "cell_type": "markdown",
   "metadata": {},
   "source": [
    "- convolution 결과"
   ]
  },
  {
   "cell_type": "code",
   "execution_count": 7,
   "metadata": {},
   "outputs": [
    {
     "name": "stdout",
     "output_type": "stream",
     "text": [
      "torch.Size([1, 1, 3, 3])\n",
      "\n",
      "[[[[5. 9. 4.]\n",
      "   [5. 7. 4.]\n",
      "   [4. 6. 8.]]]]\n"
     ]
    }
   ],
   "source": [
    "z = conv(sample_image)\n",
    "\n",
    "print(z.shape)\n",
    "print()\n",
    "print(z.detach().numpy())"
   ]
  },
  {
   "cell_type": "markdown",
   "metadata": {},
   "source": [
    "### Convolutional Layer 의 output size 계산\n",
    "\n",
    "<img src = \"padding.JPG\" width = 500, align = \"center\">\n",
    "\n",
    "$$ \\text{output width} = \\lfloor\\frac{W - F_w + 2P}{S_w} + 1\\rfloor  $$\n",
    "$$ \\text{output height} = \\lfloor\\frac{H - F_h + 2P}{S_h} + 1 \\rfloor$$\n",
    "$W - \\text{input width}$  \n",
    "$F_{w,h} - \\text{filter width/height}$  \n",
    "$S_{w,h} - \\text{stride width/height}$  \n",
    "$P - padding$\n",
    "\n",
    "`conv output size = (input size - filter size + 2 * padding size) / stride size + 1`"
   ]
  },
  {
   "cell_type": "code",
   "execution_count": 8,
   "metadata": {},
   "outputs": [],
   "source": [
    "def output_size(W, F, P, S, poolsize=1):\n",
    "    size = (W - F + 2*P)/S + 1\n",
    "    return size if poolsize == 1 else size / poolsize"
   ]
  },
  {
   "cell_type": "code",
   "execution_count": 10,
   "metadata": {},
   "outputs": [
    {
     "name": "stdout",
     "output_type": "stream",
     "text": [
      "torch.Size([1, 1, 3, 3])\n",
      "[[[[0. 1. 2.]\n",
      "   [3. 4. 5.]\n",
      "   [6. 7. 8.]]]]\n"
     ]
    }
   ],
   "source": [
    "image1 = torch.tensor([\n",
    "                       [0, 1, 2],\n",
    "                       [3, 4, 5],\n",
    "                       [6, 7, 8]], dtype=torch.float)\n",
    "\n",
    "image1 = image1.unsqueeze(0).unsqueeze(0)\n",
    "print(image1.size())\n",
    "print(image1.numpy())"
   ]
  },
  {
   "cell_type": "markdown",
   "metadata": {},
   "source": [
    "- no padding 의 경우 output image"
   ]
  },
  {
   "cell_type": "code",
   "execution_count": 12,
   "metadata": {},
   "outputs": [
    {
     "name": "stdout",
     "output_type": "stream",
     "text": [
      "입력 image size = torch.Size([1, 1, 3, 3])\n",
      "convolution 후 image size = torch.Size([1, 1, 2, 2])\n",
      "Convolution 출력 data = [[[[19. 25.]\n",
      "   [37. 43.]]]]\n",
      "\n",
      "출력 Hight =  2\n",
      "출력 Width =  2\n"
     ]
    }
   ],
   "source": [
    "F = 2 \n",
    "S = 1\n",
    "P = 0\n",
    "\n",
    "conv1 = nn.Conv2d(in_channels=1, out_channels=1, kernel_size=F, stride=S, bias=False)\n",
    "\n",
    "conv1.state_dict()['weight'][0][0] = torch.tensor([[0., 1.], [2., 3.]])\n",
    "\n",
    "z1 = conv1(image1)\n",
    "\n",
    "print(\"입력 image size =\", image1.size())\n",
    "print(\"convolution 후 image size =\", z1.size())\n",
    "print(\"Convolution 출력 data =\", z1.detach().numpy())\n",
    "print()\n",
    "\n",
    "H = image1.size()[2]\n",
    "W = image1.size()[3]\n",
    "print(\"출력 Hight = \", (H - F + 2*P) // S + 1)\n",
    "print(\"출력 Width = \", (W - F + 2*P) // S + 1)"
   ]
  },
  {
   "cell_type": "code",
   "execution_count": 13,
   "metadata": {},
   "outputs": [
    {
     "data": {
      "text/plain": [
       "2.0"
      ]
     },
     "execution_count": 13,
     "metadata": {},
     "output_type": "execute_result"
    }
   ],
   "source": [
    "output_size(W, F, P, S, poolsize=1)"
   ]
  },
  {
   "cell_type": "markdown",
   "metadata": {},
   "source": [
    "- padding=1 인 경우의 output image"
   ]
  },
  {
   "cell_type": "code",
   "execution_count": 14,
   "metadata": {},
   "outputs": [
    {
     "name": "stdout",
     "output_type": "stream",
     "text": [
      "입력 image size = torch.Size([1, 1, 3, 3])\n",
      "convolution 후 image size = torch.Size([1, 1, 4, 4])\n",
      "Convolution 출력 data = [[[[ 0.  3.  8.  4.]\n",
      "   [ 9. 19. 25. 10.]\n",
      "   [21. 37. 43. 16.]\n",
      "   [ 6.  7.  8.  0.]]]]\n",
      "\n",
      "출력 Hight =  4\n",
      "출력 Width =  4\n"
     ]
    }
   ],
   "source": [
    "F = 2 \n",
    "S = 1\n",
    "P = 1\n",
    "\n",
    "conv2 = nn.Conv2d(in_channels=1, out_channels=1, kernel_size=F, stride=S, padding=P, bias=False)\n",
    "\n",
    "conv2.state_dict()['weight'][0][0] = torch.tensor([[0., 1.], [2., 3.]])\n",
    "\n",
    "z2 = conv2(image1)\n",
    "\n",
    "print(\"입력 image size =\", image1.size())\n",
    "print(\"convolution 후 image size =\", z2.size())\n",
    "print(\"Convolution 출력 data =\", z2.detach().numpy())\n",
    "print()\n",
    "\n",
    "print(\"출력 Hight = \", (H - F + 2*P) // S + 1)\n",
    "print(\"출력 Width = \", (W - F + 2*P) // S + 1)"
   ]
  },
  {
   "cell_type": "code",
   "execution_count": 15,
   "metadata": {},
   "outputs": [
    {
     "data": {
      "text/plain": [
       "4.0"
      ]
     },
     "execution_count": 15,
     "metadata": {},
     "output_type": "execute_result"
    }
   ],
   "source": [
    "output_size(W, F, P, S, poolsize=1)"
   ]
  },
  {
   "cell_type": "markdown",
   "metadata": {},
   "source": [
    "## Pooling\n",
    "\n",
    "- Max Pooling - <code>torch.nn.MaxPool2d</code>  \n",
    "- Average Pooling - <code>torch.nn.AvgPool2d</code>"
   ]
  },
  {
   "cell_type": "code",
   "execution_count": 16,
   "metadata": {},
   "outputs": [],
   "source": [
    "image2 = torch.tensor([\n",
    "                       [1, 1, 1, 4],\n",
    "                       [2, 6, 5, 8],\n",
    "                       [3, 2, 1, 0],\n",
    "                       [1, 1, 3, 5]], dtype=torch.float)\n",
    "\n",
    "image2 = image2.unsqueeze(0).unsqueeze(0)"
   ]
  },
  {
   "cell_type": "code",
   "execution_count": 17,
   "metadata": {},
   "outputs": [
    {
     "name": "stdout",
     "output_type": "stream",
     "text": [
      "[[[[6. 8.]\n",
      "   [3. 5.]]]]\n"
     ]
    }
   ],
   "source": [
    "max1 = torch.nn.MaxPool2d(2, stride=2)\n",
    "\n",
    "print(max1(image2).numpy())"
   ]
  },
  {
   "cell_type": "code",
   "execution_count": 18,
   "metadata": {},
   "outputs": [
    {
     "data": {
      "text/plain": [
       "tensor([[[[2.5000, 4.5000],\n",
       "          [1.7500, 2.2500]]]])"
      ]
     },
     "execution_count": 18,
     "metadata": {},
     "output_type": "execute_result"
    }
   ],
   "source": [
    "max2 = torch.nn.AvgPool2d(2, stride=2)\n",
    "max2(image2)"
   ]
  },
  {
   "cell_type": "markdown",
   "metadata": {},
   "source": [
    "### Multiple Channels"
   ]
  },
  {
   "cell_type": "code",
   "execution_count": 19,
   "metadata": {},
   "outputs": [
    {
     "data": {
      "text/plain": [
       "tensor([[[[-0.2617, -0.0764, -0.7037],\n",
       "          [-0.2757, -0.2947, -0.7037],\n",
       "          [-0.7037,  0.1663, -0.5044]],\n",
       "\n",
       "         [[-0.6575, -0.4721, -0.4233],\n",
       "          [-0.2129, -0.8454, -0.4233],\n",
       "          [-0.4233, -0.4471, -0.6825]],\n",
       "\n",
       "         [[ 0.2630,  0.0849,  0.7941],\n",
       "          [ 0.2839,  0.2148,  0.7941],\n",
       "          [ 0.7941, -0.2472,  0.5951]]]], grad_fn=<ConvolutionBackward0>)"
      ]
     },
     "execution_count": 19,
     "metadata": {},
     "output_type": "execute_result"
    }
   ],
   "source": [
    "conv = nn.Conv2d(in_channels=1, out_channels=3, kernel_size=2, bias=False)\n",
    "conv(sample_image)"
   ]
  },
  {
   "cell_type": "markdown",
   "metadata": {},
   "source": [
    "### Flatten\n",
    "\n",
    "- ``torch.flatten(x, 1)``"
   ]
  },
  {
   "cell_type": "code",
   "execution_count": 20,
   "metadata": {},
   "outputs": [
    {
     "name": "stdout",
     "output_type": "stream",
     "text": [
      "torch.Size([2, 2, 2])\n",
      "tensor([[[1, 2],\n",
      "         [3, 4]],\n",
      "\n",
      "        [[5, 6],\n",
      "         [7, 8]]])\n"
     ]
    }
   ],
   "source": [
    "t = torch.tensor([\n",
    "                   [[1, 2],\n",
    "                   [3, 4]],\n",
    "                  [[5, 6],\n",
    "                   [7, 8]]])\n",
    "print(t.shape)\n",
    "print(t)"
   ]
  },
  {
   "cell_type": "code",
   "execution_count": 21,
   "metadata": {},
   "outputs": [
    {
     "data": {
      "text/plain": [
       "tensor([[1, 2, 3, 4],\n",
       "        [5, 6, 7, 8]])"
      ]
     },
     "execution_count": 21,
     "metadata": {},
     "output_type": "execute_result"
    }
   ],
   "source": [
    "torch.flatten(t, 1)"
   ]
  },
  {
   "cell_type": "code",
   "execution_count": 22,
   "metadata": {},
   "outputs": [
    {
     "data": {
      "text/plain": [
       "tensor([[1, 2, 3, 4],\n",
       "        [5, 6, 7, 8]])"
      ]
     },
     "execution_count": 22,
     "metadata": {},
     "output_type": "execute_result"
    }
   ],
   "source": [
    "# flatten() 과 동일 result\n",
    "t.view(t.size()[0], -1)"
   ]
  },
  {
   "cell_type": "code",
   "execution_count": null,
   "metadata": {},
   "outputs": [],
   "source": []
  }
 ],
 "metadata": {
  "kernelspec": {
   "display_name": "Python 3 (ipykernel)",
   "language": "python",
   "name": "python3"
  },
  "language_info": {
   "codemirror_mode": {
    "name": "ipython",
    "version": 3
   },
   "file_extension": ".py",
   "mimetype": "text/x-python",
   "name": "python",
   "nbconvert_exporter": "python",
   "pygments_lexer": "ipython3",
   "version": "3.9.16"
  }
 },
 "nbformat": 4,
 "nbformat_minor": 4
}
