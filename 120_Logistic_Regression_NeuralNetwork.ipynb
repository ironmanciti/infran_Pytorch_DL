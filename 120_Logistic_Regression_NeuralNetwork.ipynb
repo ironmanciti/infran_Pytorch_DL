{
 "cells": [
  {
   "cell_type": "markdown",
   "metadata": {
    "id": "JqXke_kBbtlA"
   },
   "source": [
    "# 120. Logistic Regression - 이진 분류"
   ]
  },
  {
   "cell_type": "code",
   "execution_count": 1,
   "metadata": {
    "colab": {
     "base_uri": "https://localhost:8080/"
    },
    "id": "aPFYP56ybtlC",
    "outputId": "94b3e036-e196-4bec-877b-052830b31231"
   },
   "outputs": [
    {
     "data": {
      "text/plain": [
       "<torch._C.Generator at 0x26f65ad3a10>"
      ]
     },
     "execution_count": 1,
     "metadata": {},
     "output_type": "execute_result"
    }
   ],
   "source": [
    "import torch.nn as nn\n",
    "import torch\n",
    "from torch.utils.data import Dataset, DataLoader\n",
    "import matplotlib.pyplot as plt\n",
    "import os\n",
    "import numpy as np\n",
    "import warnings\n",
    "warnings.filterwarnings(\"ignore\")\n",
    "\n",
    "torch.manual_seed(2)"
   ]
  },
  {
   "cell_type": "markdown",
   "metadata": {
    "id": "EtKyffHjbtlE"
   },
   "source": [
    "- toy data 생성 (-100 ~ 100)"
   ]
  },
  {
   "cell_type": "code",
   "execution_count": 2,
   "metadata": {
    "colab": {
     "base_uri": "https://localhost:8080/"
    },
    "id": "7jldVMstbtlE",
    "outputId": "6b36f069-890c-43ee-a56d-66e56af8d5f4"
   },
   "outputs": [
    {
     "name": "stdout",
     "output_type": "stream",
     "text": [
      "torch.Size([2000, 1])\n"
     ]
    }
   ],
   "source": [
    "x = torch.arange(-100, 100, 0.1).view(-1, 1)\n",
    "w = 0.2\n",
    "b = 0.1\n",
    "print(x.size())"
   ]
  },
  {
   "cell_type": "markdown",
   "metadata": {
    "id": "cGut3DaebtlE"
   },
   "source": [
    "- sigmoid 함수는 ``torch.nn.Sigmoid`` 사용  \n",
    "$$\\sigma = \\frac{1}{(1 + e^{-x})}$$"
   ]
  },
  {
   "cell_type": "code",
   "execution_count": 3,
   "metadata": {
    "colab": {
     "base_uri": "https://localhost:8080/"
    },
    "id": "AakxTI4RbtlF",
    "outputId": "df4f0516-21d9-4f2f-b306-0084c1b1a567"
   },
   "outputs": [
    {
     "data": {
      "text/plain": [
       "tensor([[0.],\n",
       "        [0.],\n",
       "        [0.],\n",
       "        ...,\n",
       "        [1.],\n",
       "        [1.],\n",
       "        [1.]])"
      ]
     },
     "execution_count": 3,
     "metadata": {},
     "output_type": "execute_result"
    }
   ],
   "source": [
    "sig = 1 / (1+np.exp(-x))\n",
    "sig"
   ]
  },
  {
   "cell_type": "code",
   "execution_count": 4,
   "metadata": {
    "colab": {
     "base_uri": "https://localhost:8080/",
     "height": 449
    },
    "id": "R7mKDGewbtlF",
    "outputId": "9adf17e3-be87-40aa-8d93-3dd001e0d066"
   },
   "outputs": [
    {
     "data": {
      "image/png": "[encoded data removed]",
      "text/plain": [
       "<Figure size 640x480 with 1 Axes>"
      ]
     },
     "metadata": {},
     "output_type": "display_data"
    }
   ],
   "source": [
    "sig = nn.Sigmoid()\n",
    "\n",
    "yhat = sig(w * x + b)\n",
    "\n",
    "plt.plot(x, yhat)\n",
    "plt.xlabel(\"x\")\n",
    "plt.ylabel(\"y\")\n",
    "plt.show()"
   ]
  },
  {
   "cell_type": "markdown",
   "metadata": {
    "id": "TBs20ogYbtlF"
   },
   "source": [
    "## nn.Sequential 을 이용한 Logistic Regression sequential model 정의"
   ]
  },
  {
   "cell_type": "code",
   "execution_count": 5,
   "metadata": {
    "id": "wNvLmrvJbtlG"
   },
   "outputs": [],
   "source": [
    "# nn.Sequential을 사용하여 순차적인 모델을 정의\n",
    "model_seq = nn.Sequential(\n",
    "            nn.Linear(1, 1),  # 입력 특성 수 1개, 출력 특성 수 1개의 선형 변환 레이어\n",
    "            nn.Sigmoid())     # 시그모이드 활성화 함수"
   ]
  },
  {
   "cell_type": "code",
   "execution_count": 6,
   "metadata": {
    "colab": {
     "base_uri": "https://localhost:8080/"
    },
    "id": "_9Z4C-cUbtlG",
    "outputId": "b1299e68-d46c-422a-83cf-c1c1b6de4fc2"
   },
   "outputs": [
    {
     "name": "stdout",
     "output_type": "stream",
     "text": [
      "Sequential(\n",
      "  (0): Linear(in_features=1, out_features=1, bias=True)\n",
      "  (1): Sigmoid()\n",
      ")\n",
      "[Parameter containing:\n",
      "tensor([[0.2294]], requires_grad=True), Parameter containing:\n",
      "tensor([-0.2380], requires_grad=True)]\n"
     ]
    }
   ],
   "source": [
    "# 모델 구조를 출력. Sequential 모델 내에 포함된 각 레이어를 보여줍니다.\n",
    "print(model_seq)\n",
    "\n",
    "# 모델의 파라미터를 출력\n",
    "print(list(model_seq.parameters()))"
   ]
  },
  {
   "cell_type": "code",
   "execution_count": 7,
   "metadata": {
    "colab": {
     "base_uri": "https://localhost:8080/"
    },
    "id": "nkeQ99r8btlG",
    "outputId": "ff652b75-8ad7-4ba9-ef19-dffbcd88a105"
   },
   "outputs": [
    {
     "data": {
      "text/plain": [
       "OrderedDict([('0.weight', tensor([[0.2294]])), ('0.bias', tensor([-0.2380]))])"
      ]
     },
     "execution_count": 7,
     "metadata": {},
     "output_type": "execute_result"
    }
   ],
   "source": [
    "# state_dict는 모델의 파라미터(가중치와 편향)를 포함하는 Python 딕셔너리\n",
    "# 이는 모델을 저장하거나 불러올 때 사용\n",
    "model_seq.state_dict()"
   ]
  },
  {
   "cell_type": "markdown",
   "metadata": {
    "id": "MbpPHXqqbtlG"
   },
   "source": [
    "- 무작위로 초기화된 weight와 bias 를 manually initialize"
   ]
  },
  {
   "cell_type": "code",
   "execution_count": 8,
   "metadata": {
    "colab": {
     "base_uri": "https://localhost:8080/"
    },
    "id": "pICbHKb6btlG",
    "outputId": "3222159e-94ef-4b3c-ff1b-161d62758317"
   },
   "outputs": [
    {
     "data": {
      "text/plain": [
       "OrderedDict([('0.weight', tensor([[0.2000]])), ('0.bias', tensor([0.1000]))])"
      ]
     },
     "execution_count": 8,
     "metadata": {},
     "output_type": "execute_result"
    }
   ],
   "source": [
    "# 모델의 가중치와 편향을 직접 변경\n",
    "model_seq.state_dict()['0.weight'][0] = w\n",
    "model_seq.state_dict()['0.bias'][0] = b\n",
    "\n",
    "# 모델의 상태 사전 출력\n",
    "model_seq.state_dict()"
   ]
  },
  {
   "cell_type": "code",
   "execution_count": 9,
   "metadata": {
    "colab": {
     "base_uri": "https://localhost:8080/",
     "height": 449
    },
    "id": "Sa3tTmQAbtlG",
    "outputId": "361b6563-dd48-4afe-aaf4-670787468b9e"
   },
   "outputs": [
    {
     "data": {
      "image/png": "[encoded data removed]",
      "text/plain": [
       "<Figure size 640x480 with 1 Axes>"
      ]
     },
     "metadata": {},
     "output_type": "display_data"
    }
   ],
   "source": [
    "# model_seq 모델을 사용하여 입력 x에 대한 예측값 yhat을 계산합니다.\n",
    "yhat = model_seq(x)\n",
    "\n",
    "# .detach() 메소드는 yhat에서 그라디언트 계산을 위한 정보를 제거\n",
    "plt.plot(x.numpy(), yhat.detach().numpy())\n",
    "plt.xlabel(\"x\")\n",
    "plt.ylabel(\"y\")\n",
    "plt.show()"
   ]
  },
  {
   "cell_type": "markdown",
   "metadata": {
    "id": "SaBkcQ4TbtlH"
   },
   "source": [
    "## ``nn.Module``을 이용한 사용자 정의 Logistic Regression model 정의"
   ]
  },
  {
   "cell_type": "code",
   "execution_count": 10,
   "metadata": {
    "id": "9KIrzFPrbtlH"
   },
   "outputs": [],
   "source": [
    "class LogisticReg(nn.Module):\n",
    "    def __init__(self, in_dim):\n",
    "        super(LogisticReg, self).__init__()\n",
    "        self.linear = nn.Linear(in_dim, 1)\n",
    "\n",
    "    def forward(self, x):\n",
    "        out = torch.sigmoid(self.linear(x))\n",
    "        return out"
   ]
  },
  {
   "cell_type": "code",
   "execution_count": 11,
   "metadata": {
    "colab": {
     "base_uri": "https://localhost:8080/"
    },
    "id": "Fi3Q5Zo-btlH",
    "outputId": "e7c02113-2285-4d67-c7fa-686eef70e32c"
   },
   "outputs": [
    {
     "name": "stdout",
     "output_type": "stream",
     "text": [
      "LogisticReg(\n",
      "  (linear): Linear(in_features=1, out_features=1, bias=True)\n",
      ")\n",
      "[Parameter containing:\n",
      "tensor([[0.2742]], requires_grad=True), Parameter containing:\n",
      "tensor([-0.0511], requires_grad=True)]\n"
     ]
    }
   ],
   "source": [
    "model_custom = LogisticReg(x.shape[1])\n",
    "\n",
    "# random 하게 초기화 된 parameter 출력\n",
    "print(model_custom)\n",
    "print(list(model_custom.parameters()))"
   ]
  },
  {
   "cell_type": "markdown",
   "metadata": {
    "id": "VXIC-TZybtlH"
   },
   "source": [
    "- 무작위로 초기화된 weight와 bias 를 manually initialize"
   ]
  },
  {
   "cell_type": "code",
   "execution_count": 12,
   "metadata": {
    "colab": {
     "base_uri": "https://localhost:8080/"
    },
    "id": "RLGNnCgkbtlH",
    "outputId": "8655c5ee-f49f-4792-8217-e61d5fc27520"
   },
   "outputs": [
    {
     "data": {
      "text/plain": [
       "OrderedDict([('linear.weight', tensor([[0.2000]])),\n",
       "             ('linear.bias', tensor([0.1000]))])"
      ]
     },
     "execution_count": 12,
     "metadata": {},
     "output_type": "execute_result"
    }
   ],
   "source": [
    "model_custom.state_dict()['linear.weight'][0] = w\n",
    "model_custom.state_dict()['linear.bias'][0] = b\n",
    "model_custom.state_dict()"
   ]
  },
  {
   "cell_type": "code",
   "execution_count": 13,
   "metadata": {
    "colab": {
     "base_uri": "https://localhost:8080/",
     "height": 449
    },
    "id": "P8TJGZvwbtlH",
    "outputId": "79789d8b-3bee-403b-bb1c-0a16d34d999a"
   },
   "outputs": [
    {
     "data": {
      "image/png": "[encoded data removed]",
      "text/plain": [
       "<Figure size 640x480 with 1 Axes>"
      ]
     },
     "metadata": {},
     "output_type": "display_data"
    }
   ],
   "source": [
    "yhat = model_custom(x)\n",
    "\n",
    "plt.plot(x, yhat.detach())\n",
    "plt.xlabel(\"x\")\n",
    "plt.ylabel(\"y\")\n",
    "plt.show()"
   ]
  },
  {
   "cell_type": "markdown",
   "metadata": {
    "id": "pSJam0zabtlH"
   },
   "source": [
    "# 생성한 Neural Network Model Train"
   ]
  },
  {
   "cell_type": "markdown",
   "metadata": {
    "id": "Uk9tDPgmbtlI"
   },
   "source": [
    "## Data Class 생성 및 DataLoader를 이용한 Data 구조화\n",
    "\n",
    "- ``torch.utils.data.DataLoader``는 batch 관리를 담당하는 module\n",
    "- 모든 ``torch.utils.data.Dataset``으로 부터 DataLoader 를 생성할 수 있다.  \n",
    "- DataLoader 는 mini-batch를 iterable(반복자) 형태로 반환"
   ]
  },
  {
   "cell_type": "code",
   "execution_count": 14,
   "metadata": {
    "id": "3Rohh4v0btlI"
   },
   "outputs": [],
   "source": [
    "class Data(Dataset):\n",
    "    def __init__(self):\n",
    "        self.x = torch.arange(-100, 100, 0.1).view(-1, 1)\n",
    "\n",
    "        # label data 생성 : all zeros\n",
    "        self.y = torch.zeros(self.x.shape[0], 1)\n",
    "        # label 의 절반은 1 을 assign\n",
    "        half = int(self.y.shape[0]/2)\n",
    "        self.y[half:, 0] = 1\n",
    "\n",
    "        self.len = self.x.shape[0]\n",
    "\n",
    "    def __getitem__(self, idx):\n",
    "        return self.x[idx], self.y[idx]\n",
    "\n",
    "    def __len__(self):\n",
    "        return self.len"
   ]
  },
  {
   "cell_type": "code",
   "execution_count": 15,
   "metadata": {
    "colab": {
     "base_uri": "https://localhost:8080/"
    },
    "id": "l6z3EBfObtlI",
    "outputId": "b96db052-d519-44e7-d49e-7340e9bc5b9f"
   },
   "outputs": [
    {
     "name": "stdout",
     "output_type": "stream",
     "text": [
      "2000\n",
      "tensor([[-100.0000],\n",
      "        [ -99.9000],\n",
      "        [ -99.8000]])\n",
      "tensor([[0.],\n",
      "        [0.],\n",
      "        [0.]])\n"
     ]
    }
   ],
   "source": [
    "# Data 클래스의 인스턴스 생성\n",
    "ds = Data()\n",
    "# len 함수는 Data 클래스에 정의된 __len__ 메소드를 호출\n",
    "print(len(ds))\n",
    "\n",
    "# 여기서, ds[:3]는 Data 클래스에 정의된 __getitem__ 메소드를 통해 작동\n",
    "print(ds[:3][0])    # 첫 세 개 샘플의 입력\n",
    "print(ds[:3][1])    # 첫 세 개 샘플의 타겟(레이블)"
   ]
  },
  {
   "cell_type": "markdown",
   "metadata": {
    "id": "pLZ-YACgbtlI"
   },
   "source": [
    "### DataLoader 생성"
   ]
  },
  {
   "cell_type": "code",
   "execution_count": 16,
   "metadata": {
    "id": "WxHKRczrbtlI"
   },
   "outputs": [],
   "source": [
    "train_dataloader = DataLoader(dataset=ds, batch_size=30, shuffle=True)"
   ]
  },
  {
   "cell_type": "markdown",
   "metadata": {
    "id": "N2j7ZcuHbtlI"
   },
   "source": [
    "### model 생성"
   ]
  },
  {
   "cell_type": "code",
   "execution_count": 17,
   "metadata": {
    "colab": {
     "base_uri": "https://localhost:8080/"
    },
    "id": "Cx2NUXHgbtlI",
    "outputId": "2b27e6e1-ef2b-4a54-c329-1629d5aa609f"
   },
   "outputs": [
    {
     "data": {
      "text/plain": [
       "OrderedDict([('linear.weight', tensor([[0.4272]])),\n",
       "             ('linear.bias', tensor([0.2381]))])"
      ]
     },
     "execution_count": 17,
     "metadata": {},
     "output_type": "execute_result"
    }
   ],
   "source": [
    "model = LogisticReg(1)\n",
    "model.state_dict()"
   ]
  },
  {
   "cell_type": "markdown",
   "metadata": {
    "id": "laB83sIjbtlI"
   },
   "source": [
    "### Loss Function 및 Optimizer 정의"
   ]
  },
  {
   "cell_type": "code",
   "execution_count": 18,
   "metadata": {
    "id": "12OTc6fVbtlI"
   },
   "outputs": [],
   "source": [
    "# def criterion(yhat, y):\n",
    "#     out = -1 * torch.mean(y * torch.log(yhat) + (1-y) * torch.log(1-yhat))\n",
    "#     return out\n",
    "\n",
    "criterion = nn.BCELoss()\n",
    "\n",
    "optimizer = torch.optim.SGD(model.parameters(), lr=0.01)"
   ]
  },
  {
   "cell_type": "markdown",
   "metadata": {
    "id": "DY3CBk-3btlI"
   },
   "source": [
    "### Train Loop"
   ]
  },
  {
   "cell_type": "code",
   "execution_count": 19,
   "metadata": {
    "id": "8IuFEZnmbtlI"
   },
   "outputs": [],
   "source": [
    "for epoch in range(100):\n",
    "    for x, y in train_dataloader:\n",
    "        yhat = model(x)\n",
    "        # 계산된 예측값과 실제 타겟(y) 사이의 손실 계산\n",
    "        loss = criterion(yhat, y)\n",
    "\n",
    "        # 최적화를 수행하기 전에 이전 단계의 기울기를 0으로 초기화합니다.\n",
    "        # 이는 각 배치의 손실에 대한 기울기가 누적되는 것을 방지합니다.\n",
    "        optimizer.zero_grad()\n",
    "        # 손실 함수의 기울기를 계산합니다(역전파).\n",
    "        loss.backward()\n",
    "        # 계산된 기울기를 사용하여 모델의 파라미터를 업데이트합니다.\n",
    "        optimizer.step()"
   ]
  },
  {
   "cell_type": "markdown",
   "metadata": {
    "id": "vvUcywTHbtlJ"
   },
   "source": [
    "### train 된 model 을 이용한 prediction"
   ]
  },
  {
   "cell_type": "code",
   "execution_count": 23,
   "metadata": {
    "id": "zk3gNDAQbtlJ"
   },
   "outputs": [
    {
     "data": {
      "text/plain": [
       "tensor([[False],\n",
       "        [False],\n",
       "        [False],\n",
       "        ...,\n",
       "        [ True],\n",
       "        [ True],\n",
       "        [ True]])"
      ]
     },
     "execution_count": 23,
     "metadata": {},
     "output_type": "execute_result"
    }
   ],
   "source": [
    "X = ds[:][0]   # input\n",
    "Y = ds[:][1]   # target\n",
    "\n",
    "y_pred = model(X) > 0.5\n",
    "y_pred"
   ]
  },
  {
   "cell_type": "code",
   "execution_count": 22,
   "metadata": {
    "id": "BPtKg8s-btlJ"
   },
   "outputs": [
    {
     "data": {
      "text/plain": [
       "tensor([0.9995])"
      ]
     },
     "execution_count": 22,
     "metadata": {},
     "output_type": "execute_result"
    }
   ],
   "source": [
    "# 실제 타겟과 모델이 예측한 값을 비교하여 정확한 예측의 수를 구합니다.\n",
    "# 데이터셋(ds)의 총 길이(len(ds))로 나누어 모델의 예측 정확도 계산\n",
    "accuracy = sum(Y == y_pred) / len(ds)\n",
    "accuracy"
   ]
  },
  {
   "cell_type": "code",
   "execution_count": null,
   "metadata": {
    "id": "yHPkScwubtlJ"
   },
   "outputs": [],
   "source": []
  }
 ],
 "metadata": {
  "colab": {
   "provenance": []
  },
  "kernelspec": {
   "display_name": "Python 3 (ipykernel)",
   "language": "python",
   "name": "python3"
  },
  "language_info": {
   "codemirror_mode": {
    "name": "ipython",
    "version": 3
   },
   "file_extension": ".py",
   "mimetype": "text/x-python",
   "name": "python",
   "nbconvert_exporter": "python",
   "pygments_lexer": "ipython3",
   "version": "3.9.7"
  }
 },
 "nbformat": 4,
 "nbformat_minor": 4
}
