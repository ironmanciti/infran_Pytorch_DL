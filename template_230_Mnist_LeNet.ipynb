{
 "cells": [
  {
   "cell_type": "markdown",
   "metadata": {
    "id": "PoGXBuf9bs5t"
   },
   "source": [
    "# 230. mnist dataset 손글씨 인식 - LeNet\n",
    "\n",
    "- CNN 을 이용한 mnist dataset 손글씨 인식  \n",
    "- Yan LeCunn 이 1998 년 발표한 LeNet-5 을 Pytorch 로 customize 하여 재현"
   ]
  },
  {
   "cell_type": "markdown",
   "metadata": {
    "id": "LVq2yIVrdv9j"
   },
   "source": [
    "- Data 시각화"
   ]
  },
  {
   "cell_type": "markdown",
   "metadata": {
    "id": "Va0vYqSXbs55"
   },
   "source": [
    "### Dataset Loader 생성\n",
    "- Train dataset 을 Train 와 Validation 으로 분리"
   ]
  },
  {
   "cell_type": "markdown",
   "metadata": {
    "id": "1AFzg8HAd_0_"
   },
   "source": [
    "- train, validation, test dataset 으로 3 분할"
   ]
  },
  {
   "cell_type": "markdown",
   "metadata": {
    "id": "mRMQpq7abs57"
   },
   "source": [
    "## Model build\n",
    "\n",
    "<img src=\"https://d2l.ai/_images/lenet.svg\" width=\"800\" />"
   ]
  },
  {
   "cell_type": "markdown",
   "metadata": {
    "id": "EFsqOK7zfGyn"
   },
   "source": [
    "### Model Summary"
   ]
  },
  {
   "cell_type": "markdown",
   "metadata": {
    "id": "aObbLMxnbs5-"
   },
   "source": [
    "### Loss Function"
   ]
  },
  {
   "cell_type": "markdown",
   "metadata": {
    "id": "SRPlwCgebs5_"
   },
   "source": [
    "## Model 평가 - Test set 사용 "
   ]
  },
  {
   "cell_type": "markdown",
   "metadata": {
    "id": "FVUpUTXVipQI"
   },
   "source": [
    "## Category 별 분류 성능 측정"
   ]
  },
  {
   "cell_type": "markdown",
   "metadata": {
    "id": "6JOCwrdBbs6C"
   },
   "source": [
    "# 실습 : fashion MNIST 를 이용하여 위와 동일한 작업\n",
    "\n",
    "Label\tClass\n",
    "\n",
    "0\tT-shirt/top  \n",
    "1\tTrouser  \n",
    "2\tPullover  \n",
    "3\tDress  \n",
    "4\tCoat  \n",
    "5\tSandal  \n",
    "6\tShirt  \n",
    "7\tSneaker  \n",
    "8\tBag  \n",
    "9\tAnkle boot"
   ]
  }
 ],
 "metadata": {
  "accelerator": "GPU",
  "colab": {
   "name": "230_Mnist_LeNet.ipynb",
   "provenance": []
  },
  "kernelspec": {
   "display_name": "Python 3",
   "language": "python",
   "name": "python3"
  },
  "language_info": {
   "codemirror_mode": {
    "name": "ipython",
    "version": 3
   },
   "file_extension": ".py",
   "mimetype": "text/x-python",
   "name": "python",
   "nbconvert_exporter": "python",
   "pygments_lexer": "ipython3",
   "version": "3.9.7"
  }
 },
 "nbformat": 4,
 "nbformat_minor": 1
}
