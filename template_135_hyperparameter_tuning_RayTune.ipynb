{
 "cells": [
  {
   "cell_type": "markdown",
   "metadata": {
    "id": "yrdPrVHA8llD"
   },
   "source": [
    "\n",
    "# Ray Tune을 이용한 하이퍼파라미터 튜닝\n",
    "\n",
    "[Ray Tune](https://docs.ray.io/en/latest/tune.html) 은 분산 하이퍼파라미터 튜닝을 위한 업계 표준 도구입니다.\n",
    "Ray Tune은 최신 하이퍼파라미터 검색 알고리즘을 포함하고 TensorBoard 및 기타 분석 라이브러리와 통합되며 기본적으로\n",
    "[Ray 의 분산 기계 학습 엔진](https://ray.io/) 을 통해 학습을 지원합니다.\n",
    "\n",
    "이 튜토리얼은 Ray Tune을 파이토치 학습 workflow에 통합하는 방법을 알려줍니다.\n",
    "CIFAR10 이미지 분류기를 훈련하기 위해 [파이토치 문서에서 이 튜토리얼을](https://tutorials.pytorch.kr/beginner/blitz/cifar10_tutorial.html) 확장할 것입니다.\n",
    "\n",
    "아래와 같이 약간의 수정만 추가하면 됩니다.\n",
    "\n",
    "1. 함수에서 데이터 로딩 및 학습 부분을 감싸두고,\n",
    "2. 일부 네트워크 파라미터를 구성 가능하게 하고,\n",
    "3. 체크포인트를 추가하고 (선택 사항),\n",
    "4. 모델 튜닝을 위한 검색 공간을 정의합니다.\n",
    "\n",
    "\n",
    "이 튜토리얼을 실행하기 위해 아래의 패키지가 설치되어 있는지 확인하세요:\n",
    "\n",
    "-  ``ray[tune]``: 배포된 하이퍼파라미터 튜닝 라이브러리\n",
    "-  ``torchvision``: 데이터 변형을 위해 필요\n"
   ]
  },
  {
   "cell_type": "markdown",
   "metadata": {
    "id": "o6XECxCZ8llE"
   },
   "source": [
    "## Data loaders\n",
    "data loader를 자체 함수로 감싸두고 전역 데이터 디렉토리로 전달합니다.\n",
    "이런 식으로 서로 다른 실험들 간에 데이터 디렉토리를 공유할 수 있습니다.\n",
    "\n"
   ]
  },
  {
   "cell_type": "markdown",
   "metadata": {
    "id": "6M7iXrQd8llE"
   },
   "source": [
    "## 구성 가능한 신경망\n",
    "구성 가능한 파라미터만 튜닝이 가능합니다.\n",
    "이 예시를 통해 fully connected layer 크기를 지정할 수 있습니다:\n",
    "\n"
   ]
  },
  {
   "cell_type": "markdown",
   "metadata": {
    "id": "jhPhoHQL8llF"
   },
   "source": [
    "## 학습 함수\n",
    "학습 스크립트를 ``train_cifar(config, checkpoint_dir=None, data_dir=None)`` 함수로 감싸둡니다.\n",
    "``config`` 매개변수는 훈련할 하이퍼파라미터를 받습니다. ``checkpoint_dir`` 매개변수는 체크포인트를 복원하는 데 사용됩니다. ``data_dir`` 은 데이터를 읽고 저장하는 디렉토리를 지정하므로,\n",
    "여러 실행들이 동일한 데이터 소스를 공유할 수 있습니다.\n",
    "\n",
    "```python\n",
    "net = Net(config[\"l1\"], config[\"l2\"])\n",
    "\n",
    "if checkpoint_dir:\n",
    "    model_state, optimizer_state = torch.load(\n",
    "        os.path.join(checkpoint_dir, \"checkpoint\"))\n",
    "    net.load_state_dict(model_state)\n",
    "    optimizer.load_state_dict(optimizer_state)\n",
    "```\n",
    "또한, 옵티마이저의 학습률(learning rate)을 구성할 수 있습니다.\n",
    "\n",
    "```python\n",
    "optimizer = optim.SGD(net.parameters(), lr=config[\"lr\"], momentum=0.9)\n",
    "```\n",
    "학습 데이터를 학습 및 검증 세트로 나눕니다. 따라서 데이터의 80%는 모델 학습에 사용하고, 나머지 20%에 대해 유효성 검사 및 손실을 계산합니다. 학습 및 테스트 세트를 반복하는 배치 크기도 구성할 수 있습니다.\n",
    "\n",
    "### DataParallel을 이용한 GPU(다중)지원 추가\n",
    "이미지 분류는 GPU를 사용할 때 이점이 많습니다. 운좋게도 Ray Tune에서 파이토치의 추상화를 계속 사용할 수 있습니다.\n",
    "따라서 여러 GPU에서 데이터 병렬 훈련을 지원하기 위해 모델을 ``nn.DataParallel`` 으로 감쌀 수 있습니다.\n",
    "\n",
    "```python\n",
    "device = \"cpu\"\n",
    "if torch.cuda.is_available():\n",
    "    device = \"cuda:0\"\n",
    "    if torch.cuda.device_count() > 1:\n",
    "        net = nn.DataParallel(net)\n",
    "net.to(device)\n",
    "```\n",
    "``device`` 변수를 사용하여 사용 가능한 GPU가 없을 때도 학습이 가능한지 확인합니다.\n",
    "\n",
    "```python\n",
    "for i, data in enumerate(trainloader, 0):\n",
    "    inputs, labels = data\n",
    "    inputs, labels = inputs.to(device), labels.to(device)\n",
    "```\n",
    "이 코드는 CPU들, 단일 GPU 및 다중 GPU에 대한 학습을 지원합니다.\n",
    "특히 Ray는 [fractional-GPU](https://docs.ray.io/en/master/using-ray-with-gpus.html#fractional-gpus) 도 지원하므로\n",
    "모델이 GPU 메모리에 적합한 상황에서는 테스트 간에 GPU를 공유할 수 있습니다.\n",
    "\n",
    "### Ray Tune과 소통하기\n",
    "\n",
    "가장 흥미로운 부분은 Ray Tune과의 소통입니다.\n",
    "\n",
    "```python\n",
    "with tune.checkpoint_dir(epoch) as checkpoint_dir:\n",
    "    path = os.path.join(checkpoint_dir, \"checkpoint\")\n",
    "    torch.save((net.state_dict(), optimizer.state_dict()), path)\n",
    "\n",
    "tune.report(loss=(val_loss / val_steps), accuracy=correct / total)\n",
    "```\n",
    "여기서 먼저 체크포인트를 저장한 다음 일부 메트릭을 Ray Tune에 다시 보냅니다. 특히, validation loss와 accuracy를\n",
    "Ray Tune으로 다시 보냅니다. 그 후 Ray Tune은 이러한 메트릭을 사용하여 최상의 결과를 유도하는 하이퍼파라미터 구성을\n",
    "결정할 수 있습니다. 이러한 메트릭들은 또한 리소스 낭비를 방지하기 위해 성능이 좋지 않은 실험을 조기에 중지하는 데 사용할 수 있습니다.\n",
    "\n",
    "체크포인트 저장은 선택사항이지만 [Population Based Training](https://docs.ray.io/en/master/tune/tutorials/tune-advanced-tutorial.html)\n",
    "과 같은 고급 스케줄러를 사용하려면 필요합니다. 또한 체크포인트를 저장하면 나중에 학습된 모델을 로드하고 평가 세트(test set)에서 검증할 수 있습니다.\n",
    "\n",
    "### Full training function\n",
    "\n",
    "전체 예제 코드는 다음과 같습니다.\n",
    "\n"
   ]
  },
  {
   "cell_type": "markdown",
   "metadata": {
    "id": "_kelxtDH8llF"
   },
   "source": [
    "## Test set 정확도(accuracy)\n",
    "일반적으로 머신러닝 모델의 성능은 모델 학습에 사용되지 않은 데이터를 사용해 테스트합니다.\n",
    "Test set 또한 함수로 감싸둘 수 있습니다.\n",
    "\n"
   ]
  },
  {
   "cell_type": "markdown",
   "metadata": {
    "id": "jf19Pe2Q8llF"
   },
   "source": [
    "이 함수는 또한 ``device`` 파라미터를 요구하므로, test set 평가를 GPU에서 수행할 수 있습니다.\n",
    "\n",
    "## 검색 공간 구성\n",
    "마지막으로 Ray Tune의 검색 공간을 정의해야 합니다. 예시는 아래와 같습니다.\n",
    "\n",
    "```python\n",
    "config = {\n",
    "    \"l1\": tune.sample_from(lambda _: 2**np.random.randint(2, 9)),\n",
    "    \"l2\": tune.sample_from(lambda _: 2**np.random.randint(2, 9)),\n",
    "    \"lr\": tune.loguniform(1e-4, 1e-1),\n",
    "    \"batch_size\": tune.choice([2, 4, 8, 16])\n",
    "}\n",
    "```\n",
    "``tune.sample_from()`` 함수를 사용하면 고유한 샘플 방법을 정의하여 하이퍼파라미터를 얻을 수 있습니다.\n",
    "이 예제에서 ``l1`` 과 ``l2`` 파라미터는 4와 256 사이의 2의 거듭제곱이어야 하므로 4, 8, 16, 32, 64, 128, 256입니다.\n",
    "``lr`` (학습률)은 0.0001과 0.1 사이에서 균일하게 샘플링 되어야 합니다. 마지막으로, 배치 크기는 2, 4, 8, 16중에서 선택할 수 있습니다.\n",
    "\n",
    "각 실험에서, Ray Tune은 이제 이러한 검색 공간에서 매개변수 조합을 무작위로 샘플링합니다.\n",
    "그런 다음 여러 모델을 병렬로 훈련하고 이 중에서 가장 성능이 좋은 모델을 찾습니다. 또한 성능이 좋지 않은 실험을 조기에 종료하는 ``ASHAScheduler`` 를 사용합니다.\n",
    "\n",
    "상수 ``data_dir`` 파라미터를 설정하기 위해 ``functools.partial`` 로 ``train_cifar`` 함수를 감싸둡니다. 또한 각 실험에 사용할 수 있는 자원들(resources)을 Ray Tune에 알릴 수 있습니다.\n",
    "\n",
    "```python\n",
    "gpus_per_trial = 2\n",
    "# ...\n",
    "result = tune.run(\n",
    "    partial(train_cifar, data_dir=data_dir),\n",
    "    resources_per_trial={\"cpu\": 8, \"gpu\": gpus_per_trial},\n",
    "    config=config,\n",
    "    num_samples=num_samples,\n",
    "    scheduler=scheduler,\n",
    "    progress_reporter=reporter,\n",
    "    checkpoint_at_end=True)\n",
    "```\n",
    "파이토치 ``DataLoader`` 인스턴스의 ``num_workers`` 을 늘리기 위해 CPU 수를 지정하고 사용할 수 있습니다.\n",
    "각 실험에서 선택한 수의 GPU들은 파이토치에 표시됩니다. 실험들은 요청되지 않은 GPU에 액세스할 수 없으므로 같은 자원들을 사용하는 중복된 실험에 대해 신경쓰지 않아도 됩니다.\n",
    "\n",
    "부분 GPUs를 지정할 수도 있으므로, ``gpus_per_trial=0.5`` 와 같은 것 또한 가능합니다. 이후 각 실험은 GPU를 공유합니다. 사용자는 모델이 여전히 GPU메모리에 적합한지만 확인하면 됩니다.\n",
    "\n",
    "모델을 훈련시킨 후, 가장 성능이 좋은 모델을 찾고 체크포인트 파일에서 학습된 모델을 로드합니다. 이후 test set 정확도(accuracy)를 얻고 모든 것들을 출력하여 확인할 수 있습니다.\n",
    "\n",
    "전체 주요 기능은 다음과 같습니다.\n",
    "\n"
   ]
  },
  {
   "cell_type": "markdown",
   "metadata": {
    "id": "s-aiALU58llG"
   },
   "source": [
    "코드를 실행하면 결과는 다음과 같습니다.\n",
    "\n",
    "::\n",
    "\n",
    "    Number of trials: 10 (10 TERMINATED)\n",
    "    +-----+------+------+-------------+--------------+---------+------------+--------------------+\n",
    "    | ... |   l1 |   l2 |          lr |   batch_size |    loss |   accuracy | training_iteration |\n",
    "    |-----+------+------+-------------+--------------+---------+------------+--------------------|\n",
    "    | ... |   64 |    4 | 0.00011629  |            2 | 1.87273 |     0.244  |                  2 |\n",
    "    | ... |   32 |   64 | 0.000339763 |            8 | 1.23603 |     0.567  |                  8 |\n",
    "    | ... |    8 |   16 | 0.00276249  |           16 | 1.1815  |     0.5836 |                 10 |\n",
    "    | ... |    4 |   64 | 0.000648721 |            4 | 1.31131 |     0.5224 |                  8 |\n",
    "    | ... |   32 |   16 | 0.000340753 |            8 | 1.26454 |     0.5444 |                  8 |\n",
    "    | ... |    8 |    4 | 0.000699775 |            8 | 1.99594 |     0.1983 |                  2 |\n",
    "    | ... |  256 |    8 | 0.0839654   |           16 | 2.3119  |     0.0993 |                  1 |\n",
    "    | ... |   16 |  128 | 0.0758154   |           16 | 2.33575 |     0.1327 |                  1 |\n",
    "    | ... |   16 |    8 | 0.0763312   |           16 | 2.31129 |     0.1042 |                  4 |\n",
    "    | ... |  128 |   16 | 0.000124903 |            4 | 2.26917 |     0.1945 |                  1 |\n",
    "    +-----+------+------+-------------+--------------+---------+------------+--------------------+\n",
    "\n",
    "\n",
    "    Best trial config: {'l1': 8, 'l2': 16, 'lr': 0.00276249, 'batch_size': 16, 'data_dir': '...'}\n",
    "    Best trial final validation loss: 1.181501\n",
    "    Best trial final validation accuracy: 0.5836\n",
    "    Best trial test set accuracy: 0.5806\n",
    "\n",
    "대부분의 실험은 자원 낭비를 막기 위해 일찍 중단되었습니다. 가장 좋은 결과를 얻은 실험은 58%의 정확도를 달성했으며, 이는 테스트 세트에서 확인할 수 있습니다.\n",
    "\n",
    "이제 파이토치 모델의 매개변수를 조정할 수 있습니다.\n",
    "\n",
    "\n"
   ]
  }
 ],
 "metadata": {
  "accelerator": "GPU",
  "colab": {
   "gpuType": "T4",
   "provenance": []
  },
  "kernelspec": {
   "display_name": "Python 3 (ipykernel)",
   "language": "python",
   "name": "python3"
  },
  "language_info": {
   "codemirror_mode": {
    "name": "ipython",
    "version": 3
   },
   "file_extension": ".py",
   "mimetype": "text/x-python",
   "name": "python",
   "nbconvert_exporter": "python",
   "pygments_lexer": "ipython3",
   "version": "3.9.16"
  }
 },
 "nbformat": 4,
 "nbformat_minor": 4
}
